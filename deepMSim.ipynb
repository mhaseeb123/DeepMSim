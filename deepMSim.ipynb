{
 "cells": [
  {
   "cell_type": "markdown",
   "metadata": {},
   "source": [
    "# DeepMSim: A Deep Learning based MS/MS spectra Simulator\n",
    "### *Muhammad Haseeb and Sumesh Kumar*\n",
    "##### *CAP5610: Machine Learning - Fall 2019*\n",
    "##### *School of Computing and Information Sciences*\n",
    "##### *Florida International University (FIU)*"
   ]
  },
  {
   "cell_type": "markdown",
   "metadata": {},
   "source": [
    "# Licence Information"
   ]
  },
  {
   "cell_type": "markdown",
   "metadata": {},
   "source": [
    "This Transformer model construction for our project has been derived from the official <a href=\"https://tensorflow.org\" class=\"external\">Tensorflow</a> <a href=\"https://github.com/tensorflow/docs/blob/master/site/en/tutorials/text/transformer.ipynb\" class=\"external\">Transformer tutorial</a>."
   ]
  },
  {
   "cell_type": "markdown",
   "metadata": {},
   "source": [
    "### The MIT License\n",
    "\n",
    "#### Copyright 2019 Muhammad Haseeb and Sumesh Kumar\n",
    "\n",
    "Permission is hereby granted, free of charge, to any person obtaining a copy of this software \n",
    "and associated documentation files (the \"Software\"), to deal in the Software without restriction, \n",
    "including without limitation the rights to use, copy, modify, merge, publish, distribute, sublicense, \n",
    "and/or sell copies of the Software, and to permit persons to whom the Software is furnished to do so, \n",
    "subject to the following conditions:\n",
    "\n",
    "The above copyright notice and this permission notice shall be included in all copies or substantial \n",
    "portions of the Software.\n",
    "\n",
    "THE SOFTWARE IS PROVIDED \"AS IS\", WITHOUT WARRANTY OF ANY KIND, EXPRESS OR IMPLIED, INCLUDING BUT NOT \n",
    "LIMITED TO THE WARRANTIES OF MERCHANTABILITY, FITNESS FOR A PARTICULAR PURPOSE AND NONINFRINGEMENT. \n",
    "IN NO EVENT SHALL THE AUTHORS OR COPYRIGHT HOLDERS BE LIABLE FOR ANY CLAIM, DAMAGES OR OTHER LIABILITY, \n",
    "WHETHER IN AN ACTION OF CONTRACT, TORT OR OTHERWISE, ARISING FROM, OUT OF OR IN CONNECTION WITH THE \n",
    "SOFTWARE OR THE USE OR OTHER DEALINGS IN THE SOFTWARE.\n",
    "\n",
    "### Licensed under the Apache License, Version 2.0 (the \"License\");\n",
    "\n",
    "you may not use this file except in compliance with the License.\n",
    "You may obtain a copy of the License [here](https://www.apache.org/licenses/LICENSE-2.0).\n",
    "    \n",
    "Unless required by applicable law or agreed to in writing, software\n",
    "distributed under the License is distributed on an \"AS IS\" BASIS,\n",
    "WITHOUT WARRANTIES OR CONDITIONS OF ANY KIND, either express or implied.\n",
    "See the License for the specific language governing permissions and\n",
    "limitations under the License."
   ]
  },
  {
   "cell_type": "markdown",
   "metadata": {},
   "source": [
    "# Transformer model for MS/MS spectra simulation\n",
    "We will implement a <a href=\"https://arxiv.org/abs/1706.03762\" class=\"external\">Transformer model</a> to translate the peptide sequences into spectral peak sequences using TensorFlow.\n",
    "\n",
    "Transformer model employs the concept of *self-attention* — the ability to attend to different positions of the input sequence to compute a representation of that sequence for modelling. It is composed of several layer multiconnected encoders and decoders that construct the output sequences. \n",
    "\n",
    "However, the drawback is that if the input sequences have a *temporal/spatial* (positional) relationships such as in peptide sequence data, a positional encoding such as <a href=\"https://arxiv.org/abs/1810.04805BERT\" class=\"external\">BERT encoding</a> must be added or the transformers will only see the input sequences as bag {set} of unordered and unrelated words. "
   ]
  },
  {
   "cell_type": "markdown",
   "metadata": {},
   "source": [
    "## Import the required libraries"
   ]
  },
  {
   "cell_type": "code",
   "execution_count": 1,
   "metadata": {},
   "outputs": [],
   "source": [
    "# Required Imports\n",
    "from __future__ import absolute_import, division, print_function, unicode_literals\n",
    "\n",
    "try:\n",
    "  %tensorflow_version 2.x\n",
    "except Exception:\n",
    "  pass\n",
    "import tensorflow_datasets as tfds\n",
    "import tensorflow as tf\n",
    "import pandas as pd\n",
    "import os\n",
    "import re\n",
    "import sys\n",
    "import math\n",
    "import time\n",
    "import urllib\n",
    "import numpy as np\n",
    "import matplotlib.pyplot as plt\n",
    "import tarfile\n",
    "import operator"
   ]
  },
  {
   "cell_type": "markdown",
   "metadata": {},
   "source": [
    "# Data Acquisition\n",
    "Let's get the annotated MS/MS spectral data libraries from <a href=\"https://chemdata.nist.gov/dokuwiki/doku.php?id=peptidew:cdownload\" class=\"external\">NIST.</a>\n",
    "\n",
    "**CAUTION:** Make sure the downloaded spectral library datasets have been sourced from the same Mass-spectrometer instrument using the same fragmentation method.\n"
   ]
  },
  {
   "cell_type": "code",
   "execution_count": 2,
   "metadata": {},
   "outputs": [],
   "source": [
    "# HYPERPARAMETER: Choose between HUMAN and MOUSE.\n",
    "# species == HUMAN\n",
    "# species == MOUSE\n",
    "\n",
    "species = 'MOUSE'\n",
    "\n",
    "assert (species == 'HUMAN' or species == 'MOUSE')"
   ]
  },
  {
   "cell_type": "code",
   "execution_count": 3,
   "metadata": {},
   "outputs": [],
   "source": [
    "if species == 'HUMAN':\n",
    "    human_url = 'ftp://chemdata.nist.gov/download/peptide_library/libraries/cptaclib/2015/cptac2_human_hcd_itraq_selected_part1.msp.tar.gz'\n",
    "    human = 'cptac2_human_hcd_itraq_selected_part1.msp.tar.gz'\n",
    "    msp_file = './speclib/cptac2_human_hcd_itraq_selected_part1.msp'\n",
    "\n",
    "    data_dir = os.path.expanduser(\"./speclib\")\n",
    "    if not os.path.isdir(data_dir):\n",
    "        os.mkdir(data_dir)\n",
    "\n",
    "    if not os.path.exists('./speclib/cptac2_human_hcd_itraq_selected_part1.msp'):\n",
    "        if not os.path.exists(human):\n",
    "            !wget 'ftp://chemdata.nist.gov/download/peptide_library/libraries/cptaclib/2015/cptac2_human_hcd_itraq_selected_part1.msp.tar.gz'\n",
    "    \n",
    "        # Extract the tar ball into MSP file and move into the speclib folder\n",
    "        !tar xvf 'cptac2_human_hcd_itraq_selected_part1.msp.tar.gz'\n",
    "        os.rename('./cptac2_human_hcd_itraq_selected_part1.msp', msp_file)\n",
    "\n"
   ]
  },
  {
   "cell_type": "code",
   "execution_count": 4,
   "metadata": {},
   "outputs": [],
   "source": [
    "# Getting the Mouse Orbitrap spectral library (.MSP format) from NIST and placing it in the speclib folder\n",
    "if species == 'MOUSE':\n",
    "    mouse_url = 'ftp://chemdata.nist.gov/download/peptide_library/libraries/cptaclib/2015/cptac2_mouse_hcd_selected.msp.tar.gz'\n",
    "    mouse = 'cptac2_mouse_hcd_selected.msp.tar.gz'\n",
    "    msp_file = './speclib/cptac2_mouse_hcd_selected.msp'\n",
    "\n",
    "    data_dir = os.path.expanduser(\"./speclib\")\n",
    "    if not os.path.isdir(data_dir):\n",
    "        os.mkdir(data_dir)\n",
    "\n",
    "    if not os.path.exists('./speclib/cptac2_mouse_hcd_selected.msp'):\n",
    "        if not os.path.exists(mouse):\n",
    "            !wget 'ftp://chemdata.nist.gov/download/peptide_library/libraries/cptaclib/2015/cptac2_mouse_hcd_selected.msp.tar.gz'\n",
    "\n",
    "        # Extract the tar ball into MSP file and move into the speclib folder\n",
    "        #!tar xvf 'cptac2_mouse_hcd_selected.msp.tar.gz'\n",
    "        tar = tarfile.open(\"cptac2_mouse_hcd_selected.msp.tar.gz\")\n",
    "        tar.extractall()\n",
    "        tar.close()\n",
    "        os.rename('./cptac2_mouse_hcd_selected.msp', msp_file)\n",
    "\n"
   ]
  },
  {
   "cell_type": "markdown",
   "metadata": {},
   "source": [
    "# Data Extraction and Preprocessing"
   ]
  },
  {
   "cell_type": "markdown",
   "metadata": {},
   "source": [
    "Mine the spectral libraries and extract corpuses for both languages. i.e. peptide sequences and their MS/MS spectra.\n",
    "Construct a dataframe with sentences and their translations, with words separated by a '*space* and ending with ' .' for both languages. Then, Convert the dataframe to a tensor dataset."
   ]
  },
  {
   "cell_type": "markdown",
   "metadata": {},
   "source": [
    "## Process known Immonium Ions\n",
    "The commonly observed immonium ions along with their isotopes are added to a dictionary un order to represent the ion sentences (from the corpus) in terms of the dictionary (bag of words)"
   ]
  },
  {
   "cell_type": "code",
   "execution_count": 5,
   "metadata": {},
   "outputs": [],
   "source": [
    "# Known immonium ions\n",
    "imm = np.array(['AA', 'RA', 'RB', 'RC', 'RD', 'RE', 'RF', 'RG', 'RJ', 'NA', 'NB', 'DA', 'DB', 'CA', 'EA', 'QA', 'QB',\n",
    "                'QC', 'QD', 'GA', 'HA', 'HB', 'HC', 'HD', 'HE', 'HF', 'IA', 'IB', 'IC', 'LA', 'LB', 'LC', 'KA', 'KB',\n",
    "                'KC', 'KD', 'KE', 'KF', 'MA', 'MB', 'FA', 'FB', 'PA', 'SA', 'TA', 'WA', 'WB', 'WC', 'WD', 'WE', 'WF',\n",
    "                'WG', 'YA', 'YB', 'YC', 'VA', 'VB', 'VC', 'VD'])\n",
    "\n",
    "# TODO: Add isotopes?\n",
    "'''\n",
    "# Make isotopes of an array of ions\n",
    "iso = []\n",
    "\n",
    "# For each immonium ion, append the +i and +2i isotopes\n",
    "for im in imm:\n",
    "    iso.append(im + '+i')\n",
    "    iso.append(im + '+2i')\n",
    "\n",
    "# Append the isotopes to the main dictionary\n",
    "imm = np.append(imm, np.array(iso))\n",
    "'''\n",
    "# Make a set representation\n",
    "simm= set(imm)"
   ]
  },
  {
   "cell_type": "markdown",
   "metadata": {},
   "source": [
    "## Corpus Extraction\n",
    "Extract the peptide sequence and ion sentence sequences from the dataset."
   ]
  },
  {
   "cell_type": "markdown",
   "metadata": {},
   "source": [
    "### MSP file parser"
   ]
  },
  {
   "cell_type": "code",
   "execution_count": 6,
   "metadata": {},
   "outputs": [],
   "source": [
    "# Create empty lists to store temporary data\n",
    "seq = []\n",
    "X = []\n",
    "Z = []\n",
    "E = []\n",
    "\n",
    "# Parse the MSP file and get the immonium ion dataset\n",
    "def parseMSPfile(fname=None, dimm=None):\n",
    "    header = False\n",
    "    stnc = []\n",
    "    with open(fname, 'r') as slib:\n",
    "        for line in slib:\n",
    "            # Check for empty line for spectrum end and header start\n",
    "            if (line[0] == '\\r' or line[0] == '#' or line[0] == '\\n'):\n",
    "                header = False\n",
    "                X.append(stnc[:])\n",
    "                stnc.clear()\n",
    "                continue\n",
    "\n",
    "            # Check if spectrum header\n",
    "            if (header == False):\n",
    "                if (line[:7] != 'Comment'):\n",
    "                    key, val = line.split(':')\n",
    "\n",
    "                    if key == 'Name':\n",
    "                        # Take out the sequence\n",
    "                        nm, chg = val.split('/')\n",
    "                        seq.append(nm[1:])\n",
    "                        # Take out the charge, nmods and eV (energy)\n",
    "                        ch = chg.split('_')\n",
    "\n",
    "                        # Append the charge\n",
    "                        Z.append(int(ch[0]))\n",
    "                        \n",
    "                        # Append the energy\n",
    "                        #print(ch)\n",
    "                        E.append(float(ch[-1][:-3]))\n",
    "                        \n",
    "\n",
    "                    if key == 'Num peaks':\n",
    "                        header = True\n",
    "\n",
    "            # If not the header, then it is the peak list\n",
    "            else:\n",
    "                _, _, label = line.split('\\t')\n",
    "\n",
    "                # Clip off the first and last \" \"\n",
    "                label = label[1:-1]\n",
    "\n",
    "                # Extract label pattern\n",
    "                lbls = re.findall(r\"(?<!\\/)(?<![A-Z])(I[A-Z][A-Z](?![A-Z]){2}[\\/])\", label)\n",
    "                \n",
    "                # FIXME: To also find isotopes\n",
    "                #re.findall(r\"(?<!\\/)(?<![A-Z])(I[A-Z][A-Z](?![A-Z]){2}[+]*\\d*i*)\", label)\n",
    "                \n",
    "                lbls = list(map(lambda x: x[1:], lbls))\n",
    "                \n",
    "                lbls = list(map(lambda x: x[:-1], lbls))\n",
    "\n",
    "                # If anything to append then append\n",
    "                if lbls:\n",
    "                    for lab in lbls:\n",
    "                        if lab not in dimm:\n",
    "                            dimm.add(lab[0])\n",
    "                            #print ('Label Added:' + lab)\n",
    "                    #print(lbls)\n",
    "                    stnc.extend(lbls)\n",
    "\n",
    "    # For the last one\n",
    "    X.append(stnc[:])\n",
    "    stnc.clear()"
   ]
  },
  {
   "cell_type": "code",
   "execution_count": 7,
   "metadata": {},
   "outputs": [],
   "source": [
    "# Clear the lists\n",
    "seq = []\n",
    "X = []\n",
    "Z = []\n",
    "E = []\n",
    "\n",
    "# Parse the MSP file and create a dataframe\n",
    "_ = parseMSPfile(fname = msp_file, dimm = simm)"
   ]
  },
  {
   "cell_type": "markdown",
   "metadata": {},
   "source": [
    "### Construct the two languages"
   ]
  },
  {
   "cell_type": "code",
   "execution_count": 8,
   "metadata": {},
   "outputs": [],
   "source": [
    "# filter data based on the max charge\n",
    "MAXZ = 3"
   ]
  },
  {
   "cell_type": "code",
   "execution_count": 9,
   "metadata": {},
   "outputs": [
    {
     "name": "stdout",
     "output_type": "stream",
     "text": [
      "                                  seq  z     E  \\\n",
      "0           AAAAAAAAAAEEAAMQRDLLPPAGR  3  34.9   \n",
      "1                          AAADDGEEPK  2  24.4   \n",
      "2      AAAEEGCGVGVEDDRELEELLESALDDFDK  3  50.2   \n",
      "3                      AAAEVNQEYGLDPK  2  31.0   \n",
      "4                     AAAFEDQENETVVVK  2  38.7   \n",
      "5                     AAAFEDQENETVVVK  2  40.1   \n",
      "6                   AAAGELQEDSGLHVLAR  3  19.0   \n",
      "7                      AAAITSDLLESLGR  2  29.0   \n",
      "8                      AAAITSDLLESLGR  2  33.2   \n",
      "9                      AAAITSDLLESLGR  2  44.0   \n",
      "10                          AAALERMPR  2  21.2   \n",
      "11                          AAATLMTER  2  22.6   \n",
      "12              AAATQPDGKDTPDEPWAFPAR  3  34.3   \n",
      "13  AACEQLHQQQQQQQEETTAATLLLQGEEEGEED  3  57.7   \n",
      "14                            AACFQLK  2  19.6   \n",
      "15                  AACLESAQEPAGAWSNK  2  41.9   \n",
      "16                  AACLESAQEPAGAWSNK  2  43.5   \n",
      "17                          AADAVEDLR  2  30.0   \n",
      "19                           AADIPGLK  2  18.4   \n",
      "20                 AADKDTCFSTEGPNLVTR  2  41.0   \n",
      "\n",
      "                                        ions  \n",
      "0                                       [RJ]  \n",
      "1                   [PA, KC, DA, EA, KD, KF]  \n",
      "2                                         []  \n",
      "3                                         []  \n",
      "4                               [FA, KD, KF]  \n",
      "5                           [FA, QD, KD, KF]  \n",
      "6                                       [EA]  \n",
      "7                                   [EA, RJ]  \n",
      "8                                       [RJ]  \n",
      "9                                       [RJ]  \n",
      "10                                      [RJ]  \n",
      "11              [RC, LC, TA, LA, MA, RI, RJ]  \n",
      "12                              [WF, RJ, KF]  \n",
      "13                                        []  \n",
      "14  [LC, QC, KC, LA, QA, KA, FA, QD, KD, KF]  \n",
      "15                      [QD, KD, WD, WA, KF]  \n",
      "16                              [KD, WA, KF]  \n",
      "17                                      [RJ]  \n",
      "19              [PA, LC, IC, KC, LA, IA, KD]  \n",
      "20                              [KD, RJ, KF]  \n"
     ]
    }
   ],
   "source": [
    "# Construct a dataframe\n",
    "dataset = pd.DataFrame(list(zip(seq, Z, E, X)), columns=['seq', 'z', 'E', 'ions'])\n",
    "\n",
    "# Filter the dataset by the max charge \n",
    "dataset = dataset[dataset['z'] <= MAXZ]\n",
    "\n",
    "# Print a few entries to visualize\n",
    "print(dataset[:20])"
   ]
  },
  {
   "cell_type": "code",
   "execution_count": 10,
   "metadata": {},
   "outputs": [],
   "source": [
    "import operator\n",
    "def preProcess(x,y):\n",
    "    if y:\n",
    "        n = len(y)\n",
    "        indices = []\n",
    "        result = []\n",
    "        for i in range(n):\n",
    "            indices.append(x.index(y[i][0]))\n",
    "        tuples = list(zip(y,indices))\n",
    "        tuples.sort(key=operator.itemgetter(1))\n",
    "        result,second = zip(*tuples)\n",
    "        result = \" \".join(result) + ' -'\n",
    "        return result\n",
    "    else:\n",
    "        return ' -'\n",
    "        \n",
    "\n",
    "\n",
    "lan1 = list(map(lambda x: \" \".join(x), dataset['seq']))\n",
    "lan2 = list(map(preProcess, dataset['seq'], dataset['ions']))\n",
    "\n",
    "# Clear the duplicate data\n",
    "seq.clear()\n",
    "X.clear()\n",
    "Z.clear()\n",
    "E.clear()"
   ]
  },
  {
   "cell_type": "code",
   "execution_count": 11,
   "metadata": {},
   "outputs": [
    {
     "name": "stdout",
     "output_type": "stream",
     "text": [
      "A A A D D G E E P K\n",
      "['RJ -', 'DA EA PA KC KD KF -', ' -', ' -', 'FA KD KF -', 'FA QD KD KF -', 'EA -', 'EA RJ -', 'RJ -', 'RJ -', 'RJ -', 'TA LC LA MA RC RI RJ -', 'KF WF RJ -', ' -', 'FA QC QA QD LC LA KC KA KD KF -', 'QD WD WA KD KF -', 'WA KD KF -', 'RJ -', 'IC IA PA LC LA KC KD -', 'KD KF RJ -', 'KF RJ -', 'KF RJ -', 'KD KF FA EA RJ -', 'KF RJ -', 'KF RJ -', 'DA VA HA HE EA RC RG RI RJ -', 'DA VA HA HE RC RG RI RJ -', 'DA VA HA HE HF EA RE RG RI RJ KC KA KD KF -', 'DA VA HA HE HF EA RG RI RJ KC KA KD KF -', 'EA VC VA PA KE KC KA KD KF -', 'EA RJ -', 'KF -', 'EA MA KC KD KF -', 'EA VA SA KC KB KD KF -', 'FA RJ -', 'WA WF RJ -', 'WA RJ -', 'WA RJ -', 'KD KF -', 'KD KF -', 'FA RJ -', 'FA LC LA VA RJ -', 'RJ -', 'FA MA RC RG RJ -', 'FA EA RJ -', 'FA LA RJ -', 'QC QA QD IC IA MA KC KA KD KF -', 'RJ -', 'QA QD RJ -', ' -', 'FA RJ -', 'LC LA FA RC RJ -', 'KD KF -', 'KD KF -', 'KF -', 'QA QD KA KB KD KF -', 'KF -', 'KD KF -', 'IA WA RG RI RJ -', 'FA WA KD KF -', 'FA WD WE WA KD KF -', 'WA KF -', 'HA KD KF -', 'RJ -', 'RJ -', ' -', 'IA KC KD -', 'GD GD GD -', 'RJ -', 'IC IA SA KE KC KA KD KF -', 'IC IA EA HA HE HF KE KC KA KD KF -', 'IC IA EA HA HE HF KE KC KA KD KF -', 'KD KF RJ -', 'EA RJ -', 'LC LA VA RC RJ -', 'KF -', 'RG RI RJ -', 'RG RI RJ -', 'LC LA SA RH RC RG RI RJ -', 'RG RJ -', 'LC LA HA HF RC RJ -', ' -', 'LC LA YA FA PA RC RI RJ -', 'RJ KF -', 'MA EA YC YA KC KA KD KF -', 'RJ -', 'NA FB FA EA HA HE HF RG RI RJ -', 'MA RG RI RJ -', 'RJ KF -', 'RJ KF -', ' -', 'FA LA YA RI RJ -', 'PA IA YA LA KC KD KF -', ' -', 'KD -', ' -', 'KF -', 'QA KD -', 'QD KB KD KF -', 'QA QD MA EA KD KF -', 'EA KA KD KF -', 'EA KD KF -', 'KF -', 'QC QA QD EA YB YA IC IA KC KA KD KF -', 'QC QA QD EA YA IA KC KD KF RG RI RJ -', ' -', 'KF -', 'QA QD RG RJ -', 'QD KD KF -', ' -', ' -', 'KF -', 'KF -', 'RJ -', 'EA QA QD RG RI RA RJ -', 'EA KC KA KD -', 'EA KC KA KD KF QC QA QD -', 'FA RJ -', 'FA EA QA RG RI RJ -', 'RJ -', 'RJ -', 'RJ KF -', 'WA RJ -', 'WD WE WA WF HE RJ -', ' -', ' -', 'TA LC LA RC RG RJ -', ' -', ' -', 'KF -', ' -', 'FA HA HE HF KA KD KF -', 'FA HA HF KD KF -', 'HF KF -', 'FA HA KD -', 'FA HA HF KD KF -', 'FA HA KD -', 'KF -', 'FA HA KD KF -', 'FA HA HE HF KD KF -', 'KF -', 'LA EA RJ -', 'LA EA RG RI RJ -', 'VA LC LA HA RH RC RJ -', 'QA -', 'QC QA LA IA EA KC KD KF -', 'VA LC LA WD WE WA WF KC KA KD KF -', 'VA LC LA WA KC KD -', 'WA WF -', 'WA KF RJ -', 'WA KF RJ -', 'RJ -', 'YA KD KF RJ -', 'YA KD KF RJ -', 'YA KD KF RJ -', 'YA KF RJ -', 'YC YA KD -', 'EA QA QD YA KD KF -', ' -', 'RJ -', 'IA NA TB LA QC QA QD KC KD KF -', 'FA KD KF -', 'KF -', 'FA RG RI RA RJ -', 'KD -', 'YA -', ' -', 'YA EA FA QA -', 'KF -', 'DA EA VA LC LA RC RJ -', 'DA EA VA LC LA RC RJ KC KD KF -', ' -', ' -', 'FA RJ -', 'RJ KD KF -', 'KF -', 'DA TB IA EA KC KD KF -', 'YA RA RJ -', 'RJ -', 'DA EA LC LA RC RJ -', 'RI RJ -', 'DA FA LA RG RJ -', 'DA VA WD WA RC RI RJ -', 'DB DA EA FA KE KC KA KD KF -', 'DA EA LA RG RI RJ -', 'RJ -', 'FA IC IA KC KD -', 'DA FA HA HE KE KC KA KD KF -', 'FA QA RJ -', 'FA QA RJ -', 'LA IA KC KD -', 'WA KF -', 'WA WF HF KF -', 'KD -', 'DA LA IA MA KC KD KF -', 'KF -', 'DA TB QC QA QD IA KC KA KD KF -', 'YA KF -', 'DA YA VA LC LA KC KD -', ' -', 'DB DA IC IA YB YC YA RH RC RF RG RI RA RJ -', ' -', 'KF -', 'DB DA IC IA KC KA KB KD KF PA EA -', 'KD -', 'EA RJ -', 'EA QA QD MA RG RI RJ -', 'EA QA MA RJ -', 'DA KC KA KD KF LA EA HA HE HF -', 'KD -', 'DA LA EA KC KD -', 'DA LA EA KD KF RJ -', 'DA LC LA EA MA KC KA KD KF -', 'DB DA LC LA EA NB NA QC QA RH RC RG RI RJ -', 'DA LA KC KA KD KF QC QA QD NA -', 'RJ -', 'RI RJ -', 'RJ -', 'RJ -', 'LC LA MA RC RG RJ -', 'RJ -', 'FA KD KF -', 'HE YA KF -', 'HE YA KF -', 'DB DA PA QA VA RC RI RJ -', 'KF -', 'RJ YA -', 'YA KD KF -', 'YA KD KF -', 'DB DA SA HA HE HF FA RH RC RG RI RJ -', 'DA EA KD KF -', 'EA RG RI RJ -', 'DA TA FA QC QA LC LA KC KD KF -', 'DA LA KC KA KD KF QC QA QD RF RG RI RJ -', 'RJ -', 'KD KF -', 'DA VA IC IA PA KC KA KD KF -', 'DA VA EA PA KC KA KB KD KF -', 'DA VA HA HE EA RH RC RG RI RJ -', 'KF -', 'YA QD RJ -', 'YA -', 'YA FA RJ -', 'YA LA FA RJ -', 'EA KC KA KD KF QC QA QD -', 'KF RJ -', ' -', ' -', ' -', 'EA VA QC QA QD RC RG RI RA RJ -', 'EA DA LA QC QA QD RG RI RJ -', 'KF -', 'KD -', 'HF KF -', 'EA KA KD KF -', 'KF -', 'KD KF -', 'KD KF -', 'EA KD KF WA -', 'EA KD WD WE WA -', 'EA -', 'EA KD KF -', 'EA KD KF -', 'KF -', 'RJ -', 'EA -', 'RJ -', 'QD KD KF -', 'KD KF -', 'EA IA RJ -', ' -', 'KF -', 'KF -', 'KD KF RJ -', 'EA YA FA KD -', 'YA KD KF -', 'YA KD -', ' -', 'YA -', 'YA KD KF -', 'KF -', 'RJ -', 'RJ -', 'EA FA QA KD KF -', ' -', 'EA KA KD KF -', 'EA KA KD KF -', 'EA DA LC LA NA RC RG RI RJ -', 'EA DA LC LA NA RC RG RJ -', 'EA KD -', 'EA YA KD KF -', 'KF -', 'EA QC QA QD KC KA KD KF -', 'RJ -', 'KD -', 'YA KD -', 'EA KD KF RJ -', 'EA FA KD -', 'HE HF QD YA KD KF -', 'HE HF QD YA KD KF -', 'EA KD -', 'EA IC IA LC LA NB NA VA KC KA KD KF -', 'KD KF -', 'KF -', 'RJ -', 'RJ -', 'RJ -', ' -', 'KF RJ -', ' -', ' -', 'KF RJ -', 'RJ -', 'EA FA KD KF -', 'EA MB MA DB DA LC LA RC RG RI RA RJ -', ' -', 'FA TB KD KF -', 'EA KA KD KF -', 'EA NA LA MA QC QA KC KD -', 'RJ KF -', 'RI RJ -', 'YA WA RJ -', ' -', 'RJ -', 'RJ KF -', 'EA NA YB YC YA DA RG RI RA RJ -', 'EA NA YA DA RG RI RA RJ -', 'RJ -', 'EA RJ -', 'WA WF KF -', 'EA QC QA QD KC KA KD KF -', 'KF RJ -', 'RJ -', 'KF -', ' -', 'KF -', ' -', 'RJ -', 'RJ -', 'RJ -', 'EA KA KD KF QA QD -', 'EA TA FA HA HF -', 'HF -', 'EA TA FA HA HE -', 'FA KD -', ' -', 'EA KD -', ' -', 'HE -', ' -', ' -', ' -', 'HF KF -', 'RJ -', ' -', 'EA VA NA QC QA KC KD -', 'KD -', 'EA VA RC RG RJ -', 'RJ KF -', 'WA WF HF -', 'WA WF KF -', 'FA KD KF -', ' -', 'FA LC LA QA KC KD -', 'FA YA RJ -', 'FA QA EA KD KF -', 'FA QD HA KD KF -', 'FA QD HA KD KF -', 'KF -', 'FA EA KD -', 'FA HA HF KD KF -', 'KF -', 'FB FA YB YA LA QC QA QD EA RG RI RJ -', 'RJ -', 'RJ -', 'FA EA KC KD KF -', 'FA HA RJ -', 'FA HA RJ -', 'FA EA TA TB KC KA KD KF -', 'KF -', 'FA KD -', 'FA KD -', ' -', 'FA QD KD KF -', 'FA PA IC IA KC KD -', 'VD VD VD -', 'FA QA QD RG RJ -', 'RJ -', 'FA KD KF -', 'FA HA HE HF KA KD KF -', 'FA HA KA KD KF -', 'FA KD -', 'FA HA KD -', 'FA HA KD -', 'FA KD KF -', 'FA IA KC KD -', 'KF -', 'WD WA RJ -', ' -', ' -', ' -', 'FA LC LA EA VA KC KD -', 'FA KD -', 'RJ -', 'FA LC LA MA KC KD -', 'FA LC LA HB HA HE IC IA PA KC KA KB KD KF -', 'FA LC LA HB HA HE IC IA PA KC KA KD KF -', 'FA LC LA PA VA MA KC KD KF -', 'RJ -', 'FA HE RI RA RJ -', 'FA RJ -', 'HF RJ -', 'FA HE HF QD RI RJ -', 'HE RJ KF -', 'FA LC LA VA PA RH RC RG RI RJ -', 'RJ -', 'FA KD -', 'FA EA KA KD KF -', 'FA -', 'FA YA WE WA QD RG RI RJ -', 'KF -', 'FA QC QA QD IA NA LA KC KD KF -', 'RJ -', 'WA RJ -', ' -', ' -', 'FA TB QD RI RJ -', 'FA RI RJ -', 'FA YA KD KF -', 'FA YA DA KD KF -', ' -', 'FB FA SA TA WD WE WA LC LA KC KA KD KF -', 'WA -', ' -', 'FB FA EA KD KF -', 'FA KD KF -', 'FA VA EA KC KD KF -', 'FB FA YB YA HA HE HF PA KC KA KD KF -', 'FA YA RG RI RA RJ -', 'FA YA RJ -', 'KD KF -', 'KF -', ' -', ' -', 'KF -', ' -', 'KF -', 'EA PA RC RG RJ -', 'QD WA RJ -', 'HA HE LC LA KE KC KA KD -', 'QA KD -', 'QD YA KD KF -', 'QD YA KD KF -', 'KA KD KF LA NA -', 'RJ -', 'DA LA KC KD KF -', 'KD -', 'QD WA RJ -', 'DA IA FA LA KC KD -', 'VA LC LA EA KC KD KF -', 'KF -', ' -', 'KF -', ' -', 'EA QC QA QD IA NA HA HE HF KC KA KD KF -', 'EA QC QA QD IA NA HA HF KC KA KD KF -', 'RJ -', ' -', ' -', ' -', 'FA YA RJ -', 'EA QA QD RJ -', 'FA YA RA RJ -', ' -', 'IC IA FB FA QC QA QD SA KC KA KD KF -', 'KD KF -', 'KD -', 'IC IA PA VA WA KC KD -', 'IC IA PA VA WA -', 'RJ -', 'QD YA KD KF -', 'LC LA RG RI RJ DA YA KC KA KD KF -', 'KD KF -', 'YA KF -', 'YA KD KF -', 'QA QD FA RJ -', 'LA QC QA FA RJ -', 'LA QC QA FA RI RJ -', 'RJ -', 'LA FA RJ -', 'RJ -', 'LA EA HA HE HF KC KA KD KF -', 'LC LA YB YC YA PA KC KA KD KF -', 'MA WA YA QA QD KC KD -', 'KD KF EA -', 'NB NA VA FA LC LA KC KD KF -', 'IA RJ -', 'QA QD EA KD KF -', 'KF -', 'RJ -', 'QA QD FA LA HA RJ -', ' -', ' -', 'DA RG RI RA RJ -', 'RJ -', 'RJ -', 'DA KA KB KD KF -', ' -', ' -', 'MA RG RJ -', 'TA YA RH RC RG RI RJ -', 'HA KD -', 'VA LC LA HA HE HF KC KA KD KF -', 'LA HA HF KC KD KF YA -', 'TB RJ -', 'EA LA HA HE KC KA KD KF -', ' -', ' -', 'HA HE HF LA EA DA -', 'HA HE HF EA TB -', ' -', ' -', ' -', ' -', ' -', ' -', ' -', ' -', ' -', 'HA HE QB QC RH RC RG RI RJ -', 'KD KF -', 'HE HF FA RI RJ -', 'HF FA RI RJ -', ' -', 'HE FA RI RJ -', 'RJ -', ' -', 'FA RJ -', 'HE FA RJ -', 'MA RJ -', 'FA RG RI RJ -', 'FA RG RJ -', 'RJ -', 'FA RG RI RJ -', 'FA RJ -', 'HF RJ -', ' -', 'HF RJ -', 'RJ -', 'HA HE VC VA KC KA KD KF -', 'HA LA FA RG RJ -', 'HA HE HF LA FA RG RI RJ -', 'HA HE HF QB QC QA QD EA KE KC KA KD -', 'HA HE QC QA QD MA EA KC KA KB KD KF -', 'HA HE HF FA DA KC KA KD KF -', 'HB HA HC HE HF VA TA TB RG RI RJ -', 'HB HA HE HF VA PA RC RG RJ -', 'HA HC HE HF VA TA PA RC RG RI RJ -', 'HB HA HE HF VA TA YB YC YA PA RC RG RI RJ -', 'HA KD -', 'HA YA FA KD -', 'HA HE YA FA KD KF -', 'KF -', 'YA FA QA KD -', 'KF -', 'HA HE YA FA QD KD KF -', 'HF KF -', 'IA HA LA KC KD KF -', 'KD -', 'KF -', 'KF -', 'IC IA EA YA QC RG RI RJ -', 'IA EA KC KD KF -', 'QD YA RG RI RJ -', 'EA QA QD KD KF -', 'KF -', 'KF -', ' -', 'IC IA FA QC QA KC KD KF -', 'HF KF -', 'HE HF KF -', 'KF -', 'FA HA HE HF KD KF -', 'FA HA HE HF KD KF -', 'IC IA LC LA QC QA QD KC KA KD KF -', 'EA KD KF -', 'KF -', ' -', ' -', 'IC IA FA KC KD KF -', 'IC IA FB FA KC KA KB KD KF -', 'IA WD WA MA KC KD -', 'IC IA LC LA EA TA RC RG RI RJ -', 'IC IA LC LA DB DA KC KA KD KF -', 'QD RJ -', 'IC IA LC LA EA VA KC KD KF -', 'KF -', 'IC IA LC LA PA FA KD -', 'KF -', 'IC IA LC LA YA KE KC KA KD KF RH RC RG RI RA RJ -', 'IC IA MB MA QB QC QA QD KE KC KA KB KD KF -', 'QD RJ -', 'IC IA NA FA PA YA RC RJ -', 'YA QA RJ -', 'YA QA QD RG RI RA RJ -', 'RJ -', 'YB YA QA RI RJ -', 'FA KD KF -', ' -', 'IC IA QC QA QD VA KC KD KF -', 'KF -', ' -', ' -', 'QA YA -', ' -', ' -', ' -', 'KF -', 'DS -', 'DS -', 'FA KD -', 'IC IA YA FA KC KA KD KF -', 'IA KC KA KD KF TA -', 'IA QC QA QD EA KC KA KB KD KF -', 'IA QC QA QD EA KC KA KD KF -', 'IA QC QA EA KC KD KF -', ' -', 'KD KF -', 'HA HE YA QD MA KD KF -', 'TB QD KD KF -', 'TB QD KD KF -', ' -', ' -', 'QD YA KD KF -', 'QD YA KD KF -', ' -', 'KF -', 'WD WA KD KF -', 'IC IA YA FA KC KD KF -', 'KC KA KB KD KF EA QC QA QD LA RG RI RJ -', 'KE KC KA KD KF EA DB LC LA -', ' -', 'KC KA KD KF TA -', 'KC KA KD KF TA -', 'KC KA KD PA VA -', 'KC KA KB KD KF PA LC LA VA -', 'KC KA KB KD KF PA TA LC LA VA -', 'KA KD KF EA HA HE HF -', 'KA KD KF EA HA HE HF -', 'KC KA KB KD KF LA TB QC QA -', 'KC KA KD KF PA LC LA RC RG RI RJ -', 'KF RJ -', 'KD KF FA RJ -', 'KD KF FA RJ -', 'KC KA KB KD KF TB EA IA QC QA QD -', 'KF -', 'LC LA NB NA QC QA QD KC KA KD KF -', 'RI RJ -', 'LC LA MC YA KC KA KD PA -', ' -', ' -', 'KF -', 'LA YA IA FA KC KD -', ' -', 'QA HA RG RJ -', 'LC LA VA IC IA EA KE KC KA KD KF -', 'FA RJ -', 'FA YA WA KD -', 'LA DA EA QC QA QD KC KD KF -', 'DA FA EA YA NA KD KF -', 'FA -', 'FA EA RJ -', 'FA RJ -', 'DA FA EA RG RI RA RJ -', 'RJ -', 'LA DA WD WE WA WF HA HE FA RG RI RA RJ -', ' -', ' -', ' -', 'RJ KF -', 'KD KF -', 'KF -', 'LA EA KD -', 'EA YA QA QD RG RA RJ -', 'RJ -', 'EA RJ -', 'LA EA RG RI RJ -', 'LC LA EA VA KC KA KD KF -', 'FA RJ -', 'LC LA EA QC QA RH RC RG RI RJ -', 'EA YA KA KD KF -', 'RJ -', 'RJ -', 'EA KD -', 'QD FA -', 'QD YA KD KF -', ' -', 'QD YA KD KF -', ' -', 'KF RJ -', 'YA KF RJ -', 'YA KF RJ -', 'EA MA WA KD -', ' -', 'LC LA EA VA KC KD KF -', 'RJ -', 'LC LA FB FA HA HE RC RG RI RJ -', 'QD KD KF WD WA WF -', 'KF -', 'KD WD WA -', 'LC LA FA VA EA QC QA KC KD KF -', ' -', 'LC LA EA VA RC RJ -', ' -', 'RJ -', 'WA RJ -', 'RJ -', 'KD -', 'LA TB NA EA KC KA KD KF -', 'EA KD KF -', 'TB EA KA KD KF -', 'HA RJ -', 'LC LA HB HA HC HE HF SA KE KC KA KD KF -', ' -', 'YA KF RJ -', 'HA EA RJ -', 'LA HA HE IA EA RI RJ -', 'HF RJ -', 'LC LA HA HE VA KC KA KD KF -', 'RJ -', 'FA HC HE HF RG RI RA RJ -', 'RJ -', 'RJ -', 'RJ -', 'FA MA YA RJ -', 'FA YA RJ -', 'YA KD KF -', ' -', 'QD HA KD KF -', ' -', 'QD KD KF -', 'KD KF -', 'QD KD -', 'YA FA KD -', 'YA FA KD KF -', ' -', 'RJ -', 'LC LA IC IA RC RG RI RJ -', 'RJ -', 'RJ KA KD KF -', 'LA IA RG RI RJ KC KA KD KF -', 'RJ KF -', 'KA KD -', 'RJ KF -', 'LC LA EA FA RJ -', 'LA IA RC RJ -', 'LC LA EA NA KC KA KD KF -', 'LA EA DA -', 'HE KF -', 'KD -', 'LA NA QC QA KC KD KF -', 'KF -', 'KF -', 'YA KD -', 'YA FA KD KF -', 'YA FA KF RJ -', 'YA FA KD KF RJ -', ' -', 'YA RJ -', 'YC YA RG RI RJ -', 'LC LA NB NA PA TA VA FA KC KD KF -', 'LC LA NA PA TA VA FA KC KD KF -', 'FA WD WE WA KA KD KF -', ' -', ' -', 'KF -', 'LC LA PA YA KC KD KF -', 'LC LA QC QA RG RI RJ -', ' -', ' -', ' -', 'LA QC QA FA KC KD -', 'QD FA KD KF -', 'QA EA KD KF -', 'KF -', 'LC LA QC QA PA VA RC RI RJ -', 'QD FA KD KF -', 'LA QC QA RJ -', 'QD RJ -', 'QD FA KD KF -', 'KF -', 'LA EA WD WE WA KC KA KD KF -', ' -', 'LA FA HA HF KC KD KF -', 'RJ -', 'YA RJ -', 'LC LA FB FA YB YA QC QA QD PA RC RG RI RJ -', 'RJ -', 'LC LA SA IC IA KC KA KD -', ' -', 'FA YA RI RJ -', 'RJ -', 'LA QC QA QD HA HE HF RG RI RA RJ -', 'LA QC QA QD HA HE RG RI RA RJ -', ' -', 'QD YA KD KF -', 'LA EA RJ -', 'LA EA RJ -', 'MA WA KD -', 'HE KD KF -', 'HE KD -', ' -', 'HE HF KD KF -', 'KD -', 'HA HE EA MA KA KD -', 'KD KF -', 'EA QA KD -', 'LC LA TA TB QC QA VA KC KD KF -', 'LC LA TA TB QC QA QD DA VA KC KD KF -', 'EA KD KF -', 'LA EA YA KA KD KF -', 'LA TB DA EA YB YC YA KA KD KF -', 'YA RJ -', 'RJ -', 'YA RJ -', 'RJ -', 'LC LA VA DB DA KC KA KD KF -', 'RJ -', 'HF YA RJ -', 'LA KC KA KD KF QC QA IA -', 'LA KC KA KD KF QC QA QD IA -', ' -', ' -', ' -', 'RJ -', 'KF -', 'QA RJ -', 'LA QA QD EA FA RG RI RJ -', 'RJ -', 'LC LA VC VA SA RH RC RG RI RJ -', 'RJ -', 'LC LA VC VA TA KE KC KA KD KF -', 'LC LA YA VA FA RC RJ -', 'YA RJ -', 'YA -', 'YC YA FA KD KF -', 'KF -', 'YA -', ' -', ' -', ' -', 'YA QA FA KD -', ' -', ' -', 'YA QA QD EA FA KD KF -', 'YA WA RJ -', 'KF -', ' -', 'YA KD -', 'KF -', 'KF -', 'MA EA VA KC KD -', 'KF -', 'MA EA LA HA HE HF KC KA KD KF -', 'KF -', ' -', 'RG RI RJ QD -', 'RJ KF -', 'MA EA LA RG RJ -', 'MA EA LC LA RC RJ -', 'MA EA IA LA RG RI RJ -', 'MA FB FA HA HE HF IA NA KC KA KD KF RG RI RJ -', 'MA FA HA HE IA NA KC KD KF RG RI RA RJ -', 'MA FA HA HE IA NA KC KD KF RG RJ -', 'MA EA KD KF RJ -', 'FA RJ -', 'FA RJ -', 'RJ -', 'RJ -', 'RJ -', 'RJ -', 'MA LA QC QA QD HA RG RI RJ -', 'LA QA HA RG RJ -', 'HF RJ -', 'MA -', 'MB MA LC LA KC KD -', 'KF -', 'WA KF -', ' -', ' -', 'MA LC LA EA KC KD KF -', 'KD -', 'EA MA KD KF -', 'KD -', ' -', ' -', 'QA KD -', 'FA KD KF RJ -', 'FA KD KF RI RJ -', 'FA EA KD KF RJ -', 'FA KD KF RJ -', 'WD WE WA WF KD KF -', 'HA HF MA EA LA KC KA KD KF -', 'NA IC IA DA VA PA KC KD KF -', 'FA KD -', 'KD KF -', ' -', 'HA EA KD -', 'HE KD KF -', 'KD KF -', 'HF KD KF -', 'MA EA KD KF -', 'HE KD KF -', 'KD -', 'EA KD -', 'KD KF -', 'MA QA RJ -', 'MA QA QD EA RG RI RJ -', 'NB NA HA HF IC IA LC LA KC KA KD KF -', 'NA IC IA QC QA QD FA KC KA KD KF -', 'RJ -', 'FA EA RG RI RJ -', 'NA RG RI RJ FA LA IA -', 'RJ FA -', 'RG RI RJ FA LA IA -', 'NB NA SA FA LC LA QC QA QD KC KD -', 'KD KF FA -', 'KD KF FA -', 'NA FA IA HA HE HF LA RG RI RJ -', 'FA -', 'KD KF -', 'YA FA KD KF -', 'YA KD KF -', 'PA MA LC LA KC KD -', ' -', 'RJ -', 'RG RJ -', 'KD -', 'PA VA IC IA KE KC KA KD KF -', ' -', 'WA RJ -', 'EA KD KF -', 'QD KD KF -', 'QD KD KF -', 'KB KD KF -', 'PA DA VA EA LC LA KE KC KA KD KF -', 'EA KD -', 'PA EA IC IA LC LA KC KD KF -', 'KF -', 'KF -', 'RJ -', 'QD WD WA KD KF -', 'WA -', 'FA QA -', 'KD KF -', 'KD KF -', 'KF -', ' -', 'RJ -', ' -', 'RJ -', 'HE WA RJ -', 'HE RJ -', 'WA RJ -', 'RJ -', 'PA IA YA RC RG RJ -', 'RJ -', 'QD RJ -', 'QD KD KF -', 'QD KD KF -', 'PA LC LA WD WA WF QC QA HA RC RG RI RJ -', 'FA KD -', 'RJ YA KF -', 'RJ -', 'RJ -', 'FA KD KF -', 'PA VA KC KD KF -', ' -', 'QD KD KF -', 'RJ -', 'RJ -', 'RJ -', 'RJ -', 'QA QD EA YA FA RJ -', 'RJ -', 'RJ -', 'KF -', 'KF -', 'KF -', ' -', 'KF -', 'KF -', ' -', 'PA QC QA QD TA LC LA FA RC RG RJ -', 'RJ -', 'QD KD KF RG RI RJ -', ' -', ' -', 'QA QD RG RJ -', 'RJ -', 'QA EA RJ -', 'RJ -', 'QA QD EA RG RI RA RJ -', 'RJ -', 'RJ -', 'RJ -', 'RJ -', 'KF -', 'PA EA VA IC IA RC RG RI RJ -', 'YA KD KF RI RJ -', 'PA SA QC QA QD MA EA RH RC RG RI RA RJ -', 'KD -', 'WD WE WA WF EA MA RG RI RA RJ -', ' -', 'RJ -', ' -', 'LA KC KA KD KF -', 'EA LA DA KC KA KD KF -', 'KF -', 'YA KF -', 'WA RJ -', 'WE WA YA RJ -', 'WA WF RJ -', 'QD FA RG RJ -', 'RJ -', 'QC QA LA RG RJ -', 'QD KD KF -', 'FA RJ -', 'QA QD HA RG RI RJ -', 'QA EA RG RJ -', 'KF -', 'KF -', 'KF -', 'QA KD -', 'KF -', ' -', 'KF -', 'QA FA EA KD -', 'RJ -', 'RJ -', 'KF -', ' -', 'KF -', 'KF YA RJ -', ' -', ' -', ' -', 'HA MA RG RI RJ -', 'RJ -', 'QC QA QD IC IA PA EA KC KA KD KF -', 'QC QD IC IA HA FA PA RC RJ -', 'QC IC IA HA FA PA RC RJ -', 'RJ -', 'QC QA IC IA HA HE HF LC LA RG RJ -', 'QD HA HE HF FA KD KF -', 'KF -', 'QD TB FA KD KF -', 'QA EA RI RJ -', ' -', 'QD KD -', 'QC QA LC LA IC IA MA KC KD -', 'KF -', 'QA QD YA KD KF -', 'QC QA QD LA YA IA DA KC KA KD KF -', ' -', ' -', ' -', ' -', 'QC QA QD NA EA FA MA HA HE HF KC KA KD KF -', 'QA QD WD WA RG RI RA RJ -', ' -', ' -', ' -', ' -', 'KF -', 'QA QD EA KA KD -', 'HF -', 'HF -', 'RJ -', 'RJ -', 'QA EA -', 'QA RJ -', 'QA QD RG RI RJ -', 'RJ -', ' -', 'QA RJ -', 'RJ -', 'RJ -', 'QC QA QD TA RG RI RA RJ -', 'QA YA RJ -', 'QA QD FA KA KD KF -', 'QA QD FA KD KF -', 'KF -', 'KF -', ' -', ' -', 'LA MA FA KC KD KF -', 'QA YA EA RI RJ -', 'RG RI RJ DA EA LA -', 'RG RI RA RJ EA DA HA HE HF TB -', 'FA -', 'EA FA KD -', 'EA FA KD -', 'RG RJ EA FA KD KF -', 'RG RI RJ EA QA QD -', 'RG RI RJ LA -', 'RJ -', 'RG RI RA RJ LA EA DA -', 'RJ FA HE YA -', 'RJ -', 'FA HA HF KD -', 'KD -', ' -', 'KD KF -', 'SA IC IA MA NB NA KC KA KD KF -', 'RJ -', ' -', 'LA RG RI RJ -', 'RJ -', 'RJ -', 'DA FA LA NA KC KD -', 'DA LA RG RI RJ -', ' -', 'FA -', ' -', ' -', 'WA KD KF -', 'WD WA WF KD KF -', 'WD WE WA WF KD KF -', 'WD WA WF RJ -', 'FA KD KF -', ' -', 'FA KD -', 'SA FA PA TA KE KC KA KD KF -', 'EA LC LA KC KA KD KF -', 'KD -', 'KD KF QD -', 'KD KF RJ -', 'HE HF KD KF -', 'EA HA KD -', 'KD KF -', 'HA HE HF EA QA QD RG RI RA RJ -', 'HA HE EA QA QD RG RI RJ -', 'RJ -', 'FA QA RI RA RJ -', 'RJ -', 'FA QD RJ -', 'QA QD EA KD KF -', 'QA QD EA KD KF -', 'HE HF KF -', 'HE HF KF -', ' -', 'IC IA LC LA EA KC KA KD KF -', 'IC IA LC LA KC KD KF -', 'KF -', 'IA EA NA LA HA HE RG RJ -', 'KF -', 'KF RJ -', 'KF RJ -', 'KD KF YA FA -', ' -', ' -', ' -', 'LA EA QC QA QD DA KC KA KD KF -', 'LC LA EA QC QA QD TA RC RG RI RJ -', 'FA QD KD KF -', 'FA KD KF -', 'QA QD EA KA KD KF -', 'QA QD RG RI RA RJ -', 'RJ KF -', 'LA EA HA KC KD KF -', 'LA EA HA KC KD KF -', 'MA MC HA HE RG RI RJ -', 'MA HA RG RI RJ -', 'QD KD KF -', 'RJ -', 'EA YC YA FA KA KD KF -', 'FA IA HA RJ -', 'QC QA QD LC LA EA RC RG RI RA RJ -', ' -', ' -', 'RG RI RJ DA EA IA FA KA KD KF -', 'HE HF KD KF -', 'EA -', 'TB HE HF KD KF -', 'HF KF -', 'FA RJ -', 'FA RJ -', 'FA RJ -', 'HA HE HF KD KF -', 'HA KD -', 'HA HE HF QD KD KF -', 'RJ -', 'RJ -', 'RJ -', 'FA KD KF -', 'KF -', ' -', ' -', 'KF -', ' -', 'YC YA RG RI RJ -', 'YA RJ -', 'TA EA LC LA KE KC KA KD KF -', 'TA EA QB QC QA QD LA KE KC KA KD -', 'KF -', ' -', ' -', 'YB YC YA IA LA RG RI RJ -', 'RJ -', 'QC QA LA RJ -', 'RJ -', 'TA VC VA LC LA KE KC KA KD KF -', 'TB KD -', 'KD -', 'TB EA MA KD KF -', 'EA KD KF -', 'TB EA MA KA KD KF -', 'RJ -', 'FA HA KD -', 'KD WD WA -', 'KD WD -', 'KD WD WA QD -', 'RA RJ -', 'RJ -', 'RJ -', ' -', 'RJ -', 'RJ -', 'RJ -', 'QD KD KF RJ -', 'EA KD -', 'QD KD KF RJ -', 'KF RJ -', 'KF RJ -', 'KF RJ -', 'KD KF -', 'KD KF -', 'KF -', ' -', 'RJ -', 'RJ -', ' -', ' -', 'RJ -', 'TB QD FA RJ -', 'RJ -', 'FA LA KD -', 'FB FA HA HE EA YB YA KC KA KD KF -', 'FB FA HA YB YA KC KD -', 'KF -', ' -', ' -', ' -', 'FA QA RG RI RJ -', 'RJ -', 'FB FA QA QD RG RI RJ -', 'HA HE RG RJ -', 'QA QD EA RG RI RA RJ -', 'RJ -', 'EA RJ -', 'QA QD EA RG RI RA RJ -', 'RJ -', 'QD KD KF -', 'TA TB IC IA QC QA QD DA VA LC LA RC RG RI RJ -', 'YA RJ -', 'TA LC LA IC IA QC QA PA HA HE HF -', 'TA LA YA KC KD -', 'RJ -', 'KD QD -', 'KF -', 'KD KF -', 'RJ -', 'TA PA EA RC RG RI RJ KC KA KD KF -', 'RJ -', 'RI RJ -', 'RJ -', 'TA TB QC QA QD FA KC KD -', 'TA TB QC QA QD EA FA KC KA KD KF -', 'TB QD EA KD KF -', 'KF RJ -', ' -', 'RG RI RJ -', 'FA KD -', 'KF -', 'QA QD EA RG RI RJ -', 'TA QC QA QD VA KC KA KD KF -', 'QA QD KA KD KF -', 'YA QD KD KF -', 'TA LC LA RC RJ -', 'YA QD QI QI QI QI QI RJ -', 'YA RJ -', 'QI QI QI QI QI QI QI RJ -', 'YA RJ -', 'YA RJ -', 'TB RG RI RJ -', 'TA VA LC LA YA QC QA MA RG RJ -', 'TA LA YA QC QA QD RF RG RI RJ -', 'RJ -', 'MA YA KD -', 'MA YA KD KF RJ -', 'TA NA LA KC KD KF -', 'RJ -', 'YA RJ -', 'RJ -', 'YA WD WA RJ -', 'YA RJ -', 'TA YB YC YA HA HE HF RH RC RG RI RJ -', 'KD -', 'KD KF -', 'FA RJ -', 'VA FA LC LA RC RG RI RJ -', 'EA QA QD HA RG RI RA RJ -', 'RJ -', 'RJ -', 'RJ -', 'EA RJ -', 'VC VA FA KC KD KF -', 'VA HB HA HE HF IC IA LC LA RC RG RI RJ -', 'RJ -', 'VA HA HE IC IA LC LA RC RG RI RJ -', 'YA EA KD KF -', ' -', 'KD KF -', 'KD KF -', 'KF -', 'VA TA PA KC KD KF -', 'YA RJ -', ' -', 'VA DA LC LA QC QA QD IC IA PA KC KD KF -', 'VA LC LA QC QA IC IA PA KC KD KF -', 'KD -', ' -', ' -', ' -', 'WA -', ' -', 'WA WF RJ -', ' -', 'EA YC YA FA TB KA KD KF -', 'RJ -', 'EA QA QD KD KF -', 'VA EA TA KC KD KF -', 'YC YA FA KD KF -', 'YA FA KD KF -', 'EA QA RJ -', 'RJ -', ' -', 'EA KD KF -', 'VA MA PA KC KD -', 'VC VA FB FA RH RC RG RI RA RJ -', 'FB FA NA KC KA KD KF RG RI RJ -', 'KF -', 'FA YA RJ -', 'FA QD YA RG RI RJ -', 'RJ -', 'KD KF -', 'KD KF -', 'VA LC LA TA FA RC RJ -', 'HE HF KF -', 'YA RJ -', 'TB QA KD KF -', 'KF -', 'HA HE HF FA RG RI RJ -', 'VA IC IA PA EA KC KD KF -', 'VA IC IA LC LA RJ -', ' -', ' -', 'RJ -', 'RJ -', 'RJ -', 'RJ -', ' -', 'RJ -', 'RJ -', 'RJ KF -', ' -', ' -', ' -', ' -', ' -', 'RJ KF -', ' -', 'KD -', 'KD KF -', 'KF -', 'EA -', 'KD KF -', 'KD KF -', 'LA EA DA IA FA KC KA KD KF -', 'FA YA RJ -', 'VA LC LA FA NA YA RC RI RJ -', ' -', 'RJ -', 'EA KA KD KF -', 'VC VA LC LA SA EA KE KC KA KD KF -', 'LA RJ -', ' -', ' -', ' -', ' -', ' -', ' -', 'FA KD -', ' -', 'KF -', ' -', 'VA LC LA PA HA HE HF KC KA KD KF -', 'VA LC LA PA HA HC HE HF KC KA KB KD KF -', 'MA MC KA KD KF -', ' -', ' -', ' -', 'KF RJ -', 'KF RJ -', 'KD KF -', ' -', 'KF -', 'EA RG RI RJ -', 'RJ -', 'RJ -', 'QD RJ -', ' -', ' -', 'KF -', ' -', ' -', 'EA RJ -', ' -', ' -', 'QC QA QD LA RJ -', 'QC QA QD LA YA RG RI RJ -', 'KF -', 'EA QA QD KD KF -', 'IA RG RJ -', 'VC VA SA IC IA KE KC KA KD KF -', 'FA -', 'FA -', 'FA KD -', ' -', ' -', 'FA -', ' -', ' -', 'QC QA MA IA KC KD KF -', 'VA YA LC LA PA KC KD KF -', 'KF -', 'VC VA TA YB YA KE KC KA KD KF -', 'VA TA YA KC KD KF -', ' -', 'RJ -', ' -', 'RJ -', 'RJ -', 'WD WA YA KD KF -', 'QD RJ -', 'EA QA RG RI RJ -', 'VA TA KC KA KD KF -', 'VA YB YA IC IA KE KC KD -', ' -', 'YA QC QA KC KA KD KF -', 'WD WE WA WF KD KF -', 'WD WE WA YA RJ -', 'WD WE WA WF FA EA KD KF -', 'WC WD WE WA WF FB FA EA KC KA KD KF -', 'WA WF KF -', 'WD WE WA WF LA IA KA KD -', 'WD WE WA WF LA EA IA KD -', 'WA RJ -', 'RG RJ -', 'YA EA LC LA KC KD KF -', 'YA EA FA RJ -', 'YA FA RC RJ -', 'YB YC YA EA MA NA RC RG RI RJ -', ' -', 'YB YA DA LC LA VA KC KD -', 'YA HE HF KF -', 'YA RJ -', 'YA FA RJ -', ' -', ' -', ' -', ' -', 'HF -', ' -', 'KF -', ' -', ' -', 'YA FA EA -', ' -', ' -', 'YB YC YA LC LA KC KA KD KF -', 'YB YC YA HB HA HC HD HE QC QA LC LA RC RG RI RJ -', 'YA IC IA PA KE KC KA KD KF -', 'RJ -', 'YA KD -', 'YA KD KF RJ -', 'YA KD KF RI RJ -', 'YA EA QA QD RG RJ -', 'YA RJ -', 'YA WA HF RI RJ -', 'YA RG RJ -', 'YA RJ -', ' -', 'YC YA NA EA DA KC KA KD KF -', 'YA RJ -', 'YA -', 'YA VA EA FA KC KD KF -', 'KF -', ' -', 'LC LA KC KA KD -', 'RJ -', 'FA QD RG RI RA RJ -', 'FA RJ -', 'KD KF -', 'QD KD KF -', 'QD YA KD KF -', 'IC IA HA HE HF KE KC KA KB KD KF -', 'FA EA -', 'RJ -', 'RJ -', 'PA NB NA KC KA KB KD KF -', 'KF RJ -', 'KF RJ -', 'KF YA RJ -', 'KF RJ -', 'KF RJ -', 'FA EA KA KD KF -', ' -', ' -', 'YA FA KD -', ' -', ' -', ' -', 'KC KA KD KF LA -', 'RJ -', ' -', 'KF -', 'KF -', 'EA -', 'QD KD KF -', 'RJ -', 'LA RG RI RJ -', 'RJ -', 'LA EA QC QA RG RI RJ -', ' -', 'RJ -', ' -', ' -', 'DA KC KA KD KF FA QC QA QD RG RI RJ -', 'EA WD WA KD -', 'EA WD WE WA KA KD -', ' -', 'KA KD KF EA YA FA RG RI RJ -', 'KB KD KF EA YB YA FB FA RG RI RJ -', 'YA RJ -', 'WA RJ -', 'RJ -', 'RG RI RJ -', 'RI RJ -', 'AA AA -', 'RG RI RA RJ -', 'YA HA FA RG RJ -', 'YA HA FA RG RI RJ -', 'RJ -', 'RJ -', 'RJ -', 'EA DA FA RG RI RA RJ -', 'EA FA RG RJ -', 'RJ KF -', 'FA YA KA KD -', 'FA YA KD KF -', 'FA YA KD -', 'FA KD -', ' -', ' -', 'FA KD KF -', 'YA QD KD KF -', 'YA RG RJ -', 'QD YA RA RJ -', 'QD YA RJ -', 'FA RJ -', 'VA QC QA QD KC KA KB KD KF -', 'KD KF RJ -', 'YA RJ -', 'QD RG RI RJ -', 'RJ -', 'TB KD KF -', 'EA KA KD KF -', 'IA QC QA FA KC KD -', ' -', 'KF -', 'YA KD KF -', 'YA KD KF -', 'YA QD KB KD KF -', 'RJ -', 'RJ -', 'IC IA DA VA RC RG RI RJ -', 'IC IA EA DA KC KA KD KF -', 'IA EA KC KD KF -', 'EA FA -', 'IC IA WD WE WA WF RC RJ -', 'KD KF -', 'KD KF QD -', 'KD KF QD -', 'IA QC QA QD NA KC KA KD KF -', 'QA QD FA HA HE HF YC YA KA KB KD KF -', 'QA QD FA HA YA KD KF -', 'QA FB FA HA YB YA KD KF -', 'KF RJ -', 'KA KD KF FA -', 'KA KD KF FB FA DA -', 'HA KD KF RJ -', 'QA YA RG RA RJ -', 'YA FA RJ -', 'YB YA FB FA QA RG RJ -', 'FA RG RJ -', ' -', ' -', 'HA FA KD KF -', 'LA IA HA HE HF EA KA KB KD KF -', 'KA KD FA -', 'LA FB FA TB QC QA KC KA KD KF -', 'LA EA RJ -', ' -', ' -', 'EA RJ -', 'QA KD KF -', 'QA QD FA KD KF -', ' -', ' -', ' -', ' -', 'LA KC KA KD KF EA RG RI RA RJ -', 'LC LA TA NA IC IA EA KC KD KF -', 'LC LA TA IC IA EA KC KA KD -', 'LC LA TA IC IA VA KC KD KF -', ' -', 'KD KF -', 'FA QA YA KD -', 'QA HA HE HF KA KD KF -', 'EA YA RG RI RJ -', 'WD WA KD -', 'EA WD WE WA KD KF -', 'KF RJ -', 'TG RJ -', 'RJ -', 'RJ -', 'EA HA FA KD KF -', 'EA HA HE HF FA KA KD KF -', 'HA HF RG RI RJ -', 'RJ -', ' -', 'RJ KF -', 'NA HA YB YA KC KA KD KF -', 'RJ -', 'QC QA QD IA LA FB FA KC KA KD KF -', ' -', 'QA QD MA EA RG RI RJ -', 'QD RJ -', 'RJ -', 'RJ -', 'QA QD WD WE WA MA FA HA RG RI RJ -', 'QA QD WD WE WA WF MA FA HA HE HF RG RI RJ -', 'QC QA QD YA LC LA EA KC KD KF -', 'RG RI RA RJ TB QA QD EA -', 'HA HD HE HF TB QA QD RG RI RA RJ -', 'FA KD KF -', 'KD -', 'FA QA QD RG RI RJ -', 'SA MB MA QB QC QA QD KE KC KA KD KF -', 'SA QB QA QD KE KC KD -', 'VA FA RH RC RG RI RJ -', 'FA YA KC KD -', 'FA YA TB KC KA KD KF -', 'QA QD RJ -', 'NA QA QD DA EA KD KF -', 'SA YC YA DB DA EA HA HE HF -', 'YB YC YA DB DA EA HA HE HF KC KA KD KF -', 'YA DB EA HA HF KC KA KD -', 'YB YC YA DB DA EA HA HE HF KC KA KD KF -', 'YB YA EA HA HE RG RI RJ -', 'YB YA EA HA RG RI RJ -', 'QD WD WE WA WF RA RJ -', 'KD KF RJ -', 'KD KF WD WE WA WF RJ -', ' -', 'KD FA -', 'KD EA FA QD -', 'WA RJ -', 'TA TB QC QA QD FA MC KC KA KD KF -', 'KF -', 'KD -', 'YA KD KF -', ' -', 'YA KD KF -', 'TB KD KF -', 'YA QA RJ -', 'QC QA QD LA EA KC KD KF -', 'RG RI RJ -', 'KF -', ' -', 'RJ -', 'KD -', 'RJ YA -', 'YA -', 'RJ YA -', 'RJ YA -', 'EA YA RJ -', 'EA YA RG RI RJ -', ' -', 'YA RG RI RJ -', 'EA IA LA RG RI RJ -', 'EA YA QA QD RJ -', 'WA KF -', 'WA KF -', 'WA -', 'RJ -', 'TB RI RJ -', 'YA KD KF -', 'YA KD KF -', 'VA NB NA EA PA RH RC RG RI RA RJ -', 'RJ -', 'QD KD KF -', 'KD -', 'RJ -', 'RJ -', 'VA NA LC LA FA RG RJ -', 'QD RG RJ -', 'WA RJ -', 'YA KD KF QD -', 'WD WE WA KD KF -', ' -', 'DA EA KA KD KF -', 'DA EA KA KB KD KF -', 'RJ -', 'KD KF -', 'RJ -', 'KF -', 'KF -', ' -', 'YA EA KD -', 'DB DA LC LA EA KC KA KD KF -', 'DB DA EA PA QC QA QD RH RC RG RI RA RJ -', 'DB DA EA LC LA QC QA KC KA KD KF -', 'DB DA EA LC LA QC QA QD KC KD KF RC RG RI RA RJ -', 'DB DA EA LC LA QC QA QD KC KD KF RC RG RI RJ -', 'DA EA QC QA LA KC KD KF -', 'KF -', ' -', 'KD KF -', 'KD KF -', 'KF RJ -', 'KD KF RJ -', 'KF RJ -', ' -', 'KD KF RJ -', ' -', 'KF -', 'KF -', 'KF -', ' -', ' -', 'KF -', 'KF -', 'RJ KF -', 'DA FA QA LC LA KC KD -', 'DA FA QC QA QD IC IA KC KD KF -', 'DA FA IA QC QA KC KD KF -', ' -', ' -', 'YA FA RJ -', 'YA RG RI RJ -', 'YA EA RJ -', 'YA EA FA RJ -', 'RJ -', 'DB DA IC IA EA TA KE KC KA KB KD KF -', 'KD -', 'KD KF -', 'FA HA HF QD KB KD KF -', 'YA KD KF -', 'DA IA LA YB YA NA KC KA KD KF -', 'DB DA IC IA TA VA RH RC RG RI RJ -', 'DA IC IA VA RC RG RJ -', 'DA IC IA VA QC QA QD KC KD KF -', 'KF -', 'MA FA YA RG RJ -', 'FA YA RJ -', 'KD -', 'KD KF -', 'KF -', 'KD KF -', 'KD KF -', 'KD KF -', 'FA RJ -', 'DA LA IA FA RC RG RI RJ -', 'RJ -', 'KD -', 'DA LA NA IA EA KC KD KF -', 'DA LC LA VA QC QA QD PA TA KC KD KF -', 'DB DA MB MA LC LA KE KC KA KD KF -', ' -', 'RJ -', 'RJ -', 'DA PA IC IA VA NA RH RC RG RI RA RJ -', 'QD RG RI RA RJ HA HF -', 'QA QD EA KA KD KF -', 'QA QD YA KD -', 'RJ -', 'RJ -', 'QD KD KF -', 'QD KD KF -', 'QD KD KF -', 'DA QC QA QD EA KC KD -', 'DA EA LA RJ -', 'DA EA VA PA RC RG RJ -', 'KD KF RI RA RJ QD -', 'DB DA VA FB FA RC RG RI RA RJ -', ' -', ' -', ' -', 'KF -', 'QA YA RJ -', ' -', 'EA RG RI RJ -', ' -', 'YA FA RI RJ -', 'YA FA RJ -', 'WA -', 'WA RJ -', 'WA RJ -', 'FA EA RI RJ -', 'FA EA RG RI RA RJ -', ' -', ' -', 'EA RJ -', 'KF -', 'RJ -', 'DA IA PA FA RC RG RI RJ -', 'KD KF -', 'RJ -', 'YA RJ -', 'KF EA RJ -', 'KD KF QD RJ -', ' -', 'RJ KD KF -', 'QD KD KF -', 'QD KD KF -', 'KD -', ' -', ' -', 'RJ -', ' -', ' -', ' -', 'KD KF YA -', 'KD KF HE YA -', ' -', ' -', ' -', ' -', 'DA EA FA KC KD KF -', 'DB DA EA QC QA QD PA RC RG RJ -', 'FA RJ -', 'RJ -', ' -', 'RI RJ -', ' -', 'QD -', 'RJ -', 'RJ -', 'RJ -', 'RJ -', ' -', ' -', ' -', 'RJ KF -', ' -', ' -', ' -', ' -', ' -', ' -', ' -', ' -', 'KD -', 'RJ -', 'QA QD FA MA KA KD KF -', 'QA QD FA MA KA KD KF -', 'QA QD YB YA MA KA KD KF -', 'RJ -', 'DA YB YC YA NA IA LA KA KD KF -', ' -', 'HA HE HF EA KA KD KF -', 'EA FA KD KF -', 'EA HA FA RJ -', 'RJ -', 'RJ -', 'RJ -', 'LA IA RJ -', ' -', 'WA WF -', ' -', 'WA WF KF -', ' -', ' -', ' -', ' -', 'RJ -', 'KD -', 'DA EA LC LA QC QA QD KC KA KD KF -', 'DA EA KC KD KF -', 'KD KF -', 'KD -', 'KD KF -', 'EA KD -', 'EA KD -', 'EA KD -', 'EA LA RJ -', 'HA RJ -', 'EA YA MA KD KF -', 'WD WA WF -', 'QD FA YA RJ -', ' -', 'DA EA IA TA RG RI RJ KC KA KD KF -', 'QA KD -', ' -', 'DA EA QC QA WD WA KC KD KF -', 'DA EA QC QA QD WD WA KC KA KD -', 'WA KF -', 'EA QA QD WA KD KF -', 'EA QA QD FA RG RI RJ -', 'DA EA VA IC IA RC RG RI RJ -', 'DB DA EA VA QC QA NB RC RG RI RJ -', 'DA FB FA HA HE QC QA QD LA KC KA KD KF -', 'DA FA MA NA LA RJ -', 'RJ -', 'FA KD -', 'DA FA NA YA KD KF -', 'DA FB FA NA YB YA KD -', 'DA FA PA KC KD KF LC LA -', 'RJ -', 'RJ -', ' -', 'HE RJ -', 'HE HF RJ -', 'RJ -', 'FA QA RJ -', 'FA QD RG RI RJ -', 'RJ -', 'FA EA RJ -', ' -', 'YA KD KF -', 'YA KD KF -', ' -', 'RJ -', 'DA FB FA HA HE LA EA RG RI RA RJ -', 'FA HA HE EA RG RI RJ -', 'FA QD RG RJ -', 'DA FA EA KC KD -', 'DA FB FA HA HE IC IA LC LA RG RI RJ -', 'DA FA IA KC KD KF -', 'FA IA YA QC QA KC KD KF -', 'FA LA IA KD -', 'FA LA MA RJ -', 'RJ -', 'FA EA RJ -', 'KF -', 'FA YA RI RJ -', 'RJ -', 'FA YA RI RJ -', 'FA RJ -', 'DA FB FA NA LA IA RG RI RJ -', 'FA QA QD KD -', 'DA FB FA QA QD LA KD KF -', 'DA FA QA QD LA KD -', ' -', 'FA QA HA RJ -', ' -', 'DA FB FA QA QD EA KA KD KF -', 'DA FB FA QA QD EA KD -', 'FA QA QD EA KA KD KF -', ' -', ' -', ' -', 'FB FA QA KD -', 'KF -', 'FA QA QD KD -', 'KF -', 'FA KD -', 'FA HA KD KF -', 'FA HA KD -', 'FA HA KD KF -', 'FA IA RJ -', 'DA FB FA IA RG RI RJ -', 'KF -', ' -', 'KD KF -', 'KD -', 'DA FB FA VA EA PA KC KD KF -', 'FA QA KD KF -', 'FA LA KC KD -', ' -', ' -', 'RJ -', 'RJ -', 'RJ -', 'RJ -', 'FA EA RJ -', ' -', 'FA WD WE WA WF EA KD -', 'DA FB FA WD WE WA WF NA LA EA KC KA KD -', 'WA KF RJ -', 'WD WE WA WF KD KF RJ -', ' -', 'DA LA IA RG RJ -', 'EA KD -', ' -', ' -', 'KD KF EA MA -', 'YA KD -', 'RJ -', 'QD RI RJ -', 'EA RG RI RA RJ KA KD KF -', 'EA RG RI RJ KA KB KD KF -', 'KD KF QD RG RI RA RJ -', ' -', ' -', 'KF -', 'KD KF -', 'FA QD MA YA RG RI RA RJ -', 'FA QD MA YA RJ -', 'RJ -', 'RJ -', 'RJ -', 'RJ -', ' -', ' -', ' -', ' -', 'FA KD KF -', 'DB DA VA FA KC KA KD -', 'KF -', 'DA QC QA QD IA RG RI RJ -', 'RJ -', 'KF -', 'DA RG RI RJ -', 'DA RG RI RJ -', 'RJ -', ' -', 'IA FA LA KC KD KF -', ' -', ' -', ' -', 'KF -', ' -', 'HA HE HF EA FA KD KF -', 'KF HF RJ -', 'KA KD KF EA HA -', 'FA YA RI RJ -', 'RJ -', 'QD KD KF -', 'DB DA NB NA TA TB QC QA LA KC KA KD -', 'KF -', ' -', 'KF -', ' -', 'KF -', 'KF -', ' -', 'KF -', 'KF RJ -', ' -', 'QA QD RF RG RI RJ -', 'QA QD RJ -', 'LP -', ' -', 'LP -', ' -', 'LP -', ' -', 'DB DA IC IA KC KA KD KF -', ' -', 'YC YA FA QD RG RI RJ -', 'YA FA RG RJ -', 'RJ -', 'FA KD KF -', 'DA EA FA KA KD KF -', 'DA EA FA KD -', 'DB DA TA VA LC LA KE KC KA KD KF -', 'DA NA IA EA RJ -', 'RJ -', 'DB DA VA LC LA FA KC KD -', 'KF -', 'DB DA VA EA MA TA RH RC RG RI RJ -', 'FA RJ -', 'DA LA KC KA KD KF -', 'DB DA VC VA PA KE KC KA KD KF -', 'YA FA -', 'YA FA KD KF -', 'YA FA KD -', 'YA FA KD KF -', ' -', 'DA WD WE WA WF YA FA RG RI RJ -', 'DA YB YA MA LA NA RG RJ -', 'YA EA KD KF -', ' -', 'HA RJ -', 'HA HE QA QD MA EA RG RI RA RJ -', 'DB DA HA HE VA IC IA KC KA KD KF -', 'SG KF -', ' -', 'SG KF -', 'DA HA HE EA NA IA KC KA KD KF -', 'DA HA HE HF SA EA KC KA KD KF -', ' -', 'HA KC KD -', 'FA RJ -', 'RJ -', 'KD -', ' -', 'HA KD -', 'HA HE HF QA KA KD KF -', ' -', 'HA QA QD KA KD KF -', 'YA RJ -', 'KF -', 'HA VA LC LA RC RJ -', 'RJ -', 'HA VA LC LA RC RI RJ -', 'DA IA WD WE WA WF HA HF KC KA KD KF -', 'FA RJ -', 'HA RI RJ -', 'HA HE EA YA RG RI RJ -', 'IA YA LA RJ -', 'KD -', 'QD KD KF -', 'QD KD KF -', 'TB EA FA MA KA KB KD KF -', 'KD -', 'EA FA RJ -', 'FA RI RA RJ -', 'DA IC IA LC LA QC RC RG RI RJ -', 'DA IA EA TB LA KC KD KF -', 'KF -', 'DA IA EA LA QC QA KC KA KD KF -', 'KD KF FA RJ -', 'IA FA LA MA KD -', 'IA FA LA KD KF -', 'DA IA FA RJ -', 'FA QA EA YA KD -', ' -', 'FA KD KF -', ' -', 'KF -', 'DA IA KC KD -', ' -', 'MA KA KD KF -', 'DA IA HA HE NA LA EA KA KD KF -', 'DA IC IA FA VA KC KD KF -', 'FA KD -', 'KD -', ' -', 'KF WA -', 'DA IC IA KC KA KD KF TA EA NA LC LA -', ' -', ' -', 'KF -', 'HE KD KF -', 'RJ -', 'RJ -', 'DA IA LA PA KC KD -', ' -', ' -', ' -', 'DA IA MA YA KC KD -', 'YA EA KD KF -', 'YA QA FA KD KF -', 'KD -', 'DA IA EA LA KC KA KD KF -', 'DA IA LA KC KD KF -', ' -', 'RJ -', 'YA RG RI RA RJ -', 'RI RJ -', 'HA HE HF QA QD RG RI RJ -', ' -', 'KF RJ -', 'KF RJ -', 'WD WA YA KF -', 'KD -', 'DA IA LA YA KC KD -', ' -', 'DA IC IA LC LA EA YA KC KD -', 'EA YA KD KF -', 'RJ -', 'RJ -', 'RJ -', 'KD KF FA RJ -', 'DA IA QC FA TA KC KD KF -', 'RJ -', 'IA EA LA KD -', 'EA SS RG RI RA RJ -', 'DA IA TB NA KC KA KD KF FB FA -', 'DA IA NA KC KD KF FA -', 'YA KD KF -', 'YA KA KD KF -', ' -', 'RJ KD KF -', 'FA RG RI RJ KA KD KF -', 'RJ KF -', 'RJ KF -', 'HA HE HF FA EA YA RG RI RJ -', 'KF -', ' -', 'EA KD KF -', 'KD -', 'EA KD -', 'IA NA HA HF KC KD KF -', 'WD WE WA WF EA KD -', 'WD WE WA WF KD KF RJ -', 'WD WE WA WF KD KF RJ -', 'KA KD KF HA HF EA -', 'KD KF FA HA HF EA YA -', ' -', ' -', 'KD KF RJ -', 'KD KF EA -', 'KD -', 'KD YA -', 'DA KC KA KD KF HA HE HF FA TB -', 'DA KC KD KF LA IA NA RG RA RJ -', 'KD KF -', 'KD KF -', 'KD KF YA -', 'KD KF YA -', 'DB DA KC KA KB KD KF QC QA QD EA YB YC YA RC RF RG RI RJ -', ' -', 'DA KC KA KB KD KF EA NA IA -', 'KD MA -', 'KA KD KF MA -', 'DA KC KA KD KF EA -', 'KD KF FA YA -', 'KD KF -', 'EA MA KD KF -', 'KD -', 'KD KF -', 'KF -', 'KD KF -', 'KD -', 'KD -', 'RJ -', 'DA LC LA PA IC IA RC RG RJ -', 'YA KD -', 'FA YA KD -', 'FA YA KD KF -', 'YA FA RJ -', 'YA FA RJ -', 'QA HA RJ -', 'DA LC LA SA VA RH RC RG RI RJ -', 'DA LC LA VA KC KD -', 'RJ -', 'RJ -', ' -', ' -', 'DA LA KC KD KF -', 'KF RJ -', 'HA FA RJ -', 'HA RJ -', 'HA HE HF FA RG RI RJ -', ' -', 'KD -', 'KF -', 'KD KF -', 'RJ -', 'MA RG RI RA RJ -', 'DA LA YB YA KC KA KB KD KF -', 'EA HA KD KF -', 'DA LA EA HA HE IA NA KA KB KD KF -', 'LC LA EA IC IA RC RG RJ -', 'RJ -', 'DA LA EA MA RG RI RJ -', 'EA KD KF -', 'DB DA LC LA EA VA KC KA KB KD KF QC QA QD -', 'DB DA LC LA EA VA KC KA KD KF QC QA QD -', 'HA YA FA RJ -', ' -', 'EA FA HA HE HF KD KF -', 'KF -', 'EA FA HA KD -', 'EA FA HA HE KD KF -', 'HF -', 'EA RJ -', 'DA LA EA RG RI RJ -', 'RJ -', 'DA LA EA YB YC YA FB FA KC KA KD KF -', 'KD KF -', 'QD KD KF -', 'HE HF QD KD KF -', ' -', 'FA KD KF RI RJ -', 'FA KD KF RG RI RJ -', 'KF RJ -', 'FA EA RJ -', 'DA LA FA IA RI RJ -', 'DA LA FB FA IA EA RG RI RJ -', 'RJ -', 'FA RJ -', 'DA LA FA IA RG RI RJ -', 'RJ -', 'FA QA RJ -', 'FA QD RG RI RJ -', 'FA RJ -', 'FA QD RG RI RJ -', 'FA EA KD KF -', 'FA HA KD -', 'FA HA KD -', 'FA KD -', 'FA HA KD -', 'WD WA HA RJ -', 'WA RJ -', 'WC WD WE WA WF HA HE RG RI RJ -', 'WA WF RJ -', 'EA HA FA KD -', ' -', ' -', 'FA HA KD -', 'FA EA HA HE HF KD KF -', 'DB DA LC LA QC QA QD RC RF RG RI RJ -', 'FA HA KD KF -', 'QA FA RJ -', 'HA KD -', 'HA KD -', ' -', 'HA KD -', 'EA KD KF -', 'DB DA LC LA IC IA EA KC KA KD KF -', 'KD YA -', 'KD -', 'KF -', 'KD -', ' -', 'DB DA LC LA IC IA KE KC KA KD KF -', 'RJ -', 'RJ -', 'HA EA FA YA KA KD KF -', 'FA YA KD -', 'KF -', 'FA KD -', 'HE HF FA YA KD KF -', 'KD KF YA FA RG RJ -', ' -', ' -', ' -', 'DB DA LC LA KC KA KB KD KF PA TA RC RG RI RJ -', 'DA LA MA RC RG RI RJ -', 'DB DA LC LA IC IA KC KA KD KF -', 'HE YA KD KF -', 'KD -', 'DA EA KD KF -', 'DA LA FA RG RI RJ KC KA KD KF -', 'DA LA FA RJ KC KA KD KF -', ' -', ' -', ' -', ' -', 'DA LC LA QA FA RC RG RJ -', 'YA KD KF -', 'YA KD -', ' -', 'WA -', 'WA KF -', 'WA -', 'WA WF -', 'WA -', 'KD KF -', 'DA LA MA KE KC KD -', 'KF -', ' -', 'FA HA HE HF RG RI RJ -', 'FA HA RJ -', 'RJ -', ' -', 'FA HA HE HF RG RI RJ -', 'RJ -', ' -', 'FA HA RG RI RJ -', 'RJ -', 'FA RG RI RA RJ -', 'FA RJ -', 'YA KD KF -', 'DA LC LA PA NA YA VA TA KC KD KF -', 'DA LA QC QA EA RJ -', 'FA KD -', ' -', 'KF -', 'KF -', 'KF -', 'KF -', ' -', 'LA QA KD KF RJ -', 'QA QD KD -', 'QA QD EA FA HA HF KA KD KF -', 'HF KF -', 'QA -', 'QA QD EA FA HA KD -', ' -', 'RJ -', 'RJ -', 'KF -', 'FA -', ' -', 'KD -', ' -', 'DA KD -', 'DA EA KD KF -', ' -', 'KD -', 'KD -', 'DA LA IA TA KC KA KD KF -', 'KF -', 'WA WF -', 'WA KF -', 'DB DA LA QA YA IA RC RG RI RJ -', 'DB DA LA QA YA IA RC RG RJ -', 'RJ -', 'KF -', 'DA LA KC KD -', 'KF -', 'RJ -', 'FA KD -', 'DB DA LC LA TA FB FA KC KA KD KF -', 'FA YA KD -', 'DA LA FA YA IA KC KD KF -', 'KF -', 'DA LA TB QC QA QD FB FA RG RI RA RJ -', ' -', ' -', 'KD -', 'DB DA LC LA VA KC KA KD KF -', 'KD -', 'KD -', ' -', 'DA LA MA IA QA KC KD -', 'KF -', 'KF -', ' -', 'RJ -', ' -', ' -', ' -', 'KF -', ' -', 'KD -', ' -', 'YA KD -', 'WA -', 'MA EA TB KD KF -', 'MA EA RI RJ -', 'DA MA VA QC QA YA LC LA RC RJ -', 'YA QD KD KF -', 'EA QA QD KD KF -', 'EA QA QD KD KF -', 'DA FA RJ -', 'KD KF -', 'RJ -', 'DA WD WE WA RG RJ -', 'DA WD WE WA RG RJ -', 'DA NA IC IA VA KC KA KD KF -', 'DA EA HA RG RJ -', 'DA NA EA FA LA KD -', 'DA NA EA HA HF VA FA KC KA KD KF -', 'DA NA EA LA IA YA KC KD -', 'DB DA NB EA LC LA IC IA YA KC KD KF -', 'HA HE HF QA QD RG RI RJ -', 'HF RJ -', 'HA QA QD RJ -', 'HA HE HF QA QD RG RI RJ -', 'HF RJ -', 'FA RI RJ -', 'RJ -', 'FA RJ -', 'DA NA IA EA RG RI RJ -', 'RJ -', 'EA FA KA KD KF -', 'DA NA LA IA QC QA RG RI RJ -', 'DA NA LA IA QC QA RG RI RJ -', 'DA KD -', 'DA KD -', 'QD RI RJ -', ' -', 'RJ KF -', ' -', 'RJ KF -', 'RJ KF -', 'QA RJ -', 'QA FA RI RJ -', 'RJ -', 'DB DA NB NA SA RH RC RG RI RJ PA -', 'QA HA EA FA RG RJ -', 'QA HA FA RI RJ -', 'TB QD RG RI RA RJ -', ' -', 'QA QD FA KA KD KF -', 'YA FA KD KF -', 'DB DA PA IC IA YB YA FB FA KC KA KD KF -', 'DB DA PA KC KD KF RC RJ -', 'KD KF RJ -', 'RJ -', 'QD KD KF -', 'QD KD KF -', 'QD KD KF -', 'DB DA PA EA RC RG RI RJ -', 'YA RA RJ -', 'DA PA LC LA EA KC KD KF -', 'YA QA KD -', 'TB YA QA QD KA KD KF -', 'DA NA LA EA RG RJ -', 'EA RG RI RJ -', ' -', 'FA HA QA RJ -', 'RJ -', ' -', ' -', 'RJ -', 'RG RJ KD KF -', 'RJ KF -', 'RG RI RJ KD KF -', 'RJ KF -', 'DB DA PA TA NB NA IC IA KE KC KA KD KF -', 'RJ -', 'KD KF -', 'YA TB FA QD KD KF -', 'YA QD FA KD KF -', 'YA FA KD -', 'YA QD FA KD KF -', 'KF -', ' -', 'KF -', 'KF -', ' -', ' -', ' -', ' -', ' -', ' -', 'KF -', 'RJ -', 'RJ -', 'DA QC QA QD EA VA TA KC KA KD KF -', 'DA QC QA QD FA LA KC KD KF -', 'QD YA FA RG RI RA RJ -', 'QD YA FA RI RJ -', 'RJ -', 'QA QD KD -', 'QD KD -', 'DA QC QD LA IA KC KD -', 'KF -', 'KF -', 'KF -', 'KF -', 'RJ -', 'RJ -', 'HA FA YA RI RJ -', 'RJ -', 'RJ -', 'RJ -', 'RJ -', ' -', 'RJ -', 'RJ -', 'RJ -', ' -', 'RJ -', 'RJ -', ' -', ' -', 'QD KD KF -', 'KF -', 'QD -', 'RJ KF -', 'RJ KF -', 'RG RJ HA QA -', ' -', 'RG RJ KF -', 'DB DA RC RG RI RJ LC LA EA VA -', 'RJ -', 'RJ HF KF -', 'RJ QA YC YA KD KF -', 'RJ MA -', 'DA QC QA QD LA EA KC KD -', ' -', 'FA RJ -', 'DB DA FA LA RC RG RI RJ -', 'RJ -', 'WA WF KD -', 'WD WE WA WF YA KD KF -', 'KD KF -', 'DA IA LA KC KD KF -', 'DA MA EA KC KA KD KF -', 'DA EA KC KD -', 'QA QD EA RG RI RJ -', ' -', 'WA -', 'WH WA WF HE HF KF -', 'EA RJ -', 'DB DA EA VA NB NA TA RC RG RI RJ -', 'DB DA FA LC LA TA TB KC KA KD KF -', 'DA EA KD KF -', 'DA EA FA IA RC RJ -', 'FA RJ -', ' -', 'DA EA QC QA QD HA HF KC KA KB KD KF -', 'FA KD -', 'FA QD YA KD KF -', 'IA EA RJ -', ' -', 'RJ -', 'RJ -', 'WA WF -', 'KD HF -', 'KF -', 'KF -', 'DA LA QC QA KC KD KF -', ' -', 'QD FA RI RJ -', 'QD FA RI RJ -', 'RJ -', 'FA RJ -', 'QD FA RJ -', 'QD FA RJ -', 'EA FA KD -', 'DA LC LA QC QA QD EA FA KC KD -', 'DA LC LA WD WA PA YA KC KD -', 'DA NA EA KC KA KD KF -', 'DB DA SA NB NA LC LA TA RH RC RG RI RJ -', 'FA KD KF -', 'YA RJ -', 'RJ -', 'RJ KF -', 'FA EA YA RG RJ KB KD KF -', ' -', 'RJ KF -', 'WA RJ -', ' -', 'YA KF -', 'MA RI RJ -', 'RJ -', 'KD -', 'DA LA QC QA KC KD KF -', 'DA KD KF -', 'FA LA IA KC KD -', 'QA QD HA KD KF -', 'DA QC QA QD IA HA HE HF KC KA KD KF -', 'WA WF HF RJ -', 'DA VA TA RG RI RJ -', 'RJ -', 'FA HA KD KF -', 'DA TA TB NA LA FB FA HA HE HF KC KA KB KD KF -', 'HF KF -', 'DA TA NA LA FA HA HE HF KC KD KF -', ' -', ' -', 'FA RJ -', 'TB FA RI RJ -', 'FA RG RI RJ -', 'FA KD KF -', ' -', 'DB DA TA FA VA LC LA KE KC KA KD -', 'LE LE LE LE LE KD KF -', 'DA TA HA HE HF LC LA FB FA RG RI RJ -', 'HF RJ -', 'LA FA RJ -', 'FA RG RI RJ -', 'RJ -', 'KD KF -', 'DA TA LC LA PA SA RC RG RI RJ -', 'RJ -', ' -', 'RJ -', 'RJ -', 'RJ -', ' -', 'RJ -', 'RJ -', 'WA FA RJ -', 'DA MA IA QC QA RJ -', 'KF -', 'KF -', 'KF -', 'KF -', 'KF -', 'FA -', 'DA NA LA IA FA KC KD KF -', 'WA WF KF -', 'KD -', 'LA HA HF KD -', 'LA HA KD KF -', 'HA KD -', 'DA LA HA HF KD KF -', 'HA HF KD -', 'KD KF RJ -', 'DA QC QA LA IA KC KD -', 'RJ KF -', 'RA RJ KD KF -', 'KD KF YA RJ -', 'KF -', 'KF -', 'KF -', 'DA KC KA KD KF -', 'DB DA TA TB VA LC LA RC RG RI RA RJ -', 'HA RJ -', 'DB DA TA VA EA HA HD HE HF RC RG RI RJ -', 'DA TA VA LC LA RC RI RJ -', 'QD RJ -', 'RJ -', 'TB KA KB KD KF -', 'WA -', 'WA WF -', 'WA WF HF -', 'YA RJ -', 'FA HA QA QD KA KD KF -', 'KF -', 'KF -', 'RJ -', 'RJ -', 'DA VA FA LC LA RC RG RJ -', 'RJ -', 'DB DA VA EA RC RJ -', 'KF RJ -', 'DA LA RG RJ -', 'YA KD KF -', 'EA HA HE YA KB KD KF -', 'DA EA NA KC KD KF -', 'KD KF YA -', ' -', ' -', 'FA RJ -', 'FA YA RG RI RJ -', 'FA YA RG RI RJ -', 'FA YA RG RI RA RJ -', 'RJ -', 'YA RJ -', 'YA RJ -', 'FA KD KF -', 'EA HA KF -', 'EA HA KD KF -', 'RJ -', 'DA VA HA IC IA LC LA RH RC RG RI RJ -', 'RJ -', 'DA VA IC IA LC LA FA KC KD -', 'DA VA IC IA LC LA FA KC KD -', 'QA QD EA HA HE KA KD KF -', 'QD KD KF -', 'QD KD KF -', 'DB DA VA LC LA FA PA YC YA IC IA KC KD KF -', 'DA VA LC LA MA QC QA RG RJ -', 'DA VC VA LC LA MB MA RH RC RG RI RJ -', 'LA QC QA RJ -', 'QA QD EA RG RI RA RJ -', 'QA EA RG RJ -', 'RJ -', 'QA QD EA RG RI RA RJ -', 'RJ -', 'QA QD HA HF KA KD KF -', 'DB DA VA LC LA NB NA IC IA PA KC KA KD KF -', 'TB KD KF -', 'DA VA MA PA EA RC RG RJ -', 'MA WA QA KD KF -', 'WD WA KD KF -', ' -', 'IV IV IV KD KF -', ' -', 'RJ -', 'QA YA RJ -', 'QA QD YA RA RJ -', ' -', ' -', 'DA VA IC IA KD -', 'DA VA HA QC QA QD KC KA KD KF -', 'DA VA HA HE QC QA QD KC KA KD KF -', ' -', 'FA KD KF -', 'HF WE WA WF KF -', 'HF WE WA WF KF -', 'WE WA WF -', ' -', 'YA FA QA KD KF -', 'FA KD KF -', 'EA FA KA KB KD KF -', ' -', 'FA RG RI RJ -', 'FA LA IA RG RJ -', 'HF KF -', 'HA KD KF FA RJ -', 'DA VA IC IA LC LA EA TA KC KD KF -', 'VA IC IA LC LA KD -', ' -', ' -', 'VA WA WF IC IA LC LA RC RJ -', ' -', ' -', 'QD RJ -', 'DA WD WE WA QA MA KC KD -', 'WA WF -', 'DB DA YC YA IC IA EA KE KC KA KB KD KF -', 'DA YC YA TA NA KC KA KD KF -', 'YA -', 'YA -', ' -', 'YA KF -', 'YA KD KF RJ -', 'YA FA HA KD -', 'YA FA HA KD -', 'YA FA KD -', 'YA FA RJ -', 'DA YB YC YA FB FA RG RI RA RJ -', 'DA YB YA LC LA HA RJ -', 'YA HA EA FA KD KF -', 'KF -', 'YA IA LA KC KD -', 'YA IA PA RC RI RJ -', 'RJ -', 'YA RJ -', 'KF -', 'KF -', 'YA HA FA KD KF -', 'YA HA FA KD KF -', 'YA KD -', 'YA HA FA KB KD KF -', 'YC YA HA FA KD -', ' -', 'YA MA KD -', 'DA YA NA VA QC QA IC IA KC KD KF -', 'YA FA RJ -', 'YA FA RG RJ -', 'YA KD -', 'YA RA RJ KD KF -', 'YA HF KF -', 'YA -', 'RJ -', 'YA RI RA RJ QD KD KF -', 'YA RI RJ QD KD KF -', 'YA RI RA RJ QD KD KF -', 'DA YA QA RG RJ -', 'YA RJ -', 'DA YC YA LA RG RJ -', 'YA EA MA QA KD -', 'DA YA EA MA QA KD KF -', 'YA RJ -', 'YA RJ -', 'RJ -', 'RJ -', 'RJ KF -', 'KF -', 'YA QA KD KF -', ' -', 'RJ -', 'DA YC YA WD WA WF LC LA VA KC KD -', 'EA QA QD HA RF RG RI RJ -', 'QD RI RJ -', 'EA DB DA LC LA RH RC RG RI RJ -', ' -', ' -', ' -', ' -', ' -', 'EA FA HA HF RG RJ -', 'EA FA HA RJ -', 'QD RJ -', 'RJ -', 'RJ KF -', 'EA FA MA RG RJ -', 'KD -', 'KD -', 'KF -', 'KF -', 'KF RJ -', 'EA TA FA HA HE HF KC KA KD KF -', 'EA DB DA PA HA HE KC KA KB KD KF -', 'EA DB DA PA HA HE KC KA KD KF -', 'YA RJ -', 'YA HA RJ -', ' -', ' -', ' -', ' -', 'EA KD KF -', 'EA DB DA NB NA LC LA RC RG RI RA RJ -', 'EA VA RH RC RG RI RA RJ -', 'EA KC KA KD KF PA -', 'EA KC KA KB KD KF PA -', 'EA QC QA QD LC LA KC KD -', 'EA FA YA KD KF -', 'KD -', 'EA DA MA KD KF -', 'EA QA QD KD KF -', ' -', 'EA QA QD MA RI RJ -', 'FA KD KF -', 'KF -', 'EA FA LA RJ -', 'EA FA QA KD -', 'EA FA QA QD KD -', ' -', 'EA FA QC QA RG RJ -', 'RJ -', 'QD KD KF -', ' -', ' -', ' -', 'EA HA HE HF KC KA KD KF RG RI RJ -', 'EA HA HE HF KC KA KD KF IA RG RI RJ -', 'EA HA HF KE KC KA KD KF SA IC IA RH RC RG RJ -', 'HF KF RJ -', 'EA YA KD -', 'RJ -', 'RJ KF -', ' -', 'EA LA IA RJ -', 'RJ -', 'KD KF -', 'EA LA KC KA KD -', 'EA LA FA KC KD -', 'RI RJ -', 'EA HA RG RI RJ -', 'EA LA QC QA QD FB FA IA HA HE NA KC KA KD KF -', 'WA RJ -', 'EA LC LA TA TB QC QA RH RC RE RG RI RJ -', 'EA NB NA QC QA QD IC IA KC KA KD KF -', 'YA KD KF -', 'YA KD KF -', 'KD KF RG RI RJ -', 'HF RJ -', 'RJ -', 'EA FA RJ -', ' -', 'RJ -', 'EA QC QA FA HA RG RI RJ -', 'EA QC QA FA HA RJ -', 'EA PA QC QA QD LC LA RC RG RI RJ -', 'EA QC QA QD DA YA RG RI RJ -', 'EA QA QD LA DA RJ -', ' -', 'RJ -', 'QD KD KF -', 'QD KD KF -', 'KF -', 'EA RG RI RJ -', 'EA KD KF RG RJ -', 'EA KD KF RG RJ -', ' -', 'KF -', 'YA FA KD -', 'RJ FA -', 'WA RJ -', 'RJ WA -', 'RJ WA -', 'KD WD WA -', 'KD KF WA -', 'FA YA RJ -', 'RJ KF -', ' -', ' -', 'EA -', ' -', ' -', 'RJ KF -', 'EA RJ -', 'RJ -', 'EA -', 'EA QA QD KD KF -', 'KF -', 'QD KB KD KF -', 'EA QA QD KD -', 'QD KD -', 'KF -', 'EA KB KD KF -', ' -', 'EA VA QC QA QD FA KC KD -', 'VA FA LC LA RJ -', ' -', 'EA QA WD WA RJ -', 'EA QA WA RJ -', 'EA VA QC QA LC LA KC KD -', 'QD RG RI RA RJ -', 'EA WA HA HF KC KD KF LA -', 'KD -', 'KF -', ' -', 'QA FA -', 'KF -', 'KF RJ -', 'HA RJ -', 'RJ -', 'RJ -', 'HA RJ -', 'RJ -', 'RJ -', 'EA RJ -', 'RJ -', 'HF -', 'HF -', ' -', ' -', ' -', 'HF RJ KF -', ' -', ' -', ' -', ' -', 'KD -', 'WA KD -', 'WA WF KF -', 'WC WD WE WH WA WF FA RI RJ -', 'WA KF -', 'WA KF -', 'RJ -', 'RJ -', 'EA HA HE FA KA KD KF -', 'EA DA KA KD KF -', ' -', 'EA LC LA RC RG RJ -', 'KD -', 'RJ KD KF -', 'RJ -', 'EA QD KD KF -', ' -', 'KF RJ -', 'KF RJ -', 'EA DB DA VA LC LA KC KA KD KF -', 'KF -', 'EA DA KC KA KB KD KF RF RG RI RJ -', 'EA QA QD RG RI RA RJ -', 'FA YA RG RI RA RJ -', 'FA YA RG RI RJ -', 'FA YA RG RI RJ -', 'EA RG RI RA RJ QA -', 'EA RG RI RJ QA QD -', 'RJ -', 'EA DA WD WE WA WF HA HF RG RI RJ -', 'EA DA WD WE WA WF HA HF RG RI RJ -', 'EA -', 'FA KD -', 'FA KD -', 'EA FA KD -', 'EA DA IC IA VA KC KA KD KF -', 'KD KF WA YA -', 'KD YA -', 'WA WF KF -', 'EA HA HE HF MA KA KD KF -', 'EA MA KD -', 'EA HA HE MA KA KD KF -', 'EA WA KD -', 'EA DA LA IA WD WA WF KC KA KD -', 'WA WF -', 'EA DA LA IA WD WA WF KC KD KF -', 'EA DA LA IA WD WE WA WF KC KA KD KF -', 'EA LC LA VA KC KD -', 'EA DA LA SA PA KC KA KD KF -', 'RJ -', 'RJ -', 'RJ -', 'WA KF -', 'EA YA KD KF -', 'EA DA NA LA QC QA QD KC KA KB KD KF -', 'PW RJ -', 'PW PW WA YA RJ -', 'EA KA KD KF WD WA -', 'EA DA QC QA QD MA KC KA KD KF -', 'EA DA QC QA QD KC KA KD KF -', 'EA YA RJ -', 'EA VA LC LA YA RC RG RI RA RJ -', 'RJ -', 'EA QC QA QD RG RJ -', 'RJ -', 'FA KD -', 'QD RA RJ FA KD KF -', 'EA QA QD KA KD KF -', 'EA QA QD KA KD KF -', ' -', 'EA DA QA QD KA KD KF -', ' -', ' -', 'KF RJ -', ' -', 'EA KD -', 'EA KA KD QA QD -', 'EA KA KD KF QA QD -', 'EA RJ -', 'EA QA QD FB FA RG RJ -', 'RJ -', 'HA KD KF -', 'EA IA WD WA WF LA RJ -', ' -', ' -', ' -', ' -', 'EA VA YA KC KA KD KF -', ' -', ' -', 'QD RJ -', 'EA DA RG RI RA RJ -', 'YA RJ -', 'HE HF WA WF QD RJ KD KF -', 'KD -', 'HE WD WA WF QD RJ KD KF -', 'EA RG RI RJ -', 'EA DB DA RC RG RI RJ LC LA -', 'EA LA RC RG RI RJ -', 'EA LA IA KC KD -', 'QD KD KF RG RJ -', 'RJ -', 'RJ -', 'RJ -', 'EA LA QC QA QD KC KD KF -', 'KF -', ' -', ' -', 'EA FA KD KF -', 'EA FA WA KD KF -', 'WA WF KF -', 'EA FA HA HF -', 'EA FA IA RG RJ HA HF -', ' -', ' -', 'EA LA NA FA YA KC KD -', 'KF -', 'KD KF -', 'KD -', 'KF -', 'KD -', 'EA LA RJ -', 'EA HA HE HF IA RG RI RJ -', 'EA FA MA -', 'HE HF FA TB RA RJ -', 'HF RJ -', 'HF RJ -', 'YA KD -', 'EA IC IA LC LA KC KD -', 'IC IA LC LA -', 'EA IC IA LC LA KC KA KD KF -', 'EA KA KD KF -', 'KB KD KF QD -', 'EA KC KA KD KF -', 'EA KC KA KD KF -', 'EA LC LA DB DA NB NA KC KD KF -', 'EA LA HA HE HF RG RI RJ -', 'EA LA QA QD DA KA KD KF -', 'EA QA QD KD KF -', 'KD KF -', 'KF -', 'EA LC LA MA VA RC RJ -', ' -', 'HF KF -', 'KF -', 'EA KD -', ' -', 'EA YA RJ -', 'YA RJ -', 'YA RJ -', 'KD -', 'RJ -', 'WD WE WA WF YA KD KF -', 'EA MA LA KC KD -', 'EA NB NA DB VA KC KD KF -', 'KD KF -', 'RJ YA -', 'EA RI -', 'RJ YA -', 'RJ YA -', 'EA RG RI RJ YA -', 'EA QA QD HA KA KD KF -', 'EA QA QD HA KA KD KF -', 'EA QC QA QD PA KC KA KD KF -', 'QD YA RJ -', 'QD HF YA RJ -', ' -', 'EA QC QA QD DA KC KA KD KF -', 'QD RJ -', 'EA QA RJ -', 'EA LA RG RJ -', 'RI RJ -', 'RJ -', 'RJ -', 'QA RI RJ -', 'RJ -', ' -', 'EA NA RF RG RI RA RJ -', 'EA TA IC IA PA RC RG RJ -', 'EA TA VA MA RC RG RI RA RJ -', 'KF -', ' -', 'KF -', ' -', ' -', 'EA VA LC LA KC KD KF IC IA -', 'RJ -', 'EA YA RJ -', 'EA YB YC YA FB FA RG RI RJ -', 'RJ -', 'EA YA RI RJ -', 'EA YB YA QA QD KD KF -', 'EA YB YC YA IC IA VA HA HE HF RG RI RJ -', 'FA KD KF -', 'EA FA LA KC KD KF -', 'FA DA LA IA RJ -', ' -', 'EA FB FA DA RG RI RA RJ -', 'EA FA RJ KD KF -', 'EA FA RI RJ KD KF -', 'EA FA RJ -', 'FA KD KF RJ -', ' -', 'FA RI RA RJ -', 'RJ -', 'EA FA TA KC KA KD KF -', 'EA FA MA LA QC KC KD -', 'FA QD KD KF -', 'EA FA HA IC IA QC RC RG RJ -', ' -', 'FA QD KD KF -', 'EA FA KD KF -', 'FA QA YA KD KF -', 'KF -', 'EA FA NA KD -', 'FA NA RJ -', 'KF -', 'KF -', 'FA RA RJ KD KF -', 'EA FB FA NA DA KC KD KF HA HF -', 'YA KF -', 'RJ -', 'KF -', 'EA FA KD KF -', 'EA FA KD KF -', ' -', 'HF KF -', 'RJ -', 'KD -', 'EA FA MA QA KD -', 'EA FA MA KD -', 'EA FA VA WD WE WA WF LC LA NA KC KD KF -', 'EA FA DA HA HF RG RI RJ -', 'RJ -', 'RJ -', 'EA HA RG RI RJ YA -', 'EA IC IA MB MA RH RC RG RI RA RJ -', 'EA KD -', 'EA KD -', ' -', 'EA DA YA RG RI RJ -', ' -', 'EA YA FA RJ -', 'EA DA RG RJ KC KA KD KF -', 'EA DA RG RI RJ KC KA KD KF -', 'EA KC KD KF -', 'KD KF RG RJ -', 'KD KF -', 'KF RJ -', 'EA IA HA HE LA KC KA KD KF -', 'KF -', ' -', ' -', 'WA RJ -', ' -', ' -', 'EA KD KF QA QD -', 'EA NA KC KA KD -', ' -', 'KF -', 'KD KF -', 'KD KF -', 'EA -', 'KD -', ' -', 'YA KD KF -', 'YA -', 'KD KF -', 'KD -', 'KD KF -', 'EA KD KF -', 'KD -', 'EA HA RG RJ -', 'EA FA HA HE HF KC KA KD KF -', 'EA HB HA HE HF PA TA LA KC KA KD KF -', 'EA HA PA DB DA TA LC LA KC KA KB KD -', 'RJ -', 'EA RJ -', 'EA YA RJ -', 'RJ KF -', 'EA IC IA RH RC RG RI RA RJ PA -', 'EA IC IA RH RC RG RI RA RJ PA -', ' -', ' -', 'YA QD FA KD KF -', 'YA FA KD -', 'KF -', 'EA HA RJ -', 'KD -', 'KD KF -', 'EA LC LA PA VA KC KD KF -', 'EA LC LA VA QC QA RC RJ -', 'KF -', ' -', ' -', 'EA WD WE WA WF FA KD KF -', 'EA WD WE WA WF FA KA KD KF -', 'WA -', ' -', 'EA QD KD KF RJ -', 'QD KD KF -', ' -', 'RJ -', 'EA IA DA RG RI RJ -', 'YA RJ -', 'RJ -', 'KD -', 'RJ -', 'KF -', 'FA QA YA KD KF -', 'EA QA RG RJ -', 'KD KF -', 'EA VA LC LA YA RC RG RI RJ -', 'EA FA KD KF -', 'EA FA QA QD KD KF -', ' -', ' -', ' -', 'YA FA -', ' -', ' -', 'EA WD WE WA WF HA LC LA YA KC KD KF -', 'RJ -', 'RJ -', 'RJ -', 'RJ -', 'YA RJ -', 'EA YA QA RJ -', 'YA RJ -', 'YA RJ -', 'RJ -', 'RJ -', 'EA HA HE HF LA MA KC KA KD KF -', 'EA HA LA MA KC KA KD KF -', 'HF KF -', 'EA HA HE HF QC QA QD LA KC KA KD KF -', 'HA RG RJ -', ' -', ' -', 'KF -', 'RJ -', 'HA LC LA QC QA IC IA RG RI RJ -', 'EA HA HC HE HF MA VA RC RG RI RJ -', 'EA HA HE HF MA VA RC RG RI RA RJ -', 'EA HA HE KD KF FA MA -', 'HF KF -', 'HF YA KD KF -', 'RJ KF -', 'RJ KF -', 'YA RJ -', 'HE HF YA RJ -', 'RJ -', 'KD -', 'EA IC IA NA FA RC RG RI RJ -', ' -', 'KF -', 'WA -', 'HE HF KF WA RJ -', 'HE HF WD WE WH WA WF KD KF -', 'HE HF WH WA WF KF RJ -', 'EA IC IA HB HA HC HE HF LC LA NA KC KA KB KD KF -', 'EA IC IA HA HE HF LC LA NA KC KA KD KF -', 'EA IC IA HA HE HF LC LA NA KC KA KB KD KF -', 'HE HF WA WF KF YA -', ' -', 'WA YA -', 'RJ -', 'EA IC IA QC QA QD PA KC KD KF -', 'EA IA LA FA KC KA KD KF -', 'EA IA LA FA KC KD KF -', ' -', 'EA TB QA QD KA KD KF -', ' -', 'FA KD -', ' -', ' -', ' -', 'QD -', 'KF -', 'EA IC IA MA YA KC KD KF -', 'EA IC IA MA YA KC KD -', 'EA YA KD KF -', 'EA IC IA MA QC QA QD KC KA KD KF -', 'EA QA QD KD -', 'EA QD YA HA KD KF -', 'EA QA QD YA HA KD -', 'EA QA QD YA KD -', 'YA HE HF KF -', 'EA QD YC YA HA HF KD KF -', ' -', 'EA QD YA KD -', ' -', 'KF -', ' -', ' -', 'KF -', 'KD -', 'KF -', 'WA -', 'WD WE WA KD KF -', 'WA -', 'RJ KD KF -', 'EA IA YA FA RI RJ -', 'EA IA QC QA QD KC KD -', 'EA IC IA QC QA QD NB NA TA DB DA RC RG RI RA RJ -', 'EA RG RJ -', 'WE WA WF YA KF -', 'WA YA KF -', 'EA QA QD YA KD KF -', 'EA KD -', 'QD KD KF -', 'QD KD -', 'KD -', 'KF -', 'EA IC IA VA QC QA QD PA KC KA KD KF -', 'EA -', 'EA IA WD WA RG RJ -', 'EA TB QA QD RG RI RJ -', 'EA YA MA KA KD KF -', 'KF -', 'KD KF LA RG RJ -', 'EA KA KD KF RG RI RJ -', 'EA KA KB KD KF RG RI RJ -', 'EA KC KA KD KF LC LA VA RC RG RI RJ -', 'KD KF RJ -', 'KD KF RJ -', 'KD KF RJ -', 'KC KD KF PA -', 'EA KC KA KD KF -', 'KF RJ -', 'EA KC KD KF DA LA QC QA QD -', 'EA KC KA KD KF LA MA -', 'KF -', 'EA KC KA KB KD KF LA MC -', 'EA KC KA KD KF LA MA -', 'KD KF RI RJ -', 'KF RJ -', ' -', 'KF -', ' -', 'KD FA -', 'EA KA KD KF FA QA QD -', 'KD FA QD -', 'KD FA -', 'KF -', 'KD -', 'EA KC KA KB KD KF HA HE HF LA NA RG RI RA RJ -', 'KD KF IA RJ -', 'EA KD KF RJ -', 'EA KD KF LA IA RJ -', 'EA KD KF QA QD RG RI RJ -', 'KD KF YA FA RJ -', 'KD KF QD -', ' -', 'EA KC KA KD KF MA LA -', 'EA KD KF RG RJ -', 'KF RJ -', 'KD KF QD YA RG RI RJ -', 'EA KC KA KD KF -', ' -', 'KD KF QD -', 'EA KD QA -', ' -', ' -', 'EA KC KA KD KF TA YB YC YA LA -', 'EA KC KA KD KF DA LA FB FA -', 'EA KD KF FA MA -', 'EA KD KF HA RG RJ -', ' -', ' -', ' -', 'KF -', 'EA LA RG RJ -', 'EA QA QD KD KF -', 'EA QA NA KD KF -', 'EA FA KD -', 'EA FA -', 'KF -', 'EA TB QA QD HA KD KF -', 'KF -', 'EA TB QA QD HA KD KF -', 'KF -', 'RJ -', ' -', 'EA LC LA DB DA PA VA QC QA QD KC KA KD KF -', ' -', 'KF -', ' -', 'KF -', 'KF -', 'KF -', ' -', 'KD KF RJ -', 'EA LA RJ -', 'KD KF -', 'EA LA DA RG RI RA RJ -', 'RJ -', 'RJ -', 'EA LA DA FA IA RG RI RJ -', 'FA RJ -', 'EA FA QA QD KD KF -', 'EA QA RJ -', 'QD RG RI RJ -', 'RJ -', 'RJ -', ' -', 'QD KD KF -', 'QD KD KF -', 'EA QA QD KD KF -', 'QD KD KF RG RI RA RJ -', 'QD KD KF RG RI RJ -', 'EA RJ -', 'EA YA FA RI RJ -', 'RJ -', 'EA LA DA KC KD KF -', 'EA FA RJ KD KF -', 'RJ -', 'RJ -', 'RJ -', 'RJ -', 'EA -', 'KD KF -', 'KD -', ' -', 'HA KD -', 'EA LA FA RJ -', 'EA FA RG RI RJ -', ' -', ' -', 'HA QA RI RJ -', 'YA KF -', 'YA KF -', 'EA LC LA DB DA NB NA VA RC RG RI RJ -', 'QD RG RI RA RJ -', ' -', 'RJ -', 'EA FA RJ -', ' -', 'RJ -', 'RJ -', 'EA RJ -', 'EA QA QD RI RJ -', 'RJ -', ' -', 'HE HF YA -', 'HF -', 'KD -', 'KF -', 'HA HE KD KF RI RJ -', 'HE HF KD KF -', 'HE HF KD KF -', 'KD -', 'EA LC LA HA HE NA RC RG RJ -', 'EA LC LA HA HE HF NB NA RC RG RI RJ -', 'EA LA HA HE HF IA QC QA KC KA KD KF -', 'QD KD KF -', 'QD KD KF -', 'EA LA IA HA QC QA QD YC YA KC KA KD KF -', ' -', 'RJ -', ' -', ' -', 'RJ -', 'EA LA IA RG RI RA RJ -', 'EA RJ -', 'EA LA IA RG RI RJ -', 'RJ -', 'EA LA IA DA RI RJ -', 'EA LA KC KA KD KF IA RG RI RJ -', 'EA LA KC KA KB KD KF NA -', 'EA LA KC KA KB KD KF NA -', 'EA LA KC KD -', 'KF -', 'RJ -', 'EA LA YA IA RJ -', 'EA YA RG RI RJ -', 'KD KF -', 'EA LC LA IC IA KE KC KD -', 'EA LC LA PA KC KD KF RC RG RJ -', 'EA LA QC QA QD FA KC KD -', 'QD KD KF -', 'EA FA RJ -', 'EA LC LA WD WA YA KC KD KF -', ' -', 'EA YA KD -', ' -', 'EA FA RJ -', 'EA FA YA QA RG RI RJ -', 'EA FA YA QD RG RI RJ -', 'RJ -', 'EA QD YA RG RI RJ -', 'EA LA QC QA QD RG RI RA RJ -', 'EA LC LA PA KC KD -', 'RJ -', 'KD KF -', 'EA LC LA QC QA QD FA YA KC KD KF -', 'QD FA YA KD -', 'KD -', 'QD KD KF -', 'QD KD -', 'KF -', 'KD -', ' -', 'EA QA QD HA RG RI RJ -', 'QA QD RI RJ -', ' -', 'QD RJ -', 'EA FA YA HA HF KD KF -', 'EA LA NA KC KD -', ' -', 'KD KF RJ -', 'EA LC LA FA KC KD KF -', 'KD -', 'FA RJ -', 'KF -', 'EA KD KF -', 'EA DA HA HF RG RI RJ -', 'EA LC LA TA NA KC KD KF -', ' -', ' -', ' -', 'RJ -', 'EA LC LA TA NA IC IA KC KD -', 'EA RJ -', 'LA QC IA RJ -', 'RJ -', 'RJ -', ' -', 'EA LC LA VD VA DB DA NB NA KC KA KB KD KF -', 'EA LC LA VA DA NA KC KA KD KF -', 'RJ -', 'RJ -', 'RJ -', 'RJ -', 'EA KA KD KF -', 'EA LA KC KD KF RJ -', 'KF RJ -', 'EA LC LA VA KC KA KD KF -', 'EA LC LA VA KC KA KD KF -', 'KF -', 'RJ -', 'WF -', ' -', ' -', 'EA LC LA YB YA VA KC KD KF -', 'EA LC LA YA VA KC KD -', 'EA YA KD KF -', 'EA LA YA KC KD KF RG RJ -', 'EA LA YB YC YA DA KC KD KF RI RJ -', 'YA RJ -', 'EA YA FA RJ -', 'RJ -', 'KF -', 'EA YA FA -', 'EA KD KF -', 'EA RG RJ -', 'RJ -', 'EA RJ -', 'EA MA RG RI RJ -', 'EA RJ -', 'RJ -', 'RJ -', 'RJ -', 'RJ -', 'RJ -', 'EA YA -', 'RJ -', 'RJ -', 'RJ -', 'EA MA QD YA KD KF -', 'EA MA QA QD RG RJ -', 'FA -', 'KF -', 'RJ -', 'YA KD KF -', 'TB YA KD KF -', 'KD KF FA RJ -', 'EA MA YA KD KF -', 'EA MA QC QA QD TA RC RG RI RJ -', ' -', 'EA MA QA QD KA KD KF LA -', 'EA MB MA SA DB DA VC VA KE KC KA KD KF -', ' -', ' -', ' -', ' -', 'RJ -', 'EA NA LA RG RJ -', 'EA FA -', 'FA KD KF -', 'FA TB KD KF -', 'EA RJ -', 'RJ -', 'RJ -', ' -', 'RJ -', 'RJ -', 'EA HA RG RI RJ -', 'FA WD WE WA WF HA KD -', 'YA KF -', 'YA -', 'KF -', 'EA YA KD -', 'EA IA YA LA KC KD -', 'EA NB NA YB YC YA PA KE KC KA KB KD KF -', 'RJ -', 'EA NA DA RG RI RA RJ -', 'EA NA DA RG RJ -', 'EA NA IC IA RC RG RI RJ DA PA KC KA KD KF -', 'FA RA RJ -', 'EA KD -', 'EA -', 'YA KD KF -', 'EA NA IC IA HA HE WD WE WA WF KC KA KD KF -', 'EA FA -', 'EA HA HF -', 'EA NA TA FA MA HA HF -', 'HF -', 'EA -', 'RJ -', 'RJ -', 'RJ -', 'EA RJ -', 'YA RJ -', 'YA RJ -', 'YA RJ -', 'RJ -', 'EA FA HA RG RJ -', 'EA MA -', 'RJ -', 'HE YA RJ -', 'EA FA HA YA RJ -', 'RJ -', ' -', 'RJ -', 'HE YA RJ -', 'RJ -', 'HE HF YA RJ -', 'EA FA HA YA RG RI RJ -', 'EA -', 'HE YA RJ -', 'RJ -', 'RJ -', 'EA NA QC QA QD KC KA KD KF FA DA -', 'FA KD -', 'EA QA QD FA KD KF RG RI RA RJ -', 'RJ KF -', ' -', 'YA -', 'EA NB NA IC IA VA QC QA QD KC KA KD KF -', ' -', ' -', 'KF -', ' -', 'KF -', 'KF -', 'EA HA KD KF -', 'EA RG RJ -', 'QD KB KD KF -', 'EA LA IA FA KD KF -', 'KD KF -', ' -', 'YC YA FA KD KF -', ' -', ' -', 'EA YA KD -', 'EA YA KD KF -', 'YA KD -', 'EA YA KD KF -', 'EA YC YA KD KF -', ' -', 'EA LA KC KD -', 'EA LA KD KF -', 'PA DA LC LA IC IA KC KD -', 'EA KD KF RJ -', 'KD KF RJ -', ' -', 'EA KC KD KF -', 'KF -', 'KF -', 'FA LC LA KC KD KF -', 'EA RG RJ -', 'FA KD KF -', ' -', 'RJ -', 'QA QD RG RJ -', 'RJ -', 'RJ -', ' -', 'RJ -', 'RJ -', 'FA RJ -', 'EA RJ -', 'QD FA RI RJ -', 'RJ -', 'QD RA RJ -', 'EA PA QC QA QD FA IC IA RC RG RI RJ -', ' -', 'KD KF -', 'EA PA VA LC LA KC KD KF -', ' -', ' -', 'WA YA RJ -', 'EA YB YC YA FB FA WD WE WA WF KA KD KF -', 'EA YA FA KD -', 'QD RJ -', 'RJ -', 'EA QA QD LA KD -', 'QD KD KF -', 'QD RJ -', 'EA QC QA QD RG RI RJ -', 'QD KD KF -', 'EA QC QA QD IA RJ -', 'EA QC QA QD DA MA KC KD KF -', 'RJ -', 'RJ -', 'RJ -', 'RJ -', 'EA QC QA QD VA IC IA LC LA KC KD -', 'EA QC QA QD IA LA KC KD KF -', 'EA QC QD IA LA KC KA KD KF -', 'QD FA YA KD KF -', 'EA QA QD FA WA RG RI RA RJ -', 'EA QA QD FA WD WA RG RI RA RJ -', 'EA QC QA QD FA NB NA DB DA RC RG RI RJ -', 'EA QD KD -', 'EA QA QD TB KD KF -', ' -', 'EA QD YA RJ -', 'QD YA FA RJ -', 'QD YA FA RJ -', 'RJ -', 'EA QC QA QD IA RG RI RA RJ -', 'EA QC QA QD IC IA TA KC KD KF -', 'EA QD KD KF RJ -', 'EA QA QD KD KF RI RJ -', 'EA QA QD KD KF RG RI RJ -', 'EA QA QD KB KD KF RG RI RA RJ -', 'QD FA KD -', 'EA QC QA QD LA FB FA KC KA KD KF -', 'EA QC QA QD LA IA KC KD KF -', 'EA QA QD FA KD KF -', 'EA QC QD LC LA PA VA KC KD -', 'EA QC QD LA KC KD KF -', 'EA QA QD -', 'QD KD KF -', 'QD KD -', ' -', 'QD -', 'KF -', 'KF -', ' -', 'QD TB FA KD KF -', 'QD FA KD KF -', ' -', 'QD WA KD KF -', 'EA QA QD KD KF -', 'EA QA QD KD KF -', 'EA QC QA QD DB DA FA KC KA KD KF -', 'EA QC QA QD RG RI RJ -', 'EA QC QA QD LC LA KC KA KD KF -', 'QD -', 'QD YA KD KF -', 'QD RJ -', ' -', ' -', 'EA QA QD KD KF -', 'EA QC QA QD VA LC LA RC RG RI RA RJ -', ' -', 'QD WC WD WH WA WF RG RI RA RJ -', ' -', ' -', ' -', ' -', 'EA RG RI RJ QA QD KA KD KF -', 'RJ -', ' -', 'EA RG RI RJ LA KC KA KD KF -', ' -', 'EA RG RI RJ KF IA LA -', 'EA RC RG RI RA RJ NB NA DB DA YB YC YA -', 'EA RC RG RJ NB NA LC LA KC KA KD KF -', 'RJ -', 'EA RC RJ PA FA VA LC LA -', 'RJ -', 'RJ -', 'WA KD KF -', 'WA WF KF -', 'EA IC IA FA VA RC RJ -', 'EA QA QD RG RI RA RJ -', ' -', 'EA KD KF -', 'EA KC KA KB KD KF LA -', 'EA KC KA KB KD KF LA -', 'KD -', 'EA SA LC LA TA PA KC KA KD KF -', 'EA VA QC QA QD KC KA KB KD KF -', 'EA DA LA QC QA QD KC KA KD KF -', 'EA DA LA QC QA QD IA KC KA KD KF -', ' -', 'KD KF -', 'KD KF -', 'KD KF FA -', 'EA DA KC KD KF -', 'RJ -', 'RJ -', 'EA FA RG RI RA RJ -', 'EA FA RJ -', 'EA KD KF -', 'EA KC KD KF QC QA RJ -', 'EA KC KA KD KF QC QA QD RG RI RJ -', 'RJ -', 'EA KD -', 'EA QA KD -', 'EA HA VA KC KD -', 'EA QA RJ -', 'FA KD -', 'FA KD KF -', ' -', 'EA FA QC QA RJ -', 'KD KF -', ' -', 'EA RJ -', 'KF RJ -', 'EA LA YA FA IA RC RJ -', ' -', 'EA YA FA RG RJ KD KF -', ' -', 'EA YA FA RJ KD KF -', 'EA YA FA KD -', 'EA YA FA RJ KD KF -', ' -', 'EA YA FA RJ KD KF -', 'YB YA FB FA RJ KD KF -', 'EA RJ -', 'EA IA LA RG RI RA RJ -', 'RJ -', 'EA IA LA RJ -', 'KF -', 'EA LC LA DB DA VA KC KA KD KF -', 'KF -', 'EA YA KD -', 'EA LA KC KD -', 'EA QA QD HA HE HF RG RI RJ -', 'EA QA QD HA RG RJ -', 'EA HA YA -', 'EA HA YA RG RJ -', 'RJ -', 'KF -', 'EA QA KD KF -', ' -', 'EA KD -', 'KD KF -', ' -', 'KD -', 'RJ -', 'EA SA PA IA FA KC KA KD KF -', ' -', ' -', ' -', 'KD KF RJ -', 'EA QA QD YA KA KD KF -', 'QD RJ -', 'EA LC LA NA KC KA KD KF -', 'KD -', 'YA RJ -', 'KD -', 'EA TA KC KA KD DA LA -', 'KF -', 'EA QA QD RG RI RA RJ -', ' -', 'KF -', 'KF -', 'EA YA RJ -', 'RJ -', 'YA KD KF -', 'KF -', 'EA TA TB DB DA IC IA SA KC KA KB KD KF -', 'KD -', 'WA KF -', 'FA KD KF -', 'KF -', 'EA WD WE WA RJ -', 'EA TA DB DA WD WE WA WF VA RH RC RG RI RJ -', 'WA WF RJ -', 'EA WD WE WA WF RG QA MA KA KD -', 'EA QA QD RG RI RJ -', 'EA YA KD -', 'YA KD -', 'YA KD KF -', 'EA WA KD -', 'EA TA LC LA PA KC KA KD KF -', 'EA QA QD KA KD KF -', 'FA DA LA RC RG RJ -', 'EA FA RJ -', 'EA FA MA RG RI RJ -', 'FA MA -', 'EA FA MA RG RJ -', 'EA FA -', 'HE KD KF -', 'EA FA YA WD WA KB KD -', 'EA FA YA WD WA KD -', 'WA -', 'EA TA TB QC QA QD YA RC RG RI RJ -', 'RJ -', 'EA TA IC IA DB DA RC RG RI RJ -', 'RJ -', 'RJ -', 'QD YA RA RJ -', 'RJ -', ' -', 'RJ -', 'RJ -', 'EA TA LC LA DB DA QC QA QD KC KA KB KD KF -', 'EA KD KF -', 'EA LA FA KC KD -', 'EA LA FA KC KD -', ' -', 'EA TA LC LA QC QA QD KC KA KB KD KF -', 'KD KF RJ -', 'EA RJ -', 'EA TA LC LA DA IC IA RC RG RI RJ -', 'EA TA LC LA MA FB FA KC KA KB KD KF -', 'WA -', 'WA RJ KF -', 'KF -', 'EA HA HF -', 'EA KD -', 'KD KF -', 'HF KF -', 'KD KF -', 'KD KF -', 'EA -', 'HF KD -', 'HF -', 'KD KF RJ -', 'KD KF RJ -', 'KD -', 'KA KB KD -', 'EA RJ -', 'QD RI RJ -', 'KD QD -', 'EA TB KC KA KB KD KF DA LA RG RI RJ -', 'EA KB KD KF RG RI RA RJ -', 'EA KA KB KD KF RG RI RJ -', 'EA TA VA DB DA KC KA KD KF -', 'RG RJ -', 'EA TA WD WE WA WF DA RH RC RG RI RJ -', 'WA -', ' -', ' -', 'KF -', ' -', 'FA KA KD -', 'EA FA IA KC KD -', 'QD RJ -', 'KD KF -', 'EA FA MA RJ -', 'EA FA MA RG RJ -', 'FA -', 'RJ -', 'EA FA RG RJ -', 'KF -', 'KF -', 'EA MA HA RG RJ -', 'EA QA KD -', 'KF -', 'EA DA YA RG RI RA RJ -', 'EA DA KC KD -', 'EA LA RG RI RJ -', 'RJ -', 'QD KD KF -', ' -', 'EA KC KD KF -', 'KF RJ -', 'EA -', 'WA RJ -', 'YA RJ -', 'FA FA FA FA FA FA -', 'EA FB FA DA MA IA RG RI RJ -', 'FA IA RJ -', 'KD KF -', 'FA TB QD KD KF -', 'EA FA QA KD -', 'QD KD KF -', 'QD KD KF -', 'EA FA QA QD KD -', 'QD KD KF -', 'QD KD KF -', 'KF -', ' -', 'EA FA KD KF -', ' -', 'KF -', 'EA VC VD VA LC LA IC IA RH RC RG RI RJ -', 'EA KD -', 'EA VA LC LA QC QA QD KC KA KD KF -', 'EA QA QD WC WD WE WA WF KA KD KF -', 'WD WA KD KF RJ -', ' -', ' -', 'EA RJ -', ' -', 'RJ -', 'EA LA KC KD KF -', 'EA LA DA IA MA KC KD KF -', ' -', 'VA LC LA DB DA IC IA KC KA KD -', 'EA FA RG RI RJ -', 'KF -', ' -', ' -', 'KF -', 'HF -', 'KD -', 'EA VC VA LC LA KE KC KA KD KF -', 'FA KD KF -', 'KF RJ -', ' -', 'EA MA QA KD -', 'EA MA QA QD KD KF -', 'EA MA QA KD KF -', 'FA RJ -', 'HF KF -', 'EA VA PA LC LA IC IA FB FA KC KA KD KF -', 'KD KF -', 'EA VA QC QA QD RC RG RI RJ -', 'QD FA YA KD KF -', 'QA -', 'KF -', 'KF -', ' -', 'EA VA QC QA QD TA LC LA KC KA KD KF -', 'EA QA QD RG RI RJ -', ' -', 'YA KD KF -', 'EA VA KC KA KB KD KF -', 'EA LA FA KC KD KF -', ' -', 'WA WF KF -', ' -', 'RJ -', 'RJ -', 'EA VA TA PA QC RC RG RI RJ -', 'EA LA QC KC KD KF -', 'EA VA TA DB PA KE KC KD KF -', 'EA KD -', 'RG RI RJ QD KB KD KF -', 'EA KD -', 'RJ KF -', 'RG RJ QD KD KF -', 'KD KF -', ' -', 'WA -', ' -', ' -', 'WD WE WA YA KD KF -', 'WA -', ' -', 'EA HA RG RJ -', 'EA FA YA KA KD KF -', 'FA YA KF -', 'EA VC VA TA YA KE KC KA KD KF -', ' -', 'YA KD -', 'YA -', 'YA -', 'YA KD KF -', 'YA KD -', 'YA KD KF -', ' -', ' -', 'KF -', 'RJ -', ' -', ' -', 'EA RJ -', ' -', ' -', 'EA YA RJ -', 'YA RJ -', 'RJ -', 'EA WD WE WA WF FA LA KC KD -', 'EA WD WE WA FA LC LA KC KD KF -', 'KF -', 'EA WD WE WA WF LC LA RC RG RI RA RJ -', 'YA RA RJ -', 'YA RJ -', 'RJ KF -', 'RJ KF -', 'EA YA DA PA VA RC RG RJ -', 'EA YC YA LA RG RA RJ -', 'KF -', 'YA FA WD WE WA WF KD -', 'EA YB YC YA FB FA QA QD RG RI RJ -', 'EA YB YC YA HA HE HF TA KE KC KA KB KD -', ' -', 'YA RJ -', 'YA QD FA HE HF RG RI RA RJ -', 'YA RJ -', 'EA YB YC YA FB FA RG RJ -', 'RJ -', 'EA YB YC YA FB FA RG RA RJ KA KD KF -', 'RJ KF -', 'EA YB YC YA FB FA RG RI RJ KD KF -', 'EA YA VA IC IA TA RC RG RI RJ -', 'EA YA FA RJ -', 'EA YA LA FA RJ -', 'EA YB YA LA FB FA RG RI RA RJ -', 'RJ -', 'YA RJ -', 'RJ -', 'FA EA KD KF -', 'FA IC IA KE KC KD -', 'RJ -', 'FB FA EA LC LA QC QA QD NA KC KA KD KF -', 'KF -', 'FB FA EA KC KA KD KF -', 'FB FA KC KA KD KF HA HF LA -', 'FB FA KC KA KD KF HA HF LA -', 'FA KD -', 'FA HB HA HE HF NA TA RF RG RI RJ -', 'HF RJ -', 'FA HA HE NA TA RG RI RJ -', 'FA HA HE EA KD -', 'FA HA HE HF TB NA EA KA KD KF -', 'FA HA HE HF NA EA KA KD KF -', 'FA HA EA KD -', 'FB FA HA HE NA EA KD KF -', ' -', 'HE YA KD -', ' -', 'YA KD -', ' -', 'FB FA IC IA LC LA EA NB NA KC KA KD KF RC RF RG RI RA RJ -', 'FA -', 'FA IC IA EA LC LA KC KD KF -', ' -', 'FA YA RJ -', ' -', 'KD KF -', ' -', 'KD -', 'KD KF -', 'RJ -', 'WD WE WA RJ -', 'WA RJ -', 'WA RJ -', 'FA LC LA MA EA QC QA KC KD KF -', 'FA LA MA DA EA QC QA KC KA KD KF RG RI RJ -', 'KF RJ -', 'FA HE YA RJ -', 'FA QA -', 'FA KD KF -', 'FA KD KF -', 'RJ -', 'FA TB LA RG RJ -', 'FB FA IA MA KC KA KD KF -', 'FA IA MA KC KA KD KF -', 'FA QA KD -', 'FA WD WA KD KF -', 'WA -', 'FB FA QC QA QD LC LA EA KC KD KF -', 'FA QD RG RI RJ HA HE HF KD KF -', 'FA RC RJ LC LA -', 'FA EA YA QA QD RG RI RA RJ -', 'FA EA KD -', 'FA RJ -', 'YA RJ -', 'YA RJ -', 'YA RJ -', 'FA PA KC KD KF -', 'FA EA KD -', 'FB FA HA KD KF -', 'FA YA KD KF -', 'FA KD -', 'FA YA QD HA HF KD KF -', 'KF -', 'FA YA QA QD HA KD -', 'FA TB YA QD HA HE HF KD KF -', 'FA YA QA QD HA KA KD KF -', 'FA VA HA HE QC RC RG RJ -', 'FA YA KD -', 'FA YA QA KD KF -', 'KF -', 'KF -', 'FA YA QA LC LA IC IA KC KD -', 'FB FA YB YA QC QA LC LA IC IA KC KD -', 'FB FA TB RG RI RA RJ -', 'RJ -', ' -', 'RJ -', 'FA KD -', 'RJ -', ' -', ' -', ' -', ' -', ' -', 'FA DA RC RG RI RJ -', 'RJ -', 'FA KD -', 'FA HA KD -', 'FA HA KD -', 'FA YA KD -', 'FB FA DA YB YA RJ -', 'KF -', 'FA EA KD -', 'QD YA KD KF -', 'YA KD KF -', 'QD YA KD KF -', 'FA EA TA RC RG RJ -', 'FA DA EA RG RI RJ KC KA KB KD KF -', 'FA RJ -', 'FA IA RC RJ -', ' -', ' -', ' -', ' -', ' -', ' -', ' -', 'HF -', ' -', 'HF -', 'FA IA LA RJ -', 'RJ -', 'RJ -', 'FA -', 'HF RJ -', 'RJ -', 'HE KF -', 'HE HF KD KF -', ' -', 'FA PA LA KC KD -', 'KF -', 'FA DA NA RG RI RA RJ -', 'FB FA DA EA NA RG RI RJ -', 'RJ -', 'FA DA EA TA RG RI RJ -', 'KD KF -', ' -', 'KD KF -', 'KD KF -', 'FB FA DB DA LC LA NB NA KC KA KD KF -', 'FA EA RJ -', 'FA DA VA LC LA RC RG RJ -', 'FA HA QC QA QD KC KA KD KF -', ' -', 'FA YA RJ -', ' -', 'FB FA EA KC KD KF -', 'FA EA KC KD -', 'FA -', 'YA RJ -', 'RJ -', 'RJ -', 'FA EA YA RJ -', 'FA EA YA RG RJ -', 'FA EA YA RG RJ -', 'RJ -', 'FA EA RJ -', ' -', ' -', 'HF YA RJ -', 'YA RJ -', 'YA RJ -', 'FB FA EA IC IA DA NA RC RG RI RJ -', 'FA KD -', 'FA TB YA KD KF -', 'RJ -', 'RJ -', 'RJ -', 'FA EA PA KC KD KF -', ' -', 'FA KD KF -', 'FA EA LC LA KC KD -', 'FA YA KD -', 'FA EA KD KF -', 'FA WA RJ -', 'FA EA WD WE WA RJ -', 'FA EA QC QA RG RJ -', 'FA WD WE WA WF EA YA RG RI RA RJ -', 'FA WD WH WA WF EA YA RG RJ -', 'FA YA KD KF -', 'FA YA PA KC KD -', ' -', 'FA HA WA RJ -', 'FA HA EA WD WA RJ -', 'FA IA TB QC QA KC KD KF -', ' -', ' -', ' -', ' -', ' -', 'FA KC KA KD KF QC QA EA -', 'FA KC KA KD KF QC QA EA -', 'FA LA KC -', 'FA LC LA QC QA QD PA RC RG RI RJ -', 'FA LA IA KC KD KF -', 'FA KD -', 'FA HA KD -', 'FA QC QA TA KC KA KD KF -', 'FA QC QA LC LA KC KD KF -', 'FA QD KD KF -', 'FA SA KC KA KD KF -', 'FA MA KD -', 'FA TA EA IC IA LC LA RC RG RI RJ -', 'WA KF -', 'WA WF -', 'FA EA -', 'KF -', 'FA RJ -', 'FA EA LC LA TA KC KA KD KF -', 'KF -', 'FA IA QA RJ -', 'FA RJ -', 'RJ -', ' -', ' -', 'RJ -', 'FB FA VA LC LA KC KD KF -', 'FB FA IA LA RG RI RA RJ -', 'KF -', 'FA IA YA KC KD -', 'FA YA QA QD RG RI RJ -', 'FA YA RJ -', 'FA LA IA KC KD -', 'KF -', 'FA LA PA IA KC KD -', 'FA LA PA IA KC KD -', 'FA MC LA KD KF -', 'FA MA PA KE KC KD KF -', 'FA EA QA QD WD WE WA KD KF -', 'FA RJ -', ' -', ' -', ' -', ' -', ' -', 'FA LC LA VA RC RJ -', 'RJ -', 'FB FA LA MA RG RI RJ -', 'FB FA LA MA RG RI RJ -', 'FA LA IA KC KA KD KF -', 'FA LA QC DA RG RJ -', 'RJ -', 'FA VA IC IA KC KD KF -', 'FA YA RI RJ -', 'FA YA VA KC KD -', 'FB FA YB YA VA KC KA KD KF -', ' -', 'FA HA KD -', 'FB FA HA EA KA KD KF -', 'HF KF -', 'FA HA HE IA LA KC KD KF -', 'FA HA IA LA KC KD -', 'FA HA HE MA YA EA KD KF -', 'FA HA HE QC EA KC KD KF -', 'HF RJ KF -', 'FA HE HF QD KD KF -', 'KF -', 'FA HA HE YA KD KF -', 'FA HA YA KD KF -', 'FA RG RI RJ -', 'FB FA IC IA DA EA HB HA HC HE HF TA KC KA KD KF -', 'FA IA DA EA HA HE HF KC KD KF RG RI RJ -', 'YA KF -', 'FA IC IA WD WA RC RJ -', ' -', ' -', 'KF -', 'FA IA QC QA QD EA RG RI RA RJ -', 'FA IC IA HA HE KC KA KD KF PA LC LA -', 'FA HA HC HE HF MA KA KB KD KF -', 'FA RG RJ -', 'KF -', 'FA IC IA PA NA VA KC -', ' -', 'FA YA HA KD KF -', 'FA YA -', 'FA HA -', ' -', 'RJ -', 'FA IC IA LC LA YA KC KD KF -', 'FA IC IA MA KC KD -', 'HF RJ -', 'FA IC IA NB EA VA KC KD KF -', 'FA RJ -', 'FA IC IA RC RG RJ -', 'FA IC IA NA LC LA VA RC RG RJ -', 'FA IC IA NA TA KC KD KF -', 'FA IC IA YA VA KC KD -', 'FA IC IA PA KC KD KF -', 'RJ -', 'RJ -', 'RJ -', ' -', 'RJ -', 'FA IC IA PA QC QA QD MA TA KC KA KD KF -', 'FA IC IA PA QC QA QD TA KC KA KD KF -', 'KF -', 'KF -', ' -', 'FA IC IA QB QC QA QD LC LA NA KE KC KD KF -', 'FA KD KF RI RJ -', 'FA KD KF RI RJ -', 'FA KD KF RJ -', 'FA IC IA SA HA HE KC KD -', 'FA IC IA HA HE KE KC KA KD KF -', 'FB FA IC IA SA HA HE KE KC KA KB KD KF -', 'FA RJ -', 'FB FA IC IA VA SA KE KC KA KD KF -', 'FA IC IA VA DA KC KA KD KF -', 'FA IC IA VA DB DA KC KA KD KF -', 'FA IC IA VA NA SA KC KD KF -', 'FA IA WA WF MA KC KD -', 'KF HF -', 'FA KD KF YA -', 'KF RJ -', 'FA KC KA KD KF LA RG RJ -', 'FA KC KA KD KF LA NA RG RI RJ -', 'FA KD KF RJ -', 'KF YA -', 'YA -', 'FA KA KD KF QA MA RG RI RJ -', 'FA KD KF QA RJ -', 'FA KD KF QA RG RI RJ -', 'FA KC KA KD KF LA WD WA WF YA TB -', 'FB FA KC KA KB KD KF VA EA TA RC RG RI RJ -', 'FA -', 'FA LC LA MB MA RH RC RF RG RI RA RJ -', 'FB FA LC LA SA RC RG RI RJ -', 'FB FA YB YA HA HF KD KF -', 'FA LC LA NA TA KC KD KF -', 'FA -', 'YA -', 'YA KF -', 'FA KD KF -', 'FA LC LA EA KC KD KF -', 'FA EA RJ -', 'FA EA YA RJ -', 'FA RJ -', 'FA KD -', 'FA YA KD -', ' -', ' -', ' -', ' -', ' -', ' -', ' -', 'FA RJ -', 'FA LA IA KD -', 'KF -', 'KF -', 'FA LA RJ -', 'FB FA LA DA EA RG RJ -', 'FA LA DA EA RJ KC KD KF -', 'FA LA MA IA KC KD KF -', 'FA YA KD KF -', 'HA KD -', 'HF KF -', ' -', 'FA LA IA EA QC QA QD NA RG RJ KC KA KD KF -', 'KD YA -', 'FA LC LA IC IA EA KC KD KF -', 'FA KD -', 'FA QA QD EA KD KF -', ' -', 'FA KD KF -', 'FA LA KC KD -', 'KF -', 'FA LC LA VA RC RJ -', 'FA LA IA RJ -', 'FA LA NA DA RG RI RJ KC KA KD KF -', 'FB FA LC LA NA QC QA EA RG RI RJ -', 'RJ -', 'FA RJ -', 'RJ -', 'FA LA NA TA KC KA KD -', 'FA MA KD -', 'RJ -', 'KF -', 'FA YA -', 'FA YA MC KD -', 'FA YA MA HA KD -', 'FA YA HA KD KF -', 'FA LA QC QA QD EA KC KD -', 'FA QA RJ -', 'FB FA LC LA QC QA QD HA HE HF KC KA KD KF -', 'FB FA LC LA QC QA PA IC IA HA HE HF KC KA KD KF -', 'FA LC LA QC QA VA KC KD -', 'FA LC LA RC RG RI RJ -', 'FB FA LC LA DB DA KC KA KD KF RC RG RI RJ -', 'QD RA RJ -', 'FB FA LC LA IC IA RC RG RJ -', 'FA LC LA IC IA RC RG RJ -', 'FA LA KC KA KD KF IA -', 'FA LA KC KD IA -', 'FB FA QA QD KD KF -', 'FA QA HA RJ -', 'FA LA WD WE WA WF IA RG RJ -', 'FA LC LA TA HA HE HF RH RC RG RI RJ -', 'FA RJ -', 'RJ -', 'WA RJ -', 'FA WA RJ -', ' -', 'WA WF RJ -', 'WA WF RJ -', 'FA LA RJ -', 'FB FA RG RI RJ -', 'FA RG RJ -', 'FA HA WD WA KD KF -', 'FA WA WF -', 'FA HA HE HF WD WE WA WF KA KD KF -', 'RJ -', 'FA LA HA RG RI RJ -', 'RJ -', 'FA HA RJ -', 'FA LA HA RJ -', 'RJ -', 'FA YA RJ -', 'FA YA WC WD WE WA WF HE RI RJ -', 'WA RJ -', 'YA KD KF -', 'FA LA YA MA WD WA RG RJ -', 'FB FA MA DA TA VA EA KC KD KF -', 'KF -', 'FA MA EA RG RI RJ -', 'FA MA HA HF QA QD EA KA KD KF -', 'FA YA QD KD KF -', 'FA YA QD KD KF -', 'FA MA YA QA QD KD KF -', 'FA KD -', 'FA KD KF -', 'FA MA EA RG RI RA RJ -', 'FB FA MA TA VA LC LA RG RI RJ -', 'FA TA LA RG RJ -', 'RJ -', 'FA HA KD KF -', 'FA HE HF KD KF -', 'FA -', 'FA KD KF -', ' -', 'FB FA NB NA DB DA TA EA KC KD KF -', 'QD KD KF -', 'FB FA NB NA EA VA SA QC QA QD KC KA KD KF -', 'FB FA NB NA TA VC VA KE KC KA KD KF -', 'FA IA QC QA KC KD -', 'FA KD -', 'FA EA KA KD KF -', 'WA RJ -', ' -', 'FA LA EA RG RI RJ -', 'KF -', 'FA -', 'FA KD -', 'FA KD -', 'FA MA KD KF -', 'FA EA RJ -', 'FB FA NA EA RG RI RA RJ -', 'RJ -', 'RJ YA -', 'RJ -', 'FA -', 'RJ YA -', 'RJ -', ' -', 'FA QA QD TB EA KA KD KF -', 'RJ -', 'RJ -', 'YA HF RJ -', 'YA RJ -', 'RJ -', 'FA QD RG RI RJ -', 'RJ -', 'YA KF -', 'KF -', 'RJ -', ' -', 'FA VA DA LC LA KC KA KD KF -', ' -', ' -', 'FA MA YA RG RI RJ -', 'KF -', 'RJ -', 'KF -', 'FA YA IA LA KC KD -', 'FA PA LA RC RJ -', 'FA HA HE HF KD KF -', 'FA HA HE QD KD KF -', 'FB FA PA HA HE HF SA RC RG RI RJ -', 'FA IA KD -', 'FA LA YA KC KA KD KF -', 'FA LA RG RJ KC KD KF -', ' -', 'RJ -', 'FA RG RJ -', 'RJ -', 'FA EA -', 'RJ -', 'RJ -', 'FA LA QA RI RJ -', 'RJ -', 'FA QA QD KD KF -', 'FA RJ -', 'FB FA QC QA HA HE HF KC KA KD KF -', 'FA QA RG RJ -', 'RJ -', 'FA QD EA MA RJ -', 'RJ -', 'FB FA QC QA QD LC LA EA PA VA KC KD -', 'FA QC QA QD LA KC KD KF -', 'FA HA KD KF -', 'YA RJ -', 'RJ -', 'RJ -', 'YA RJ -', ' -', 'FA QA LA RC RJ -', 'FB FA QC QA QD PA TA EA KC KA KD KF -', 'FB FA QA QD EA KA KD KF -', 'FA QC LA KC KD -', 'RJ -', 'RJ -', 'FB FA QC QA QD HA HE RG RI RJ -', 'RJ -', 'FA QC QA VA EA NA RC RG RJ -', 'FB FA QC QA QD VA EA NB NA RC RG RI RA RJ -', 'FB FA QC QA QD VA TA PA KC KA KD KF -', 'RJ HE HF -', 'RJ -', 'RJ -', 'RJ KF -', 'FA RJ KC KD KF LA IA -', 'RJ -', 'RJ KF -', 'RJ YA -', 'FB FA RJ EA LA KC KA KD KF -', 'RJ KF -', 'FA RC RF RG RI RJ VA MA DA KC KA KD KF -', 'FA LA NA IA RG RJ -', 'FA KD -', 'FA EA YA KD KF -', 'FA EA YA KD KF -', 'FB FA TA EA VA PA KC KA KD KF -', 'FA TA EA VA PA KC KA KD KF -', 'FA QD YA RI RJ -', 'FA WD WA KD -', 'RJ -', 'FB FA EA HA HE HF QC QA QD TA TB KC KA KD KF -', 'FA QA RJ -', ' -', 'FA WA YA KD KF -', 'FA LA WD WA IA KC KD -', 'FA KD KF -', 'FA KD KF -', 'FA KD -', 'YA RJ -', 'FA IC IA NA YA RC RG RI RJ -', 'RJ -', 'RJ KF -', 'FA YA KD KF -', 'FA RJ -', 'FA RJ -', 'FA RJ -', 'RJ -', 'FA LC LA RG RJ -', 'FA LC LA TA IC IA VA KC KD -', ' -', 'FA RJ -', 'RJ -', 'FA QD RJ -', 'RJ -', 'FB FA SA MB MA PA TA LC LA KC KA KD KF -', 'KF -', 'KF -', 'KF -', 'FA MA MC IA NA KD KF -', 'FA MA QA WA RJ -', 'FA MA QA WA RJ -', 'WA RJ -', 'FA RI RJ -', 'FA RJ -', 'RJ -', 'RJ -', 'RA RJ -', 'RJ -', 'FA QD KB KD KF -', 'KF -', 'RJ -', 'RJ -', 'RJ -', 'FA QA QD YA EA KD KF -', ' -', ' -', 'FA QA WD WA RJ -', ' -', ' -', 'FA EA KD KF WA RG RJ -', 'FA EA QA QD KD -', 'FA QD KD KF -', 'FA QD KD -', ' -', 'FA TB QA RJ -', 'FA QA RG RI RJ -', 'RJ -', 'FA SA TA VA LC LA RC RJ -', 'FA RJ -', 'FA IA KC KD -', 'KF -', 'FA QA YA EA KD KF -', 'FA QA YA KD KF -', 'FB FA LA RG RI RJ -', 'WD WE WA WF QD KD KF YA RJ -', 'FB FA WD WE WA WF HA HE VA IC IA KC KA KD KF -', 'FA YA MA KC KD -', 'FA QA QD EA KD KF -', 'FA LA KC KD -', 'KF -', 'FA TB EA QA QD RG RI RA RJ -', 'FA -', 'WA RJ -', 'WD WA RJ -', 'RJ -', 'FA -', 'FA EA RJ -', 'FA TA EA VA LC LA RG RI RJ -', 'FA TA EA VA LC LA KC KD -', 'WA -', 'FB FA TA LC LA QC QA YB YA RC RG RJ -', 'FA TA LC LA QC QA YA RC RJ -', 'RJ -', ' -', ' -', 'FA RJ -', 'RJ -', 'FB FA TA QC QA PA RC RJ -', 'FA TA QC QA QD PA RC RG RJ -', 'RJ -', 'FA TA IC IA KC KD -', 'FA TA IC IA LC LA PA KE KC KD -', 'FA QD KD -', 'FA KD KF -', ' -', 'KF -', 'FA QC QA QD KC KD KF -', 'KF -', 'FB FA TB QC QA QD NA KC KA KD KF -', 'FB FA TB QC QA QD KC KD -', 'KF -', 'KF -', 'FA TA RC RG RI RJ KC KA KB KD KF PA -', 'HF YA RJ -', 'FA -', 'HE YA RJ -', ' -', 'FA KD KF -', 'KF -', 'FB FA VA EA NB NA SA RH RC RG RI RA RJ -', 'FA VC VA LC LA HA HE HF KE KC KA KD KF -', 'FB FA VC VA LC LA HA HD HE HF KE KC KA KD KF -', 'FB FA KA KD KF HA -', 'FB FA RG RI RA RJ -', 'FA WA EA RJ -', 'FA VA WD WE WA IC IA RC RG RI RJ -', 'WA WF RJ -', 'FA EA QA KC KD -', 'FA EA RJ -', 'FB FA VD VA EA DB DA SA RH RC RG RI RA RJ -', 'FA VA EA YA RC RG RI RJ -', 'FA VA EA YA RC RA RJ -', 'RJ -', 'FA EA YA RG RJ KA KD KF -', 'FA RJ -', 'FA EA YA RJ -', 'FB FA DA QA QD KA KB KD KF -', 'FA VA EA KC KD -', 'HE YA KF -', 'YA -', 'KF -', 'FB FA VA IC IA QC QA QD KC KA KD KF -', 'FA VA IC IA PA RC RG RJ -', 'KF -', ' -', 'FA HA HF KD KF -', 'FA HA KD KF -', 'FA EA KD KF -', 'FA HA HE HF KB KD KF -', 'KF -', 'FB FA VA PA MA SA KE KC KA KD KF -', 'FA QD HE RJ -', 'FA RJ -', 'FA -', 'RJ -', 'RJ -', ' -', 'FA KD -', 'FA KD -', 'FA KA KD -', ' -', 'FA YA RJ -', 'FA RJ -', 'YA RJ -', 'FA KD -', 'FB FA YB YA RG RI RJ -', 'FB FA YB YA KC KA KD KF -', 'RJ -', 'FA WD WE WA RJ -', 'FA WD WE WA WF YA LA RC RJ -', 'WA WF RJ -', 'FA WD WE WA WF MA VA KC KD -', 'FA WD WE WA WF KD -', 'FA YA KD KF -', 'FA YA LC LA KC KD -', 'KF -', ' -', ' -', ' -', ' -', 'FA YA RJ -', 'RJ -', 'YA RJ -', 'KF -', 'FA YA QD RG RI RJ -', 'RJ -', 'FA YA QD RJ -', 'FB FA YB YA LC LA EA KC KD KF -', 'FB FA YB YC YA DB DA LC LA EA KC KA KB KD KF -', 'FA YA LA KC KD -', 'FA YA LA KC KD -', 'FB FA YB YA LA KC KD -', 'FA YA RG RJ -', 'FB FA YB YA VA TA LC LA KC KD KF -', 'FA YA HA HE KD -', 'FA YA HA HE KD KF -', 'FA YA RJ -', 'FB FA YB YA LC LA EA KC KD KF RC RG RJ -', 'FB FA YB YA LA KC KD KF -', 'FB FA YB YA LA RJ -', 'RJ -', 'YA -', 'FA YA RJ KD KF -', 'FA YA TA LC LA RC RG RI RJ -', ' -', 'RG RI RA RJ MA KA KD KF -', 'QC QA QD LC LA TA KC KA KD KF -', 'QA QD KD -', 'QA QD KD KF -', 'QA QD KD KF -', 'KF -', 'QA QD KD KF -', 'HE HF TB FA KB KD KF -', 'YA -', 'YA RI RJ -', 'KD KF -', 'KF -', 'KD KF RJ -', 'EA KD -', 'EA YA HA KA KD KF -', 'EA TB YC YA HA HD HE HF KA KB KD KF -', ' -', ' -', ' -', 'FA QA QD MA KA KD KF -', 'FA WD WE WA YA KC KD -', ' -', 'EA FA LA RG RJ -', ' -', 'HA HE HF EA QC QA QD RG RI RA RJ -', 'RJ -', 'FA RJ -', 'FA KD -', 'MB MA VC VA RH RC RG RI RJ -', 'MB MA TA TB LC LA KC KA KB KD KF -', 'HA FA KA KD KF -', 'QA QD -', 'RJ -', 'RJ -', 'HA QD FA RG RJ -', 'RJ -', 'QD RJ -', 'PA QC QA QD LC LA RC RI RJ -', 'DB DA EA IC IA KC KA KB KD KF RC RG RI RA RJ -', ' -', 'HA HE HF QA QD KA KD KF -', 'YA FA HA RJ -', 'YA FA HA WA RG RJ -', 'WA RJ -', 'YC YA FA HA WD WA RG RI RJ -', 'RJ -', 'VA IC IA DA RC RG RI RJ -', 'VA EA LC LA RC RG RJ -', 'DA IA FB FA KC KD KF -', ' -', 'KF -', ' -', ' -', 'KF -', ' -', 'VA TA EA RC RG RI RJ -', 'WD WE WA QA QD EA RG RJ -', 'RG RI RJ -', 'KD YA -', ' -', ' -', 'IA MA RG RJ -', ' -', ' -', 'QA QD EA RG RI RJ -', 'FA LA IA QA QD KD KF -', 'HA HD HF KD KF -', 'RJ -', 'RJ -', 'YA KD -', 'DA PA KE KC KA KD -', 'WA KF -', 'RJ -', 'EA RJ -', 'RJ -', 'RJ -', 'EA MA RG RJ -', 'RA RJ -', 'RJ -', 'EA RJ -', 'FA RJ -', 'RJ -', 'RJ -', 'RJ -', 'RJ -', 'RJ -', 'RJ -', 'RJ -', 'FA -', ' -', 'RJ -', 'RJ -', 'DB DA FB FA TA RH RC RG RI RJ -', 'DA FA IA LA KC KA KD KF -', 'HA KD -', 'RJ -', 'HA HE HF FB FA LA YB YA NA KC KA KD KF -', 'HA FB FA LA YB YA KC KD KF -', ' -', 'YA FA KD -', 'DA KC KA KD KF EA LC LA IC IA -', 'DA KC KA KD KF EA LC LA IC IA -', ' -', ' -', 'KD KF -', 'DA LC LA VA KE KC KD -', 'DA LC LA PA FA VA TA RC RG RI RJ -', 'MA KA KD KF -', 'KD KF -', 'DA LA IA KC KA KD KF -', 'DA MA VA PA KC KA KD -', 'RJ -', 'QA QD EA HA HE HF KA KD KF -', 'QA QD EA HA KD KF -', 'DB DA PA YA EA RC RG RI RA RJ -', 'DA PA IC IA NA EA KC KD KF -', 'DB DA PA IC IA NB EA KC KD -', 'RJ -', 'RJ -', 'QD YA FA RJ -', 'HF RJ -', 'WA RJ -', 'KD -', 'KB KD KF YA -', 'KD YA -', 'KD KF YA -', 'QD RG RI RJ -', 'QD RJ -', 'FA RJ -', 'QA KD -', 'TB YA QA HA KA KD KF -', 'KF -', 'DA TA MA LC LA RC RG RI RA RJ -', 'HF KF -', 'KD -', 'FA RI RJ -', 'FA QA RG RI RJ -', 'FA RI RA RJ -', 'TB QA KD -', 'EA FA MA LC LA KE KC KA KD -', 'KF -', 'EA RG RJ -', 'EA RG RI RJ -', 'RJ -', 'RJ -', 'EA PA QC QA QD RC RG RI RJ -', 'RA RJ KD KF -', ' -', ' -', 'RA RJ KD KF -', 'RJ KD KF -', ' -', 'RJ -', 'QD FA RJ -', 'FA RJ -', ' -', 'RJ KD KF -', 'QD RJ KD KF -', 'EA FA -', 'RJ KF -', 'QD RJ KD KF -', 'RJ -', 'RJ -', 'EA RG RI RJ -', 'EA LC LA PA KC KA KD KF -', 'EA FA QA RG RJ -', 'RJ -', 'EA FA IA QC QA QD RG RI RJ -', 'EA FB FA LA RG RI RJ -', 'FA QA KD -', 'EA FA QA QD KD KF -', 'EA FA QA KD -', ' -', 'FA WD WE WA WF RG RI RJ -', 'EA FA VA WD WE WH WA WF RH RC RG RI RA RJ -', 'WA WF RJ -', 'EA QA QD KD KF -', ' -', 'EA KD KF -', 'EA DA LA KA KB KD KF -', 'KF -', 'EA QC QA QD LC LA RG RI RJ -', 'EA QC QA QD LC LA RJ -', 'RI RJ -', 'KD KF -', 'RI RJ -', 'EA LA QC QA FA YA RC RJ -', 'RJ -', 'RJ -', ' -', 'RJ -', 'RJ -', 'RI RJ -', ' -', 'QD HD HE HF FA KB KD KF -', 'FA KD KF -', 'FA KD KF -', 'EA MA FA KD -', 'HE HF FA KD KF -', 'FA KD -', 'EA KD -', ' -', ' -', ' -', ' -', 'RJ -', 'EA RJ -', 'RJ -', 'KD KF -', 'RJ -', 'RG RI RJ -', 'EA QA QD LA RG RJ -', 'KD KF -', 'EA FA KC KD -', 'EA TB RG RI RA RJ -', 'EA RG RI RJ -', 'EA RJ -', 'RI RJ -', 'RG RI RJ -', 'RJ -', 'EA VC VA SA DA KE KC KA KD KF -', ' -', 'KF -', ' -', ' -', 'KF -', ' -', 'QD FA KD KF -', ' -', 'PY -', 'EA WC WD WE WA WF YA QD RJ -', 'EA YB YA DA VA RG RJ -', 'EA YA FA QA RJ -', ' -', ' -', 'YA KD KF -', 'HF RJ -', 'RJ -', 'RJ -', 'RJ KF -', ' -', 'FA EA LC LA KE KC KA KD KF -', ' -', 'WA -', 'WA -', 'FA EA IA KC KD KF -', 'FA RJ -', 'RJ -', 'RJ -', 'HE RJ -', 'RJ -', 'RJ -', 'FA EA -', 'RJ -', 'RJ -', 'RJ -', 'FA EA RJ -', 'FA KD -', 'FA IA KC KD -', 'FA YA KD KF -', 'KF -', 'FA NA IA EA DA KA KD KF -', 'FA TB EA KD KF -', 'FA KD -', 'FA KA KD KF -', ' -', 'FA EA KD KF -', 'KD KF RJ -', 'KD KF RJ -', 'FA RJ -', 'RJ -', 'FA HA EA RJ -', ' -', 'FA RJ -', 'FB FA IA LA RG RJ -', 'RJ -', 'KF -', 'KF -', 'FB FA LC LA DB DA VA TA RC RG RI RA RJ -', 'RJ -', 'FA HA HF KD KF -', 'FA HA KD KF -', 'KF -', 'FA EA KD -', ' -', 'KF -', ' -', 'FA KD KF RJ -', 'KF RJ -', 'FA KD KF QD RI RJ -', 'FA KD -', 'FA -', 'FA RJ -', 'FA QC QA LC LA DA IC IA RH RC RG RJ -', 'FA QC QA IC IA LC LA VA RI RJ -', 'RJ -', 'RJ -', 'RJ -', 'FA LC LA IC IA KC KD -', 'FA VA LC LA KC KD -', 'FA YA KA KD KF -', 'FA YA KC KA KD LA -', 'FB FA YB YC YA KC KA KD KF LA -', 'FA YA KD KF RJ -', 'DA EA IA KC KD KF -', ' -', 'KF -', ' -', ' -', ' -', ' -', ' -', 'YA KF -', 'YA KD KF -', 'EA WA YA RG RJ -', 'YA RJ -', 'EA YA RG RI RJ -', 'RJ -', 'KF -', 'KD KF -', 'YA KD KF -', 'YA QD KD KF -', 'YA KF -', 'KF RJ -', 'KF RJ -', 'KF RJ -', 'EA -', 'KF RJ -', 'KF RJ -', 'EA -', 'KF RJ -', 'KD -', 'QD RJ -', 'FA RJ -', 'RJ -', 'KF -', 'KF -', 'KA KD KF EA -', 'RJ -', 'FA YA KD KF -', 'KF -', ' -', 'KF -', 'NA LA YA KC KA KD KF -', 'KF -', 'QA QD RG RJ -', 'HF RJ -', 'RJ -', ' -', 'RJ -', ' -', 'KF -', ' -', ' -', ' -', ' -', 'EA QC QA DA KC KD KF -', ' -', ' -', 'KF -', 'PA LC LA YA RC RG RI RJ -', 'YA RJ -', 'PA LC LA YA RC RG RI RJ -', 'RJ -', 'YA RJ -', 'KF -', ' -', ' -', ' -', 'RJ -', 'EA QA QD KA KD KF -', 'HA HF -', 'HA HC HE HF RG RI RJ -', 'MA IC IA EA LC LA RC RG RJ -', 'SA PA LC LA NB NA TA RC RG RI RJ -', 'QD YA KD KF -', ' -', ' -', ' -', 'RJ -', 'VA LC LA PA KC KD -', 'VA LC LA PA KC KA KD KF -', 'VA LC LA PA KC KA KD -', ' -', ' -', 'HA RJ -', 'HA QA FA MA KD -', 'HA EA YC YA QA QD FA MA KA KD KF -', 'HA EA YC YA QA QD FA MA KD KF -', 'HA FA YA KD KF -', 'HA FA KD -', 'HA FA YA KD KF -', ' -', 'FA EA KD -', ' -', 'HF YA RJ -', 'YA RJ -', 'HA HE HF EA WD WA RG RJ -', 'HA RG RI RJ -', 'HA HE LA QC QA RG RI RA RJ -', 'RJ -', 'HA HF RC RG RJ PA -', 'HA HC HE RH RC RG RI RJ PA -', 'HA HE HF SA TA RH RC RG RI RJ -', 'HF KF -', 'HA TA EA LC LA RC RG RI RA RJ -', 'HA HE HF RJ -', 'HE KF -', 'HA HE HF LA EA RG RJ -', 'HA HC HD HE HF EA RG RI RJ -', 'HA YA KA KD KF -', 'HF RJ -', 'KF -', 'RJ -', 'RJ -', 'RJ -', 'IC IA FA VA RC RJ -', 'EA RJ -', 'IA LA RG RI RJ -', 'RJ KF -', 'EA RJ -', 'RJ -', 'FA RJ -', 'WD WE WA WF FA RJ -', 'WD WA QA FA RJ -', 'KF -', 'KD KF -', 'KA KD KF -', 'YA RJ -', 'DA FB FA KA KD KF -', 'IA DA FB FA LA KA KD KF -', ' -', ' -', 'IC IA EA LC LA KC KA KD KF -', 'IC IA EA MA LC LA NA KE KC KD -', 'KF -', 'KF -', 'KF -', 'IA FA LA KC KD KF -', 'FA YA KD -', 'IA LA QA QD KD KF -', 'HE HF RA RJ -', 'RJ -', 'RJ -', 'RJ -', 'RJ -', 'RJ -', 'WD WE WA WF EA KA KD KF -', 'HA FA KD -', 'HA HE EA KD KF -', 'HA HE HF EA FA KD KF -', 'HA FA MA KD -', 'HA HF EA FA MA KD KF -', 'HA HE HF EA TB FA MA KA KD KF -', 'HA HF EA TB FA MA KD KF -', 'RJ -', 'RJ -', 'RJ -', 'IA LA RG RI RJ -', 'RJ -', 'QD KD KF -', 'RJ -', 'RJ -', ' -', 'KD KF -', ' -', 'RJ -', ' -', 'IC IA LC LA VA QC QA KC KD KF -', 'MA YA KD -', ' -', 'RJ -', 'IC IA PA DA HA HE HF RH RC RG RI RA RJ -', 'YA RJ -', 'RJ -', 'FA KD KF -', 'YA RJ -', 'IC IA HA HE PA NB NA VD VA KC KA KD KF -', 'WA -', 'WA WF KF -', 'WA -', 'FA YA HA RJ -', 'IC IA VA FA KC KD -', 'KD -', 'IA LA EA KA KD KF -', 'YA RJ -', 'KD KF -', 'KD KF QD RJ -', 'KD KF FA QD -', 'KD KF FA QD -', 'KF RJ -', 'KA KD KF -', 'KF RJ -', 'KF -', 'KA KD KF QA QD FA -', 'KC KA KB KD KF LA EA QC QA QD RG RI RJ -', 'KC KA KB KD KF LA EA QC QA QD RG RI RJ -', 'KD KF YA -', 'KD KF YA RJ -', 'KE KC KA KD PA IC IA -', 'KD KF EA RG RJ -', 'EA KA KD KF -', 'EA KD KF -', 'LA IA HA HE HF KC KA KD KF -', 'HA KD -', 'LA IA HA KC KA KD KF -', 'LC LA VA KC KD KF PA TA RC RF RG RJ -', 'LC LA VA KC KD KF PA TA RC RG RJ -', 'LC LA VA QC QA QD KC KD -', 'LC LA VA QC QA QD KC KA KD KF -', 'LC LA DB DA HA HE HF KE KC KA KB KD KF -', 'LA FA QC QA -', 'LC LA KC KA KD KF -', 'KD -', 'LA FA KC KD -', 'LA YA KD KF -', ' -', 'LC LA EA TA DA KC KA KD KF -', 'EA KD -', 'EA HA -', 'EA HA KF -', 'EA KD -', 'EA HA HF KD -', 'RJ -', 'KF -', 'KF -', 'KF -', ' -', 'KD KF -', 'LC LA EA TA TB QB QC QA KE KC KD KF -', 'EA KD KF -', 'LC LA EA VA DB DA KC KA KD KF -', 'LA FA DA HA HE HF RG RI RJ -', 'LA FA IA KC KD -', 'FA KD KF -', 'FA KD -', 'FA KD -', 'YA RJ -', 'FA RJ -', 'FA QD RI RJ -', 'KF -', 'LA IA FA KD -', ' -', ' -', 'RJ -', 'RJ -', 'RJ -', 'RJ -', 'RJ -', 'RJ -', ' -', 'RJ -', 'RJ -', 'RJ -', 'RJ -', 'RJ -', ' -', 'KF -', 'EA FA RJ -', 'FA RI RJ -', 'FA RG RJ -', 'FA RG RJ -', 'LA IA NA HA HE HF KC KA KB KD KF -', 'LA IA KC KD -', 'KD -', 'LA IA KC KD -', 'LC LA IC IA TA PA KC KA KD KF -', 'KF RJ -', 'LA HA FA KC KA KD KF -', ' -', 'YA RJ -', 'YA RJ -', 'RJ -', 'QD KD KF -', 'EA TB QA KB KD KF -', 'KF -', 'KF -', ' -', ' -', 'LA IA KC KD KF -', 'LA YA WA IA KC KD -', 'LC LA NA HA KC KA KD KF -', 'LC LA NB NA HA HE DB DA KC KA KD KF -', 'LC LA NA HA KC KD KF -', 'LC LA PA EA TA RC RJ -', 'LC LA PA RC RJ -', 'KF -', 'FA KD -', 'WD WA RJ -', 'LA QC QA QD MA EA RG RI RJ -', 'QA QD FA EA RJ -', 'QD TB WD WA YA MA KD KF -', 'LC LA SA NA KE KC KA KD KF -', 'LC LA SA YA KC KA KD KF -', 'KF -', 'RG RI RA RJ -', ' -', ' -', 'KF RJ -', ' -', ' -', 'LA TA HA HE DA KC KA KD KF -', 'LA EA RG RJ -', 'RJ -', 'EA -', ' -', 'RJ -', 'RJ -', 'YA KD KF -', 'YA KD -', 'YA KD KF -', 'YA KD KF -', 'EA MA KD KF -', 'EA KD -', 'KF -', 'EA KD KF -', 'EA KD KF -', ' -', ' -', 'KD KF -', 'KD -', 'LC LA VA EA KC KD KF -', ' -', 'LC LA VA FA WA KC KD -', 'LC LA VA KC KD -', 'KD -', 'FA YA KD -', 'FA QD YA KD KF -', 'KF -', 'FA QA YA KD -', 'YA -', 'FA QD YC YA KD KF -', 'KF -', 'RJ -', 'LA RJ -', ' -', ' -', 'LG -', ' -', 'KF RJ -', 'KF RJ -', 'KF RJ -', 'YA KD KF -', 'MA YA EA KD KF -', ' -', 'YA RJ -', ' -', 'MB MA TA SA EA RH RC RG RI RA RJ -', 'KD -', 'RJ -', 'RJ -', 'NA EA YB YA FB FA RG RJ -', 'EA QD FA HA RI RJ -', 'NA FA IA QC QA QD KC KA KD KF -', 'FA YA KA KD KF -', 'NA LA RG RJ -', 'FA MA KD -', 'NA LA FA MA IA KC KD KF -', 'KF -', 'NA LA FA DA IA KC KD KF -', 'KD -', ' -', 'QA QD RG RJ -', 'RJ -', 'NA KC KA KD KF -', 'QA KD KF -', 'QD KD KF -', 'QA FA RJ -', 'RJ -', 'RJ -', ' -', 'KD -', 'KF -', 'PA EA SA KE KC KA KD KF -', 'PA VA KC KA KD KF -', 'KF -', 'EA WA KD -', 'WF -', 'WA WF -', 'QD KD KF -', ' -', ' -', ' -', 'EA KD -', ' -', 'PA DA VA FA LC LA IC IA KC KA KD -', ' -', 'FA KD -', 'FA KA KD EA -', 'KF -', 'PA EA RC RG RI RJ -', 'KF -', 'PA EA KC KD KF YA RC RG RI RJ -', 'EA VA IC IA KC KD -', 'RJ -', 'RI RA RJ -', 'EA RG RI RJ -', 'PA VA WA EA KC KD KF -', 'LA FA KC KD KF -', 'KF -', ' -', 'RJ -', 'QA QD KA KD KF -', 'KD -', 'PA HA HE HF VC VA DB DA LC LA KE KC KA KB KD KF -', 'IA LA MA KC KD KF -', 'RJ -', 'RJ -', ' -', 'EA RJ -', 'RJ -', 'LA QC QA QD KC KA KD KF -', 'KF -', ' -', 'NA LA YA QC QA KC KD KF -', 'KF -', 'KD -', 'KD KF -', 'PA SA EA RH RC RG RI RA RJ -', 'PA SA FA RH RC RG RI RA RJ -', 'EA QA RI RJ -', 'KF -', ' -', 'PA SA VA LC LA KC KD KF -', 'PA TA TB HB HA HE HF EA FA KC KA KB KD KF -', 'WA YA KD -', 'PA VA HA HE KC KA KD KF -', 'PA VA HA HE KC KA KD KF -', 'LA QC RI RJ -', 'WA YA RJ -', 'YA WA RI RJ -', 'QA QD RJ -', 'QC QA QD DA YB YA RG RI RA RJ -', 'KF -', 'KF -', ' -', ' -', 'QD KD -', 'QD KD KF FA -', 'QD KD FA -', 'QA QD KA KD KF FA -', 'HF FA KD KF -', 'HF FA KD KF -', 'QC QA QD DA LA FA RG RI RA RJ -', 'RJ -', 'QD EA RG RJ -', 'QD KD KF RJ -', 'QD KD KF RJ -', 'KF -', ' -', 'KF -', 'KF -', 'KF -', ' -', 'QC QA QD MA KC KD KF -', 'QD -', 'QD WD WA RJ -', 'KF -', 'QD HE HF KD KF -', 'HF KF -', ' -', ' -', 'QA QD KD KF -', 'QA QD EA KD KF -', 'QD KD KF -', 'QA QD EA HA RI RJ -', 'QD HA RJ -', 'FA RJ -', 'YA KD KF -', 'QD RJ -', 'QD YA KD KF -', 'QD YA KD KF -', 'RG RJ EA YA HA -', 'QD KD KF -', 'QD YA KD -', 'QD YA KD KF -', 'KF -', 'WA RJ -', ' -', 'WA WF KF -', 'QC RJ -', 'QC QD VA PA EA DA KC KA KD KF -', 'QC QD VA LC LA FA RC RG RI RJ -', ' -', ' -', 'QD EA -', ' -', ' -', 'QD YA KD -', 'RJ DA NA EA LA IA YA KA KD KF -', 'RJ KF -', 'RJ QD KD KF -', 'RJ KF -', 'RG RI RJ LA EA QA -', 'RJ -', 'RG RI RJ LA EA NA QA QD -', 'RJ -', 'RG RJ FA YA NA -', 'EA QA QD RG RI RJ -', 'KD KF -', 'RG RJ -', 'RJ -', 'YA RJ -', 'KD KF -', 'RJ -', 'SA FA RC RJ -', 'FA TB QD YA KD KF -', 'QC QA QD NA YA KC KD KF -', ' -', 'HA KD KF -', 'NA LA EA IA HA HE HF KA KD KF -', 'YA KD KF -', 'YA QA QD KD KF -', 'HE YA RJ -', 'YA RJ -', 'SA IC IA FA HA HE HF RH RC RG RI RJ -', ' -', 'KF -', ' -', ' -', ' -', 'FA KD -', 'KF -', 'KF -', 'FA QA KD -', 'HF KF -', 'KF -', 'RJ -', 'RJ -', 'RJ -', 'RJ -', 'RJ -', 'IC IA MA LC LA VA KC KA KD KF -', 'FA KD -', 'KF -', 'KF -', 'KF -', 'WA RJ -', 'LA DA RG RI RJ -', ' -', 'LC LA DA RC RG RI RJ -', 'LC LA NA IC IA FA KC KD -', 'LA WD WA IA KC KA KD -', 'SA NA IC IA FA KE KC KD KF -', 'KD KF -', 'PA VA KC KD KF -', 'KF -', ' -', ' -', ' -', 'RJ -', 'PA QC QA LC LA VA TA KC KA KD KF -', 'WD WE WA WF HE HF FA RI RJ -', 'RJ -', 'FA RI RA RJ -', 'RJ -', ' -', 'TA QC QA QD LA RG RI RJ -', 'WA -', 'RJ KF -', 'RI RJ -', 'FA LA KD -', 'FA KD -', ' -', ' -', ' -', 'VA LC LA RC RJ YA -', 'WA RJ -', 'WA WF RJ -', 'SA YC YA NB NA IC IA KC KA KD KF -', 'RJ -', ' -', ' -', ' -', 'TB KD KF -', 'FA QA KD -', 'FA QA QD EA KD KF -', 'KF -', 'FA QA EA KD KF -', 'FA QD EA KD KF -', ' -', 'FA QA KD -', 'FA QD EA KD KF -', ' -', 'DA IA LA KC KD -', ' -', 'FA RG RI RJ -', 'RJ -', 'RJ -', 'EA YA FA RG RJ -', 'RJ -', 'TA FA LA HA HF -', 'FA LA HA -', 'FA EA HA -', 'FA KD -', 'FA HA HF KA KD KF -', 'KF -', 'FA KD -', ' -', 'FA EA HA HF KA KD KF -', 'FA HA KD -', 'FA HA KD -', ' -', ' -', ' -', 'KF -', 'HF KF -', ' -', 'FA RJ -', 'TA SA FA KE KC KA KB KD KF -', 'EA KD KF -', ' -', 'FA EA RG RI RJ -', 'FA EA RG RI RJ -', 'RJ -', 'RJ -', 'RJ -', 'RJ -', 'RJ -', 'RA RJ -', 'RJ -', 'RJ -', 'TA IC IA MA LC LA RH RC RG RI RJ -', 'TA LC LA VA EA RH RC RG RI RA RJ -', 'TB EA QA QD RF RG RJ -', 'KD KF -', 'LA YA HA KA KD KF -', 'LA YB YA HA HE HF KA KD KF -', 'KD KF -', 'KF -', 'EA RG RI RJ -', 'EA RG RI RA RJ -', 'RJ -', 'KF -', 'KF -', ' -', 'TA IC IA KC KA KD KF -', 'IA KC KA KD KF -', 'IA KC KA KB KD KF -', ' -', 'QD MA KD KF -', 'QD MA KD KF -', 'KD KF -', 'KD -', 'FA KD KF -', 'KD -', 'FA KD KF -', 'RJ -', 'VA LC LA PA RC RJ -', 'KD -', 'KF -', 'FA RG RI RJ -', 'FA RG RI RA RJ -', 'QA QD EA KD KF -', 'YA IA KD -', 'KF -', 'HA KD KF -', 'VA LC LA HA HF KC KA KD KF -', 'RJ KF -', 'RJ -', ' -', 'WD WE WH WA WF FA KD KF -', 'EA YA QA QD KD KF -', 'QA QD TB HA RJ -', 'KD KF -', 'VA DA LC LA NA KC KD -', 'DA QA QD EA RG RI RJ -', 'QA EA RJ -', 'VA EA HA HE HF MA NB NA KC KA KD KF -', ' -', 'EA KD KF -', 'EA FA KD -', 'KF -', 'KF -', 'WA WF -', 'FA KD KF -', 'FA LA KC KD -', ' -', 'VA FA IC IA KE KC KD KF -', 'WD WE WA WF RJ -', 'KC KA KD KF IA LA EA -', ' -', 'VA LC LA EA DB DA RH RC RG RI RJ -', 'RJ -', 'WA WF RJ -', 'VA LC LA RC RJ -', 'FA KD -', 'VA LC LA YA QC QA RJ -', 'VA LC LA YA QC QA RG RJ -', 'RJ -', ' -', 'TB YC YA KA KD KF -', ' -', 'KF -', ' -', ' -', 'FA RJ -', 'QA HA KC KD -', 'KF -', 'QC QA QD EA HB HA HE HF IA NA KC KA KB KD KF -', 'QC QA QD EA HA IA KC KD -', ' -', ' -', 'MA RI RJ -', 'MA RG RA RJ -', 'YA RJ -', 'YA RJ -', 'RJ -', 'YA EA QA RJ -', 'YA RJ -', 'KD KF -', 'KF -', 'RJ -', 'FA KD -', 'FA IA QC QA KC KD -', 'QA KA KD KF -', 'KF -', 'VC VA MA KE KC KD KF -', 'WD WE WA WF YA QD KD KF -', 'WD WA YA KD -', 'WD WE WA FA HA RJ -', 'WD WE WA WF FA HA RG RI RJ -', 'WH WA WF HF RJ -', 'WA WF RJ -', 'WC WD WE WA WF FA HA HD RG RJ -', 'WA KF -', ' -', 'WA -', 'WA KF -', 'WA WF RJ -', 'WA RJ -', 'WD WE WA WF MA NA HA FA RI RJ -', 'WD WE WA WF MA NA HA HD FA RG RJ -', 'WD WE WA WF FA KD KF -', 'YB YC YA IC IA PA DB DA LC LA KC KA KB KD KF -', 'YA KF -', 'YA IA LA MA KC KD -', 'YA RJ -', 'YA RJ -', 'RJ -', 'YA FA KD -', 'YA FA KD -', 'YA FA QC QA LA KC KD -', ' -', 'YA FA KD KF -', ' -', ' -', ' -', 'YB YC YA HB HA HE LC LA KE KC KA KB KD KF -', 'YA HA HE HF LA KC KA KD KF MA -', 'YA HA HE LA KC KD -', 'YB YC YA HB HA HC HD HE HF LA KC KA KD KF MA -', 'YA QA FA EA RJ -', 'YA LA FA RJ -', 'YA EA FA KA KD KF -', 'YA QC QA FA RJ -', 'YA FA EA RJ -', 'KF -', 'YA FA MA RG RI RJ -', 'YA TB QA FA KD KF -', 'YA TA TB QC QA LA FA KC KD KF -', 'KF -', 'YA KD -', 'YB YA VA KC KD KF -', ' -', 'HA HE HF DB DA PA FA TA TB KC KA KB KD KF -', 'HF -', 'HF KF -', ' -', 'HA -', ' -', ' -', ' -', 'HA LC LA PA VA RC RG RI RJ -', 'HC HE FA RJ -', 'RJ -', 'FA RJ -', 'HF RJ -', 'HA HE LC LA YA RC RG RI RJ -', 'HE RJ -', 'RJ -', 'HB HA HE QC QA QD VA TA DA MA KC KA KD KF -', 'RJ -', 'HA HE KD -', 'HA HD HE HF KA KD KF -', 'HA HE KD KF -', 'HA HE FA RG RI RJ -', 'HA HE FA RG RI RJ -', 'HA HD HE HF EA RG RI RJ -', 'HE RG RJ -', 'HC HD HE HF RG RI RA RJ -', 'HA RJ -', 'HA EA RJ -', ' -', 'HF KF -', ' -', 'HE WA YA KF -', 'HA HE QA WD WA YA KD -', ' -', 'HE WA WF YA KF -', 'HA QA QD WD WA YA KD KF -', 'HA HE HF DA QC QA QD IA TA RG RI RA RJ -', 'HA HE HF FA IA QC QA QD KC KA KD KF -', 'KD KF -', 'HA HE HF EA KA KD KF -', 'HA HE RJ -', 'HA HC HD HE HF EA MA RG RJ -', 'HA HE EA MA RI RJ -', 'RJ -', 'HA HE HF EA MA RG RI RJ -', 'RJ -', 'HF RJ -', 'HA HC HE EA DA LC LA KC KA KB KD KF -', 'HE HF FA RG RI RJ -', 'HE HF FA RG RI RA RJ -', 'RJ -', 'HB HA HC HD HE HF EA DB DA IC IA RC RF RG RI RA RJ -', 'HA HE EA FA LC LA RH RC RG RI RJ -', 'HE WA RJ -', 'WA RJ -', 'HF RJ -', 'HA HE RJ -', 'HA HE RG RJ -', 'HA RI RJ -', 'HA QA KC KD -', 'HA HE HF EA QC QA DA KC KA KD KF -', 'RJ -', ' -', 'RJ -', 'HE -', 'HA HE YA RG RJ -', 'HA HE YA QD RG RI RJ -', 'HA HE FA QA KD -', 'RJ -', 'HA HE HF FA YA KD KF -', 'HF KF -', 'YA -', 'HA FA YA KD -', 'HA FA YA KD KF -', 'HA HE HF FA YC YA KD KF -', 'HA HC HE FA LC LA PA VA RC RG RI RJ -', 'KF -', 'HA HE FA LC LA DA SA KC KA KD KF -', 'HA HE FA LC LA PA VC VA KE KC KA KD KF -', 'HA HE FA EA KC KA KD KF -', 'HA HE FA LA TA KC KA KD -', 'HE RJ KD KF -', 'HE HF KD -', 'RJ KF -', 'KD -', 'HA HC HE FA RG RI RJ EA -', 'HA HE FA DA IA LA RG RJ -', 'HA HC HE FA LA NA KC KA KD KF -', ' -', 'HA HE FA KD -', 'HA HE FA KD -', 'HA FA KD -', ' -', 'HA KD -', 'HA HF KD KF -', ' -', 'WF -', 'WF -', 'HB HA HE HF PA DA EA RC RG RI RA RJ -', 'HE FA RA RJ -', 'HA HE FA QA RG RI RJ -', 'HE YA KD KF -', 'HE YA QD KD -', 'YA KD -', 'KF -', 'HA HE IC IA PA FA VA KC KA KD -', ' -', 'WA KF -', 'WA -', 'WA -', 'WA -', 'WA -', 'HA YA KD KF -', 'HA KD KF -', 'KF -', 'HA HD HE HF RG RA RJ -', 'HA HC HD HE HF EA RG RI RA RJ -', 'RJ -', 'HD HE RJ -', 'HD HE QD RJ -', 'HA HC HD HE HF EA KA KD KF -', 'HD HF QD TB YA RI RA RJ -', ' -', ' -', ' -', ' -', 'HA HE HF QD YA KD KF -', 'HA HE QD YA KD KF -', 'KF -', 'HA HC HE IC IA LC LA QB QC QA QD RH RC RG RI RA RJ -', ' -', ' -', 'HA HE MA QA QD YA RG RI RJ -', 'HA HE IC IA LC LA KC KD KF -', 'HA HE IC IA PA QC EA KC KD KF -', 'HA FA RJ -', ' -', 'HA HC HE IC IA TA DA EA RC RG RI RA RJ -', 'HB HA HC HD HE IA DA EA RG RI RJ KC KA KB KD KF -', 'HA HE IA DA EA RG RJ KC KD KF -', 'HE RJ KD KF -', 'HE RJ KD KF YA -', 'RJ KF -', 'HA HE IA YA FA EA KC KA KD KF -', 'HF KF -', 'HE KD KF YA QD RA RJ -', 'HB HA HC HD HE HF LC LA EA NB NA RH RC RG RI RA RJ -', 'HA QD RG RI RJ -', 'RJ -', 'HA HE LA NA YA KD -', 'HB HA HC HE HF LC LA DB DA QC QA QD VA TA TB RC RF RG RI RJ -', 'HA HE LC LA EA IC IA VA KC KA KD KF -', 'KF -', 'HA HE LA EA MA KD KF -', 'HA HE EA FA RJ -', 'HA HE EA FA RG RJ -', 'HA FA RI RJ -', 'HB HA HC HD HE LC LA FA VA KC KA KD -', 'HA HE LA FA KC KA KD KF -', 'HA LA FA KD KF -', 'HA HE QA QD RG RJ -', 'RJ WF KF -', 'RJ KF -', 'RJ -', 'HB HA HD HE HF LA IA RG RI RJ -', 'RJ -', 'HA HE LA IA EA -', 'HA HE LC LA VA MA KE KC KD -', 'HA HE LC LA VC VA MB MA KE KC KA KD -', 'HA HE LC LA WD WA DA KC KD -', 'HE RJ -', 'HA HC HE LC LA NB NA KC KA KD KF -', 'HA LA KC KD KF DA MA FA -', 'HA HE LC LA RI RJ FA KE KC KD KF -', 'HA HE LC LA NA KC KA KD KF -', 'HA HE RJ -', 'HA HE HF MA RG RI RA RJ -', 'HA HE MA RG RA RJ -', 'RJ -', 'HA HE RJ -', 'HA HE HF RG RA RJ -', 'HA MA -', 'HA HE MA RJ -', 'HA HE RF RG RI RJ -', 'HA HE LC LA TA DA EA KC KA KD -', 'HA HE LA YB YA IA KC KA KD KF -', 'EA KD -', 'HA HE FA -', 'HA HE FA EA MA KD -', 'KF -', 'HA HE YA KD KF -', 'HA HE RG RJ -', 'RJ -', 'RJ -', 'HB HA HC HD HE HF MA LA FA DA KC KA KD KF -', 'HB HA HC HE HF MA LA FB FA DA KC KA KB KD KF -', 'HB HA HE HF MA LA FB FA DA KC KA KD KF -', 'HB HA HC HE HF NA IC IA LC LA RH RC RG RI RA RJ -', 'HA HE FA RJ -', 'HA HE YA IA KC KA KD KF -', 'KF -', 'EA -', 'KF -', 'KF -', ' -', 'KF -', 'HA HE FA KD -', 'HA HE EA RJ -', 'HA HE RJ -', 'HA HE HF YB YA RG RI RJ -', 'RJ -', 'HA YA RJ -', 'HA HE YB YC YA RG RI RJ -', 'RJ -', 'KD -', 'HB HA HE MA DA TB EA IA KC KA KD KF -', 'RJ -', 'HB HA HC HD HE HF PA TA DB DA LC LA KC KA KB KD KF -', 'HE RJ -', ' -', ' -', 'HA HF QC QA QD EA MA RJ DA IA KC KA KD KF -', 'HA HE RG RJ -', 'HA HE QD RG RJ -', 'HB HA HE HF QC QA QD LC LA KC KA KB KD KF DB DA VA EA -', ' -', 'HE QD YA KD KF -', 'QD YA KD KF -', 'HA HE QC QA QD KC KA KD -', 'HA HD HE QC QA QD FA RG RJ -', 'HA HD HE QA LA NA EA KA KD -', 'HA HD HE HF QA QD LA DA NA EA KA KB KD KF -', 'HA QA LA DA NA EA KA KD KF -', 'KF WA -', 'HF KF WA WF -', 'WA WF -', ' -', 'HF KF WA -', 'WA WF -', 'HB HA HE HF IA KC KA KD KF -', ' -', 'HA HE HF FA KD -', 'HA HC HE HF SA FA KE KC KA KD -', 'HA HE HF DA IA LA EA KC KA KD KF -', ' -', ' -', 'FA -', 'RJ -', 'HA HE HF FA QD MA KD KF -', 'HA HE HF FA QD MA KD KF -', ' -', 'HA HE HF QA RJ -', 'HA HE HF FA RJ -', 'HA FA RJ -', ' -', ' -', ' -', 'HF -', 'HA HE HF KD -', 'HA HE HF QD KD KF -', 'HA HE HF KD -', 'HA HE HF TB QA QD KA KD KF -', 'HA QA QD KD -', 'HA KD KF -', ' -', 'HA HE HF MA EA KD -', 'HA HE HF MA EA KD KF -', 'HF -', 'HA HE HF EA KD -', 'HA HE HF EA KD -', 'HF -', 'HA HE HF KD -', 'HA HE HF MA EA KA KD KF -', 'HF KF -', 'HA HE HF EA KD -', 'HA HE HF EA KA KD -', 'HF KF -', 'HA MA EA KD -', 'HA HE HF MA EA KA KD KF -', 'KF -', 'HA MA EA KD KF -', 'KF -', 'HA MA EA KD KF -', 'HA HE MA EA KD KF -', 'HA EA KD KF -', 'HA HE LA QC QA IA KC KD KF -', 'HE HF QD KD KF -', 'HF -', 'EA -', 'QD KD -', 'QD KD KF -', 'KF RJ -', 'KF RJ -', 'HE HF QD TB KD KF -', 'HF RJ -', 'HB HA HC HE HF QC QA QD DA RC RG RI RA RJ -', 'HA HE HF MA QA RG RI RJ -', 'HA HE HF SA VA LC LA PA KE KC KA KD KF -', 'HB HA HC HE HF DA QC QA QD EA LA KC KA KD KF -', 'HA HE HF TA EA QC QA RC RG RJ -', 'HA EA KD KF -', 'HA EA KD -', 'HA HE HF EA LA KA KD KF -', 'HA EA LA KA KD KF -', 'HA IA LA KC KD KF -', 'HA FA RJ -', 'HA HC HE HF LC LA EA -', 'HB HA HE HF TB LA IA EA KC KA KD KF -', 'RJ -', 'HB HA HE HF TA RH RC RG RI RJ -', 'HA HE HF LA EA KC KD KF -', 'HA HE HF EA KA KB KD KF -', 'HA HC HE HF NA LA EA KA KD KF -', 'HA HE HF LA EA KA KD KF -', 'HA HC HE HF TB YB YC YA MA EA RG RI RJ -', 'HE HF KF -', 'HE HF KF -', 'KF RJ -', 'HB HA HC HE HF TA TB QC QA QD LC LA EA KC KA KD KF -', 'HA HE HF WD WA LA KC KA KD -', 'HF WA KF -', 'HA HE HF WD WE WA WF LA KC KA KD KF -', 'HA HE HF KD -', 'HA HE HF FA EA KA KD KF -', 'HF -', 'HA FA EA -', 'HA FA EA KD KF -', ' -', 'HE HF FA KD KF RI RJ -', 'FA KD KF RI RJ -', ' -', 'HA HE LA WD WA RG RJ -', 'HA HE YA KD -', 'HA HE YB YC YA LA KA KD KF -', 'HA HE YA LA KD -', 'KF -', 'RJ -', 'HA HC HE VA DA WD WA RH RC RG RI RJ -', 'HA HE VA RC RE RG RJ KC KA KD KF -', 'HA HE EA QA KD KF -', 'HA HE LA NA KC KA KD KF -', 'KF -', ' -', ' -', ' -', ' -', ' -', 'HE RJ -', 'HE HF YA RJ -', 'HF RJ -', 'HA HE QA RG RJ -', 'HA HE VA LC LA IC IA EA NA KC KA KB KD KF -', 'HA HE KD -', 'HA HE HF LA IA QC QA QD EA KC KA KD KF -', ' -', 'HA HE HF QA QD TB KA KD KF -', 'HA HE VA KC KA KD KF -', 'HA HE QA QD KB KD KF -', 'HA HE RJ -', 'HA HE WD WA WF VA EA QC QA QD RG RI RA RJ -', 'HA HE YA RI RJ -', 'RJ -', ' -', 'HA YA -', ' -', 'HA HE YA KD -', 'HA HE HF YA EA KA KD KF -', 'KF -', 'KF -', 'FA -', 'KF -', 'IC IA KE KC KA KD KF -', 'IC IA LC LA RC RJ -', ' -', 'HF KF -', 'HF KF -', ' -', 'RG RJ -', 'RJ -', 'KD -', 'KD KF YA FA WD WE WA WF -', 'KD KF YA FA WD WE WA -', 'KD -', ' -', 'RJ -', 'RJ -', ' -', 'RJ -', ' -', ' -', 'YA -', 'YA KD KF -', 'IA NA KD -', 'IC IA FA LC LA PA KC KD KF -', 'IA FA QC QA YA LA KC KD KF -', ' -', 'IA LA RI RJ -', ' -', ' -', 'RJ -', ' -', 'YA RJ -', 'QA YA RJ -', 'IA RC RJ -', 'IC IA FA RC RG RJ -', 'RJ -', 'IC IA QC QA HA LC LA KC KD KF -', 'YA RJ -', 'RJ -', 'MA FA KD -', 'IA LA NA RJ -', 'QA RJ -', 'RJ -', 'RJ -', 'IC IA QC QA MA YA RC RG RI RJ -', 'IC IA QC QA QD LC LA EA VA KC KD KF -', 'KF -', 'KD -', ' -', 'WA -', 'WA WF -', 'WA WF KF -', 'WA WF -', 'IC IA TA KE KC KD KF -', 'IC IA TA YA SA KE KC KD KF -', 'WA KF -', 'WA KF -', 'FA KD KF -', 'FA KD -', 'RJ -', 'YC YA QA QD KA KD KF -', 'IC IA DB FA KC KD -', 'FA RJ -', 'WD WA RJ -', 'WD WA RJ -', ' -', 'RJ -', 'RJ -', 'RJ -', 'KD KF -', 'KF -', ' -', 'KD -', 'KF -', 'KF -', 'IA QC QA LA SA KC KA KD -', 'IC IA QC QA NA LC LA KC KA KD KF -', ' -', 'KF -', 'IC IA DA QB QC QA QD MA KE KC KA KD KF -', 'IA LA KC KD -', 'IA LA KC KD KF -', 'IA DA NA HA HF KC KA KD KF -', 'KD KF FA -', 'KF -', 'KD KF FA -', 'EA RJ -', 'KD KF -', 'KD KF -', 'RJ KF -', ' -', ' -', 'KD -', 'IC IA LC LA FA KC KA KD -', ' -', 'IA LA FA KC KD -', 'IA LA FA KC KA KD -', 'FA KD -', 'IA DA LA FA KC KD -', 'IC IA DB DA HB HA HE HF TA KC KA KB KB KD KF -', 'HA HE HF KB KD KF YA -', 'HF KF -', 'RJ -', 'IA LA HA RJ -', 'IA LA FA RJ -', 'RJ -', 'IC IA NA YA VA KC KD KF -', 'RJ -', 'IC IA DB DA PA NB NA YA KE KC KA KD KF -', 'RJ -', 'IA RJ -', 'KD KF -', 'IA DA PA LA KC KD -', ' -', ' -', 'QA EA KD -', ' -', 'KF -', 'KD KF -', 'IA LA RG RJ -', 'RJ -', 'IA WD WA FA KD -', 'IA WA FA KC KD -', 'IC IA DB DA TA VA KE KC KA KD KF -', 'IC IA DB DA VA EA KC KD KF -', 'KD YA -', 'KF -', 'RJ -', 'EA KD -', 'KD KF -', 'KD KF -', 'KD -', ' -', 'KF -', 'KD -', 'QD HE FA KD KF -', 'KF -', 'HE FA KD -', 'HF KF -', 'IC IA EA DB DA NB NA FB FA RC RG RI RA RJ -', 'QD RJ -', 'RJ -', 'IA EA LA KD -', 'IA EA KC KD -', 'RJ -', 'YA RJ -', 'IC IA EA QC QA QD NA KC KA KB KD KF -', 'RJ -', 'RJ -', 'HA HE HF KD -', 'EA HA HE HF KD -', 'IC IA EA HA HF FB FA VA KC KD -', ' -', 'RJ -', 'IC IA EA KC KD KF -', 'IC IA EA KC KA KB KD KF -', 'KD KF -', 'KD KF -', ' -', 'WA -', 'RJ -', 'RJ -', 'RJ -', 'FA YA RJ -', 'YA KD -', ' -', 'RJ -', ' -', ' -', 'EA HA RG RJ -', 'EA HA HE RG RI RA RJ -', ' -', ' -', 'EA WE WA HA HF FA TB KA KD KF -', 'WA KF RJ -', 'YA QD KD KF -', 'YA QD KD KF -', 'FA KD -', 'IC IA FA LC LA VA KC KD -', ' -', 'KF -', 'IA FA YA QC QA RJ -', 'IC IA FA EA RC RG RI RJ PA KC KA KD KF -', 'FA KD -', 'YA RJ -', 'YA RJ -', 'IC IA FA NB NA KE KC KA KD KF -', 'IA FA KC KD -', 'FA RJ -', 'IC IA FA LC LA RH RC RG RI RA RJ -', 'RJ -', 'IA FA QA QD NA LA KA KD KF RG RI RJ -', 'IA FB FA QA QD NA TB LA KA KB KD KF RG RI RJ -', 'FA YA RJ -', 'FA WA KD KF -', 'IC IA FA TA YA RH RC RG RJ -', 'IC IA FA LC LA NA EA KC KA KD KF RG RI RJ -', 'FA RJ -', 'IC IA FA LC LA WA RB RC RJ -', ' -', 'KF -', ' -', ' -', 'FA EA -', 'KF -', 'KF -', ' -', 'KF -', 'IA FA NA LA KC KA KD -', ' -', 'FA WA KD -', 'IC IA FA PA VC VA EA KE KC KA KD KF -', 'FA QD KD KF -', 'FA KD KF -', 'IC IA FA QB QC QA VC VA KE KC KA KD KF -', ' -', ' -', ' -', 'IC IA FA DA RC RG RJ -', 'IC IA FA SA NA RH RC RE RG RI RJ -', 'IA FA QC QA HA LA KC KD KF -', 'FA HA RJ -', 'FA EA HA RG RI RJ -', 'FA KD -', 'IA FA TA PA LA HA HE HF KC KD -', ' -', 'FA KD KF -', ' -', 'IC IA FB FA VA RC RG RI RJ -', ' -', 'IC IA FA VA PA NA KC KA KD -', 'IC IA FB FA VA NA KC KA KD KF RG RI RJ -', 'IA FA YA LA QC QA KC KD -', 'IA FA YA KC KD -', 'IC IA FA LC LA RC RJ -', 'RJ -', 'RJ -', ' -', 'KF -', 'IA DA LA QC QA QD FA RG RJ -', 'QA KD -', 'QA KD KF -', ' -', 'IC IA MA VA EA FA RC RJ -', 'IC IA TA FA RC RJ -', 'YA KD -', 'FA KD KF -', 'EA FA KD -', 'FA QD KD -', 'HE HF QD RJ -', 'KF -', 'KF -', ' -', ' -', 'HA HE YA RG RI RJ -', 'HA HE YA RG RI RJ -', 'HF RJ -', 'EA YA RJ -', 'HA HE YC YA RG RI RA RJ -', 'IC IA HA EA YB YC YA LC LA RG RI RJ -', 'RJ -', 'IC IA TA TB EA RC RG RI RA RJ -', 'IA NA RG RI RJ KA KD KF -', 'IC IA HA HE FA LC LA KC KA KD KF -', 'IC IA HA HE FB FA LC LA KE KC KA KD KF -', 'KF -', 'EA FA YA KD -', 'FA TB RG RI RJ -', 'FA RJ -', 'FA KD -', 'IA LA FA SA KC KD -', 'IC IA TA MA KE KC KD KF -', 'IC IA LC LA FA VA KC KD -', 'IC IA LC LA FA KC KD -', 'KD KF -', 'KD KF -', 'KD KF -', ' -', 'KD KF -', 'IC IA PA QC QA LC LA KC KD -', 'KF -', 'QA FA YA KD KF -', 'RJ -', 'IC IA QC QA QD EA VA KC KD -', 'IA LA FA QC QA KC KD KF -', 'KF -', 'IC IA VA FB FA QC QA RG RJ -', 'KD -', 'IA FA LA KC KD KF -', ' -', 'KF -', ' -', ' -', 'IC IA YB YA PA NA FB FA KC KD KF -', 'KF -', 'KF -', 'IA HB HA HE HF FB FA TB NA DA KC KA KD KF -', 'IA HA HE FA YC YA KC KA KD -', 'IC IA HA HE HF FB FA YB YC YA KC KA KD KF -', 'HA KD KF -', 'HE YA RJ -', 'HE YA RJ -', 'RJ -', 'RJ -', 'YA RJ -', 'HE RJ -', 'MA QA QD RJ -', 'HE QD YA RJ -', 'RJ -', 'QA RJ -', 'YA RJ -', 'IC IA HA HE LC LA QB QC QA QD PA KE KC KA KB KD KF -', 'HA RJ -', 'HA HE YA RG RI RJ -', 'RJ -', 'HA YA TB RJ -', 'HA YC YA RI RJ -', 'HA HE QA WD WA RG RI RJ -', 'HA QA WD WE WA WF RG RI RJ -', 'IC IA HA HE HF VA QC QA QD RH RC RG RI RJ -', ' -', 'HA HE HF YA EA MA KA KD KF -', 'HA HE HF YA EA MA KA KD KF -', 'KF -', 'HA YA EA KD -', 'HA HE YA EA KD KF -', 'EA MA -', 'HA YA EA MA KD KF -', 'HA YA EA MA KD KF -', ' -', 'HA YA EA KD -', 'HA YA EA KD KF -', 'KF -', 'KA KD KF EA QA QD -', 'IC IA HA HE HF TA TB QC QA QD MA RC RG RI RJ -', 'IC IA HA RC RG RJ -', 'IC IA HA QC RC RJ -', 'IC IA HA HE HF TA TB QC QA RC RF RG RI RA RJ -', 'IC IA QB QC QA QD EA KE KC KA KD KF -', 'RJ -', 'KF WA RJ -', 'QA HA RG RJ -', 'KF -', ' -', 'KF -', ' -', ' -', ' -', 'YA KF -', 'YA -', 'RJ -', 'IA YA RJ -', 'RJ -', 'EA KD KF RJ -', 'KB KD KF RG RI RJ -', 'KD KF RG RI RJ -', 'EA HA YA KD KF -', 'EA HA YB YA KD KF -', ' -', ' -', 'IC IA EA QC QA QD LC LA NA KC KA KB KD KF -', 'KD -', 'KF -', ' -', ' -', ' -', 'IC IA MA DB KC KA KD -', ' -', 'IC IA MA DA KC KA KD KF -', 'IC IA DA NA KC KD KF -', 'IC IA LC LA DB DA HA HE HF EA KC KA KB KD KF -', 'IC IA LC LA DA HA HE HF EA KC KA KD KF -', 'IC IA LC LA HA HF KC KD KF -', 'HA HE HF EA KA KD KF WD WE WA WF -', 'QA RJ -', 'RJ -', 'RJ -', 'RJ -', 'QA RJ -', 'RJ -', 'RJ -', 'RJ -', 'QA MA RJ -', ' -', 'RJ -', 'RJ -', 'QA RJ -', 'RJ -', 'IC IA LC LA RC RG RI RJ -', 'IA LA TA QC QA QD FA RA RJ -', 'RJ -', 'EA YA KF HA -', 'FA YA KD KF -', 'FA YA KD KF -', 'KF -', 'KF -', ' -', 'IC IA PA KC KD KF -', 'KF -', 'IC IA QB QC QA QD SA MB MA KE KC KA KD KF -', 'IC IA QB QC QA QD SA KE KC KA KD KF -', 'FA KD -', 'IC IA RC RG RI RJ PA FB FA LC LA KC KA KD KF -', 'RJ -', 'RJ -', 'IC IA SA RH RC RG RI RA RJ -', 'EA KA KD KF -', 'IA EA KC KA KD KF LA -', 'KF -', ' -', 'KF -', ' -', ' -', ' -', ' -', ' -', ' -', 'MA KD -', 'IA KD -', ' -', 'KD -', 'IC IA VA KE KC KD -', ' -', 'YA KD KF -', 'KF -', 'IC IA KC KA KD KF DA YB YA -', 'KD KF WD WA RJ -', 'KD KF RA RJ -', 'KF WA RJ -', 'KD KF WA RA RJ -', 'KD KF WA RJ -', 'KF WA RJ -', ' -', 'KF -', 'KD EA -', 'KF -', 'KA KD KF EA HA HE QA YA -', 'IC IA KC KA KD KF EA LC LA TA RC RG RI RJ -', ' -', 'KA KD KF FB FA QA QD RG RI RJ -', 'IC IA KC KA KD KF FA PA NB NA RC RG RI RJ -', ' -', 'KF -', 'KD HA -', 'KA KD KF EA HA HE HF -', 'IA KC KA KD KF NA LA EA RG RI RJ -', 'IA KC KD KF LA EA RG RI RJ -', 'KF HE HF WA WF -', 'KD KF HA HE MA QA QD EA WD WE WA WF -', ' -', 'QA FA RJ -', 'KD KF RJ -', 'KD KF YA RJ -', 'IA LA NA KC KA KD KF -', 'KF -', 'RJ -', 'RJ -', 'QD KD KF -', 'KD KF -', ' -', 'RJ -', 'FA HA KD KF -', 'IC IA LC LA QC QA QD KC KA KB KD KF -', 'KD KF -', 'EA HA HE HF KA KD KF -', ' -', 'IA LA WA HA HF -', 'IA LA WD WA HA HF -', 'WA HA KD -', 'HA HE HF KD -', 'WD WA HA HF KA KD KF -', 'IC IA LC LA MA FA KC KD KF -', 'FA RJ -', 'RJ -', 'RJ KF -', 'EA MA FA KD -', 'RJ KF -', ' -', ' -', 'RJ KF -', 'IC IA LC LA FA WD WA KC KD -', 'IC IA LC LA EA KC KD KF -', 'IA LA EA KC KD KF -', 'RI RJ -', 'IA LA EA YA KC KD KF -', 'IC IA LC LA FA RC RG RJ -', 'IC IA LC LA FA PA KC KA KD KF -', 'IC IA LC LA FA RC RI RJ -', 'FA RJ -', 'FA QA RJ -', 'FA QA QD EA RG RI RJ -', 'FA QA RJ -', 'RJ -', 'FA KD -', 'MA YA HA HF KD -', 'IA LA KC KD -', ' -', 'IA LA EA NA KC KD KF -', 'EA RJ -', 'IA LA QA HA RJ -', 'RJ -', 'QA QD RJ -', 'IA LA QC QA QD EA HA RG RI RJ -', 'RJ -', ' -', 'TB QD YA KD KF -', 'IC IA LC LA EA KC KD KF -', 'HA KD KF -', 'IA LA DA HA KC KD KF -', 'IA LA HA KC -', 'KD -', 'IA LA HA KC -', 'IC IA LC LA PA HA HE HF KE KC KA KB KD KF -', 'MA QA KD KF -', 'YA -', 'YA QA KD KF -', 'HA HE RG RI RJ -', 'FA -', 'IC IA LC LA HA HE HF VA RC RG RI RJ -', 'IA LA WA KC KD -', 'RA RJ YA -', 'RJ YA -', 'IA LA RJ -', 'RJ -', ' -', 'FA KD -', ' -', 'FA KD KF -', 'FA QD KD KF -', 'IA LA KC KD KF -', 'IC IA LC LA NA KC KD KF -', 'IA LA MA KC KA KD KF -', 'IA LA MA DA NA KC KA KB KD KF -', 'RJ -', 'IA LA MA RG RI RA RJ -', 'IA LA MA RJ -', 'RJ -', 'IA LA RJ -', 'RG RJ FA -', 'IC IA LC LA NB NA KC KA KD KF PA -', 'IC IA LC LA NA KC KA KD PA -', 'KF -', 'MA FA YA RG RI RJ -', 'YA KD KF -', 'QA QD EA FA RJ -', 'IC IA LC LA QC QA QD EA KC KD KF -', 'IC IA LC LA QC QA KC KD KF -', ' -', 'IC IA LC LA QC QA QD HA HC HE HF FB FA RH RC RG RI RJ -', 'IA LA QC QA RJ -', 'KF -', 'KF -', ' -', 'KF -', 'RI RJ HE HF -', 'IC IA LC LA NB NA RC RG RI RJ -', 'KD -', 'QD KD KF -', 'QD KD KF -', ' -', 'QD HE HF KD KF -', ' -', 'FA KD -', 'IC IA LC LA TA NB NA PA RH RC RG RI RA RJ -', 'HE HF KF -', 'HF KF -', ' -', 'MA KD KF -', 'KD KF -', 'KF -', ' -', ' -', 'YA FA KD KF -', 'YA RG RI RJ KD KF -', 'FA RJ -', 'IC IA LC LA YB YA QC QA QD RG RI RA RJ -', 'IC IA LC LA YB YA QC QA RG RA RJ -', 'YA RJ -', 'MA YA -', 'KF -', 'YA FA KD -', 'YA FA KD -', ' -', 'RJ -', 'RJ -', 'EA RJ -', 'RJ -', 'YA RJ -', 'MA EA HA YA RG RI RA RJ -', 'YA RA RJ -', 'RJ -', 'RJ -', 'QD RI RA RJ -', 'RJ -', 'RJ -', 'QD RJ -', 'RJ -', 'RJ -', 'RJ -', 'RI RJ -', 'IA MA LA NA HA HE HF KC KA KD KF -', 'MA HA KD KF -', 'IA MA LA NA HA HE HF DA KC KA KD KF -', 'IA MA LA LN NA HA HE HF DA KC KA KD KF -', 'WA WF KF -', 'IA MA LA KD -', 'IA MA LA WD WA KC KA KD KF -', 'MA QA EA RG RI RJ -', 'IC IA PA HA HE FA QC QA QD KC KA KD KF -', 'IC IA MB MA QB QC QA WD WA RH RC RG RI RJ -', 'IC IA MB MA SA VC VA KE KC KA KD KF -', ' -', 'MA RJ -', 'MA RJ -', 'WD WE WA QA KD KF -', 'EA QA QD KD KF -', 'IA KC KD QA -', 'KA KD KF FA QA RG RJ -', 'IC IA LC LA EA RC RG RJ -', 'IA NA LA FA RJ -', 'IC IA NA VA RC RG RJ -', 'IC IA NA VA LC LA RH RC RG RI RJ -', 'KD KF -', 'RJ -', 'RJ -', 'QA RJ -', 'FA RI RJ -', 'FA RI RJ -', 'QD FA RI RA RJ -', ' -', 'IC IA NA MA LC LA TA TB KC KA KD KF -', 'IC IA NA MA EA LC LA KE KC KA KD KF -', 'FA -', 'MA FA HA KD KF -', 'QA QD YA RG RJ -', 'RJ -', 'RJ -', 'YA RJ -', 'KD KF -', 'YA KD -', 'HE HF QD YA KD KF -', 'RJ -', 'IA FA LA RJ -', 'HF RJ -', 'RJ -', 'QD YA RJ -', 'IC IA PA VA KC KA KD KF -', 'IA PA LA KC KD -', 'IA WA FA LA RG RJ -', 'WA WF RJ -', 'KF -', 'KD -', 'KF -', 'TB RG RI RA RJ -', 'KD -', ' -', 'RJ -', 'RJ -', 'RJ -', 'FA YA KD KF -', 'IA FB FA LA YB YA KD KF -', 'QA QD FA KD KF -', 'IC IA PA LC LA VC VA KC KD KF -', ' -', 'KD KF -', ' -', 'IC IA LC LA HB HA HD HE HF QC QA KC KA KD KF -', 'IC IA LC LA HA HE QC QA KC KA KD KF -', 'HA KD KF -', 'HA HF QD KB KD KF -', 'IC IA PA LC LA QA KC KD KF -', 'RJ -', 'MA RJ -', 'YA RI RJ -', 'YA RI RJ -', 'RJ -', 'MC YA RJ -', 'MC YA RG RI RJ -', 'YA RJ -', 'YC YA RG RI RJ -', 'FA KD -', ' -', 'KF -', 'KF -', 'KF RJ -', 'KF RJ -', ' -', 'RJ -', 'RG RA RJ -', 'HE HF RJ -', 'IC IA PA HA HE VA RC RG RI RJ -', 'HF RJ -', 'HA HE RJ -', 'IC IA PA HA HE VA RC RG RI RJ -', 'IC IA PA RC RJ -', 'QD RG RI RJ -', 'IA WD WE WA FA RG RI RJ -', 'FA KD -', 'IA QC QA FA LA KC KD KF -', 'IC IA PA VA EA KE KC KD KF -', 'RJ -', ' -', 'IC IA PA YA LC LA FA RC RG RI RJ -', 'KD KF YA -', 'EA RJ -', 'QD RI RJ -', 'RJ -', 'RJ -', 'IC IA QC QA LC LA RC RG RJ -', 'RJ -', 'KF -', 'KF -', ' -', ' -', ' -', ' -', 'QD FA RJ -', ' -', 'IA QC QA QD DA LA KC KA KD KF RG RI RJ -', 'KF RJ -', 'KF -', 'IA QA LA KC KD -', 'RJ -', 'IC IA QC QA QD FA KC KD KF -', 'YA RJ -', 'QD FA RG RJ -', 'FA RI RJ -', 'RJ -', 'RJ -', 'KF -', 'RJ -', 'HF RJ -', 'HF -', 'RJ -', 'IA QC QA QD EA DA FA RJ -', 'RJ -', 'QA KD KF -', 'KD KF -', 'QA QD EA RG RJ -', 'QA EA RG RI RA RJ -', 'IC IA QC QA QD NB NA TA VA RC RG RI RA RJ -', 'IA QC QA NA LA KC KA KD -', 'QA FA KD KF -', 'IA QC QA QD HA HE HF YA RG RI RJ -', 'YA KD KF -', ' -', 'IC IA QB QC QA QD VA RH RC RG RI RJ -', 'QA QD EA HA HE HF FB FA KD KF -', 'HF KF -', 'QA QD EA HA HF FA KD KF -', 'RJ -', 'RJ -', 'RJ -', 'RJ KD KF -', 'IA DA FA LA KC KD -', 'RJ -', 'RJ -', 'RJ -', 'RG RJ EA TB QA QD -', 'RJ YA -', 'WA -', 'IA RG RI RJ LA FA -', 'RJ YA FA -', 'IA LA KC KD KF -', 'KF -', 'KF -', 'IA LA HA HF KC KA KD KF -', 'IC IA SA PA VA KE KC KD KF -', 'IA EA NA QC QA QD RG RI RJ -', 'QA QD RI RJ -', 'FA RJ -', 'FA RG RJ -', 'EA KD -', ' -', 'KF -', 'YA -', 'KF -', 'EA KD -', 'IA EA LA KC KD KF -', 'KF -', 'KF RJ -', 'KF RJ -', 'IA EA YA LA KC KD KF -', 'IA FA KC KD -', ' -', 'FA QA KD -', ' -', 'KF -', 'FA EA YA KD -', 'KF -', ' -', 'KF RJ -', 'KF RJ -', 'KF RJ -', 'KF RJ -', 'IC IA FA HA KC KD -', 'IC IA FA HA KC KD -', 'IC IA FA HA NA KC KD -', 'IA FA HA HE HF LA NA RG RJ -', 'FA HA HE RJ -', 'IA FA HA LA RJ -', 'HF RJ -', 'KF -', 'IA FB FA KC KA KD KF -', 'IA LA KC KD -', 'QD KD KF -', 'HA HE FA KD -', 'HA HE HF EA FA KD KF -', 'HA EA FA KD -', 'HA HE EA FA KD KF -', 'IA SA EA LA KC KD -', 'QD KD KF -', 'IC IA LC LA HA RC RJ -', 'HF RJ -', 'HA RJ -', 'IC IA LC LA HA HE RC RG RI RJ -', 'IC IA LC LA HA WA WF KC KD -', 'IA LA HA HE WD WA NA KC KD -', 'QD KD KF -', 'KD KF -', 'IA LA FB FA -', 'RI RJ -', 'FA RI RA RJ -', 'RJ -', 'FA RJ -', 'FA RJ -', 'YA RJ -', 'YA RJ -', 'YA RJ -', 'YA -', 'YA RA RJ -', 'MA KD -', 'RJ -', 'MA -', 'MA HA HE HF KA KD KF -', 'MA KD -', 'MA HA HE HF KA KB KD KF -', ' -', 'MC -', 'MA HA KD -', 'IA MA LA HA KC KD -', ' -', 'MC HA KD KF -', 'IA MA MC DA LA HA KC KA KD KF -', 'MA KD -', 'MA HA KD -', 'MA HA KD -', 'MA HA KD KF -', 'MA HA KD -', 'MC HA KD KF -', 'MC HA HE HF KA KD KF -', 'MA KD -', 'MA HA KD -', ' -', 'MC HA KD -', 'HF KF -', 'HA KD KF -', 'MA FA KD -', 'MA KD KF -', 'IA MA LA KD -', 'KF -', 'IA MA LA NA KC KD KF -', 'KD KF -', 'IA NA KC KD KF -', 'KF -', 'IA EA FA KD KF LA -', 'FA KD -', 'IA EA FB FA KA KD KF LA -', ' -', 'IA QC QA LA YA KC -', 'RJ -', 'IC IA SA QB QC QA VA FA RH RC RG RJ -', 'RJ -', 'YA KD -', 'RJ -', 'RJ -', 'MA FA KD KF -', 'EA QA QD KA KD KF -', 'EA KD -', 'IA DA NA RG RI RJ -', 'KF -', 'IA EA LA KC KD -', 'IA EA LA DA KC KA KB KD KF -', 'KD KF RJ -', 'EA KD KF RI RJ -', 'YA HA HF -', 'KF -', ' -', 'WA KF -', 'KF -', 'IC IA VA LC LA EA RC RG RJ -', 'KF -', 'IC IA VA TA RC RG RI RJ PA LC LA KC KA KD KF -', 'RJ KF -', 'IC IA VA TA RC RG PA LC LA KC KD -', 'YA KF -', ' -', 'YA EA KA KD KF -', ' -', 'IA YB YA LA FB FA QC QA RG RI RJ -', 'IC IA SA YA LC LA QB QC QA RB RC RG RI RJ -', ' -', 'IC IA TA EA LC LA KE KC KA KD KF -', 'KF -', 'YA HA RJ -', 'EA YA MA HA RG RI RJ -', 'FA KD KF -', 'FA KD KF -', 'FA HE KD KF -', 'IA TA HA RG RJ -', 'RI RJ -', 'RJ -', 'QA KD KF -', 'KF -', 'IC IA TA VA PA LC LA KC KD KF -', 'TB KD -', 'IA TB KC KD KF -', 'TB KD KF -', 'IC IA TA TB YA MA KC KD KF -', 'IC IA TA TB YA MA KC KD KF -', 'IC IA TA TB YA MA KC KA KB KD KF -', 'MA QA RJ -', 'MA FA KD -', 'MA FA KA KD KF -', 'TB QA QD YA FA RG RI RJ -', 'HA HF YA KD KF -', 'HA HE YB YA KA KD KF -', 'TB RG RI RA RJ -', 'RG RJ -', 'IA EA MA LA KD KF -', 'HF RJ -', 'RJ -', 'IC IA TA EA QC QA QD VA MA KC KA KD KF -', 'RJ -', 'FA YA RJ -', 'IA TA FA QB QC QA KE KC KD -', 'IC IA TA PA FA KE KC KD KF -', 'RG RJ -', 'IA NA HA LA KC KD KF -', ' -', 'IA RJ -', 'IC IA TA YA RC RI RJ -', 'IA LA HA RJ -', 'RJ KF -', 'IA LA FA KD -', 'IA TA LA WA PA RC RJ -', 'IC IA TA MA YB YC YA LC LA KC KD KF -', 'FA KD KF -', 'KF -', 'IC IA TA PA FA KC KD -', 'IC IA TA PA FA KC KD KF -', ' -', 'KF -', ' -', 'IC IA TA TB QC QA VA LC LA HA FA RJ -', 'TB QA QD HA FA RJ -', 'IC IA TA TB QC QA QD VA LC LA HA HE FA RI RJ -', 'IC IA TA TB QC QA QD VA LC LA HA FA RG RJ -', ' -', 'HF RJ -', 'RJ -', 'EA QA RJ -', 'RJ -', 'FA RJ -', 'RJ -', 'RJ -', 'HA EA KD -', 'HA KD -', 'KD -', 'HA KA KD KF -', 'HA KD KF -', 'IA WD WE WA KC KD -', 'IA WD WE WA KC KD -', 'IC IA TA WD WE WA WF LC LA HB HA HE HF KC KA KB KD KF -', 'YA -', 'YA KF -', 'YC YA QD RG RI RJ -', 'YA QA RJ -', 'RJ -', 'RJ -', 'RJ -', 'RJ -', 'YA -', 'RJ -', 'RJ -', 'RJ -', 'RJ -', 'RJ -', 'RJ -', 'EA FA KD KF -', 'RJ -', 'KD KF YA RG RJ -', 'KD KF YA RG RI RJ -', ' -', ' -', 'IC IA VC VA EA KE KC KA KD KF -', 'IC IA VC VA EA KE KC KA KD KF -', 'IA EA WD WA WF KC KD -', 'WA WF KF -', 'IC IA VA EA LC LA KD -', 'FA KD -', 'IA FA KD -', 'IA EA FA KC KD -', 'KF -', ' -', 'YA FA RG RJ -', 'FA RJ -', 'FA EA QA QD KD KF -', 'KF -', 'FA KD KF -', 'FA KD -', 'RJ -', 'RJ -', 'RJ -', 'EA RJ -', 'RJ -', 'RJ -', 'FB FA NA KA KD KF -', 'RJ -', 'RJ -', 'IC IA VA LC LA FA RC RG RI RJ -', 'RJ -', ' -', 'RJ -', ' -', 'KF -', 'IA NA YA RG RJ -', ' -', ' -', ' -', 'IC IA VA NA HA HE HF LC LA EA KC KA KB KD KF -', 'IA NA LA EA QA QD KD KF -', 'KF -', ' -', ' -', 'IA QC QA QD RG RJ -', 'RJ -', 'FA RJ -', 'RG RJ QA QD EA -', 'IC IA VC VA SA FA KE KC KA KD -', 'RJ -', 'RJ -', 'RJ -', 'EA QA YA FA RJ -', 'KD -', 'KD -', 'KD KF -', 'KD KF -', ' -', 'KF RJ -', 'KF -', 'IC IA VA WD WE WA WF HA HE RC RG RI RJ -', 'YA RJ -', 'YA RJ -', ' -', 'RJ -', 'RJ -', 'RJ -', 'EA -', 'RJ -', 'RJ -', ' -', ' -', ' -', ' -', 'WF -', 'WD WE WA WF KD KF -', 'WD WE WA KD -', 'IA WD WE WA WF LA NA RG RI RJ -', 'WD WE WA WF KD KF RG RJ -', 'WD WE WA WF EA KD KF RG RI RJ -', 'WD WE WA RJ -', 'RJ -', 'RJ -', 'RJ -', ' -', ' -', 'RJ -', ' -', 'IC IA YA FA LC LA PA RC RG RJ -', 'YC YA EA KA KB KD KF -', 'YA RJ -', 'IC IA YA HA HE LC LA RH RC RI RJ -', 'IC IA YB YC YA HB HA HC HE HF LC LA RH RC RG RI RJ -', 'IA YB YA HA HE HF KC KA KD KF -', 'IA YB YA HB HA HE HF DA KC KA KD KF -', 'IA YA FA EA KC KD KF -', 'YA HE FA KD KF -', 'YA FA KD -', 'YA FA HA HE HF KD KF -', 'KF -', 'YC YA FA HA HE HF KD KF -', 'HF KF -', 'YA EA RJ -', 'IC IA YB YC YA VA HA HE HF PA RH RC RG RI RJ -', 'IC IA YB YC YA VC VA HA HE PA RH RC RG RI RJ -', 'KF -', 'IC IA YA VA LC LA HA HF -', 'YA QA -', 'YA HA QA -', 'YA HA HC HF QA -', 'YA KD KF -', 'YA HA QA KD KF -', 'YA KD -', 'YC YA TB HA HF QA QD KA KB KD KF -', 'KF -', 'KC KA KD -', 'KC KA KD KF VA HA RG RJ -', 'KC KA KD KF VA HA RG RJ -', 'KC KA KB KD KF DA VA HA HC HD HE HF EA RG RI RJ -', 'KC KA KD TA -', 'KE KC KA KB KD KF VC VA -', 'KC KA KB KD KF VA LC LA WD WE WA WF -', ' -', 'KF -', 'KF -', 'KA KD KF EA -', 'KA KD KF RJ -', 'KD KF EA RJ -', 'KD KF FA RJ -', 'KA KD KF EA -', 'KC KA KD KF EA PA NA QC QA -', 'KD EA YA -', 'KF YA -', 'KD FA YA -', 'KF YA -', 'KF -', 'KA KD KF FA YA EA -', ' -', ' -', ' -', ' -', ' -', 'KE KC KA KB KD KF IC IA FA -', 'KA KD KF HA HE HF RG RJ -', 'KC KA KB KD KF LC LA -', 'KC KA KB KD KF LC LA VA SA RH RC RG RI RJ -', 'KF HF -', 'KC KA KD KF PA QC QA MA EA RC RG RI RJ -', 'KC KA KB KD KF QC QA QD WD WA LC LA -', 'KC KA KB KD KF EA LA RG RI RJ -', 'KF HF -', 'KA KD KF LA YA QA QD -', 'KF RJ -', 'KC KA KD KF QC QA QD -', 'KC KA KB KD KF TB LA YB YA QC QA QD MA RG RI RJ -', 'KC KA KB KD KF LA YA QC QA RF RG RI RJ -', 'KA KD KF EA -', 'KD KF -', 'KF RJ -', 'KF RJ -', 'KF RJ -', 'KC KA KB KD KF VA QC QA TA WD WA WF RG RI RJ -', 'KC KA KD KF YA LC LA -', 'KC KA KD KF TA RC RG RJ -', 'KA KB KD KF YC YA EA HA HE HF RF RG RI RJ -', 'KA KB KD KF EA QA QD -', 'KA KB KD KF EA QA QD -', 'KA KD KF QA QD YA EA -', 'KF RJ -', 'KF RJ -', 'KD KF -', 'KD KF -', 'LP -', ' -', 'KD KF QD -', 'KC KA KD RC VA LC LA -', 'KD FA -', 'KB KD KF QD FA -', 'KD KF RG RJ -', 'KD KF RI RJ -', 'KD KF TB FA RJ -', 'KC KA KD KF LC LA PA EA RC RG RI RJ -', 'KC KA KB KD KF MA IA QC QA RG RJ -', 'KD KF FA RG RI RJ -', 'KC KA KB KD KF EA VA LC LA TA -', 'KF RJ -', 'KF RJ -', ' -', ' -', 'WA -', 'WA -', 'WA WF -', 'KF RJ -', 'KD KF -', 'KA KB KD KF EA QA QD -', 'KF RJ -', 'KF RJ -', 'KC KA KB KD KF EA QC QA QD LA -', 'KD -', 'KD -', 'KC KA KD KF EA LA FA IA RJ -', 'KC KD KF EA LA DA FA IA RI RJ -', 'KD KF RJ -', 'KD KF QD RJ -', 'KC KA KB KD KF EA LC LA PA -', 'KA KD EA -', 'KA KD KF EA LA -', 'KF -', 'KD KF EA -', 'KA KB KD KF EA LA -', 'KD EA -', ' -', 'KD KF FA RG RJ -', 'KD KF -', ' -', 'KA KB KD KF EA YA RG RI RJ -', 'KC KA KD KF FA EA LA QC QA -', 'KC KA KB KD KF FA EA QC QA PA -', 'KF RJ -', 'KF RJ -', 'KC KA KB KD KF FB FA IC IA HA HE HF -', 'KC KA KB KD KF FB FA IC IA HA HE -', 'KC KA KB KD KF FB FA NA -', 'KC KA KB KD KF FA PA EA TA -', 'KE KC KA KB KD KF FA PA IC IA -', 'KD KF FA QD -', ' -', 'KD KF FA QD -', ' -', 'KD KF -', ' -', 'KF -', 'KD KF FA EA -', 'KD KF YA WA RJ -', 'KD KF YA WE WA RJ -', 'KA KD KF QA QD EA RG RI RA RJ -', 'KD KF QA QD EA RG RI RJ -', 'KA KB KD KF HA YA -', 'KD KF EA -', 'KD WD WA -', 'KD WD WA -', ' -', 'KC KA KB KD KF EA QC QA NA -', 'KC KA KB KD KF EA QC QA QD NA -', 'KD KF -', 'KA KB KD KF FA EA -', 'KA KD KF FA EA -', 'KA KD KF FA EA -', 'KF -', 'KA KD EA MA YA QA -', ' -', 'KF RJ -', 'KF RJ -', 'KF RJ -', 'KF RJ -', 'KF RJ -', 'KF RJ -', ' -', 'KA KD KF YA EA RG RI RJ -', 'KD KF YA EA RG RI RJ -', 'KD KF QD RG RI RJ -', 'KC KA KB KD KF NA VA PA -', 'KD KF YA RJ -', 'KF RJ -', 'KC KA KB KD KF QC QA QD YA RG RI RJ -', 'KC KA KB KD KF QC QA QD LA FA EA RG RI RJ -', 'KC KA KD KF LC LA RC RG RI RJ -', 'KC KA KD KF LA NA IA EA FB FA -', ' -', ' -', ' -', 'KA KD KF EA -', 'KA KD -', 'KD FA -', 'KA KB KD KF FA QA QD EA -', 'KD FA QA QD -', 'KD FA QD -', 'KD KF FA -', 'KD KF FA -', 'KD FA QD -', 'KD KF FA RA RJ -', 'KD KF FA RJ -', 'KD KF FA HA -', 'KD FA HA -', 'KB KD KF FA HA HE -', 'KD KF -', 'KF RJ -', 'KD KF FA QA RI RJ -', 'KD KF FA QA QD RG RI RJ -', 'KD KF HE -', 'KC KA KD KF YA QC QA LA FA -', 'KC KA KB KD KF HB HA HC HD HE HF DA EA RG RI RJ -', 'KD KF HA HE EA RG RJ -', 'KB KD KF HA HE HF EA RG RI RJ -', 'KA KB KD KF HA HD HE HF LA IA DA RG RI RJ -', 'KD KF HA HF RJ -', 'KC KA KB KD KF HA HE HF TB LA IA EA -', 'KA KD KF EA QA FA -', ' -', 'KD -', 'KD KF -', ' -', 'KC KA KD IA EA HA FA -', 'KC KA KB KD KF IA EA HA HF FB FA -', 'KC KA KB KD KF IA EA HA HF FA -', ' -', 'KC KA KB KD KF IC IA EA QC QA QD VA -', 'KD KF EA QD RG RI RJ -', 'KE KC KA KB KD KF IC IA FB FA VC VA QB QC QA QD -', 'KA KD KF HA HE HF QA WD WA WF RG RI RJ -', 'KF WA RJ -', 'KA KD KF EA -', 'KC KA KD IA LA NA -', 'KC KA KD KF IA LA EA NA -', 'KE KC KA KD KF IC IA PA NB NA -', 'KF RJ -', 'KC KA KD KF IC IA PA LC LA -', 'KD KF -', 'KD FA EA -', 'KD -', 'KC KA KD IA LA -', 'KF -', 'KD KF RJ -', 'KD KF QD RA RJ -', 'KF RJ -', 'KC KA KB KD KF IA QC QA MA FA -', 'KA KB KD KF QA QD MA FA -', 'KC KA KD KF IA QC QA MA FA -', 'KD KF RJ -', 'KD KF QD HA RG RJ -', 'KC KA KD KF IA QC QA LA -', 'KF RJ -', 'KC KA KB KD KF IA LA QC QA QD DA NA RG RI RJ -', 'KF -', 'KA KD KF EA RG RI RJ -', 'KC KA KD KF EA DA LA RG RI RJ -', 'KD KF RJ -', 'KF RJ -', 'KC KA KD -', 'KA KD KF EA -', 'KD -', 'KB KD KF QD -', 'KD FA MA -', 'KB KD KF EA FA MA QD -', 'KC KA KD -', 'KC KA KD PA TA -', 'KF -', ' -', 'KD KF RJ -', 'KD KF -', 'KF RJ WF -', 'KC KA KB KD KF YA EA LA -', 'KF RJ -', 'KF RJ -', 'KF WA RJ -', 'KC KA KB KD KF LC LA FA EA PA RC RG RI RJ -', 'KA KD KF EA YA RG RJ -', 'KD KF EA YA RJ -', 'KD KF EA YA RJ -', 'KD KF EA YA RJ -', 'KC KA KB KD KF LA -', ' -', ' -', ' -', 'KF -', 'KF -', ' -', 'KD QA FA YA -', ' -', ' -', ' -', 'KD KF YA QA EA -', 'KD EA -', 'KC KA KD KF LA EA -', 'KF -', 'KD KF -', 'KD -', 'KF -', 'KF -', ' -', ' -', 'KF -', 'KA KD EA -', 'KA KB KD KF EA MA YA -', 'KC KA KD KF LA EA IA QC QA -', 'KF -', 'KD KF EA -', 'KD KF YA -', 'KD KF YA -', 'KD KF YA -', 'KF YA -', 'KD KF -', 'KA KD KF EA QA QD -', ' -', 'KC KA KD KF LA FA HA HF EA -', 'KC KA KB KD KF LA FA NA HA HE EA -', 'KD KF YA FA RI RJ -', 'KF RJ -', 'KD KF TB YA FA -', 'KD KF YA FA -', 'KF RJ -', 'KA KD KF RJ -', 'KA KB KD KF MA TB RG RI RJ -', 'KC KA KD KF LC LA IC IA YA VA RJ -', 'KC KA KB KD KF LC LA IC IA NA YA VA RG RI RJ -', 'KA KB KD KF YA RG RI RJ -', 'KF RJ -', 'KF RJ -', 'KF RJ -', 'KC KA KB KD KF LC LA QC QA QD SA -', 'KF -', ' -', 'KA KB KD KF LA QA QD DA NA IA RG RI RJ -', 'KA KD KF LA QA QD IA RG RJ -', 'KD KF LA QA QD DA IA RG RI RJ -', 'KF RJ -', 'KF RJ -', 'KC KA KD KF LC LA QC QA QD EA MA -', 'KC KA KB KD KF LC LA QC QA QD EA -', 'KF RJ -', 'KC KA KB KD KF LA QC QA TA TB DA -', 'KD -', 'KD KF TB -', 'KB KD KF TB -', 'KC KA KB KD KF LA QC QA HA HE HF -', 'KC KA KB KD KF LA QC QA QD HB HA HE HF -', 'KF HF -', 'KC KA KB KD KF LA QC QA QD HA HE HF -', 'KA KB KD KF QA QD HA HE HF -', 'KC KA KB KD KF LA TA QC QA QD -', 'KC KA KD KF LA IA EA -', 'KC KA KD LA IA EA -', 'KA KD KF RJ -', 'KA KD KF EA RJ -', 'KD YA HA -', 'KD YA HA -', 'KF -', 'KA KD FA -', 'KA KD KF QA QD EA FA -', 'KA KD KF QA FA -', 'KD EA -', 'KD KF FA -', 'FA -', 'KC KD LA FA -', 'KE KC KA KB KD KF LC LA VA SA PA RH RC RG RI RJ -', 'KC KA KD KF LA WA EA -', 'KD KF WE WA -', 'KC KA KB KD KF LA WD WE WA -', 'KC KA KD LA WD WE WA WF -', 'KA KD KF YA -', ' -', 'KC KA KB KD KF LC LA YA IC IA RC RG RI RJ -', 'KC KA KB KD KF LA YB YA NA IA RG RI RJ -', 'KD -', 'KD -', 'KD KF -', 'KD -', 'KF RJ -', 'KF HF RJ -', 'KA KD KF MA -', 'KC KA KB KD KF MB MA PA FB FA IC IA RH RC RG RI RJ -', 'KD KF QD RJ -', 'KD KF QD RJ -', 'KF RJ -', 'KD KF QD RA RJ -', 'KD KF QD RJ -', 'KD KF MA QA RJ -', 'KD KF RJ -', 'KF RJ -', 'KD KF QA RJ -', 'KD KF RJ -', 'KD KF RG RJ YA -', 'KC KA KD KF MA VA EA IC IA -', 'KC KA KB KD KF NA EA LA QC QA QD TA -', 'KA KD KF WA WF HA RJ -', 'KA KD KF FA WD WE WA WF HA HF RG RI RJ -', 'KA KD KF FA WD WE WA WF HA HF RG RI RJ -', 'KA KD FA -', 'KF RJ -', 'KF HF RJ -', 'KA KB KD KF -', 'KD KF WC WD WE WA WF -', 'WA WF -', 'KD WD WE WA WF -', 'WA WF -', 'KE KC KA KD KF NA TA TB QB QC QA QD LC LA -', 'KD KF YA RA RJ -', 'KC KA KB KD KF PA VA TA -', 'KD KF -', 'KD KF -', 'KF -', 'KD KF -', 'KD KF -', ' -', ' -', 'KC KD KF PA EA -', 'KC KA KB KD KF PA EA TA NA LC LA RC RG RI RJ -', 'KE KC KA KB KD KF PA VA RH RC RG RI RJ -', 'KC KA KD KF PA LC LA -', 'KE KC KA KB KD KF PA VC VA -', 'KE KC KA KB KD KF PA VC VA -', ' -', 'KF -', ' -', 'KD -', 'KF -', ' -', ' -', 'HF -', ' -', ' -', 'HF -', 'KF -', 'KA KB KD KF FA RG RI RJ QA QD -', 'KC KA KD KF YA QC QA QD -', 'KA KD KF HA HE QA RG RJ -', 'KD KF -', 'KD KF -', 'KC KA KB KD KF IA LA RG RI RJ -', 'KC KA KD KF PA IA -', 'KE KC KA KD KF PA IC IA VA -', 'KC KA KD LA IA FA -', 'KD KF -', 'KD KF -', 'KA KD KF HA RG RI RJ -', 'KA KB KD KF HA HE QA QD RG RI RJ -', 'KA KD QA EA -', 'KA KD KF EA -', 'KA KD KF TB QA QD EA -', 'KA KD KF QA QD EA -', 'KC KA KB KD KF PA TA FB FA RH RC RF RG RI RJ -', 'KE KC KA KB KD KF PA TA LC LA VC VA -', 'KD KF RJ -', 'KF RJ -', 'KD KF RJ -', 'KD KF YA RJ -', 'KD KF QD YA RI RJ -', 'KD KF YA EA RJ -', 'KF RJ -', 'KD KF QD YA RI RJ -', 'KF RJ -', ' -', 'KF -', 'KC KA KB KD KF PA VA QC QA QD LC LA -', 'KC KA KD PA VA -', 'KD KF QD HA RI RJ -', 'KC KA KD KF PA WA IC IA LC LA RC RJ -', 'KD KF WA YA -', 'KB KD KF WD WE WA WF YA -', 'KD WA YA -', 'KD KF YA -', 'KE KC KA KB KD KF QB QC QA QD VC VA -', 'KC KA KB KD KF QC QA QD EA LA RF RG RI RJ -', 'KC KA KB KD KF QC QA QD EA IA DA -', 'KD KF RJ -', 'KD -', 'KD -', 'KD KF -', 'KF RJ -', 'KA KB KD KF QA -', 'KA KD KF QA QD -', 'KC KA KB KD QC QA LC LA EA -', 'KC KA KB KD KF QC QA QD EA RG RI RJ -', 'KD KF QA EA RJ -', 'KD KF QD RJ -', ' -', 'KA KB KD QA QD -', 'KC KA KB KD KF QC QA QD LA EA -', ' -', 'KD EA -', 'KC KA KD QC LA EA -', 'KD QA EA -', ' -', 'KF -', 'KC KA KB KD KF QC QA QD TA TB MA IC IA -', 'KC KA KB KD KF QC QA QD VA DB DA FA RC RG RI RJ -', 'KF RJ -', 'KC KD KF RI RJ EA LA QC QD -', 'KF RJ WA WF -', 'KD KF RJ QA QD EA -', 'KC KA KD KF HA HE HF RG RI RJ -', 'KC KD KF HA HE HF TA RG RI RJ -', 'KC KA KD KF VA IC IA TA WD WA WF -', 'KC KA KD KF EA IA HA RC RG RJ -', 'KD KF -', 'KC KA KD KF MA QC QA QD -', 'KA KB KD KF FA EA HA HE HF -', 'KC KA KB KD KF TA TB VA PA -', 'KC KA KD KF EA LC LA IC IA RC RJ -', 'KA KD KF RJ -', 'KC KA KD KF VA PA TA -', 'KC KA KD TA -', 'KD TB -', ' -', 'KD KF -', ' -', 'KD KF RJ -', 'KC KA KD KF HA -', 'KC KA KB KD KF EA HA HE HF -', 'KC KA KB KD TA HA HE HF -', 'KC KA KB KD KF TA TB EA HA HE HF -', ' -', ' -', 'KE KC KA KB KD KF TA -', 'KF RJ -', 'KD KF YA -', 'KC KA KB KD KF TA HA HC HE PA LC LA FA -', 'KA KD KF EA NA DA -', 'KD KF -', 'KD -', 'KD QD -', 'KC KA KD KF LA MA IA RG RJ -', 'KC KA KD KF LA NA QC QA YA RG RI RJ -', 'KC KA KB KD KF LA NA EA -', 'KD KF RJ -', 'KF RJ -', 'KD KF QD RJ -', 'KD KF QD RJ -', 'KF RJ -', 'WA -', 'KF WA WF -', 'KA KD KF EA -', 'KA KD KF EA -', 'KC KA KD YA IA -', 'KC KA KB KD KF YA IA -', 'KD KF FA RG RI RA RJ -', 'KF -', 'KC KA KD -', ' -', ' -', 'KF HF -', 'KC KA KB KD KF VA TA TB LC LA -', 'KA KD KF FA RG RJ -', 'KD KF FA RJ -', ' -', 'KC KA KB KD KF VA EA PA HA HE HF -', 'KC KA KB KD KF VA EA LC LA IC IA QC QA -', 'KA KB KD KF EA YA HA -', 'KA KB KD KF EA YB YC YA HA HD HE HF -', 'KD YA -', 'KD KF YA RJ -', 'KC KD KF FA IA -', 'KC KA KB KD KF VA TA TB DB DA MA -', 'KF -', 'KF -', 'KC KA KD KF IA FA EA -', ' -', 'KC KA KD KF IA NA DA FB FA EA -', ' -', 'KD KF FA HA -', 'KD KF FA HA -', 'KD KF HE -', ' -', 'KF -', 'KA KB KD FA HA -', ' -', 'KF -', ' -', 'KA KB KD KF FA HA HE HF RG RI RJ -', 'KD KF -', 'KA KD KF RJ -', 'KA KB KD KF EA RG RI RJ -', 'KD KF EA RI RJ -', ' -', 'KC KA KD LA FA -', 'KF -', 'KC KA KD KF NA LA EA FA -', 'KC KA KB KD KF NA EA QC QA QD -', 'KA KB KD KF EA QA -', 'KA KB KD KF EA QA QD -', 'KC KA KB KD KF EA LA -', 'KF GE GE GE -', 'KA KD KF EA RJ -', 'KC KA KD KF VA PA RC RJ -', 'KE KC KA KB KD KF VA TA RH RC RG RI RJ -', 'KF RJ -', 'KA KD KF RG RI RJ -', 'KC KA KD KF YA EA RG RI RJ -', 'KF RJ -', 'KC KA KB KD KF WD WE WA WF PA YA -', 'KC KA KB KD KF WD WE WA WF DB DA PA YB YC YA -', 'KD KF WD WA WF EA QD YA RJ -', 'KB KD KF WD WE WA WF QD YA RG RI RJ -', 'KD KF WD WE WA WF FA RJ -', 'KA KD KF WD WE WA WF YA RG RJ -', 'KA KB KD KF WD WE WA WF EA YA RG RI RJ -', 'KF WA WF RJ -', 'KD KF YA WD WE WA WF -', 'KD YA WD WE WA WF -', 'KD KF YA WD WE WH WA WF -', 'KC KA KB KD KF YA TA LA -', 'YA -', 'KC KA KB KD YB YA EA TA LA -', 'KF -', 'KC KA KB KD KF YB YC YA EA TA LC LA -', 'KC KA KD KF YC YA EA TA LC LA -', ' -', 'KD YA -', 'KD YA QD -', 'KC KD KF YB YC YA LC LA EA NB NA IC IA RC RG RI RJ -', 'KD YA -', 'KD KF YA -', ' -', ' -', 'LC LA DA NA KC KA KD KF -', 'KD KF -', 'KD KF -', ' -', 'LA IA KC KD KF -', 'LA DA QC QA QD RG RA RJ -', ' -', 'NA QA KB KD KF -', 'LC LA VC VA KE KC KA KD KF -', ' -', 'EA -', 'KF -', 'RJ -', 'EA KA KB KD KF MA RG RI RJ -', 'LA EA QC QA QD RG RJ -', 'EA -', 'HA HE HF QD KD KF -', 'TB HA HE HF QD KB KD KF -', 'LC LA FA EA PA RC RI RJ -', 'LC LA FA IC IA HA HE HF PA KC KA KD KF -', 'LC LA FB FA IC IA HA HE HF PA KC KA KD KF -', 'FA RJ -', 'KF RJ -', 'EA QA QD KD KF -', 'LA NA HA FA KC KD KF -', 'LA IA FB FA QA RG RI RJ KA KD KF -', 'LC LA HA HC HE HF IC IA KE KC KA KD KF -', 'LC LA HA HE VA QC QA QD IC IA KC KA KD KF -', 'HA HE QA KD KF -', 'LC LA HB HA HC HE VA QC QA QD IC IA KC KD KF -', 'LC LA IC IA VA KC KD -', ' -', 'KD KF -', 'FA WA RJ -', ' -', 'LC LA MA RC RG RJ -', 'RJ -', 'RJ -', 'RJ -', 'RJ -', 'MA QA RJ -', 'RJ -', 'RJ -', 'RJ -', 'RJ -', 'MA -', 'RJ -', 'RJ -', 'MA -', 'RJ -', 'LC LA NA IC IA RH RC RG RI RJ -', 'LA NA MA EA IA RG RJ -', 'LC LA PA SA VA KC KD -', 'LA PA IA RC RJ -', ' -', 'KF -', ' -', ' -', 'KD KF -', ' -', 'KF -', 'EA FA KD -', 'LC LA PA VA IC IA KC KD KF -', 'QA RJ -', 'QA QD HA HE HF RG RI RJ -', 'LA QA WA FA HA RJ -', 'LA QA QD WD WE WA WF FA NA HA RG RI RJ -', 'QA -', 'QD YA KD KF -', 'QA QD FA YA EA KD KF -', 'QD EA MA KD KF -', 'QD KD KF -', ' -', 'KF -', 'QA QD FB FA HA HE WD WA WF EA KA KD KF -', 'HA HE HF TB RG RI RJ -', 'HF RJ -', 'QD HF RJ -', 'QA QD HA FA RJ -', 'LA QC QA QD IA HA FA PA RC RG RJ -', 'RJ -', 'QA HA FA RJ -', 'LC LA QC QA QD IC IA HA HC HE FA PA RC RG RI RJ -', 'LC LA QC QA QD IC IA HA HE FB FA PA RC RG RI RJ -', ' -', 'YA QD RJ -', 'YA RJ -', 'RJ -', 'KF -', 'LC LA IC IA PA RC RG RJ -', 'KF WA RJ -', 'KF WA RJ -', 'KD -', 'KD KF -', ' -', ' -', 'LC LA TA KE KC KA KD KF -', 'LA TA KE KC KD -', ' -', 'LA FA WD WA HA HE YA KC KD KF -', 'LA FB FA WD WE WA WF HA HE YB YC YA KC KA KD KF -', 'KF -', 'LC LA TA MA RJ -', ' -', 'TB QA RJ -', 'TB QA QD RG RI RJ -', 'TB QA QD RG RJ -', 'LA KC KD -', 'LA KC KD KF -', 'RJ -', 'RJ -', 'LC LA VA EA RC RJ KC KD KF -', 'QA FA EA KD -', 'QA FA KD -', 'LC LA VA QA QD PA RC RG RJ -', 'LC LA VA QC QA PA RC RI RJ -', 'RJ -', 'LA YB YA IA RG RI RJ -', 'RJ -', 'LC LA IC IA PA NA RC RG RA RJ -', 'RJ KF -', 'RJ KF -', 'KF -', 'YA FA -', 'KF -', 'KF -', 'QD HE HF KD KF -', ' -', 'LA HB HA HC HE HF EA MA RG RI RA RJ -', 'LA HA HE HF EA MA RG RI RJ -', 'KF RJ -', 'RJ -', ' -', ' -', ' -', 'FA KD KF -', ' -', 'QA -', ' -', ' -', 'QA -', ' -', ' -', 'LC LA QC QA QD PA KC KA KB KD KF -', 'RJ -', 'RJ -', ' -', ' -', 'KD KF -', 'LA HA IA KC KD -', 'EA KD -', 'LA DA HA HE IA EA KC KA KD KF -', 'KF -', ' -', 'FA EA -', 'KF -', ' -', 'KF -', 'RJ -', 'LA DA EA RI RJ -', 'MA QA QD KD KF -', 'LC LA EA IC IA QC QA KC KD -', 'FA RG RI RJ KA KD KF -', 'FA RJ -', 'LC LA DA FA NA VA RC RG RJ -', 'LC LA FA PA KC KD KF -', 'KD -', 'YA KD KF -', ' -', 'KF RJ -', 'RJ -', 'RJ -', 'RJ -', 'YA RJ -', 'RJ -', 'DA EA KA KD KF -', 'DA EA KA KD KF -', 'WA HA HF KD KF -', 'RJ -', 'LA DA IA RG RI RA RJ -', 'RJ -', 'KD KF -', ' -', 'EA KD KF -', ' -', 'KD -', 'KD -', 'RG RJ -', 'QA QD FA RG RI RA RJ -', ' -', 'FA RG RI RJ -', 'FA RJ -', 'FA KD -', 'KD -', 'HF -', 'QA FA KD -', 'QD FA HA HF KD KF -', 'KF -', 'YA EA -', 'QA QD HA HF YA RG RI RJ -', 'HF RJ -', 'QA QD HA HF YA RG RI RJ -', 'QD YA KD KF -', 'YA KD -', 'YA KD -', ' -', 'QD HA KD -', 'RJ FA -', 'LC LA DB DA TA EA KC KA KD KF -', 'LC LA DA TA VA KC KA KD KF -', 'WD WE WA WF RJ -', 'KD -', 'KF -', 'LC LA DA VA HA HE HF FB FA KC KA KB KD KF -', 'KD KF -', 'EA KD -', 'KD KF -', 'KF -', 'LA DA QC QA FA KC KD -', 'YA RJ -', 'YA RJ -', 'LA EA MA KD KF -', 'EA FA HA KD -', 'LA EA FA HA HE HF KC KA KD KF -', 'EA KD KF -', ' -', 'EA KD -', 'LA EA MA FA RG RJ -', 'LA EA -', 'LC LA EA QC QA RC RJ -', 'LA EA MA FA KC KA KD KF -', 'LA EA MA FA KC KD KF -', 'HF KF -', 'HF KF -', ' -', 'QD HE HF RA RJ -', 'QD KD KF -', 'LC LA EA DB DA RC RG RI RA RJ -', ' -', 'EA YA HA HE RG RI RJ -', 'EA YA HA RG RJ -', 'EA YA HA RJ -', 'EA YA HA RG RI RJ -', ' -', 'QA RJ -', 'QD FA RG RI RA RJ -', 'RJ -', 'RJ -', 'RJ -', 'RJ -', 'FA RJ -', 'WD WE WA QD KD KF -', 'QD KD KF -', 'EA -', 'EA MA KD -', 'EA MA KD -', 'KF -', 'EA KD -', 'EA KD KF -', 'EA KD KF -', 'KF -', 'RG RI RA RJ -', 'EA KA KD KF -', 'LA EA KC KD KF RG RI RJ -', 'LC LA EA FA RJ -', 'LA EA IA MA KC KD -', 'LA EA IA MA DA KC KD KF -', 'EA RJ -', 'EA RA RJ -', 'EA RJ -', 'RJ -', 'EA RG RI RJ -', 'LA EA TA RC RG RJ -', 'YA KD -', 'EA YA KD KF -', 'LA EA PA YA KC KD -', 'KF -', 'LC LA EA QC QA QD KC KA KB KD KF RG RI RJ -', 'LC LA EA QC QA QD KC KA KD KF RG RI RJ -', 'LC LA EA TA KC KD -', 'YA RG RJ -', 'LC LA EA VA QC QA RJ -', 'LC LA EA VA NA QC QA QD RG RI RJ -', ' -', ' -', 'LC LA EA DA NA IC IA QC QA QD KC KA KD KF -', ' -', 'KD -', 'LC LA EA NA PA IC IA KC KD KF -', 'LC LA EA PA HA HE HF KC KA KD KF -', 'LA EA QC QA QD DA TB KC KA KD KF -', 'RJ -', 'LC LA EA HB HA HE HF QC QA QD KC KA KD KF -', 'LC LA EA HA HC HE HF VA RH RC RG RI RJ -', 'LC LA EA HA HC HE HF VA SA RH RC RG RI RA RJ -', 'LC LA EA HA HE HF VC VA SA RH RC RG RI RJ -', 'EA KD -', ' -', ' -', 'RJ -', 'EA QA RG RI RJ -', 'EA KA KD KF -', 'EA YA KD -', ' -', ' -', 'RJ -', 'KD -', 'YA KF -', 'LA EA MA DA RG RI RJ -', 'EA -', 'QD KD KF -', 'EA QA KD -', 'QD KD KF -', 'KF -', 'LC LA EA QC QA QD KC KD KF -', 'QD HF RA RJ -', 'LA EA QC QA QD IA KC KA KD KF -', 'LC LA EA QC QA QD KC KD KF -', 'EA QA QD YC YA TB KD KF -', 'EA QA QD YC YA TB KD KF -', 'KF -', 'QD YA RG RA RJ -', 'RJ -', 'QD YA RG RI RA RJ -', 'RJ -', ' -', ' -', 'EA YA RJ -', 'LA EA QC QA QD DA KC KA KD KF -', 'KD KF -', 'LC LA EA TA TB FA KC KD KF -', 'LA EA QC QA QD RG RI RA RJ -', 'LA EA TB QC QA QD YB YA RG RI RJ -', 'KF -', 'KF RJ -', 'KF RJ -', 'EA RJ -', 'LA EA KD -', 'EA WC WD WE WH WA WF KB KD KF -', 'WA -', 'LC LA FA RC RG RJ -', 'LC LA FA RC RG RJ -', ' -', ' -', 'LC LA FA PA -', 'LC LA FA VA PA NA RC RG RI RJ -', 'LC LA FA VA PA NA RC RG RA RJ -', 'RJ -', 'LA FA DA QC QA QD RG RJ -', 'LA FB FA DA QC QA RG RJ -', 'FA -', 'KF -', ' -', 'KF -', ' -', 'KF -', ' -', ' -', 'LA FA IA KC KD -', 'LA FA EA IA KC KD KF -', 'LC LA FA RC RJ -', 'FA EA RJ -', 'LC LA FA EA RC RG RJ -', ' -', 'LA FA EA IA RJ -', 'FA QA YA KD -', 'LC LA FA KC KA KD PA VA -', 'LC LA FB FA KC KA KD KF PA VA -', 'FA -', 'FA HE HF RJ -', 'FA TB HA HE HF QA QD KA KD KF -', 'FA HA HE HF QA QD KA KD KF -', 'YA KD KF -', 'LC LA FA PA RC RG RJ -', 'RJ -', 'LC LA FA VA RH RC RG RI RJ -', 'FA YA QD KD KF -', 'FA YA KD -', 'LC LA FA HA HE HF SA TA KE KC KA KB KD KF -', 'LC LA FB FA HA HE HF SA TA KE KC KA KB KD KF -', 'LA FA HA HE HF EA KC KA KB KD KF -', 'LA FA IA EA KD -', 'LA FB FA IA HA HE NA QC EA RG RI RA RJ -', 'FA RG RI RA RJ -', 'FA YA RJ -', 'FA KD -', 'FA EA QA QD HA KA KD KF -', ' -', 'FA KD KF -', 'LC LA FA YA KC KD KF -', 'LC LA FA HA HE KE KC KD KF -', 'LA FB FA YB YA RJ -', 'LC LA FA NA YA KC KD KF -', 'KF -', 'FA KD KF -', 'FA KD -', 'QD KD KF -', 'FA KD -', 'KF RJ -', 'KF -', 'LC LA FA PA DA QC QA QD KC KA KD KF -', 'LA FA RG RJ -', 'FA HA KD -', 'FA HA KD KF -', 'RJ -', 'RJ -', 'FA QA RJ -', ' -', 'RJ -', 'LC LA FA QC QA KC KD KF -', 'LC LA FA QC QA TA VA RC RJ -', 'KF -', 'FB FA QA QD EA KA KD KF -', 'LC LA FA QC QA QD TA MB MA VA KC KA KD KF -', 'LC LA FA QC QA TA VA KC KD KF -', 'FA WA -', 'FA -', 'RJ -', 'LC LA FB FA HA HE HF VA KC KA KD KF -', 'LC LA FA KC KA KB KD KF PA EA -', 'KF -', 'KF -', 'LC LA FB FA SA QC QA QD KC KA KD KF -', 'FA RJ -', 'LC LA FB FA SA VA RH RC RG RI RJ -', 'FA -', 'FA QD KD KF -', 'FA KD -', ' -', 'RJ -', 'LC LA FA VA TA NB NA HA HE HF EA KC KD KF -', 'FA QA RJ -', ' -', ' -', 'RJ -', ' -', ' -', ' -', ' -', 'FA YA RG RI RA RJ -', 'FA YC YA RG RI RA RJ -', 'YA RJ -', 'YA RI RJ -', 'YA RJ -', 'RJ -', 'LC LA DA MA EA RG RJ -', 'LA MA RJ -', 'LC LA IC IA RC RG RJ -', ' -', ' -', 'RJ -', 'QD HE FA RI RA RJ -', 'KD KF -', 'HA KD -', 'LC LA PA EA TA RC RG RA RJ -', 'LA EA KC KA KD KF -', 'KD KF -', 'YA HA HF KA KD KF -', 'HF KF -', 'YA KD -', 'YA HA HF KD KF -', 'KF -', 'RJ -', ' -', 'HF -', 'EA KD -', ' -', ' -', ' -', 'EA WA RJ -', 'RJ -', 'RJ -', 'RJ -', 'RJ -', ' -', 'RJ -', 'RJ -', 'EA QA QD HA FA KD -', 'YA KD -', 'WD WE WA KD KF -', ' -', 'EA YA FA RJ -', 'EA YA FA RI RJ -', 'EA YA FA RJ -', 'RJ -', 'EA YC YA FA QD RG RI RA RJ -', 'RJ -', 'FA QD KD KF -', 'RJ -', 'RJ -', 'KF -', 'EA KD KF -', 'LA EA IA KD KF -', 'KF -', 'EA FA KD KF -', 'FA KD KF -', 'LC LA HB HA HC HD HE HF VA RH RC RG RI RA RJ -', 'HA HE HF YA RJ -', 'LA HA HE YA IA RG RI RJ -', 'LC LA HA HE HF VA TA KC KA KB KD KF -', 'EA HA KD KF -', 'HA KD -', 'EA HA KD KF -', 'KD -', 'KF -', ' -', 'KF -', 'LA IA KC KD KF EA RJ -', 'LC LA IC IA QC QA QD FB FA NB NA KC KA KB KD KF -', 'LA IA QC QA QD EA FA KC KD KF -', 'LA IA QC QA QD EA FA KC KD KF -', 'LC LA IC IA SA TA KE KC KA KD KF -', ' -', ' -', ' -', 'FA -', 'KF -', 'YA HF KF -', 'HF -', ' -', ' -', ' -', ' -', 'LA RC RG RJ -', 'RJ -', 'KD -', 'LA RG RI RA RJ YB YA -', 'LA RJ -', 'LC LA MA TA FA RG RJ -', 'LC LA MA TA FA RG RI RA RJ -', 'MA YA KD -', 'LA MA YA KC KA KD -', ' -', 'KF -', 'YA RJ -', ' -', 'RJ -', 'RJ -', 'YA RJ -', 'RJ -', 'KD -', 'LA IA KC KD KF -', 'RJ -', 'YA RJ -', 'LC LA PA RC RG RJ -', 'KD -', 'LA EA RG RJ QC KC KD KF -', 'TB QD FA RI RJ -', 'FA RJ -', 'LC LA QB QC QA QD VC VA KE KC KA KD KF -', 'KF -', ' -', ' -', 'LA QC QA YA KC KD KF -', 'KF -', 'KF -', 'KF -', 'LA IA QC QA KC KD -', 'RJ -', 'RJ -', 'RJ -', 'FA YA EA RG RI RA RJ -', 'EA FA RG RI RJ -', 'RJ -', 'FA RJ KD KF -', 'RJ KF -', 'EA FA KD -', 'FA RI RA RJ KD KF -', 'FA RG RJ KD KF -', 'RJ KF -', 'LA QC QA FA KC KD -', 'LC LA VA TA KC KD -', 'KF -', 'DA FB FA QA QD EA KA KD KF -', 'YA KF -', 'LC LA HB HA HC HE HF FA MA KC KA KD KF -', 'LC LA HA HE PA DA KC KA KB KD KF -', 'KD KF YA RJ -', 'RJ -', 'LC LA HA HE HF EA PA RC RG RJ -', 'LC LA HA HE EA NB NA PA RC RG RI RJ -', 'FA RJ -', 'LC LA HA HE RH RC RG RJ -', 'HA KD KF -', 'HA -', 'LA HA HE QC QA MA RG RI RJ -', 'HE QD YA RJ -', 'HE QD YA RA RJ -', 'YA RJ -', 'HA HE FA RJ -', 'HA FA RI RJ -', 'EA RJ -', 'LA IA FA QC QA QD YA KC KD KF -', 'FA QA YA KB KD KF -', 'KD EA -', 'RJ -', 'RJ -', 'LA IA MA DA RG RJ -', 'RJ -', 'LA IA RJ -', 'RJ -', 'KD -', 'KA KD KF -', 'EA HA RG RJ -', 'KD KF RJ -', 'KF -', ' -', 'EA KD -', 'EA MA KD -', 'QD HA HF KD KF -', ' -', 'LA IA EA YA HA HE HF KC KA KD KF -', 'LA IA FA HA HE HF EA KC KA KD KF -', 'LC LA IC IA FA HA HE EA KC KA KD KF -', 'LA IA FB FA HA HE HF EA KC KA KD -', 'LA IA NA MA RG RI RJ -', 'LC LA IC IA QB QC QA QD NA KE KC KA KD KF -', 'LA IA HA HE HF QA QD WD WE WA WF EA KA KD KF -', 'LC LA IC IA HB HA HE HF NA FB FA KC KA KD KF -', 'LA IA HA RG RI RJ -', 'LC LA IC IA EA PA RC RG RJ -', ' -', 'RJ -', 'LA IA RJ -', 'HA RJ -', 'LC LA IC IA PA HA HE RC RG RJ -', 'HF KD -', 'HA HE HF QA QD KA KD KF -', 'RJ -', 'LA IA PA FA RC RJ -', 'RJ -', 'LA IA FA KD -', 'LC LA IC IA YA VA RC RJ -', 'YA QD KB KD KF -', 'YA KD KF -', ' -', 'LA IA NA EA TA TB QC QA KC KD -', 'KF -', 'LA IA NA TA QC QA RI RA RJ -', 'KD KF -', 'LA IA NA RG RJ -', 'KD -', 'YA QD KD KF -', 'YA QD KD KF -', 'KF -', 'YA KD KF -', 'KF -', 'YA KD -', ' -', ' -', ' -', ' -', ' -', 'KF -', ' -', 'LC LA IC IA PA HA HE KC KD -', 'LC LA IC IA PA HB HA HE HF EA KC KA KB KD KF -', 'LA IA QC QA QD KC KA KD KF -', ' -', 'WA RJ -', 'WA RJ -', 'WA WF RJ -', 'EA RJ -', 'WA RJ -', 'WA RJ -', 'KF RJ -', 'KF RJ -', 'LC LA IC IA QC QA KC KA KD KF -', 'KD KF -', 'RJ -', 'FA EA KD KF -', 'LC LA IC IA SA HA HE VA KC KD KF -', 'LA IA HA RG RJ -', 'KF -', 'KF -', 'KF -', 'KF -', 'HA HE FA KA KD KF -', 'RJ -', 'RJ -', 'QA FA YA -', 'RJ -', 'WA YA EA RJ -', 'WD WE WA WF YA RA RJ -', 'WD WE WH WA WF YA RA RJ -', 'WA WF RJ -', 'RA RJ -', 'RJ -', 'RJ -', 'LA IA TA EA KC KA KB KD KF RG RI RJ -', 'LA IA TB NA EA YB YC YA QA QD FB FA RG RI RA RJ -', 'TB EA KD -', 'LA IA TB QC QA QD NA KC KD -', 'QD KD KF -', 'FA RJ -', 'LA IA FA EA HA HF RG RI RJ -', 'LC LA IC IA VA MA KE KC KD KF -', 'LA IA KC KD -', 'LA IA MA KC KD KF RG RJ -', 'LA IA MA KC KD KF RJ -', 'LA IA MA KC KD KF RJ -', 'LA IA MA MC KC KD KF RG RJ -', 'LA IA MA KC KD KF RI RJ -', ' -', ' -', 'LC LA IC IA VA MA RC RG RJ -', 'YA KD -', 'YA KD -', ' -', 'YA KD -', 'RA YA KD -', 'RJ YA KD KF -', 'LA IA HA HE HF RG RI RA RJ -', 'LC LA IC IA WD WA WF PA HA HE HF KC KD KF -', 'LC LA IC IA WD WE WA WF PA HA HE HF KC KD KF -', 'KA KD KF EA RG RI RJ -', 'KD KF YA RJ -', 'KF RJ -', ' -', 'LA KC KA KB KD KF DA FA -', 'KD KF RG RI RJ -', 'KD KF RG RI RJ -', 'KB KD KF RG RI RJ -', 'KA KD KF WD WA HA HE QA -', 'KA KD KF EA QA -', 'KD KF QD RG RJ -', 'KD KF -', 'KD KF HE -', 'KD -', 'KF -', 'KD KF -', 'KD KF RJ -', 'KD KF WD WE WA RA RJ -', ' -', 'KD KF WC WD WE WA WF HE YA -', 'KA KB KD KF FA DA QA QD RG RI RJ -', 'KF RJ -', 'KF RJ -', 'KF RJ -', 'LC LA KC KA KB KD KF PA QC QA VA IC IA RH RC RG RI RJ -', 'LC LA KC KD KF PA VA IC IA RC RJ -', 'LC LA KC KA KD KF PA VA IC IA RC RG RI RJ -', 'LC LA KC KA KB KD KF QC QA MA EA DA -', 'LC LA KC KA KB KD KF QC QA QD MA EA DA -', ' -', 'KA KD KF QA EA FA RG RJ -', 'KA KB KD KF QA QD EA FA RG RI RJ -', 'LA KC KA KD KF EA QC QA RG RI RJ -', 'LA KA KD KF EA IA -', 'LC LA KC KA KD KF PA -', ' -', 'EA RJ KD KF -', 'RJ KF -', 'RJ -', 'LC LA KF -', 'LA QC QA NA HA HE HF KC KA KD KF -', 'LC LA EA NA QC QA QD RC RG RI RJ -', 'LA EA QA QD RG RI RJ -', 'RJ -', 'HA HE HF EA RG RI RJ -', 'LC LA NB NA KE KC KA KD KF -', 'QD RG RI RJ -', 'RJ -', 'WA KF -', 'WA KF -', 'LA RG RI RJ -', 'RJ -', 'LA RJ -', ' -', 'WA KD YA -', 'YA RG RJ -', 'FA RJ -', 'LC LA FA RC RG RJ -', 'KF -', 'KF -', 'LC LA PA IC IA KC KD KF -', ' -', 'KF -', 'HA KA KD -', 'LA EA FA HA HE HF KC KD -', 'EA FA HA KD -', 'LA EA FA HA HE HF KC KA KD KF -', 'EA HA HE HF KD -', 'EA HA HE HF KD -', 'EA FA HA HE HF KD -', 'QD KD KF -', 'QD KD KF -', 'KD KF -', 'RJ -', 'RJ KD KF -', 'RJ -', 'RJ -', 'LC LA EA FA QC QA QD RG RI RA RJ -', 'KD KF -', 'EA RJ -', 'RJ -', 'LA PA RC RG RI RJ -', 'RJ -', 'RJ -', 'RJ -', 'LC LA EA VA DA NA RH RC RG RI RJ -', 'LC LA EA WD WE WA WF HA HC HE HF RH RC RG RI RJ -', 'LA WD WA KC KD -', 'QD YA RJ -', 'YA RJ -', 'RJ -', 'LA EA KA KD KF NA -', 'LC LA QC QA QD RC RG RJ -', ' -', 'LC LA QC QA KC KD KF -', 'LC LA MA KC KD -', 'KF -', 'LC LA MC SA KE KC KA KD KF -', 'HF -', 'HA HF -', 'HF -', 'HF KD KF -', 'KF -', 'VI VI KD -', 'KD KF -', ' -', 'VI VI VI KD KF -', 'VI VI -', 'RJ -', ' -', 'KD KF -', 'RJ -', 'WA RJ -', 'QA QD EA KD -', 'QA QD EA KD KF -', 'QD WA KD -', 'LA RI RJ -', 'LC LA HA HE HF FA PA KC KA KD KF -', 'LA IA EA QC QA QD KC KD KF -', 'LA IA RJ -', 'LA IA FA -', 'RJ -', 'RJ -', 'LC LA IC IA PA QC QA QD KC KA KD KF -', 'YA KD KF -', 'YB YA WA RJ -', 'YA RJ -', 'RJ -', 'EA YA RJ -', 'LA IA YA RJ -', 'RJ -', 'LC LA EA QC QA QD KC KA KD -', 'QD WA KD KF -', 'KD KF -', 'YA KD KF -', 'FB FA QA QD KD KF -', ' -', 'LC LA TA EA KE KC KA KD KF -', 'LC LA HA HC HE YB YA RC RG RI RA RJ -', 'KD KF -', 'RJ -', 'LC LA VA QC QA KC KD KF -', ' -', 'KF -', 'YA KD KF -', 'YB YA KA KD KF -', 'YA KA KD KF -', 'FA RJ -', 'LC LA QC QA VA RC RI RJ -', 'LC LA QA VA RJ -', 'RJ -', 'QD RJ -', 'KD -', 'RJ -', 'LC LA MA NA KC KA KD KF -', 'FA MA RG RI RJ -', 'LC LA MA WA WF RC RJ -', 'LC LA WA RC RJ -', ' -', 'LC LA NB NA TA HA HE HF KC KA KD KF -', 'LC LA NA YA KC KD -', ' -', 'FG -', ' -', 'KF -', 'KD KF -', 'LA TA TB QC QA QD RG RI RJ -', 'RJ -', 'RJ -', 'RJ -', 'YA RJ KF -', 'RJ -', 'RJ KF -', 'LA QC QA QD EA KC KD KF YA RG RJ -', 'RJ -', 'LC LA QC QA HA YA KC KD KF -', 'LA QA QD NA IA EA RG RI RJ -', 'QA EA RJ -', 'QD YA RA RJ -', 'QD YA RJ -', 'RJ -', 'LC LA HA HE QC QA RC RG RI RJ -', 'RJ -', 'RJ -', 'MA KD -', 'LC LA FA VA DA RC RG RI RJ -', 'HF -', ' -', ' -', ' -', ' -', ' -', 'FA RJ -', 'FA RJ -', 'MA YA RJ -', 'MA QA YA RI RJ -', 'FA RI RJ -', 'FA KD KF -', 'KD -', 'LC LA VA QC QA KC KD -', 'KF -', 'LC LA VA PA FB FA EA KC KA KD KF -', 'LC LA TA QC QA QD VA KC KD -', 'KF -', 'RJ -', ' -', ' -', 'RJ -', 'RJ -', 'KD -', ' -', 'YA EA RI RJ -', 'LC LA VA QA RC RJ -', ' -', ' -', 'WD WE WA WF QA QD KA KD KF -', 'LC LA VA PA KC KD KF -', 'RJ KF -', ' -', 'YA EA RG RJ -', ' -', 'YA RJ -', 'RJ -', 'RG RI RA RJ -', 'LA EA YA RG RJ -', 'KF -', 'WA WF EA RJ -', 'LA WD WE WA WF RJ -', 'WA WF RJ -', 'LC LA YB YA FB FA VA RC RG RJ -', 'LC LA YB YA HA HE FB FA RC RG RI RJ -', 'YA KD -', 'KF -', ' -', 'YA KD -', 'YA QA KD -', ' -', 'KF -', 'KF -', 'YA -', 'LC LA MA DB DA FB FA QC QA QD RC RG RI RJ -', 'KD KF -', 'LC LA MB MA DA RC RG RI RA RJ -', 'RJ -', 'RJ -', 'RJ KF -', 'MA RG RJ KD KF -', ' -', 'MA EA HA HE HF KA KD KF -', 'MA EA HA HE HF KA KD KF -', 'MA EA HA KD KF -', 'MA HA HE HF FA YC YA KB KD KF -', 'MA HA HE HF FA YA KD KF -', 'KF -', 'HA FA YA KD -', 'MA HA FA YA KD KF -', 'KF -', 'HA HE FA YA KD KF -', 'RJ -', 'LC LA MA KC KA KD KF EA WD WA WF -', 'KF -', 'RJ -', 'RJ -', 'LA MA QC QA QD KC KA KD KF -', 'MA QA YA KD -', 'QA YA KD -', ' -', 'LC LA MA PA KC KD KF -', 'LA MA RG RJ NA KC KA KD KF -', 'YA RJ -', 'YA QA QD RG RJ -', 'RJ -', ' -', 'LC LA NA DA FA VA RC RJ -', 'LC LA NA DA FA VA RC RG RJ -', 'RJ -', ' -', 'EA MA KA KD KF -', 'LA EA IA KD -', 'LA NA EA IA KC KD KF -', ' -', ' -', 'FA RG RJ -', 'FA RJ -', 'LC LA NA FA RH RC RG RI RJ -', 'RJ -', 'HA FA KD KF -', 'HA HE HF QD FA KD KF -', 'HF KF -', 'HA HE HF QA QD MA EA FA KA KD KF -', 'HA FA KD KF -', 'HA HE QD FA KB KD KF -', 'HA HE HF QD FA KD KF -', 'HA HF QD FA KD KF -', 'EA KD KF -', ' -', 'LC LA NB NA IC IA PA VA FB FA RC RG RI RA RJ -', 'QD YA RA RJ -', 'YA RJ -', 'KD -', 'FA KD KF -', 'FA KD -', 'FA KD -', 'FA HA RG RJ -', 'LA TA WD WA KC KD -', 'MA -', 'YA KD KF -', 'KF -', 'MC FA KD KF -', 'KD KF -', ' -', ' -', ' -', 'LA NA QA QD IA YB YA EA DA HA HE HF KA KB KD KF -', 'LA NA QA QD IA YA HA HE HF KA KD KF -', 'HF KF -', 'NA QA QD YB YA EA DA HA HE HF KA KD KF -', 'HF KF -', 'KD -', 'LC LA NB NA EA IC IA KC KD -', 'WD WE WA WF FA KD KF -', 'YA QA QD KA KD KF -', ' -', 'EA KD KF -', ' -', 'LC LA NB VA DB IC IA RH RC RI RJ -', 'LC LA VA KC KD KF PA RC RJ -', 'WA HA RJ -', 'WD WA HA HE RG RJ -', 'LC LA NA YA IC IA TA KC KD -', 'KF -', 'YA KD KF -', 'KF -', 'YA KD KF QD -', ' -', 'YA KF -', 'YA KF -', ' -', 'YA -', 'YA -', 'YA KD -', 'FA KD -', ' -', 'QD KD KF -', 'QD KD KF -', 'RJ -', 'QD RJ -', 'RJ -', 'KD KF RJ -', 'KD KF QD YA RJ -', 'EA KD KF -', ' -', 'RJ -', 'YA RI RJ -', 'RJ -', 'RJ -', 'YA RJ -', 'LC LA PA DA HA EA FA KC KD -', 'LC LA PA DB DA HA HE HF EA FB FA KC KA KD KF -', 'HA EA FA KD KF RJ -', 'KD KF -', 'KD KF -', 'LA YA KC KD -', ' -', 'LC LA PA VA WA RC RJ -', 'LC LA PA VA RC RI RJ -', 'LA WD WE WA WF -', 'KF -', 'LC LA PA EA VA KC KD -', 'LC LA PA VA KC KD KF -', ' -', 'KD -', 'QD KD KF -', ' -', 'KF -', 'KF -', ' -', 'EA QA -', 'KF -', 'KF -', 'EA KD KF -', 'LC LA PA EA TA KC KA KD -', ' -', 'LC LA PA EA TA FA RC RG RJ -', ' -', 'RJ -', 'RJ -', 'LC LA PA FB FA KE KC KA KD KF -', 'LA FA IA KC KD -', 'RJ -', ' -', 'RJ -', 'LA MA YA KC KD KF -', 'LC LA PA WA -', 'LA QC QA RJ -', 'RJ -', 'LC LA PA HB HA HE KE KC KA KD KF -', 'YA RJ -', 'YA RJ -', ' -', ' -', ' -', 'RJ -', ' -', ' -', ' -', ' -', 'KD KF -', 'LC LA PA IC IA NA KE KC KD -', 'FA RJ -', 'RJ -', 'FA KD -', 'LC LA PA FA KC KA KD KF -', 'KF -', ' -', ' -', 'KF -', 'KF -', 'KF -', 'YA RJ -', 'YA KF -', 'LC LA PA IC IA VA RC RG RI RJ -', 'RJ -', ' -', ' -', ' -', ' -', ' -', ' -', ' -', 'LA QA FA RJ -', 'LA QA QD EA FA RG RJ -', 'LC LA PA QB QC QA QD EA VA KE KC KA KD KF -', 'KF -', 'KF -', 'LC LA PA QC QA QD TA TB KC KA KD KF -', 'QA YA RJ -', 'QD YA RI RJ -', ' -', ' -', 'RJ -', 'HE RJ -', 'EA RJ -', 'QD HE RA RJ -', 'RJ -', 'RJ -', 'RJ -', ' -', 'FB FA YB YA MA EA KA KD KF -', ' -', 'FA YA KD -', 'WA RJ -', 'LC LA PA SA VA FA KC KA KB KD KF -', ' -', 'LC LA PA VA KC KD KF -', 'LA QC RJ -', ' -', 'LC LA PA VA FA KC KA KD KF -', 'YA EA FA KD KF -', 'YA HE KF -', 'KF -', 'LC LA PA YA QC RC RJ -', 'WA RJ -', ' -', ' -', 'LC LA QC QA QD PA KC KD KF -', 'LA QC QA EA IA FA RG RI RJ -', 'RJ -', 'QA RJ -', 'QD RG RI RA RJ -', 'RJ -', 'RJ -', ' -', 'QD RG RI RA RJ -', ' -', 'KD -', 'KF -', 'QD HA HE HF YA FA KB KD KF -', 'QA QD KA KD KF -', 'LA QC QA QD DA FA YA RG RI RJ -', 'QA QD KA KD KF -', 'KF -', 'LA QC QA QD DA IA RG RJ -', 'LA QC QA QD NA IA RG RI RJ -', 'QD YA KD KF -', 'YA KD KF -', 'KF -', 'HF RJ -', 'QA RJ -', 'RJ -', 'QD YA FA KD KF -', 'LA QC QA QD EA RG RI RJ -', 'LC LA QC QA EA IC IA RJ -', 'RJ -', 'RJ -', 'RJ -', 'RJ -', ' -', 'QA QD HA KD YA -', 'QD KD KF -', 'KF -', 'KF -', ' -', 'LC LA QC QA QD EA RC RG RI RJ -', 'LC LA QC QA EA MA VA KC KD KF -', 'KF -', 'LA QC QA QD EA MA KC KA KD KF -', 'KF -', 'LA QC RJ -', ' -', 'LC LA QC QA QD EA VA KC KA KD KF -', 'KF -', 'LA QC QA QD RG RI RA RJ -', 'QA KD KF -', 'LA QC QA QD HA HE HF EA TB KC KA KB KD KF -', 'LA QC QA QD HA HE HF EA TB KC KA KD KF -', 'LC LA QC IC IA NA KC KD -', 'RJ -', 'RJ -', 'LA QC QA QD FB FA HA HE HF RG RI RJ -', 'LA QC QA RJ -', 'LA QC RJ -', 'LC LA RC RJ -', 'RJ -', 'LA QC QA YA IA RJ -', 'RJ -', ' -', ' -', 'LA QC QA QD EA KC KA KD KF -', ' -', 'QA QD MA EA HA HE HF KD KF -', 'QA MC EA HA HE HF KD KF -', 'HF KF -', 'QA MA EA HA HE HF KA KD KF -', 'MA EA KD -', 'QA MA EA HA HE HF KD -', 'HF KF -', 'HF KF -', 'QA RJ -', 'RJ -', 'LA QC QA QD NA KC KD -', 'LA QC QA QD NA KC KA KD KF -', 'RJ -', 'RJ -', 'RJ -', 'LA WA FA RJ -', 'WA RJ -', 'KF RJ -', ' -', 'QA FA HA KD -', ' -', 'YA KF -', 'YA KF -', ' -', ' -', 'YA KF -', 'LA IA KC KD -', 'RJ -', 'QD KD KF -', 'QA QD TB YB YC YA NA KA KD KF -', 'QD YA TB EA RG RI RA RJ -', 'FA KD -', 'RJ -', 'RJ -', 'QA MA HA KD KF -', 'QA KD KF -', 'LC LA QC QA QD TA TB DB DA KC KA KD KF -', 'KD -', 'QA QD TB KA KD KF -', 'QA QD TB KA KD KF -', 'KD -', 'QA QD TB KA KB KD KF -', 'QA TB KA KD KF -', 'TB KD KF -', 'TB KD KF -', 'KD FA -', 'QA QD KA KD KF EA FA -', 'QD KD FA -', 'KF -', ' -', 'QA QD TB RJ YA HA KD KF -', 'KF -', 'KF -', 'KF -', ' -', 'KD -', 'KD -', 'QA RJ -', 'QD TB RG RI RJ -', 'QD TB RG RI RJ -', 'WA RJ -', 'WA WF RJ -', 'YA RJ -', 'KD -', 'RJ YA KD KF -', 'RJ KF -', 'EA YA KD -', 'RJ YA KD KF -', ' -', 'RJ HE -', 'RJ -', 'RJ -', 'RJ -', 'RJ -', ' -', 'RJ WA WF KF -', ' -', 'RA RJ QD -', 'RG RI RA RJ EA FA -', 'RJ -', 'RJ YA KD KF -', 'RJ YA KD KF -', 'EA YA KD -', 'RJ YA KD KF -', 'EA KD -', 'LA RJ EA WA -', ' -', 'RJ KF -', 'LC LA RH RC RG RI RJ PA IC IA MB MA KE KC KA KD KF -', 'YA KD -', 'RG EA YA KA KD -', 'RJ -', 'RJ -', 'QD YA FA RJ -', 'RJ -', 'LC LA IC IA MA KC KD -', 'LC LA KC KA KD KF PA -', 'LC LA KC KA KD KF PA -', 'FA RJ -', 'FA QA QD EA KA KD KF -', 'LC LA FA KC KD -', 'RJ -', 'QD RJ -', 'QD RJ -', 'QD RJ -', 'QD RJ -', 'EA RG RI RJ -', 'FA RJ -', 'LC LA SA IC IA QC QA QD KC KD KF -', 'RJ -', 'RJ -', 'RJ -', 'RJ -', 'RJ -', 'RJ -', 'QD HE HF RJ -', 'QD HE RA RJ -', 'WA KF -', 'YA KD KF RA RJ -', 'EA FA KD -', 'LA EA FA KC KD KF -', 'KF -', 'LY WA -', 'LC LA EA FA RC RJ -', 'EA KD -', 'EA KD -', 'EA KD KF -', 'KF -', 'EA RJ -', 'LC LA SA EA DA MA RC RG RI RJ -', 'KD KF -', 'FA KD -', ' -', 'LA FA QC QA NA KC KD KF -', 'KF -', 'FA EA KD KF -', 'LC LA FA EA TA KC KA KD KF -', 'LA FA KC KD KF -', 'RJ -', 'LC LA FB FA IC IA HA HE PA KC KA KD -', ' -', 'FA YA KD KF -', 'QD HE HF RJ -', ' -', 'EA HA FA KD KF -', 'KF -', 'WF KF -', 'KF -', 'YA FA KD KF -', 'QD HA KD KF -', ' -', 'QD HA KD KF -', 'QD HA HF KD KF -', 'HF KF -', 'QD HA KD KF -', 'LC LA IC IA RC RJ -', 'LC LA IC IA NA PA RC RJ -', 'LC LA IC IA NA PA RC RJ -', 'RJ -', 'KD -', 'LA IA YA KC KD -', ' -', 'KD -', 'LA IA EA YA NA KC KD -', 'LA IA EA YA KC KD KF -', ' -', 'KF RJ -', 'LA IA NA YB YA KC KA KD KF -', 'RJ -', 'LA IA YA EA KC KA KB KD KF -', 'KF -', 'LC LA KC KD EA VA -', 'LC LA EA FA IC IA KC KD KF -', ' -', ' -', 'LA IA FA KD KF -', 'QD RA RJ -', 'RJ -', 'RJ -', 'RJ -', 'RJ -', 'RJ -', 'RJ -', ' -', ' -', 'KD -', ' -', ' -', 'MC EA KD -', 'KF -', 'LC LA SA NA FA RC RJ -', 'LC LA NA MA KC KA KD KF -', 'LC LA NB NA MA RC RG RI RJ -', 'LC LA NB NA VA FA RC RG RI RJ -', 'LC LA SA PA NB NA QC QA QD RH RC RG RI RJ -', 'LA QC QA NA KC KD KF -', 'LA QC QA QD KC KD KF -', 'KF -', 'KD KF -', 'KD KF -', 'FA RJ -', 'LA EA FA RJ -', 'EA FA RG RI RJ -', ' -', 'EA FA RG RI RA RJ -', 'RJ -', 'RJ -', 'EA FA RG RI RA RJ -', 'RJ -', 'QD HA HE HF KD KF -', 'LC LA SA QC QA VA HA HF KC KD -', 'HF -', 'LC LA SA QB QC QA QD VC VA HA HC HE HF KE KC KA KD KF -', 'LC LA PA RC RJ -', 'QA QD EA HA RG RI RJ -', 'LA QC QA QD YB YA HA KC KA KD KF -', 'LA QC QA QD EA RG RJ -', 'LC LA QC QA NB IC IA RC RJ -', 'KF -', 'QD HE RJ -', ' -', ' -', 'QD FA KD -', 'QA FA -', 'QD FA KD KF -', ' -', 'KF -', 'YA RJ -', 'QD YA RJ -', 'LA RG RJ IA DA KC KA KD KF -', ' -', 'KD -', 'LA RG RJ IA DA KC KA KD KF -', 'RJ KF -', 'LA IA KC KD -', 'LA IA MA NA KC KD KF -', 'LA IA NA KC KD KF -', 'FA KD KF -', 'KF -', 'RJ -', 'KF -', 'YB YA FB FA RI RJ -', 'LA RJ -', 'RJ -', 'KD -', 'YA KD KF -', 'LC LA TA DB DA PA RC RF RG RI RJ -', 'YA KF -', 'LC LA SA TA HA HE RH RC RG RI RA RJ -', 'LC LA SA TA HA HE HF RH RC RG RI RJ KC KA KD KF -', 'KD -', 'FA -', 'KD KF -', 'KD -', 'KF -', 'LA DA RG RJ KC KA KD KF -', 'KF -', 'KF -', ' -', 'KF -', ' -', 'RJ -', 'KD KF -', 'LC LA VA PA KC KD -', 'KF -', ' -', 'QA QD EA KD KF -', 'VG QA QD EA KD KF -', 'LC LA VA QC QA HA HE HF KC KD KF -', 'LC LA VA QA HA HF KC KD -', 'HA -', 'QA QD HA HE HF KA KD KF -', 'LC LA VA QC QA HA HF KC KD -', 'LA YB YC YA TA TB QC QA QD RG RI RJ -', 'WD WE WH WA WF YA KD KF -', 'WD WE WH WA WF YA KD KF -', 'WA WF KF -', 'WD WE WH WA WF YA KF -', 'LC LA YA QA KC KD -', 'RJ -', 'LA EA FA QC QA RG RJ -', 'RJ -', 'KF -', 'WA QA QD KD KF -', ' -', 'QA QD MA WD WE WA KD -', ' -', 'QA EA KD -', 'LA QC QA EA KC KD KF -', 'LA QC QA QD EA KC KA KD KF -', 'LA QA KD KF -', 'TB FA RJ -', 'TB QD FA RI RJ -', 'FA RJ -', 'RJ KD KF -', ' -', ' -', 'QD FA KD KF -', ' -', 'RJ -', 'LA EA QC QA HA RJ -', 'EA KD -', 'QD KD KF -', 'KD KF -', ' -', ' -', ' -', 'QD KD KF -', 'QD KD KF -', 'YA KD -', 'EA HA KD KF -', 'LA EA HA HE HF KC KA KD KF -', 'HA KD -', 'LA EA HA HF KC KD KF -', 'HF KF -', 'KD -', 'KD -', 'RJ -', ' -', 'LA WD WA KA KD KF -', 'QD HE KD KF RA RJ -', 'LA HA HE HF FA QA QD RG RI RA RJ -', 'KD KF -', 'LC LA TA IC IA FA KC KD KF -', 'EA QA QD YA RG RI RA RJ -', 'LA FA RC RJ -', 'RJ -', ' -', 'RJ -', 'RJ -', 'RJ -', 'RJ -', 'LA KC KD -', 'RJ -', 'FA QD RG RJ -', 'RJ -', 'LA QA EA IA RG RI RJ -', 'KD -', 'LA TA DA IA RJ -', 'GA GA GA GA GA GA QD KD KF -', ' -', ' -', ' -', ' -', 'KF -', ' -', ' -', ' -', 'RJ -', 'MA FA KD KF -', 'YB YC YA RG RI RA RJ -', 'YA KD KF -', 'LC LA TA PA VA YA RC RJ -', 'EA YA RG RI RJ -', 'HA HE HF FA RG RI RJ -', ' -', 'YA RJ -', 'KF -', 'LC LA TA PA EA VA RB RH RC RG RI RJ -', 'KD KF -', 'RJ -', 'LC LA TA PA VA KC KA KD KF -', 'QA EA -', 'RJ -', 'RJ -', 'LC LA TA QB QC QA VA RC RG RJ -', 'RJ -', 'HE HF KF -', ' -', ' -', 'LA TA FA IA KC KD KF -', ' -', 'LC LA TA EA PA VA RC RJ -', 'LA QC QA RG RI RJ -', 'KD KF -', 'FA KD -', 'KD -', 'EA KD KF -', 'YA FA RJ -', 'YA FA RJ -', 'RJ -', 'YA FA RG RI RJ -', ' -', 'FA KD -', 'FA MA KD KF -', 'QA QD FA RG RI RA RJ -', 'RJ -', 'RJ -', 'HF RJ -', 'WD WE WA WF YA HA HE HF QA QD KA KD KF -', 'LA TA YA WA RI RJ -', 'LC LA WD WA PA KC KD -', 'WA WF KF -', 'WF RJ -', 'LA WD WA QA RG RJ -', 'LC LA TA WD WE WA WF QC QA QD RG RJ -', 'WA WF RJ -', ' -', ' -', ' -', ' -', ' -', 'YA KD -', 'LA TA YA KC KD -', 'LC LA TA YA EA VA KC KD KF -', ' -', 'RJ -', 'YA QA RJ -', 'YA QD RJ -', 'LA EA NA YA KC KD KF -', 'EA KD KF -', 'LA IA KC KD -', 'LA RG RI RJ -', 'LA RG RI RJ -', 'YA HA KD KF RG RJ -', 'YA HA KD KF RG RJ -', 'RJ -', 'RJ EA FA -', 'RJ -', 'RJ -', 'RJ -', 'RJ -', 'RJ -', 'WA RJ -', 'WA RJ -', 'QD KD KF -', 'KA KD KF EA -', 'KF -', 'KD EA -', 'KF -', 'KD KF FA YA RJ -', 'KD KF FA YA RJ -', 'RA RJ -', 'LC LA VA DA QC QA EA RC RG RI RJ -', 'LC LA VA DB DA QC QA QD EA RC RG RI RJ -', 'MA YA KD KF -', 'LA EA FA KC KD KF -', 'EA KD KF RG RI RJ -', 'LA EA RG RJ -', 'LA EA HA HF KC KA KD KF -', 'LC LA VA EA FA RC RJ -', 'EA YA FA RG RJ -', 'LA EA NA IA KC KD KF -', 'WA RJ -', ' -', 'WA WF RJ -', 'FA RJ -', 'LC LA VA FA RC RG RI RJ -', 'FA RJ -', 'LC LA VA FA RC RI RJ -', 'LC LA VA FA RC -', 'FA HA RJ -', 'LC LA VA FA KC KD KF -', 'FA QD RI RA RJ -', 'RJ KF -', 'LC LA VA FA PA KC KA KD -', 'LA EA IA RG RI RJ -', 'LC LA VA HA FA IC IA KC KD -', 'KD -', 'EA RJ -', 'KF -', 'LC LA VA RC QC QA HA KC KD -', 'LA IA QC QA QD EA RG RI RJ -', 'LC LA VA IC IA EA KC KD KF -', 'LC LA VA IC IA EA KC KD KF -', 'KF -', 'LC LA VC VA IC IA KE KC KA KD KF -', 'KD KF EA RJ -', 'KD KF FA QD RG RI RJ -', 'KD KF FA RI RJ -', 'KD FA -', 'KF RJ -', 'KD KF FA RI RJ -', 'KF RJ -', 'KD KF FA QD RJ -', ' -', ' -', 'KF RJ -', ' -', 'LA KC KA KD KF QC QA QD IA -', ' -', 'RJ -', 'LA IA YA FA KC KD KF -', ' -', 'LC LA VA MA RI RJ -', 'LC LA VA MA EA RG RI RJ -', 'LC LA VA TA HA HE HF PA EA KC KA KD KF -', 'LC LA VA HA PA EA KC KD -', 'YA EA HA HE HF KD KF -', 'YA KD -', 'YC YA EA HA HE HF KA KD KF -', 'KF -', 'KF -', 'EA YA KD -', 'EA YA KA KD KF -', 'LA NA EA RG RI RJ -', 'LC LA VA NA HA RC RG RJ -', 'LC LA VA NB NA HA HE HF RH RC RG RI RJ -', 'LC LA VA NB NA HA RC RG RJ -', 'HA HE RJ -', ' -', 'HA RG RI RJ -', 'LC LA VA NA MA DA RG RI RJ -', 'KD -', ' -', ' -', 'QA FA KD -', 'KF -', 'KF -', 'LA NA YA EA KC KD KF -', 'YA KD KF -', 'YA KD KF -', 'KF -', 'YA KD KF -', 'YA EA KD -', ' -', ' -', 'KF -', 'MA QA YA KD -', 'KF -', 'RJ -', 'RJ -', 'FA EA -', 'RJ -', 'RJ -', 'RJ -', 'LC LA VA PA HA HF QC QA QD MA -', 'LC LA VA PA HA HE HF -', 'LC LA VA PA HA HE HF QA -', ' -', 'KF -', 'RJ -', ' -', 'WA KF RJ -', ' -', 'KF -', 'LA QC QA QD FA KC KD -', ' -', 'LA QC QA QD EA FA KC KA KD KF -', 'QA FA KD KF -', 'QA HA RJ -', 'LC LA VA QC QA IC IA HA PA RC RJ -', 'RJ -', 'QA RJ -', 'LC LA VA QC QA QD IC IA HA PA RC RG RJ -', 'QD HA RG RJ -', 'QA FA KD -', 'LA IA RG RI RJ -', 'KD -', 'LA QA KC KD -', ' -', 'HF RJ -', 'LC LA VC VA SA QB QC QA DB DA KE KC KA KB KD KF -', 'HA RG RJ -', 'HA HE HF RG RI RA RJ -', 'LC LA VA IC IA YB YC YA KC KA KB KD KF -', 'RJ -', 'RJ -', 'RJ -', 'LC LA VA TA HA HE RG RI RJ -', 'LC LA VC VA TA QB QC QA QD RH RC RG RI RA RJ -', 'WA KD KF RJ -', 'WD WE WA KD KF RJ -', 'KF -', 'LA EA FA RJ -', 'LA RJ -', 'FA -', ' -', 'LC LA VC VA WD WE WA WF KC KD KF -', 'LC LA VA HA HE KC KA KD KF -', 'FA KD -', 'LC LA VA PA FA KC KD -', ' -', 'LC LA VA RJ -', 'LA NA FA QC QA QD DA KC KD KF -', ' -', 'LC LA VC VA PA RC RI RJ -', 'LC LA VA WA PA KC KD KF -', 'WD WE WA WF KD KF -', 'LA YB YA HA HE HF RG RI RJ -', ' -', ' -', 'WA RJ -', 'LA EA FA -', 'LA WD WA WF IA RG RI RJ -', 'LC LA EA VC VA KC KD -', 'WA WF RJ -', 'WD WE WA WF HA HE HF KD KF -', 'WA KD -', 'WA KF -', 'WA -', 'LA WD WE WA RJ KC KD KF -', 'WA WF RJ -', 'LC LA WD WE WH WA WF VA DA RC RG RI RJ KC KA KB KD KF -', 'LC LA YA WA NA PA KC KD KF -', 'LC LA YA EA HA KC KA KD KF -', 'LA YB YC YA DA EA IA MA KA KD KF -', 'YA RJ -', 'YA -', ' -', ' -', 'LC LA YA MA KC KD -', 'YA KD -', 'KD -', ' -', ' -', ' -', 'LC LA YB YC YA HA HE FB FA TA KC KA KD KF -', 'YA RJ -', 'YA RJ -', 'YA RJ -', 'RJ -', 'YA RJ -', 'YA RJ -', 'YA RJ -', ' -', 'YA HA HE RI RA RJ -', 'YA HA RG RI RJ -', 'YA HA RJ -', 'YA HA HE RJ -', 'YA HA HE RI RJ -', 'RJ -', ' -', 'KF -', 'YA KD KF -', 'YA KD KF -', ' -', ' -', 'YA QA KD -', ' -', ' -', 'YA QA RJ -', 'YA RJ -', 'KF -', ' -', 'KF -', 'LA YA IA HA HE HF KC KD KF -', 'LC LA YA SA KC KA KD KF -', 'YA FA RJ -', 'RJ -', 'LA YB YA HA QC QA NA KC KA KD KF -', 'LA YB YC YA HB HA HE HF QC QA EA NA KC KA KB KD KF -', 'LA YB YA HA HE RG RI RJ -', 'LA YB YC YA HA HE RG RI RA RJ -', 'YA -', 'YA HE HF FA RI RA RJ -', 'YA FA RJ -', 'YA FA RJ -', 'YA HE FA RI RJ -', 'LC LA YA VA SA RC RG RJ -', 'RJ -', 'RJ KF -', ' -', 'YA EA RJ KD KF -', ' -', ' -', 'LC LA YA EA KC KD KF -', 'LA YA QC QA RJ -', 'WD WA KD KF -', 'IT -', ' -', 'KF -', 'MA EA HA RJ -', 'MC DA EA HA HE HF RG RI RJ -', 'MA DA EA HA HE HF RG RI RA RJ -', 'MC DA EA HA HE HF RG RI RJ -', 'RJ -', 'RJ -', ' -', 'RJ -', 'KD KF -', 'KD KF QD -', 'RJ -', 'MA FA WD WA PA KC KD -', 'MA FA WB WE WA NB NA PA KC KA KD KF -', 'KF -', ' -', 'MB MA HA HE HF WA WF NB NA KC KA KB KD KF -', 'MB MA HB HA HD HE HF WD WE WA WF NB NA KC KA KB KD KF -', 'MA LA IA KD -', 'MA LA DA IA KA KD KF -', 'MA KD -', 'MA LC LA RJ -', 'KF -', 'QD RJ -', 'MA HA HE HF EA QA QD RG RI RA RJ -', 'MA HA KD KF -', 'HA KD KF -', 'YA QA KD KF -', 'YA QD KD KF -', 'YA KD KF -', ' -', 'YA KD KF -', 'MA KD -', 'MA EA QA QD TB KA KB KD KF -', 'MA KD KF EA -', 'MA KB KD KF EA -', 'KD KF -', 'KF -', ' -', ' -', 'YA KD KF -', 'YA KD KF -', 'KF -', 'KD -', 'MC YA KD KF -', 'YA KD KF -', 'MA EA KD -', 'MA EA KD KF -', 'MA YA KD KF -', 'MA DA IA EA KC KA KD KF -', 'DA IA EA KC KD KF -', 'KF -', 'WA -', 'HF WA KF -', 'WD WE WA WF RA RJ -', 'MA -', 'MA KD -', 'MA KF -', 'MA HA HF FA KD KF -', 'MA QA QD EA KD KF -', 'KF -', 'KD KF -', 'KD KF -', 'KD KF -', 'KD KF RJ -', ' -', 'MA EA LC LA RC RG RI RJ -', 'MA EA QC QA QD IA RJ -', 'EA QC QA QD IA RJ -', 'MA EA FA HA HE KD KF -', 'EA FA HA HF KD KF -', 'MA FA KD KF -', 'MA EA FA HA KD -', 'RJ -', 'RJ -', 'MA EA RJ -', 'KD KF -', 'KD KF -', 'MA -', 'MA IA LA QC KC KD -', 'MA EA IA LA QC QA KC KD -', 'KF -', 'MA EA LC LA RC RG RJ PA KC KA KD KF -', ' -', 'MA EA LC LA RC RG RI RJ PA KC KA KD KF -', 'KF RJ -', 'KF RJ -', 'MA EA KA KD KF -', 'MA EA QC QA QD YA LA RJ -', 'RJ -', 'QD RJ -', 'KF -', 'MA EA RJ -', 'MA EA VA FA PA KC KA KD KF -', ' -', 'MA EA VA PA FA RC RJ -', 'MA FA EA YA QA QD RG RI RA RJ -', ' -', 'MA FA KD -', 'MA FA KC KD -', 'KF -', 'MC FA KD -', 'MA MC FB FA TA KC KA KD KF -', 'KF -', 'MA FA TA KC KD -', 'FA KD KF -', 'MA FA -', 'MA FA WD WE RJ -', 'MA WA RJ -', 'RJ -', 'MA MC FB FA TA RC RG RI RJ -', 'FA RG RI RA RJ -', 'FA RG RI RA RJ -', 'MA FA RG RI RA RJ -', 'FA RG RJ -', 'RJ -', 'FA RG RI RJ -', 'RJ -', 'FA RG RI RA RJ -', 'RJ -', 'MB MA FA IA KE KC KA KD -', ' -', 'FA KD -', 'FA KD -', 'MA FA HA KD KF -', 'MA FA HA HE HF KA KB KD KF -', 'MA FA HA KD -', ' -', 'MA FA QA QD KD -', 'MA FA QD HA HE HF KD KF -', ' -', 'MA FA QD HA KD KF -', 'MA FA KD KF -', 'MA FA QA TB KD KF -', 'KF -', ' -', 'MA FA EA HA RG RJ -', 'RJ -', 'MA FA QA QD KA KB KD KF -', 'MA FA QC QA LC LA IC IA KC KD -', 'KF -', 'MA FB FA EA NB NA KC KA KD KF -', 'MB MA FB FA VA HA HE LC LA RH RC RG RI RJ -', 'MA FA YA EA QA KD KF -', 'MA FA YA EA QA KD KF -', 'MA FA YA HA HE HF KC KA KD KF -', 'MA MC FB FA YB YA HA HE HF KC KA KD KF -', ' -', 'YA FA KD KF -', 'MA EA YA FA KD KF -', 'MA FA YA RG RJ -', 'RJ -', 'MA HA HF LA WD WE WA IA RG RI RJ -', 'MC QA QD KA KD KF -', ' -', 'MA HA HC HE YA LA EA RG RI RA RJ -', 'RJ -', 'HA HE YA LA RG RI RJ -', 'RJ -', 'MA HA HD HE HF YB YA LA EA RG RI RJ -', 'RJ -', 'HF RJ -', ' -', 'QD KD KF -', 'MA NA HA LA RG RJ -', 'MA NA HA HE HF LA TA RG RI RJ -', 'MA EA RG RI RA RJ -', 'RJ -', 'MA EA RG RI RJ -', 'RJ -', 'EA RG RI RJ -', 'MB MA SA QB QC QA QD KE KC KA KD KF -', 'MA IA RJ -', 'RJ -', 'MA IA EA LA KC KD -', 'MA IA EA LA KC KD KF -', 'KF -', ' -', 'KF -', 'MA HA YA FA EA KD -', 'MA EA HA KD -', 'EA HA KD KF -', 'MA IA DA EA LA HA KC KA KD KF -', 'MA HA KD -', 'MA IA DA EA LA HA HE HF KC KA KB KD KF -', 'HF -', 'MA RJ -', 'MA QD QQ RJ -', 'QD RJ -', 'MA FA KD -', 'MB MA IC IA FA KE KC KD -', 'MA IC IA FA KC KD KF -', 'MA IC IA FA KC KA KD KF -', ' -', 'KD KF FA HA -', 'KB KD FA HA -', 'KD FA HA -', 'MA IA LA FA RJ -', 'MB MA IC IA NA LC LA DA KC KD KF -', 'KD KF -', 'KF -', 'QD RJ -', 'YA FA RI RJ -', 'YA FA RJ -', 'RA RJ -', 'RJ -', 'RJ -', 'MA HA KD KF -', ' -', ' -', 'MA KC KA KD KF QC QA QD -', 'MA -', 'KF -', 'MA FA KD KF -', 'MB MA LC LA FA KC KD -', 'MA LA FA KC KD KF -', 'MA LA FA KC KD -', 'MA LA FA KC KD KF -', 'MA FA KD KF -', 'RJ -', 'YA RJ -', 'MA EA FB FA KD KF -', 'FA RJ -', 'MA LA FA KC KD -', 'MA -', 'RJ -', 'RJ -', 'RA RJ -', 'RJ -', 'MA RJ -', 'MA HA HE HF RJ -', 'MA LA IA TA FA HA HE HF KC KA KD KF -', 'HF WA KF -', ' -', ' -', ' -', 'KD KF RJ -', 'KD KF RJ -', 'KD KF RJ -', 'KD KF RI RJ -', ' -', ' -', 'YA -', 'YA KD KF RJ -', 'YA KD KF RJ -', 'MB MA LA FA RC RG RJ -', 'MA LA FA EA RG RJ -', 'RJ -', 'MB MA LC LA SA IC IA KC KD -', 'MA LA FA KC KD KF -', 'MA FA EA QA QD KA KD KF -', 'MA QA KD KF RG RJ -', 'MA LA QC QA QD KC KD -', 'MA LA QC QA QD NA EA KC KA KD KF -', 'KF -', 'QD KD KF -', 'MA QA QD TB RG RI RA RJ -', 'MA QA QD RG RI RJ -', 'RJ KF -', 'RJ KF -', 'RJ KF -', ' -', ' -', 'RJ KF -', ' -', 'MA LA IA RJ -', 'MA FA KD KF -', 'FA KD KF -', 'MA FA KD -', 'MA FA KA KD KF -', ' -', 'FA KD KF -', ' -', ' -', 'KF -', 'KF -', ' -', 'RJ -', 'MA EA QA FA RJ -', 'MA FA -', 'KD KF -', 'KD -', 'KD KF -', 'KB KD KF -', 'MA FA YA KC KA KD -', 'MA FA QA RJ -', 'MA KD -', 'MA QA KD -', 'MA QA KD KF -', 'MB MA LC LA NA KC KD -', 'HA RJ -', 'MA NA TA LC LA RC RG RJ -', 'MB MA PA HA HE NA KC KA KD KF -', 'MB MA PA HA HE NA KC KA KD KF -', 'RG RJ -', 'RJ -', 'MA EA RG RI RJ -', 'RJ -', 'MA EA RJ -', 'RJ -', 'MA EA TB RG RI RA RJ -', 'RJ -', 'NA FA LC LA QC QA QD RI RJ VA KC KA KD KF -', 'MA LA IA -', 'MA EA KA KD KF -', 'MA LA QA QD KD -', ' -', 'RJ -', 'MA NA FA EA RG RI RJ -', 'MA FA IA KC KD KF -', 'MA YA WA KD -', 'MA HA KD -', 'MA EA DA LA KC KA KD KF -', ' -', 'KD KF FA -', 'KD KF FA -', 'RJ -', 'MA QA QD FA KD KF -', 'MB MA PA EA LC LA KC KD KF -', 'MA RF RG RI RJ DA EA LC LA KC KA KD KF -', 'MA LA WA KC KD -', 'WA WF KF -', 'MA PA TA YA KC KD KF -', 'MA QC QA QD LA RG RJ -', 'MA MC QC QA QD DA LA RG RI RJ -', 'FA RJ -', 'MA QA QD HA HC HE HF LA EA TB NA KA KB KD KF -', 'MA QA HA HE HF LA NA KA KD KF -', 'HF KF -', 'MC QA HA HE HF EA NA KA KB KD KF -', 'MC QA QD HA HE HF EA NA KA KD KF -', 'HF KF -', 'MA QA QD HA HE HF LA EA NA KA KD KF -', 'KF -', 'QA HA EA KD -', 'HF -', 'MA QC QA QD HA HE HF LA EA KC KA KD KF -', 'HF KF -', 'HA KD -', 'MA MC QA QD HA HE HF LA EA KA KD KF -', 'MC QA QD HA HE HF EA KA KD KF -', 'MA QA HA EA KD -', 'MA QC QA QD HA HE HF LA EA KC KA KD KF -', 'MA QC QA QD HA LA EA KC KA KD -', ' -', 'QA EA KD -', 'QA QD HA LA EA KA KD KF -', ' -', ' -', 'RJ YA KD KF -', 'MA QA KD -', 'MA QA QD RG RI RJ -', 'QA RJ -', 'MA QA RJ -', ' -', 'QD KD KF -', 'KD -', 'QD KD KF -', 'KF RJ -', 'KF RJ -', 'RJ -', 'RJ -', 'MA QA RJ -', 'QD RI RJ -', 'QD RI RJ -', 'RJ -', 'MC QA QD RJ -', 'MC QD RI RJ -', 'RJ -', 'MA QA QD EA RJ -', 'RJ -', 'QD RJ -', 'RJ -', 'QA EA RJ -', 'MA QA -', 'QD RJ KD KF -', 'QD RJ KD KF -', 'RJ KF -', 'RJ KD KF -', 'RJ KD KF -', 'RJ KF -', 'MA QA KD -', 'QD RJ KD KF -', 'MC QA EA RJ KF -', 'QD RJ KD KF -', 'RJ KF -', 'MA YA LA KD KF -', ' -', ' -', 'MB MA QB QC QA YA PA RH RC RI RJ -', 'MA IA LA FA EA KC KA KD -', 'RJ KF -', 'RJ IA -', 'RJ -', 'RJ -', 'MA LA NA KC KD -', 'MA LA KC KD KF -', 'MA KA KD KF EA QA QD -', ' -', 'QD RG RI RJ -', 'MA RG RI RJ -', 'RJ -', 'YA RJ -', 'HE RJ -', ' -', 'MA FA RJ -', 'RJ -', 'RJ -', 'HF RJ -', 'HF RJ -', 'MA LA IA EA KC KD -', 'MA QA RJ -', 'KF -', 'MA LA KC KD KF -', 'LA KC KD KF -', 'KF -', ' -', 'MA YA KA KD KF -', 'KF -', 'MA LA QC QA RG RI RA RJ -', 'MA RJ -', 'MB MA SA PA LC LA RH RC RG RJ -', ' -', 'MA FA KD KF -', 'MA FA KD KF -', 'MA FA KD KF -', 'KD -', 'MA MC FA KD KF -', 'FA KD KF -', 'KF -', 'MA QC QA YA LA KC KD -', 'MA QC QA YA LA KC KD -', 'KF -', 'MA EA KD KF RG RI RJ -', 'MA EA KD KF RJ -', 'RJ -', 'YA -', 'KF -', ' -', 'MB MA TA FA KE KC KA KB KD -', 'MA TB HA QA QD KA KB KD KF -', 'KF -', 'KF -', 'HF KF -', 'RJ -', 'RJ -', 'MA QC QA LA EA KC KB KD KF -', 'MA YA IA FA KC KB KD -', ' -', 'MA VA LC LA QC QA KC KD KF -', 'RJ -', 'MA TB EA RG RA RJ -', 'MA VA LC LA QC QA KC KD -', 'KD KF -', 'MB MA VA EA IC IA KC KD -', 'KF -', 'VA EA IC IA KC KD -', 'KF RJ -', 'KF RJ -', 'KF RJ -', 'KF RJ -', ' -', 'FA RG RI RJ -', 'QD KD KF -', 'MB MA VA IC IA TA KE KC KA KB KD KF -', 'MA VA LC LA NB NA DB DA QC QA QD KC KA KD KF -', 'MA EA RI RJ -', 'RJ -', 'WA -', 'WA -', 'MA VA FA IC IA PA KC KD KF -', ' -', 'MA FA KD KF -', 'KF -', 'FA KD KF -', 'MA FA KD KF -', 'MC FA KD KF -', 'MA FA KD -', 'MA FA KA KD KF -', 'MA FA KD -', 'FA KD -', 'KF -', 'MA FA KD KF -', 'MA MC FA KA KD KF -', 'MB MA VC VA SA LC LA KE KC KA KD KF -', 'HA KD KF -', 'MA QC QA QD KC KD KF IA -', 'RJ -', 'RJ -', 'RJ -', 'RJ -', 'RJ -', 'MA KD -', 'RJ -', 'WF RJ -', 'RJ -', 'MA YA KB KD KF FA -', 'MA YA KD KF FA -', 'MA YB YA TB RG RI RJ -', 'RJ -', 'RJ -', 'RJ -', 'RJ -', 'RJ -', 'MA YA FA RJ -', 'YA WD WA RJ -', 'YA RJ -', 'KF -', 'MA YB YA DA KC KA KD KF -', 'KF -', 'KF -', 'RJ -', 'RJ -', 'HF RJ -', 'RJ -', 'NA DA EA LA RG RI RJ -', 'YA RJ -', 'RJ -', 'NB NA DB DA MB MA KE KC KA KD KF -', ' -', 'KF -', 'YA -', 'NB NA EA QB QC QA QD FA KE KC KA KD KF -', 'EA QA QD FA KA KB KD KF -', 'RJ -', 'RJ -', 'NA FA DA LC LA KC KA KD KF -', 'FA KD KF -', 'EA FA QA RJ -', 'NA EA FA QC QA QD YA IA RG RI RJ -', 'RJ -', ' -', ' -', 'KF -', 'HF KF -', 'HA HE HF TB YC YA QA QD KA KD KF -', ' -', 'YA RG RJ -', ' -', ' -', ' -', 'KF -', 'KF -', 'KF -', ' -', ' -', 'KF -', ' -', 'HF KF -', 'WA HA RJ -', 'WD WA HA HE QD RG RI RJ -', ' -', ' -', ' -', ' -', 'KF -', ' -', 'NB NA QB QC QA QD DB DA FA KE KC KA KD KF -', 'KD KF FA RJ -', 'YA KF -', 'NA LA EA RG RJ -', 'DS DS DS DS -', 'RJ -', 'WA KD -', 'NA VA WD WE WA WF KC KA KD -', 'KF RJ -', 'HE HF RI RJ -', 'YA WA KD KF -', 'EA YA RJ -', 'NA DA EA IC IA YA RC RG RI RJ -', 'RJ -', 'NA DA EA QC QA QD LA RG RI RJ -', 'KF -', 'NA DA LA HA KD -', 'WA WF HF RJ -', 'NA DA IA WA FA EA KC KD -', 'YA RJ -', 'HA HE HF EA YA RG RI RA RJ -', 'NA DA LA EA QC QA QD HA HF FA KC KA KD KF -', 'YA KD KF -', ' -', ' -', ' -', 'EA KD KF -', 'RJ -', 'RJ -', 'RJ -', 'RJ -', 'WA WF KF -', 'YA KD KF -', ' -', ' -', ' -', ' -', ' -', 'NA EA DA RJ -', 'RJ -', 'RJ -', 'EA RG RJ -', 'KF -', 'NA EA DA KC KA KD KF -', 'EA KD KF -', 'EA KA KD KF -', 'NB NA EA IC IA KC KA KD KF PA TA TB -', 'EA QA QD MA YA KA KD KF -', ' -', 'NA EA HA RC RG RJ -', ' -', 'KF -', 'KD KF FA YA -', 'KD KF FA YA -', 'KD KF -', 'EA FA RJ -', 'RJ -', 'EA RG RI RJ -', 'NA EA YA DA KC KD KF -', 'KF -', 'HE HF QD RJ -', 'HE HF RJ -', 'EA HA HE HF RG RJ -', 'RJ -', 'QD RJ -', 'RJ -', 'EA HA QA QD RG RI RJ -', ' -', 'FA KD KF -', 'EA WD WE WA WF KD KF -', 'KF -', ' -', ' -', ' -', ' -', 'KF RJ -', 'RJ -', 'RJ -', 'RJ -', 'NB NA FB FA LC LA TA RC RG RI RA RJ -', 'FA QA QD YA EA RG RJ -', 'KD KF -', 'KD -', 'KD KF -', ' -', 'KF -', ' -', 'FA QD WD WE WA WF KD KF -', 'NA FA SA KC KA KD KF -', 'FA KD KF -', 'RJ -', 'RJ -', 'RJ EA -', 'RJ -', 'RJ -', 'RJ -', 'RJ -', 'RJ KF -', ' -', 'NA LC LA YA FA PA KC KD -', 'MA KD KF HA HF -', 'KD KF -', 'NA MA IA RJ -', 'WA -', ' -', 'WA WF -', ' -', 'KF -', ' -', ' -', ' -', 'FA YA KD -', 'RJ -', 'KD -', ' -', 'HE HF KD KF -', 'NA RG RI RJ HA HE HF FA -', 'NB NA WD WE WA WF LC LA HA HE HF KC KA KD KF -', 'HA FA KD KF -', 'HA FA RJ -', 'HA HE EA TB QA QD KA KD KF -', 'HA HE HF EA TB QA QD KA KD KF -', 'RJ -', 'KF -', ' -', ' -', ' -', ' -', ' -', ' -', ' -', ' -', 'RJ -', 'KF -', 'HA QA KD -', ' -', 'KF -', 'KF -', ' -', 'RJ QD -', 'RJ -', 'QD RJ -', 'KF -', 'NA IA EA DA KD -', 'IA EA DA QA KD -', ' -', 'NA IA FA DA KC KD -', 'KF -', ' -', 'NA IA FA QC QA RG RI RJ LA -', 'FA YA RJ -', 'NA IA FB FA YB YA LA RG RI RA RJ -', ' -', ' -', ' -', ' -', ' -', 'RJ -', 'NA IA KC KA KD KF EA -', 'FA KD -', 'EA FA KD KF -', 'FA KD -', ' -', 'KD KF -', 'HE HF QD KD KF -', 'HA MA KD -', 'QD KD -', 'HE HF QD KD KF -', 'KD -', 'KD KF -', ' -', ' -', 'KF -', 'YA RJ -', 'NA IA LA DA KC KA KD KF -', 'QD RJ -', 'RJ -', 'RJ -', 'NA IC IA LC LA RJ -', 'MA YA RJ -', 'NB NA IA MA YA LA RC RE RG RI RJ -', 'RJ -', 'MC EA YA RJ -', 'NA IA YA LA RC RJ -', ' -', 'IA RJ -', 'RJ -', 'NA IA EA KD KF -', 'NA IA QC QA LA RC RG RJ -', 'QD WA WF RJ -', 'QA QD YA RI RJ -', ' -', 'QD YA RJ -', 'QD YA RJ -', 'RJ -', ' -', 'EA RG RJ -', ' -', 'KF -', 'NA IC IA VA KC KA KD KF PA -', 'RJ -', 'NA IC IA VA RC RG RJ -', 'NB NA IC IA VA TA MA KE KC KD KF -', 'KF -', 'NB NA IC IA VA EA RC RG RI RJ -', 'NB NA IC IA YA EA DB DA KC KA KD KF -', 'KD KF QD -', 'KF -', 'NA KC KA KB KD KF EA LA DA QC QA QD -', ' -', 'NA KC KA KD KF LA DA HA YA IA -', 'NA KC KD KF LA DA HA YB YA IA -', 'NA KC KA KD KF LA DA HA YB YA IA -', 'KF -', 'KF -', 'KD KF QD -', 'NA KA KD KF IA TY TY YA LA RG RI RJ -', 'WA -', 'KF RJ -', 'NA LC LA DA RC RJ -', 'QA KD -', 'KD -', ' -', 'WA KD KF -', 'WA KD KF -', 'NA LA EA YA RG RJ -', ' -', 'EA HA YA QA FA RG RI RJ -', 'EA HA HE HF YC YA QA QD FA RG RI RJ -', 'WA -', 'WA -', 'WA KF -', 'RJ -', 'FA KD KF -', 'NA LA FA DA EA KC KD KF -', ' -', ' -', ' -', 'FA QD KD KF -', 'FA QA KD KF -', 'NA LA IA HB HA HE HF TA RG RI RA RJ -', 'RJ -', 'NB NA LC LA KC KA KD PA IC IA -', 'NB NA LC LA KC KA KD KF PA IC IA -', ' -', 'KF RJ -', 'KF RJ -', 'KF RJ -', ' -', ' -', 'KF -', ' -', 'KF -', 'WA RJ -', 'FA KD -', 'HA HE HF QA KA KD KF -', 'RJ -', 'RJ -', 'NA YA QA QD KA KD KF -', 'NA LC LA MA RC RG RJ -', ' -', 'RJ -', 'NB NA LC LA IC IA VA QC QA QD KC KD KF -', 'NB NA LC LA EA QC QA RC RG RI RJ -', 'RJ -', 'RJ -', 'RJ -', 'QD RJ -', 'RJ -', 'RJ -', ' -', 'NA LC LA PA VA EA RC RG RJ -', 'KF -', 'KF -', 'QA EA RJ -', 'LA QA IA RJ -', 'NA LC LA QC QA PA IC IA VA KC KD KF -', 'QA KA KD KF -', 'QA -', 'RJ -', 'RJ -', 'RJ -', 'RJ -', ' -', 'QD YA KD KF -', 'QA YA KD -', 'YA KD KF -', ' -', 'KF -', 'FA KD -', 'KD KF -', 'KD KF -', 'KD KF -', ' -', 'KD -', ' -', 'HF RJ -', 'NB NA LC LA VA QC QA DB DA TA TB RH RC RG RI RJ -', 'KF -', 'KF -', 'QD KD KF -', 'KD -', 'KF -', 'QD KD KF -', 'KD KF -', 'RJ -', 'RJ -', 'WA RJ -', ' -', ' -', 'KF -', ' -', ' -', 'YA RJ -', 'RJ HE KD KF -', 'MA FA RJ -', 'YA -', 'QD RI RJ -', 'MA QA FA KD KF -', 'MA YA EA RG RJ -', 'RJ -', 'MA YA EA RJ -', 'RJ -', 'RJ -', 'RJ -', 'HF RJ -', 'YA KD KF -', 'YA KD KF -', 'NA FA EA IA TA KC KD KF -', 'KD -', 'KD KF WD WE WA WF -', 'WA WF -', 'KD WD WA -', 'KD WD WE WA WF -', 'KD KF WC WD WE WA WF -', 'WA WF -', 'RJ -', 'RJ -', 'FA YA RJ -', ' -', 'KF -', ' -', 'KF -', 'NA LA FA HA HF RG RI RJ -', 'NA LA FB FA HA HE HF RG RI RJ -', 'KD KF RG RJ -', 'EA KD KF RG RI RJ -', 'NB NA PA KC KA KB KD KF LC LA RC RG RI RJ -', 'RJ -', 'RJ -', 'YA KD KF -', 'YA KD KF -', 'RJ -', 'RJ -', 'RJ -', 'RJ -', 'RJ -', 'KF RJ -', 'WD WA WF KD KF -', 'NB NA PA EA WD WE WA WF KC KA KD KF -', 'WA WF KF -', ' -', 'QD HE HF YA RA RJ -', 'YA RJ -', 'YA EA RJ -', ' -', 'NB NA PA DB DA EA VA KC KA KD KF -', 'KF WA WF RJ -', 'WA YA RJ -', 'WA YA RJ -', 'RJ WA KF -', ' -', 'FA KD -', 'RJ WA KF -', 'RJ WA KF -', 'RJ -', 'WA RJ -', 'WA RJ -', 'WA KF -', ' -', 'WA WF KF -', 'WA WF KF RJ -', ' -', ' -', ' -', ' -', ' -', ' -', ' -', 'KF -', ' -', 'RJ -', 'FA MA KB KD KF -', ' -', ' -', 'YA RJ -', 'IA KC KD KF FA RJ -', 'RJ -', 'NA IA FA RG RJ -', 'RJ -', ' -', 'RJ KF -', 'RJ KF -', ' -', ' -', 'RJ KF -', 'RJ KF -', 'FT FT FT FT KF -', 'YA FA -', 'NB NA PA LC LA VA RH RC RG RI RA RJ -', ' -', ' -', 'QD RG RI RJ -', 'HA HF -', 'TB HA HF -', 'HA HF -', 'EA HA HF -', 'HA HF -', 'HA HF -', 'HF -', ' -', ' -', 'NA QA FA YA KD KF -', ' -', 'RJ -', 'RJ KF -', 'RJ KF -', 'HD YA RJ -', 'KF -', 'NA DA IA KC KD -', 'KD KF RJ -', 'KD KF RJ -', 'KD -', 'KD KF RJ -', 'QD RG RJ -', 'NA QC QA QD EA IA DA RG RI RJ -', ' -', 'RJ -', 'NB NA QC LA FA KC KD -', 'KD -', 'NB NA QC QA QD LC LA VA EA IC IA KC KA KD KF -', ' -', 'QD -', 'QA -', ' -', 'KD -', 'KF -', 'KF -', 'NB NA QC QA QD VA RC RG RI RJ -', ' -', 'RJ -', 'RJ -', 'RJ -', 'RJ KF -', ' -', 'RG RI RJ -', 'KD KF RJ -', 'QD RJ -', 'QD RJ -', 'NA EA DA QC QA QD RJ -', 'KD KF -', 'KD -', ' -', ' -', 'KF -', 'EA FA QA QD KD KF -', 'YA TB KD KF -', 'YA KD KF -', 'NA SA IC IA RC RJ -', ' -', ' -', 'YA -', 'RJ -', ' -', 'FA QD RJ -', 'NA LA FA DA QA QD RG RI RJ -', 'WA WF KF -', ' -', 'KF -', 'KF -', 'QD KD KF -', 'RJ -', 'RJ -', 'HF RJ -', 'RJ -', 'QA QD RJ KD KF -', 'KF -', 'NA FA EA LA KC KD -', 'HF -', ' -', 'HF -', 'NA LA DA RJ -', 'NA WD WE WA WF KC KD -', 'WD WE WA FA YA RJ -', 'WA -', 'YA -', 'YA HE HF RJ -', 'YA RJ -', 'RJ -', 'YA EA RJ -', 'YA RJ -', 'HF RJ -', 'NA YB YC YA QC QA QD DA EA KC KA KD KF -', 'YC YA QA QD EA KA KB KD KF -', 'YA QD KD KF -', 'YC YA QA QD KD KF -', ' -', 'TB FA YA KD KF -', 'FA YA KD KF -', 'NA TA DA IC IA LC LA KC KD -', 'YA RI RA RJ -', 'YA RI RJ -', 'NB NA TA EA PA KC KA KD KF -', 'KD KF -', 'KF -', 'YA FA KD KF -', ' -', 'YA KF -', ' -', 'FA YA -', 'KF -', 'NA TA FB FA EA RG RI RJ -', 'EA RJ -', 'HA KD KF -', 'NA LA FA IA DA RG RI RA RJ -', 'YA EA KD KF -', 'NA LA IA YA EA KC KD KF -', 'RJ -', 'NA MA FA KD -', ' -', ' -', ' -', 'QD RJ -', 'WA RJ -', 'YA -', ' -', 'RI RJ -', 'RI RJ -', 'YA MA DA QA QD KD KF -', 'YA KF -', 'KF -', 'KF -', 'FA RJ -', ' -', ' -', 'EA RJ -', 'EA MA YA RG RI RJ -', ' -', 'KF -', ' -', 'NA VA FA LC LA RC RJ -', 'NB NA VA FA PA RC RG RI RJ LC LA -', 'KF -', ' -', 'FA KD KF -', 'NA VA IC IA FA DA KC KD -', ' -', 'WD WE WA WF RI RJ -', 'WA RJ -', 'WD WA WF RG RJ -', 'NA LA HA HE HF KC KA KD KF -', 'RJ -', 'YB YA RG RI RA RJ -', 'RJ -', 'QA QD RJ -', 'NA QC QA QD LA WD WA RJ -', 'QA -', ' -', ' -', ' -', 'NB NA VA QC QA QD HA HE HF YA KC KA KD KF -', 'YA KD KF -', 'EA KD KF -', ' -', 'KF -', 'NA WD WE WA WF DA RC RJ -', 'WD WE WA WF TB QD KD KF -', 'WA WF KF -', 'NA WD WE WA HA HE VA PA KC KA KD KF -', 'NB NA WD WE WA WF HA HE HF VA PA KC KA KD KF -', 'WA -', ' -', 'WA RJ -', 'WF KF -', 'NA WD WE WA WF YA QC QA QD IA KC KD KF -', 'YC YA FA KD -', 'YA FA KD -', 'YA FA KD KF -', ' -', ' -', ' -', 'KF -', 'NA YB YC YA EA LC LA HA HE DA KC KA KD KF -', 'NA YB YC YA EA LC LA HA HE DA KC KA KD KF -', 'YA HA KD KF -', 'YC YA HA HE HF KD KF -', 'YA KF -', 'YA FA KD -', 'KF -', 'KF -', 'KF -', 'NA YB YC YA IA EA DA LA RG RI RJ -', 'YA IA DA LA RG RJ -', 'YA KD KF MA RG RI RJ -', ' -', ' -', ' -', ' -', ' -', ' -', ' -', 'KF -', 'KF -', 'YA -', 'KF -', 'YA QA FA KD -', 'YC YA EA QA QD FA KD KF -', 'NA YC YA LA EA KC KD KF -', ' -', 'YA KD KF -', 'YA KD KF -', 'YA KD -', 'KF -', 'NB NA YC YA VA TA IC IA RC RG RI RJ -', 'PA VC VA TA KE KC KA KD KF -', 'KF -', 'LA NA EA KA KD KF -', 'QA FA KD -', 'KF -', 'QA QD RG RJ -', 'KB KD KF -', 'KF -', 'KF -', 'FA HA KD KF -', 'KF -', 'KF -', ' -', 'KF RJ -', 'LA EA KD KF -', 'KF -', 'FA -', 'KF -', 'YA WD WE WA WF QD KB KD KF -', 'QC QA QD YA RG RI RJ -', 'RJ -', 'QD RI RJ -', 'EA -', 'RJ -', 'EA RJ -', 'RJ -', 'QA QD EA FA RI RJ -', 'MA IA KC KD -', ' -', 'PA TA TB IC IA KC KD KF -', 'RG RJ EA KA KB KD KF -', ' -', ' -', 'RJ -', 'QD RG RI RJ -', 'RJ -', 'RG RJ -', 'WA FA -', 'WD WE WA WF FA KD -', 'WA WF -', 'FA YA KD -', 'FA YA KD KF -', 'RJ -', 'YA RG RI RJ -', 'YA -', 'YA RJ -', ' -', 'YA RJ -', 'YA LA RJ -', ' -', 'KF -', ' -', 'EA FA HA KD KF -', 'TB FA HA HE HF KB KD KF -', 'EA QA QD KA KB KD KF -', 'RJ -', 'PA FA KC KA KD KF -', 'KF -', ' -', 'HE KF -', 'FA EA HA KD -', 'FA EA HA KD -', 'HF KF -', ' -', 'FB FA HB HA HE HF LA DA KC KA KB KD KF -', 'FA HA KA KB KD -', 'FA HA HF LA DA KC KD KF -', 'FA YA RJ -', ' -', ' -', 'FA NA HA TB QC QA QD KC KA KD KF -', ' -', 'HA HF KD -', ' -', 'RJ -', 'RJ -', 'RJ -', 'PA IC IA LC LA VA KC KD KF -', 'EA -', 'KD -', ' -', 'MA IA TA TB QC QA QD KC KD -', 'MA FA KD KF RG RI RJ -', 'PA FA VC VA KE KC KA KD KF -', 'PA IC IA RC RG RJ -', ' -', ' -', 'HA HE FA QA KD KF -', 'KF -', 'RJ -', 'HA HE YA EA QA QD KD KF -', 'HA HE YA QA QD KD KF -', 'HA HE YA EA QA QD KD KF -', 'HF RJ -', 'QD RJ -', 'HA HE QA RG RJ -', 'IA FB FA KC KA KB KD KF -', 'RJ -', 'QA QD EA RG RI RJ -', 'PA IA FA RC RJ -', 'RJ -', 'EA KD -', 'FA RJ KD KF -', ' -', 'EA KD KF -', 'PA LC LA YA DB DA KC KA KD KF -', 'LA QC QA KC KD KF -', 'FA HE HF KD KF -', 'FA KD -', 'LA FA YA IA KC KD KF -', 'FA RJ -', 'EA WD WE WA WF KD -', 'RJ -', 'RJ -', 'RJ -', 'RJ -', 'LA IA RG RI RJ EA FB FA KC KA KD KF -', 'PA LC LA IC IA RH RC RI RJ -', 'RJ -', 'LA YA KC KD KF -', 'KF -', 'QA QD EA RG RI RJ -', 'FA KD -', 'LA FA KC KD -', 'RJ -', 'EA RJ -', 'EA RJ -', 'RJ -', 'YA KD KF -', 'MA YA WA RI RJ -', 'KD KF RJ -', ' -', 'KF -', 'TB YA KA KD KF -', 'KF -', 'NA IA RG RJ -', 'KF -', 'EA FA QA -', 'KF -', 'RJ -', 'RG RJ -', 'RG RI RA RJ -', 'RJ -', 'RG RI RA RJ -', 'PA LC LA RH RC RG RI RA RJ -', 'QD FA KD KF -', 'PA TA VA IC IA RC RG RJ -', 'YA FA RG RJ -', 'RJ -', 'QD YA KD KF -', 'QD RA RJ -', 'PA QC QA QD TA LC LA FA RC RG RI RJ -', 'RJ -', 'QD WD WA FA RI RJ -', 'WA FA RJ -', 'QA QD EA RG RI RJ -', 'RJ -', 'KF -', 'QA QD RJ -', 'QA QD EA RJ -', ' -', 'RJ YA -', 'PA RH RC RG RJ IA LA WA -', 'RG RI RA RJ MA -', 'KF -', 'LA RG RI RJ KD KF -', 'KD -', 'PA DA TA IC IA EA NA VA KC KD KF -', 'PA SA FA LA RC RI RJ -', 'HA HE IA YA KC KD KF -', ' -', ' -', 'RJ KF -', 'QD WD WE WA WF YA KD KF -', 'PA SA LC LA VC VA RH RC RG RI RJ -', ' -', 'PA SA LC LA QB QC QA RC RG RI RJ -', 'PA VA YA KC KD -', 'QD KD KF -', 'QD KD KF -', 'RJ -', 'YA RJ -', 'PA SA TA LC LA RH RC RG RI RJ -', 'HA HE HF FA KB KD KF -', 'PA SA TA RC RG RI RJ DA -', 'WD WE WA WF HA HE HF FA RG RI RA RJ -', 'WE WA HA FA RJ -', 'PA TA LC LA MA KC KA KD KF -', 'TA EA FA LC LA RG RI RJ -', 'EA FA KD KF -', 'PA TA IC IA YA SA KE KC KA KD KF -', 'RJ -', 'PA IA QC QA KC KD -', 'PA TA RC RG RI RJ -', 'FA RJ -', 'FA YA RJ -', 'FA HE YA RI RJ -', 'FA YA RI RJ -', ' -', ' -', 'PA VA EA FA RC RG RI RJ -', 'EA FA RG RJ -', 'EA FA RG RI RJ -', ' -', 'KD -', 'KD -', 'FA KD -', 'DA FB FA RG RI RJ YB YA -', 'QD YA RG RI RJ -', 'KD -', ' -', ' -', 'KD -', 'HA KC KD KF -', 'RJ -', 'RJ -', 'PA VA LC LA YA KE KC KA KD -', ' -', 'PA VA LC LA RC RJ -', ' -', 'KD KF -', 'PA VA HA HE TA KC KA KD KF -', 'PA VA EA HA HE TA KC KA KB KD KF -', 'PA VA LC LA YA KC KD -', 'FA RI RJ -', 'FA RJ -', 'FA RG RI RA RJ -', 'FA RI RA RJ -', 'YA KD KF -', 'YA DA NA TA TB KC KA KD KF -', ' -', ' -', 'KF -', ' -', 'RJ -', 'FA -', 'RJ -', 'YA RJ -', ' -', ' -', 'YA RJ -', 'YA EA QA QD HA RG RJ -', 'WA RJ -', 'YB YA NA FB FA EA RG RI RJ -', 'RJ KF -', 'PA YA FA VA KC KD KF -', 'QA QD HA KA KD KF -', ' -', 'HE KF -', ' -', ' -', 'QA QD FA RJ -', 'QA QD FA LA NA EA RJ -', 'QA QD FA RJ -', 'QA QD FA RG RI RJ -', 'RJ -', 'QA QD FA RG RI RA RJ -', 'RJ -', ' -', ' -', ' -', ' -', ' -', 'QA FA YA KD -', ' -', ' -', ' -', ' -', ' -', ' -', ' -', 'KF -', 'QA FA EA MA KA KD KF -', ' -', 'EA RJ -', 'QA EA YA KD KF -', 'KD -', 'QA QD EA KA KD KF -', 'QC EA LA IA RG RJ -', 'QC QA QD EA VA KC KA KD KF -', 'QC QA QD EA VA KC KA KB KD KF -', 'QA QD EA FA HA HF KA KD KF -', 'QA QD EA FB FA HA HE HF KA KB KD KF -', 'EA FA HA KD KF -', 'QA QD RJ -', ' -', 'QC QA QD LA DA HA HE KC KA KD KF -', 'QC QA QD LA DA HA HE HF KC KA KD KF -', 'QC QA QD LA DA HA HE KC KD KF -', 'YA -', 'QC QA QD LA IA RG RI RJ -', 'QA LA DA IA EA FA KD KF -', 'QC QA QD LA TA KC KA KD KF -', 'YA KD KF -', 'QC QA NB NA MA EA RC RG RI RJ -', 'HA RJ -', 'QA QD RJ -', 'QA RJ -', ' -', 'KF -', ' -', ' -', ' -', ' -', ' -', 'FA KD -', 'QC QA IA LA YA RJ -', 'QA QD EA NA KA KB KD KF -', 'QA QD EA KA KD KF RG RI RJ -', 'QA QD EA KA KB KD KF RG RI RJ -', 'RJ KF -', 'RJ KF -', 'RJ KF -', 'QC QA VA EA LC LA DA KC KD KF -', 'QC KC KA KD -', 'QA QD EA KD KF -', 'QC QA QD EA DA LA KC KA KD -', 'QC QA QD IA RG RJ -', 'QD KD KF -', 'KF YA -', 'QD EA KD -', 'KF YA -', 'RJ -', 'QC QA QD WD WD WE WA RG RI RA RJ -', 'QD HA FA RJ -', 'QD HA HE FA RG RI RJ -', 'HA RJ -', 'HA FA RJ -', 'HA FA RJ -', 'QA EA KD -', 'QA QD EA YA KA KD KF -', 'QA EA KD -', 'KF -', 'QD YA KD KF RG RI RJ -', 'QD YA KD KF RJ -', 'QD YA KD KF RG RI RJ -', 'QD KD KF EA -', 'QD KD KF EA -', ' -', 'QB QC QA QD DB DA FA RH RC RG RI RJ -', 'HF KF -', 'QD HE KD KF -', 'QD HE HF KD KF -', 'HE HF KD -', 'HA EA KD KF -', 'KD -', 'QC QA DA LA KC KD KF -', 'EA HA RJ -', 'RJ -', 'QA EA RJ -', 'RJ -', 'KF -', 'QA QD DA WD WE WA WF KD KF EA RG RI RJ -', 'NA WD WA KD KF RJ -', 'QA QD WD WE WA WF KD KF EA RG RI RJ -', ' -', 'RJ -', 'QC QA DA RC RG RI RJ VA PA -', 'QC QA QD DA FA HA HE HF LA KC KA KD KF -', ' -', ' -', ' -', 'QC QA EA LC LA IC IA KC KD -', 'QC QA QD EA DA MA RC RG RI RJ -', 'QC QA QD EA DB DA MA RC RF RG RI RA RJ -', 'QA EA FA RJ -', 'QD FA RJ -', 'QD FA RJ -', 'QD FA RG RI RJ -', 'FA RI RJ -', 'QD FA RA RJ KD KF -', 'RJ KF -', 'RJ KF -', 'FA -', 'RJ KF -', 'RJ KF -', 'QD HN RJ -', 'QD RJ -', 'QC QA QD EA DA KC KA KD KF LA -', 'QC QA QD EA DA KC KA KB KD KF LA -', ' -', 'QD WD WA KD -', 'EA KD -', 'QC QA EA FA RJ -', 'QA EA MA KD -', 'QA EA YA RJ -', 'WA KF -', 'QC QA QD EA VA NB NA KC KA KD KF -', 'HF KF -', ' -', 'HF KF -', 'HF KF -', 'QC QA QD EA IC IA FA KC KD -', 'QC QA QD EA IC IA FA KC KA KD KF -', ' -', 'KF -', 'QC QA QD EA LC LA DA KC KD KF -', 'QA KD KF -', 'QC QA QD EA LA RG RI RJ -', ' -', 'QA QD EA MA KA KD -', 'QA QD EA MA KD KF -', 'EA MA KD -', 'QA QD EA MA KA KD KF -', 'EA KD -', 'QA QD EA MA KA KD -', 'QD KB KD KF -', 'KD -', 'QD KD KF -', 'QD KD KF -', 'QA QD EA KD -', 'QD KD KF -', ' -', 'KD -', 'QC QA QD EA NA IA KC KA KD KF -', ' -', 'RJ -', 'RJ -', 'QD YA RG RJ -', 'RJ -', 'QD RG RJ -', 'QA QD EA YA RG RJ -', 'QC QA QD EA NB NA YC YA RC RG RI RA RJ -', 'QC QD EA NB NA YA RC RG RI RJ -', 'QC QA QD EA NA YA RG RI RA RJ -', 'HA -', 'QD KD KF -', 'KF -', 'RJ -', 'QA QD KD -', 'QD FA WD WA WF KD KF -', 'QD FA WD WE WA KD KF -', 'QA FA HA EA MA KD KF -', 'WA KD -', 'KF RJ -', 'QA QD FA EA RG RI RJ -', 'QD FA YA RG RJ -', 'FA YA RJ -', 'RJ -', 'QD FA YA RG RI RJ -', 'FA -', 'QC QA FA LA IA RJ -', 'QC QA QD FB FA LA IA RG RI RJ -', 'QD FA KD KF -', 'QA FA EA RJ -', 'QD FA RJ -', 'FA RI RJ -', 'FA RJ -', 'FA RI RJ -', ' -', ' -', ' -', ' -', ' -', ' -', ' -', ' -', 'QC QA FA LC LA KC KD KF -', 'QA QD FA RJ -', 'QC QA QD FA TA RC RG RI RJ -', 'RJ -', 'KF -', ' -', 'KF -', ' -', 'KF -', ' -', ' -', ' -', ' -', 'KF -', ' -', ' -', ' -', ' -', ' -', 'QA DA NA EA HA RG RI RJ -', 'QC QA QD EA FA KC KA KD KF -', 'QD YA RJ -', 'RJ -', 'YA RJ -', 'QA FA YA -', 'QA QD EA RG RI RJ -', 'RJ -', 'QA KD -', 'QD KD KF -', 'KD -', ' -', 'QD KD KF -', 'QD KD KF -', 'KD KF RJ -', 'RJ -', 'QD YA KD KF -', ' -', 'KF -', 'KF -', 'QD YA RG RJ -', 'QA KD -', 'QC QA QD PA EA RC RG RI RJ -', 'RJ -', 'QC QA QD LA KC KD KF -', 'KF -', 'QC QA TA LA FA RC RJ -', 'QC QA HA HE MA RI RJ -', 'QC QA QD HA HC HE HF DA LA MA RG RI RJ -', 'HA RJ -', 'QC QA QD HB HA HE HF DA LA MA RF RG RI RJ -', 'QD HA HC HE HF MA RG RI RJ -', 'QC QA HA DA LA MA RG RI RJ -', 'QA QD HA HE EA MA KA KD KF -', 'QA QD HA FB FA RG RI RJ -', 'HA FA IA RJ -', 'QA HA FA DA RG RI RJ -', 'YA KF -', 'QC QA HA IA NA WD WA KC KA KD KF -', 'WA KF -', 'QC QA QD HA HE IA NA WD WE WA WF KC KA KD KF -', ' -', 'QC QA HA LA EA KC KA KD KF -', ' -', 'RJ -', ' -', 'QA QD HA HE HF MA KA KD KF -', 'KF -', 'QA HA MA KA KD KF -', 'QA QD HA HE MA KD KF -', 'QD HA KD KF -', 'QD HA HE KD KF -', 'QC QA QD IA KC KA KD KF -', ' -', ' -', ' -', ' -', 'WA WF HF RJ -', 'QC QA QD IA EA LA KC KD KF -', 'IA EA LA HA FA RJ -', 'QC QA QD IC IA EA LC LA RC RG RI RJ -', ' -', 'QC QA QD IC IA FA EA TA KC KA KD -', 'QC QA QD IA FA EA TA KC KA KD KF -', 'KF -', 'KF -', 'QC QA QD IA FA NA KC KD KF -', 'QC QA QD IA FA RI RJ -', 'QC QA QD IC IA FA LC LA VA RC RG RI RJ -', 'RJ -', 'QC QA QD IC IA FB FA LC LA VA DB DA RC RG RI RA RJ -', 'QC QA QD IA FA KC KD -', ' -', 'QD YA KD KF -', 'QD YA KD -', 'HA YA KD -', 'QA QD EA HA YA KA KD KF -', 'QD FA KD KF -', 'QD FA KD KF -', ' -', 'QA QD FA YA RJ -', 'QD EA FA KD KF -', ' -', 'QC QA QD IA MA EA KC KD KF -', 'QA QD EA RJ -', 'QC QA QD IA LA EA DA RJ -', 'QA QD RJ -', 'QA QD IA LA RG RJ -', 'RJ -', 'QA RJ -', 'QC QA QD IA NA DA LA RG RI RA RJ -', 'IA LA RG RJ -', 'QC QA QD IA NA LA FA KC KD -', 'QC QA IA LA FA KC KD KF -', ' -', ' -', 'KF RJ -', 'QC QA QD KC KA KB KD KF EA IC IA LC LA TA -', ' -', 'KF -', 'KF -', 'KF -', ' -', 'QC QA QD KC KA KD KF LA EA RG RI RJ -', 'QC QA QD KC KD KF LA EA RG RJ -', 'QA QD KD KF EA FA RJ -', 'KF -', ' -', ' -', 'KF RJ -', ' -', ' -', 'KF RJ -', 'QC KF RG RI RJ LA EA -', 'QA QD KA KD KF EA -', 'KF -', 'KD -', 'KF -', 'QD KD EA -', 'KF -', 'QD KD KF RJ -', 'QA QD KD EA -', ' -', 'KD KF RJ -', 'KD YA -', 'QD KD KF YA -', 'QC QA QD LA EA RG RI RJ -', 'QA QD EA RG RI RJ -', 'QC QA QD LC LA EA KC KA KD KF -', 'QA QD KD -', 'QA QD KD -', 'QD KD -', 'QD YA RG RI RJ -', 'QC QA QD LC LA DA NA KC KD KF -', 'QD KD KF RG RJ -', 'QC QA QD LC LA DA KC KA KD KF -', 'RJ -', 'QA QD YA KD KF RJ -', 'QD YA KD KF EA RJ -', 'QA QD LA EA DA KA KD KF -', 'QA QD EA KA KB KD KF -', 'QC QA QD LA EA KC KD KF -', 'QA QD EA KD KF RG RJ -', 'RJ -', 'QC QA QD LC LA EA IC IA HA HE HF KC KA KB KD KF -', 'QD RJ -', 'QA QD EA FA RJ -', 'QA QD EA FA RG RI RA RJ -', 'RJ -', 'QA QD EA FA RG RI RJ -', 'RJ -', 'QA QD EA RJ -', 'QA QD EA FA RG RI RA RJ -', 'KF -', 'QD YA KD KF -', 'KD -', ' -', ' -', ' -', 'MA RJ -', ' -', ' -', ' -', 'QA QD LA FA EA NA RG RJ -', 'QC QA QD LC LA FA VA KC KD -', ' -', 'KF -', 'RJ KF -', ' -', ' -', ' -', 'QD RJ -', 'QC QA QD LA HA HE HF EA KC KA KD KF -', ' -', ' -', 'RJ -', ' -', 'RJ -', 'RJ -', 'QC QA QD LC LA IC IA VA PA NA EA KC KD KF -', 'QC QA QD LA KC KB KD KF EA DA RG RI RJ -', 'QA QD EA KD KF -', 'QB QC QA QD LC LA TA RC RG RI RJ -', 'QC QA LA RJ -', 'QC QA QD LC LA EA KC KA KB KD KF -', ' -', 'QD KD KF -', 'QD KD KF -', 'RJ -', ' -', 'QC QA QD LC LA MA EA VA FA KC KA KD -', 'QC QA QD LC LA MA EA VA FA KC KA KD KF -', 'QC QA QD LC LA NA FA KC KD -', 'WA -', 'RJ -', 'QC QA QD LA FA KC KD KF -', 'RJ -', 'YA RJ -', 'QC QA QD LC LA PA DA KC KA KD KF -', 'QA QD FA KD KF -', 'KF -', 'QA QD RJ -', 'QA QD EA RG RI RJ -', 'QA QD KD KF -', 'QC QA QD LC LA VA IC IA KC KD -', 'QA QD KD KF -', 'QC QA QD LC LA VA IC IA KC KA KD KF -', 'QC QA QD LA DA KC KA KD KF -', 'QC QA QD LC LA FA HA -', ' -', 'QC QA QD LA TA EA RJ -', 'KF -', ' -', 'HA KD -', 'KF -', 'HE KF -', 'EA KD -', 'HF KF -', 'EA FA KD -', 'HE HF KF -', 'HE HF KF -', 'QA QD FA EA KD KF -', 'QC QA QD LA TA FA IA EA KC KD -', 'KF -', 'QC QA QD LC LA TA FB FA IC IA EA KC KA KD KF -', 'YA RJ -', 'KF -', 'QA QD MA EA KA KD KF FA RG RI RJ -', 'RJ -', 'QB QC QA MB MA MC KE KC KA KB KD KF LC LA -', 'YA KD -', 'QC QA MA NA LC LA YA IC IA PA KC KA KD -', 'QD YA HE HF RA RJ -', 'QD YA HE RA RJ -', ' -', 'KD -', 'QD YA KD KF -', 'QA QD MA FA EA YA KD KF -', 'QD YA KD KF -', 'KD KF -', 'QA MA EA FA KD -', 'KF -', 'QA QD EA FA KD -', 'QA MA EA FA KD -', 'QA MA EA FA KD -', 'KF -', 'QA EA FA KD -', 'QC QA EA FA LA KC KD -', ' -', 'QD EA FA KD -', 'QA YA RJ -', 'RJ -', 'QC QA WA RJ -', 'QA NA KD KF -', 'RJ -', 'RJ -', 'RJ -', 'RJ -', 'KF RJ -', ' -', ' -', ' -', 'WA -', ' -', ' -', 'MA FA -', 'FA YA KD KF -', ' -', ' -', 'QA KD KF -', 'QC QA QD NB NA PA DB DA LC LA KC KA KD KF -', 'QA FA KD -', 'QD FA KD KF -', 'KF -', 'QD FA KD KF -', 'YA RJ -', 'YA RJ -', 'QC QA NA IA RJ -', 'QD RG RJ -', 'RJ -', 'QA QD EA RG RJ KD KF -', 'RJ KF -', 'QC QA QD NA VA LC LA KC KA KD KF -', 'YA FA HA KD KF -', 'QD YA HA HE HF RG RI RJ -', ' -', 'YA HA RJ -', 'YA HA RJ -', 'QD YA HA RG RJ -', 'RJ -', 'YA RJ -', 'YA RJ -', 'RJ -', 'QA YA EA RJ -', 'YA KD KF -', 'KF -', 'QA FA KD KF -', 'QA QD FA KA KD KF -', 'KF -', 'QA FA KD KF -', 'KF -', 'QC QA QD EA NA KC KA KD KF -', 'RJ -', ' -', 'KD KF -', 'QC QA IC IA VA FA KC KA KD -', 'KF -', 'QC QA IC IA VA FA KC KA KD KF -', 'QC PA IC IA VA FA KC KD KF -', 'QA RJ -', 'QC QA QD PA LC LA TA IC IA VA RC RG RI RJ -', 'RJ -', 'QC PA LC LA TA IC IA VA RC RG RJ -', 'RJ -', 'QD MA RG RA RJ -', 'QC QA TB RG RI RA RJ KC KD KF IA -', 'KF -', 'KF -', ' -', 'QA QD FA KD -', 'QA QD FA EA KD KF -', 'QD EA KD KF RJ -', 'QD WD WA KD KF -', 'QD EA KA KD -', 'KF -', ' -', ' -', ' -', 'QA QD HA HE HF EA KD KF RG RI RJ -', 'QA QD HA HF EA KD KF RG RI RJ -', 'QA QD HA HE HF MA EA KA KB KD KF RG RI RJ -', 'QA QD HA EA KD KF RG RI RA RJ -', 'QB QC QA QD IC IA EA KE KC KA KD KF -', 'KF -', 'KD -', 'KF -', 'HF KF -', 'FA KD -', 'KF -', 'RJ -', 'QC QA QD LA MA RC RG RJ -', 'RJ -', 'KF -', ' -', 'KF -', 'KF -', ' -', 'KF -', 'KF -', 'QA QD FA KD -', ' -', 'RJ -', ' -', 'KF RJ -', 'QC QA QD MA EA KC KA KB KD KF -', 'RJ -', 'RJ -', 'RJ -', 'RJ -', 'QD FA RJ -', 'RJ -', 'QD FA RA RJ -', 'QD FA RJ -', 'QA QD FA RG RJ -', 'QA QD EA LA KA KD KF -', ' -', 'WA KF -', 'QD WA WF KD KF -', 'QA QD YB YA EA RG RI RJ -', 'QA QD YB YC YA NA KA KD KF -', 'QA QD RG RI RJ DA EA KA KD KF -', 'QD RJ KD KF -', 'QD RJ KD KF -', 'QD RJ KD KF -', 'QD RG RI RJ YA KD KF -', 'RJ KF -', ' -', 'QA QD RG EA KD MA -', 'RJ -', ' -', 'KF -', 'FA KD KF -', 'QA FA EA KD KF -', 'QA FA EA KD -', 'QD FA EA KD KF -', ' -', 'QC QA QD EA KC KA KD -', 'QC QA QD EA DB DA FA KC KA KD KF -', 'QD RG RI RJ -', 'RJ -', 'KD -', 'QA QD FA HA EA YA KA KD KF -', 'QA EA KD -', ' -', ' -', ' -', ' -', ' -', 'QC QA QD LA KC KD KF -', 'QD EA KD KF -', 'QA QD KD KF -', 'QA KD KF -', 'QC QA QD PA DA EA LC LA RC RG RI RJ -', 'KF -', 'WD WA KD KF -', ' -', 'QA -', ' -', ' -', ' -', ' -', 'QC QA QD SA PA DB DA TA TB VA KC KA KD KF -', 'QA QD EA RJ -', ' -', ' -', ' -', 'KD KF -', 'QA RG RI RJ -', 'RJ -', 'QD HF RG RI RJ -', 'RJ -', 'QD RI RJ -', 'QC QA QD VA NB NA LC LA EA KC KA KD KF -', ' -', ' -', 'QA QD KD -', 'QC QA TA LC LA VA KC KD -', ' -', 'KD -', 'QC QA QD TA LC LA EA VA KC KD KF -', ' -', 'QA QD EA KD -', 'QA EA KD -', 'QA QD KD KF -', 'QA QD KA KB KD KF LA -', 'RJ KF -', 'RJ KF -', 'RJ KF -', 'QC QA QD EA HA KC KA KB KD KF -', 'QC QA QD EA NA FB FA RG RI RA RJ -', 'RJ -', 'YA KF -', 'QA FA KD KF -', 'FA EA KD KF -', 'QD FA EA KB KD KF -', 'QC QA QD TA FA VA RC RG RI RJ -', 'KF -', 'KF -', 'QD RJ -', 'QC QA TA IC IA LC LA RC RG RI RA RJ -', 'RJ -', 'QA -', ' -', ' -', 'HE HF KF -', 'QC QA LA EA FA RG RJ -', 'QD TB YA RG RI RJ -', 'RJ -', 'QD RA RJ -', 'QC QA TA VA LC LA RC RJ -', 'QA QD EA WD WA RG RJ -', ' -', 'QA RJ -', 'QD RG RI RA RJ -', 'QD RG RI RA RJ -', ' -', 'RJ -', 'QD RG RI RJ -', 'QD RG RI RJ -', 'EA HA RC RG RJ -', 'YA KD KF -', 'QD KD KF -', 'QD KD KF -', 'RJ -', 'QC QA QD IA NA LA HA HF KC KA KD KF -', 'QC QA QD IA NA LA HA HF KC KA KD KF -', 'QD RJ -', 'QC QA QD VA LC LA TA HA HF RC RG RI RA RJ -', 'QA QD EA KD KF -', ' -', ' -', ' -', 'QC QA QD VA LC LA NB NA IC IA DB DA KC KA KD -', 'KF -', 'KF -', 'QC QA QD LA NA IA KC KA KD KF -', 'QC QA LA NA IA KC KD KF -', 'QC QA QD LA HB HA HE HF KC KA KD KF -', 'QB QC QA QD VA LC LA TA SA EA KE KC KA KD KF -', 'QD KD KF -', 'QA QD YA HA HF KD KF -', 'KD -', 'QA HA RG RJ -', 'EA HA YA RJ -', 'QC QA QD VA NB NA IC IA RC RG RI RJ -', 'QA RJ -', 'QA QD RJ -', 'QA QD RJ -', 'RJ -', 'QD RJ -', 'QA QD EA RG RI RJ -', 'EA RJ -', 'QA EA RI RJ -', 'QD TB YA WD WA WF KD KF RG RI RA RJ -', 'QD TB YA WC WD WE WA WF KD KF RI RJ -', 'QA QD YA EA KD KF -', 'QA QD DA YA EA KA KD KF -', ' -', 'QA QD DA YB YA EA IA KA KD KF -', 'QA QD DA YB YC YA EA IA KA KD KF -', 'KD KF -', 'QC QA QD LA NA EA KC KA KD KF -', ' -', ' -', ' -', ' -', 'QC QA QD WD WE WA WF NA LC LA MA EA KC KD KF -', 'QC QA QD WD WE WA WF NA LA MA EA KC KA KD -', 'QA QD WD WE WA WF MA EA KA KD -', 'QC QA WD WE WA LC LA KC KD -', 'QD WD WA TB KD KF -', 'QC QA QD WD WE WA EA KC KD KF -', 'QD WD WE KD -', 'KF -', ' -', 'QD YA RJ -', 'LC LA HA RC RG RJ -', ' -', 'QD YA KD KF -', 'QC QA YA LA PA KC KD -', 'KF -', 'QC QA QD YB YC YA LC LA PA KC KA KD KF -', 'RJ -', 'RJ -', 'RJ -', 'RJ -', 'RJ -', 'RJ -', ' -', ' -', 'KF -', 'QC QA QD YC YA NA LA KC KA KD KF -', 'QC QA QD YC YA NA LA KC KA KB KD KF -', 'YA KD KF RG RJ -', 'QA QD YA KD -', 'QC QA QD YA SA VA RH RC RG RJ -', ' -', 'QC QA YC YA LC LA RC RJ -', 'QC QA YC YA LC LA RC RG RI RJ -', 'QC QA YA NA IA KC KD -', 'KF -', 'QC QA YC YA NA IA KC KD KF -', 'QA YA EA RJ -', 'YA RJ -', 'RJ -', 'RH RC RG RI RJ EA FA KE KC KA KD KF -', ' -', ' -', 'RG RI RJ QD -', 'RJ -', 'RJ -', 'RJ KF -', 'RG RJ EA KC KD KF -', 'RJ -', ' -', 'RC RG RI RA RJ VA LC LA FA EA -', 'RJ QD -', 'RJ KF -', 'RG RI RJ DA EA -', 'RJ KD KF -', 'RG RJ FA QA QD EA KA KD KF -', 'RG RJ FA LA -', 'RG RI RA RJ -', ' -', 'RG RI RJ FA QA QD EA KA KB KD KF -', 'RG RJ EA KD KF HA HE -', 'RJ -', 'RG RJ EA KD KF -', 'RJ FA WD WA -', 'RG RI RJ FA WC WD WE WA WF -', 'RI RA RJ QD -', 'RI RA RJ QD -', 'RJ -', 'RG FA WD WE WA WF KD -', 'FA WD WE WA KD -', 'RG RI RJ EA MA KA KD KF -', 'RJ FA KD KF -', 'EA FA KD -', 'RG FA HA KD -', 'RJ WD WA YA -', 'RC RG RI RA RJ EA -', 'RG RJ FA -', 'RJ KF -', 'RG RI RA RJ FA QD -', 'RG RI RJ FB FA LA QC QA QD YB YA -', 'RJ -', 'RG RI RA RJ FB FA LA QC QA QD YB YC YA -', 'RG RI RA RJ FA EA -', 'RI RJ EA WD WE WA WF KD KF -', 'RJ -', 'RG RI RJ EA YA -', 'RG RI RA RJ LA FA -', 'RJ -', 'RG RI RJ LA FA -', 'RJ -', 'RJ WA KF -', 'RG RI RJ EA FA KA KD KF -', 'RJ -', 'RG RJ HA FA QA QD YA -', 'RC RJ LA KD KF -', 'RG RI RJ FA HA -', 'RC RG RI RA RJ QC QA LC LA EA -', 'RG RI RJ KD KF FA -', 'RG RJ KD KF FA -', ' -', 'RJ -', 'RJ -', 'RC HA FA LC LA KC KA KD -', 'RC RG RI RJ HA HE IC IA VA -', 'RG RJ HA EA -', 'RG RI RJ HA EA -', ' -', 'RG RI RA RJ HA HF YA -', 'RJ HF -', 'HA YA -', 'RJ HF YA -', 'RG RI RA RJ HA HF YC YA -', 'RJ HF -', ' -', 'RG RI RJ HA HF YA FA -', 'RH RC RG RI RJ IC IA FA LC LA -', 'RG RI RJ IA DA LA FA KC KA KD KF -', 'RG RJ IA DA LA FA KC KA KD KF -', 'RG RA RJ FA KD KF -', 'RC RG RI RA RJ IC IA DA VA QC QA QD -', 'RJ HF KF -', 'RH RC RG RI RA RJ IC IA EA QC HA HF -', 'RI RA RJ FA -', 'RI RJ FA -', 'RJ -', ' -', 'RG RJ EA HA HF KD KF -', 'RG RA HA HE KD -', 'RG RJ EA QA QD KD KF -', 'RG RI RJ IA QC QA EA LA -', 'RH RC RG RI RA RJ IC IA VA EA LC LA KC KA KD KF -', 'RH RC RG RI RJ IC IA WD WE WA WF LC LA PA -', 'RJ KD KF -', ' -', 'RC RJ KC KD KF LA -', 'RJ KF -', 'RJ KF -', 'RJ KD KF -', 'RF RG RI RA RJ KC KA KD KF LA EA -', 'RG RA RJ KD KF HA -', 'QA KD -', 'RG RJ LA QC QA IA HA FA -', 'RG RI RJ LA QC QA IA HA FA -', 'RJ HF -', 'RG RI RA RJ LA QC QA QD IA HA HE FA -', 'RJ -', ' -', 'RG RI RJ LA EA QC QA QD HA HE HF KC KA KB KD KF -', 'RG RI RA RJ EA -', 'RJ KF -', 'RJ KF -', 'RJ KF -', 'RJ HF -', 'RC RG RI RJ LC LA EA DB DA VA FB FA KC KA KD KF -', 'RJ -', ' -', 'RJ HA QA QD EA KD KF -', 'RG RI RJ YA WD WA TB QA -', 'RG RI RJ YA -', 'RG RJ KD KF -', 'RJ YA -', ' -', 'RJ KF -', ' -', 'RG RI RJ LA -', 'RG RI RA RJ LA QC QA IA HA -', 'RG RI RA RJ QD HA HE -', 'RJ -', 'RJ YA FA -', 'RG RJ MA EA HA HF QA QD KA KD KF -', 'RG RI RA RJ MA FA -', 'RI RA RJ FA -', 'RG RI RJ MA QA QD EA -', 'RH RC RG RJ NA PA -', 'YA KD -', 'RJ YA KF -', 'EA YA KD -', ' -', 'YA -', 'FA EA YA KD -', ' -', 'RJ -', 'RJ -', 'RG RJ DA QA QD LA KA KD KF -', 'RJ -', 'RJ -', 'RJ KF -', 'RJ KF -', 'RJ KF -', 'RJ -', 'RG RJ EA HA HF YA -', ' -', 'RJ KF -', 'RJ KF -', 'HA KD -', 'RI RJ WD WA WF HA KD KF -', 'RG RI RJ KD KF -', 'RA RJ QD HE KD KF -', 'RJ FA -', ' -', 'RG RI RA RJ EA -', 'RJ -', 'RG RI RJ EA -', 'RG RA RJ FA QD YA KD KF -', 'RG QD YA KD -', 'RG FA QD YA KD -', 'RJ KF -', 'RG RI RJ IA DA FB FA KC KA KD KF -', ' -', ' -', 'RG RI RA RJ FA YA -', 'RJ YA -', 'RH RC RG RI RJ PA TA KC KA KD KF -', 'RA RJ YA QD -', 'RJ YA QD -', 'RJ KF -', 'RG RJ KD KF -', 'RJ KF -', 'RG RJ QC EA LA IA KC KA KD KF -', 'RJ -', 'RG RJ -', 'RG RI RJ QC QA QD LA EA KC KA KD KF -', 'RJ HF YA -', 'RG RI RA RJ QC QA QD LA FB FA IA EA KC KA KD KF -', ' -', 'RG RI RJ QA MA YA -', 'RG RI RJ QA QD EA FA KA KD KF -', 'RJ QA EA FA KD KF -', 'RG RI RJ QA QD LA YA -', 'RJ -', 'RG RJ WA -', 'RC RG RJ QC QA QD VA LC LA TA EA KC KA KD KF -', 'RJ KF -', 'RJ -', 'RC RJ KC KA KD KF -', ' -', 'RG RI RJ MA -', 'RJ KF -', 'RG RI RJ KD KF -', 'RC RG RI RA RJ IC IA PA VA -', 'RI RJ KD KF -', 'RG RI RA RJ MA DA TB -', 'RJ -', 'RJ -', 'RJ -', 'RJ MA FA YA -', 'RJ -', 'RJ FA EA YA -', 'RJ -', 'RH RC RG RJ PA HA HF KC KA KD KF -', ' -', 'RJ KF -', 'RG RI RA RJ TA NA LC LA -', 'RJ -', 'RH RC RG RI RA RJ TA TB EA QC QA QD -', ' -', 'RJ KF -', 'RG RJ EA KA KD KF -', 'RJ KF -', 'RC RG RI RA RJ TA PA IC IA VA -', 'RJ -', 'RC RG RI RA RJ TA QC QA QD FA WD WE WA WF -', ' -', 'RG RJ QA EA FA KA KD KF -', 'QA EA FA KD -', 'RG RJ QA EA FA KA KD KF -', 'RG RJ KD KF -', 'RG RJ KD KF -', 'RG RI RJ KD KF -', 'RG RA RJ KB KD KF -', 'RJ KF -', 'KD -', 'KD -', 'RJ KF -', 'RG RJ -', 'RG RI RA RJ YA -', 'RJ -', 'RG RI RA RJ YA -', 'RJ -', 'RF RG RI RA RJ EA DA KC KA KD KF YA -', 'RH RC RG RI RJ VA EA LC LA KC KA KB KD KF -', 'RJ KF -', 'RC RG RI RJ VA FB FA QC QA QD NA YB YC YA KC KA KD KF -', 'RG RI RJ HA HC HE HF IA MA KC KA KD KF -', 'RG RJ HA IA MA KC KD KF -', 'RG RI RA RJ HA HE HF IA MA KC KA KB KD KF -', 'RJ KF -', 'RG RI RA RJ HA HF IA MC KC KA KD KF -', 'RJ -', 'RJ -', 'RJ QA FA EA -', 'RJ -', 'RJ -', 'RJ -', ' -', ' -', 'RG RI RA RJ -', 'RG RI RJ EA MA -', 'RG RI RJ EA MA -', 'RH RC RG RI RJ VD VA IC IA KC KA KD KF -', ' -', 'RG RJ YA LA EA KC KA KD KF -', 'RC RG RI RA RJ WD WA WF EA VA LC LA -', 'RG RI RJ WD WA YA -', 'RG RI RA RJ WD WE WA YB YC YA -', 'RG RI RA RJ YA QD KD KF -', 'RG RJ YA EA -', 'RJ -', 'RJ YA QD KD KF -', 'RJ YA QD KD KF -', 'FA KD -', ' -', 'QD TB RJ -', 'EA KD KF -', 'KF -', 'EA VA IC IA QC QA RG RI RJ -', 'VA IC IA RJ -', 'FA KD -', 'RJ -', 'RJ -', 'LA FA KC KD KF -', 'DA HA HE HF PA TA LC LA KC KA KD KF -', 'DB DA HA HF PA LC LA KC KA KD KF -', 'YA WA KD -', 'EA KC KD -', ' -', 'EA KC KD -', 'KD KF -', 'EA VA LC LA QC QA QD KC KA KD KF -', ' -', 'KF -', 'KF -', 'KF -', ' -', ' -', ' -', ' -', 'FA MA KD KF -', ' -', ' -', 'QD HA KD -', ' -', 'RG RI RJ -', 'RJ -', 'RJ -', 'MA RG RI RJ -', 'RG RJ -', 'WD WE WA FA -', 'WD WE WA WF FA KF -', 'WC WD WE WA WF FA KD KF -', 'IC IA LC LA PA KC KD KF -', 'SA IC IA MB MA NB NA KE KC KA KD KF -', 'QA YA RG RJ -', 'SA LC LA VA KC KD -', 'SA LC LA EA HA HE HF KC KA KD KF -', 'HA HF QD KD KF -', ' -', 'QD KD KF -', 'RJ -', 'QA QD RJ -', 'WA KD -', 'KF -', ' -', 'EA KD -', 'YA KD -', ' -', 'MA FA RG RI RJ -', 'MC -', 'RJ -', 'MA RG RI RJ -', 'EA FA KD -', 'RA RJ -', 'FA KD KF -', ' -', 'KA KD KF QA QD -', 'KD KF HA RG RJ -', 'KF -', 'RJ -', 'RJ -', 'RJ -', 'QC QA IA LA FA MA KC KD -', 'KF -', 'IC IA NB NA KC KD KF -', 'QC QA QD EA KC KA KB KD KF -', 'RJ -', 'EA -', 'WA RJ -', 'LA QA KD -', ' -', 'HA EA KD KF -', 'HA HE EA YA KD KF -', 'VA WD WA QC QA RG RI RJ -', 'NA DA FA KD -', 'NA FA KD -', 'QA QD YA EA KD KF -', 'YA HA HE HF RG RI RA RJ -', 'YA KD KF -', 'YA KD KF -', 'WA -', ' -', 'YA RI RJ -', 'EA YA RG RI RJ -', 'KB KD KF -', 'FA KB KD KF -', 'KD -', 'EA YA KD KF -', 'YA KD KF -', 'YA KD KF -', 'YA KD KF -', ' -', 'KF -', ' -', 'KF -', 'RJ -', 'HA HE HF TA IC IA RC RG RI RA RJ -', 'HA HE HF TA IC IA RC RG RI RA RJ -', 'HA HE HF TA IC IA RC RG RI RJ -', 'HE HF RA RJ -', 'HB HA HE HF TA VA RC RG RI RA RJ -', 'HA HE HF TA VA DB DA RC RG RI RA RJ -', 'KD KF FA QD -', 'RJ -', 'RJ -', 'RJ -', 'VA MA KC KD KF -', 'FA KA KD KF -', ' -', 'KF -', 'QA RJ -', 'KD KF -', 'KD KF -', 'KD KF RJ -', 'KD KF RJ -', 'DB DA TA PA KC KA KD KF -', ' -', ' -', 'QD YA RJ -', 'RJ -', 'RJ -', 'EA KD KF RG RJ -', 'EA KA KD KF RG RI RJ -', 'FA YA RG RJ -', 'FA RJ -', 'FA QD YA KD KF -', 'FA QD YA KD KF -', 'FA KD KF EA YA -', 'KF -', 'KF RJ -', 'QA KD KF -', ' -', 'DA IA TA LA EA KC KA KD KF -', 'KD KF -', 'KF -', 'QA QD EA KD KF -', 'KF -', 'MA RJ -', ' -', 'KF -', ' -', ' -', 'QA FA KF -', ' -', 'KF -', 'FA -', ' -', 'RJ -', 'KD KF -', ' -', 'RJ -', ' -', 'RJ -', 'FA RI RA RJ -', 'RJ -', 'RJ FA KD KF -', 'RJ FA KD KF -', 'EA KA KD -', 'EA KA KD KF -', 'EA KD KF -', 'HE RA RJ -', 'HF RJ -', 'HF RJ -', ' -', ' -', 'EA RJ -', 'FA HA RJ -', 'EA FA -', 'EA FA HA RG RJ -', 'EA KC KD KF -', 'RJ -', 'EA YA FA KD -', 'EA YA FA RI RJ -', 'EA LC LA MA KC KD KF -', 'EA KC KD -', 'EA QC QA KC KD -', 'EA PA DB DA KC KA KD KF -', 'KD KF -', 'KD -', ' -', 'KD FA -', 'KD FA -', 'EA DA KC KA KD KF -', ' -', ' -', ' -', 'YA RJ -', 'EA HA HF LA KC KD KF -', 'EA HA HE HF YA LA KC KA KD KF -', 'EA HA HE HF RG RI RJ -', 'SA EA IC IA HA HE HF RH RC RG RI RJ -', 'HE HF RJ YA KF -', 'HF RJ KF -', 'EA IA DA MA NA KC KD -', 'KF -', 'EA IA NA KC KD KF -', 'EA MA KA KD KF -', 'EA IA RG RI RJ -', 'EA IC IA PA DB DA RC RG RI RJ -', 'EA KA KD KF QA -', 'RJ -', 'RJ -', 'RJ -', 'RJ -', 'RJ -', 'EA LA NA KC KD -', 'KF -', 'EA KD KF -', 'KF -', ' -', 'KF -', ' -', 'KF -', 'KF -', 'EA NA LA KC KA KD KF -', ' -', 'EA KD KF -', 'EA KD -', 'KF -', 'EA FA RG RJ -', ' -', ' -', 'KD -', 'KF -', 'KF -', 'KF -', 'KD KF -', 'KD KF -', 'KD KF -', 'EA HA KD KF -', 'EA LA KC KD KF -', 'FA QA KD -', ' -', 'FA QD KD KF RG RJ -', 'FA QD KD KF RI RJ -', 'FA MA EA KA KB KD KF -', ' -', 'FA EA HA KD KF -', 'FB FA EA HA KD KF -', 'FA KD -', 'FA QD KD KF -', 'FA NA WA KC KD -', 'RJ -', 'FA LA QA RJ -', 'FA KD KF -', ' -', 'RJ -', 'RJ -', 'FA -', 'FA KD KF -', 'FA HA EA KA KD KF -', 'FA RJ -', ' -', 'FA HA LA EA WA WF KD KF -', 'RJ -', 'RJ -', 'FA LA NA QA IA KD -', 'FA LA NA IA KC KF -', 'FB FA LC LA VA HB HA HE HF KC KA KB KD KF -', 'FA KD -', 'FA YA KD -', 'FA YA KD KF -', 'KF -', 'FA YA KD KF -', ' -', 'FA RG RI RJ -', 'FA RJ -', 'RJ -', 'SA FB FA PA HA HE LC LA RH RC RG RI RA RJ -', 'RJ -', 'SA FB FA PA HA HE LC LA RH RC RG RI RA RJ -', 'FA RJ -', ' -', ' -', 'FA QA QD MA YA KA KD KF -', 'FB FA QC QA QD YB YC YA HA HE HF KC KA KD KF -', 'FB FA QC QA YB YC YA HA HE HF KC KA KB KD KF -', 'KF -', ' -', ' -', 'FA RJ -', 'SA FA VA NA LC LA RC RJ -', ' -', ' -', ' -', 'FA YA HA LA RI RJ -', 'FA YA RJ -', 'RJ -', 'RJ -', 'FA KA KD KF -', 'PA TA TB RC RG RI RJ -', 'QD WD WA KD -', 'WA -', 'QA WD WA EA -', 'QD WD WE WH WA WF HE KD KF -', 'QD WD WE WA WF KD KF -', 'WA WF KF -', 'KF -', ' -', 'KF RJ -', ' -', 'EA KD KF -', 'RJ -', 'YA KD KF RG RI RJ -', 'EA IA KC KD KF -', 'EA QA QD KD -', 'RJ -', 'KF -', 'YA -', ' -', 'FA KD -', 'KF -', 'SA FB FA LC LA MB MA RH RC RG RI RJ -', ' -', 'RJ HF -', 'WD WA WF RG RI RA RJ -', 'RJ -', 'MA QA RJ -', 'IA EA NA LA KC KD KF -', ' -', 'RJ -', 'YA QD KD KF -', 'YA QD KD KF -', 'NA QC QA QD YA MA LA HA HE HF RG RI RA RJ -', 'NA QC QA YA MA LA HA HF RG RI RJ -', 'HF RJ -', 'QC QA HB HA HE FA LA IA RG RI RJ -', 'QA QD RJ -', 'QC QA QD RG RI RA RJ -', 'RJ -', 'YA KD -', 'DA EA QA QD RG RI RA RJ -', 'QD RJ -', 'QA QD TB EA LA KD KF -', 'RJ KF -', 'SA VC VA QB QC QA QD KE KC KA KD KF -', 'IA DA QC QA QD YA KC KD KF -', 'VA DB DA LC LA PA KC KA KD -', 'RJ -', 'SA VC VA LC LA QB QC QA QD KE KC KA KD KF -', ' -', 'WD WE WA WF QA FA RJ -', 'RJ -', 'YA FA RJ -', 'YB YA FB FA EA LA RI RJ -', 'RJ -', 'KF RJ -', 'KF RJ -', 'KF RJ -', 'WA WF KF -', 'RJ -', 'HC HE HF TB FA RG RI RA RJ -', 'HE FA RG RI RJ -', 'RJ -', 'HE KD KF -', 'HA HE HF FA KA KD KF -', 'HB HA HE KC KA KD KF LA MA -', 'HA HE HF KC KA KB KD KF LA DA MA -', 'HA HE LC LA IC IA QC QA QD RC RG RI RJ -', 'HE RA RJ -', 'RJ -', 'HA HE KA KD KF -', 'KF -', 'SA HA HE HF VA PA IC IA KE KC KA KD KF -', 'HE YA RJ -', 'RJ -', 'YA EA RJ -', 'YA RJ -', 'IA NA EA FA QC QA RI RJ -', 'YA KF -', 'YA -', 'QD YA WD WA WF -', 'QD YA WD WA KD KF -', 'YA WD WA KD KF -', 'QD KD KF -', 'SA IC IA NA NG KE KC KA KD KF -', ' -', 'RJ -', 'YC YA QD KD KF -', 'EA QA QD HA HE HF MA KA KB KD KF -', 'IA NA FA RJ -', 'FA RG RI RJ -', 'HA HE RG RJ YA -', 'KD KF -', 'IC IA LC LA PA KC KD -', 'KF -', 'KD -', 'KF -', 'IA LA FB FA QC QA QD NA KC KA KD KF -', 'IA LA EA QC RJ -', 'RJ -', 'SA IA LA EA DB RH RC RG RI RJ -', 'IA LA HA HE HF NA RG RI RA RJ -', 'RJ -', 'MA RJ -', 'FA QD KD KF -', 'KF RJ -', 'FA KD KF RJ -', ' -', ' -', 'KF -', ' -', ' -', ' -', ' -', ' -', 'EA YA KD -', 'KF -', ' -', 'IA QC QA QD LA HA HE RG RI RJ -', 'IA QC QA QD LA HA RJ -', 'QA EA HA RJ -', 'IC IA QC QA HA RC RG RI RJ -', 'IC IA QC QA QD HA HE HF RC RG RI RJ -', 'IC IA QC QA QD HA HE HF RC RG RI RJ -', 'KD -', 'KD -', 'KF -', 'IA FA RJ -', 'KD KF -', 'KD KF -', ' -', 'KF -', 'IC IA LC LA VA QC QA QD RC RG RJ -', 'SA IC IA PA DB DA VA RH RC RG RI RJ -', 'SA IC IA TA MB MA KE KC KA KD KF -', 'YA RJ -', ' -', 'QD YA KD KF -', 'SA IC IA TA NA LC LA EA KC KD KF -', 'FA HA HF QA YA -', ' -', 'FA RI RJ -', 'RJ -', 'FA YA RJ -', 'RJ -', 'YA -', ' -', 'KF -', 'IC IA VA LC LA KC KD -', 'IC IA VA LC LA QC QA KC KD KF -', 'KF -', ' -', 'KF -', 'KF WA WF -', 'KD YA HA HE -', 'KA KD KF EA QA RG RI RJ -', 'KD KF RJ -', 'KA KD KF EA QA QD QD WA RG RI RJ -', 'KA KB KD KF FA QA -', 'KF -', 'KD FA QA QD -', 'KD KF QD -', 'KC KD FA LC LA -', 'KC KA KB KD KF FA EA VA RG RI RJ -', 'KC KA KD KF LC LA QC QA TA NB NA -', 'KD KF MA RJ -', 'KF RJ -', 'KD KF -', 'KC KA KB KD KF YA FA EA RG RI RJ -', 'KC KA KD KF -', 'KD KF EA -', 'KF RJ -', 'LA YA KC KD -', 'LA YA KC KD KF -', 'RJ -', 'EA QA QD YB YA KA KB KD KF -', 'RI RJ -', ' -', ' -', 'KF RJ -', 'RJ -', 'RJ -', 'RJ -', 'LA MA QC QA QD KC KD KF -', 'KD -', 'LA QA KD -', 'LA QA EA KD KF -', ' -', 'KF -', 'LC LA PA IC IA DA RC RG RI RJ -', 'LC LA PA TA IC IA KC KD KF -', 'LC LA PA TA IC IA KC KD KF -', 'KD KF -', 'KD KF RJ -', 'KD -', 'LC LA VA PA IC IA KC KA KD KF -', 'WA RJ -', 'SA LC LA WD WE WA WF KE KC KA KD KF -', 'LC LA RC RJ -', 'HA RJ -', 'WD WA RJ -', 'QD RG RJ -', 'LC LA DA EA IC IA KC KD KF -', 'WA -', 'WA WF -', 'LA DA EA KC KD KF -', 'EA QA KD KF -', 'KD KF RI RJ -', 'QD KD KF RG RI RJ -', 'LA FA KC KD KF -', 'FA RG RJ -', 'YA RJ -', 'KF -', 'KD KF -', 'KD -', 'LC LA EA NA RC RJ -', 'FA KD -', 'SA LC LA EA DB FA IC IA KC KA KD KF -', 'RJ -', 'QD MA -', 'RJ -', 'RJ -', ' -', 'LA EA IA FA KC KD -', 'KD -', ' -', 'KF -', ' -', 'KF -', 'EA HA HE FA KA KD KF -', 'EA RJ -', 'YA KD KF -', 'YA FA KD KF -', 'KF -', 'YA FA QD KD KF -', 'LC LA YA KC KD -', 'SA LC LA FB FA NB NA DB DA KC KA KD KF -', 'QD YA KD KF -', ' -', ' -', 'QD YA KD KF -', 'LC LA FA NA IC IA VA KC KD -', 'LC LA FA NB NA IC IA VA TA KC KD KF -', ' -', 'FA -', ' -', ' -', ' -', 'FA EA KD -', 'LA FB FA NA KC KD KF -', 'LA EA IA KC KD -', 'EA TB QA KD -', 'LA IA QC QA RG RJ -', 'LA IA KC KD KF -', ' -', 'SA LC LA YA KC KD -', ' -', ' -', ' -', 'HA RJ -', 'HA RG RJ -', 'HA HF RG RI RJ -', 'LC LA WE WA MA VA RC RJ -', 'HE HF QD FA KD KF -', 'HE HF FA KD KF -', 'HF -', 'FA KD KF -', 'HE KF RJ -', 'HE HF KF RJ -', 'LA IA FA EA KD KF -', 'LA HA HE HF RG RJ -', 'KF -', ' -', 'LA IA WA -', 'KF -', 'LA NA EA KC KD -', 'KF -', 'LA KD -', 'LA NA EA KD -', 'KF -', 'EA HA HE HF KA KB KD KF -', 'RJ KF -', 'RJ -', 'DA EA KD KF -', ' -', 'LA WA RJ -', 'KD KF -', 'LC LA MA EA VA KC KD KF -', ' -', 'LC LA NB NA YA KC KA KD KF -', 'LC LA NB NA DB DA IC IA TA KC KD KF RC RG RI RJ -', 'RJ -', 'LC LA NA IC IA TA FA RG RI RA RJ -', 'RJ -', 'NA EA KD -', 'KD KF WD WE WA WF -', 'KF WA WF -', 'KD WD WE WA WF -', 'WA WF -', 'EA RJ -', 'RJ -', 'RJ -', 'RJ -', 'RJ -', ' -', 'KF -', 'KF -', ' -', 'KF -', 'KD KF -', 'YA KD -', 'YA KD KF -', 'LA FA QA QD RG RI RA RJ -', 'YA RJ -', 'KF -', 'SA LA PA QC QA KC KD -', 'KF -', ' -', ' -', 'FA RI RJ -', ' -', 'KF -', 'QA KD -', 'QA QD KD -', 'KF -', 'QA KD -', 'KF -', 'QA KA KD KF EA -', 'QA QD RJ -', 'QD FA RJ -', 'RJ -', 'YA RJ -', 'LA EA HA KC KA KD KF -', 'MA WD WA WF EA HA HE HF KD KF -', 'MA WA HA HF KD -', 'WA HA HE KD KF -', 'RJ -', 'LA IA YA RJ -', 'RJ -', 'LA QA NA YA KC KD -', 'KF -', 'KD KF -', 'KD KF -', 'LC LA EA IC IA FA KC KD KF -', 'KF -', 'LC LA TA TB IC IA HA HE QC QA RG RI RJ -', 'KD -', 'LA MA NA DA KD KF -', 'RJ -', ' -', 'WA HA KD KF -', 'WD WE WA HA HF KD KF -', 'QA QD RG RJ -', 'EA QA RG RI RJ -', 'EA QA RG RI RJ -', 'EA KA KD KF -', 'YA KD KF -', ' -', 'SA LC LA VC VA PA DB DA KE KC KA KB KD KF -', ' -', 'YA EA HA QA QD KD -', 'EN EN EN EN EN EN EN -', 'YA KD KF -', 'SA LC LA YA PA KC KD KF -', 'YA FA -', 'YA FA KD -', 'YA RJ -', 'YA RG RJ -', 'RJ -', 'SA MB MA RH RC RG RI RJ -', 'MA DA PA TA TB RC RG RI RJ -', 'MA EA NA LA RG RI RJ -', 'FA KD -', 'MA KD -', 'MA PA IC IA KC KD KF -', 'SA MA PA IA LA RC RJ -', 'MA NA EA KC KA KD KF -', 'SA MB MA QC QA QD TA LC LA KC KD KF -', 'MA TA LC LA KC KD KF -', 'KF -', 'KF -', 'KF -', ' -', 'MA TB QD EA FA KD -', 'KD -', ' -', 'FA MA KD KF -', 'QD WD WE WA WF RG RI RJ -', 'QD RJ -', 'QD KD KF -', 'FA EA HA KD KF -', 'NA FB FA EA LA HA HE HF KC KA KB KD KF -', 'HF KF -', 'FA HE HF KD KF -', 'NA FA EA LA HA HE HF KA KD KF -', 'HF KF -', 'RG RJ -', 'EA YA KD -', 'MA TB KA KD KF -', 'NA EA FA KD KF -', 'SA NB NA PA KC KA KD KF -', 'EA KC KD -', 'YA HA RJ -', 'HF RJ -', 'EA YA HA RG RI RJ -', 'RJ -', 'NA QC QA QD EA LA KC KA KD KF -', 'QA QD KD KF -', 'KD -', 'NA TA IA KC KA KD KF -', 'NA VA FA TA RJ -', 'NA DA RJ -', 'NA DA QA QD RG RI RJ -', 'KD KF -', 'KD KF RJ -', 'KD KF RJ -', 'KA KD KF RG RI RA RJ -', 'SA PA TA LC LA NB NA RH RC RG RI RJ -', 'RJ -', 'DA HA HE HF QC QA QD RF RG RI RJ -', 'DA NA KC KA KD KF -', 'EA KC KD KF -', ' -', ' -', ' -', 'RJ -', 'RJ -', ' -', 'SA PA EA TA TB KC KA KD KF -', 'SA PA FA IC IA RH RC RG RI RJ -', 'FA -', 'FA KD -', 'FA KB KD KF -', 'KF -', 'LC LA TA KC KA KD KF -', 'KF -', 'KF -', 'KD KF -', 'LA IA RI RJ -', 'EA KD KF -', ' -', 'RJ -', 'LA FA RJ -', 'RJ -', 'RJ -', 'RJ -', 'KF -', ' -', 'QC QA QD YB YC YA IA HA HE HF RG RI RJ -', 'KD KF -', 'KD -', 'QD KD KF -', 'RJ -', 'FA HA HE EA RG RI RJ -', 'QD RI RJ -', 'KF -', 'KD KF -', ' -', 'KD -', ' -', 'KF -', 'QA -', 'EA KD KF -', ' -', 'SA PA YA DB DA IC IA KC KA KD KF -', ' -', 'YA QD RJ -', 'YA RJ -', ' -', 'QD KD KF -', 'RJ -', 'QD KD KF -', 'KD KF -', 'QD KD KF -', 'KD -', 'FA MA YA HA HF KD KF -', 'QD FA YA HA HE HF KD KF -', 'QD KD KF -', 'KF -', 'HF WA WF -', 'WF KF -', 'WF -', 'WA WF -', 'QA IA KD -', 'QA RJ -', 'QC QA LA EA FA RJ -', ' -', 'KF -', ' -', 'LA IA RJ -', ' -', ' -', ' -', 'QA QD WA KD -', 'WA WF KF -', 'QD RJ -', 'QC PA HA VA RC RI RJ -', 'QA QD EA RG RJ -', 'KD -', 'KF -', 'QA KD -', 'QD KD KF -', 'QD RG RJ YA TB KD KF -', 'RG RJ YA KD KF -', 'QC QA DA EA NA RG RJ -', 'QC QA EA RG RJ -', 'RJ -', 'RJ -', 'KF -', 'QC QA LA FA YA KC KD -', 'QA QD HA KD KF -', 'QA QD HA HF KD -', 'KD -', 'KD KF -', 'QC QA QD LA EA IA RI RJ -', 'RJ -', 'FA KD KF -', 'HF RJ -', 'QC VA PA DB KC KD KF -', ' -', ' -', ' -', 'QC QA QD YA RG RI RA RJ -', 'RJ -', 'RJ -', 'RJ -', 'RG RI RJ QA QD YA KD KF -', 'RJ -', 'RJ -', 'RG RJ -', 'IC IA MA NA KC KA KD KF -', 'FA YA KD -', ' -', ' -', 'RJ -', 'RG RJ -', 'IA LA MA KC KD KF -', 'WA EA KC KD -', 'DA WE WA EA KC KD KF -', 'WA KF -', 'DA LA KC KA KD KF -', 'KF -', 'SA DB DA LC LA VA RH RC RG RI RJ -', 'RG RJ QA QD FA -', 'MA RJ -', 'EA KC KA KD KF -', 'KD KF RG RI RJ -', 'KD KF RJ -', 'SA EA IC IA KC KA KB KD KF -', 'FA RJ -', ' -', 'WA KF RJ -', 'RJ -', 'SA EA TA PA VA RH RC RG RI RJ -', 'QD KD -', 'KF -', 'YA QD RJ -', 'RJ -', 'RJ -', 'FA QD KD -', 'FA QD KD KF -', 'KF -', 'FA PA VA LC LA KC KD KF -', ' -', 'KF -', 'LA FA MA KC KD -', 'KF -', 'KF -', 'YA QD KD KF -', 'RJ -', 'QA RI RJ -', 'RJ -', ' -', ' -', ' -', ' -', ' -', ' -', 'KF WA -', 'WA -', ' -', 'IA NA DA EA FB FA KC KA KD KF -', 'MA KD -', 'RJ -', 'RJ -', ' -', 'RG RJ -', 'RJ -', 'RJ -', 'RJ -', 'IC IA VA QC PA RC RG RI RJ -', 'FA RG RI RJ -', 'QD YA RJ -', 'QD YA RJ -', 'RJ -', ' -', 'DA KA KD KF QA QD NA -', ' -', ' -', 'RJ -', 'PA IC IA YA VA RC RG RI RJ -', 'FA HA KD -', 'QD FA HA KD KF -', 'QD RI RA RJ -', 'RJ -', 'PA LC LA VA RC RI RJ -', 'EA KF -', 'RJ -', 'RJ -', 'RJ -', 'RJ -', ' -', 'RJ -', 'QA QD MA EA KD -', ' -', 'QC QA QD HA HE HF KC KA KD KF -', 'QC QA QD HA KC KA KD -', 'QC QA QD HA HD HE HF KC KA KB KD KF -', 'QD FA RJ -', 'QD RI RJ KD KF -', 'RG RJ YA -', 'RG EA FB FA YB YA KC KA KD -', 'RG RJ EA FB FA YB YA KC KD KF -', 'RJ -', 'EA QC QA QD LC LA RC RG RI RJ -', 'LA EA WD WA KC KD KF -', 'SA IC IA FA KC KD -', 'TB QC QA QD LA KC KA KD KF -', 'SA TA IC IA KE KC KA KD KF -', 'FA RG RJ -', 'RI RJ -', 'TB QD FA YA KD KF -', 'WE WA WF KF -', 'WE WA WF -', 'WA WF -', 'KD -', 'YA KD KF -', 'YA KD -', 'KF -', 'YA KD -', ' -', 'EA TB QA QD RJ -', ' -', 'KF -', 'VA FA KC KA KB KD KF -', 'QC QA QD EA LA KD KF -', 'QA QD EA KD KF -', 'YA -', 'SA YA LC LA MA KC KD -', 'TA IC IA KC KD -', 'KF -', 'KF RJ -', 'KF RJ -', 'KD KF RJ -', 'KF RJ -', 'TA VA KC KA KB KD KF -', ' -', ' -', ' -', 'TA TB YA RC RG RI RJ -', 'DA EA QA LA RG RI RJ -', 'EA YA RG RI RJ -', 'SA TA EA DB DA FA NB NA KC KA KD KF -', 'KF -', ' -', ' -', ' -', ' -', ' -', ' -', 'EA QC QA IA LA KC KD KF -', 'SA TA EA VA KE KC KD KF -', 'TA FA EA LC LA RC RI RJ -', 'FA KD KF -', 'TA FA LC LA VA KC KD KF -', 'FA KD KF -', 'FA LA EA RI RJ -', 'FA QD KD -', ' -', ' -', 'FA KD KF -', 'FA KD KF -', 'RI RJ -', 'EA KD KF -', 'TA IA EA KC KA KD KF -', ' -', 'TA IA EA KC KA KD KF -', 'FA -', 'FA YA MA KD KF -', 'FA YA MA KD -', 'KF -', 'FA YA KD KF -', 'WD WA RI RJ -', 'WA LA RI RJ -', 'SA TA HB HA HC HE HF FB FA EA VD VA KC KA KB KD KF -', 'TA HA HE HF PA FA VA RC RG RI RA RJ -', 'TA HA HC HD HE HF PA FB FA VD VA RC RG RI RA RJ -', 'TA HB HA HC HE HF PA FA VA RC RG RI RJ -', 'TA HA HE QC QA QD VA KC KA KD KF -', 'TA HA HE QC QA QD VA KC KA KD KF -', ' -', ' -', 'KD KF -', 'YA RI RJ -', 'KD KF RJ -', 'KD KF WD WE WA WF RJ -', 'EA KD KF -', 'KD KF -', 'KF YA RJ -', 'YA RI RJ -', 'SA TA PA KE KC KA KD -', ' -', ' -', ' -', 'WA -', 'TA TB QC QA QD EA LA KC KA KD KF -', 'TB QA QD FA YA KD KF -', 'RJ -', 'RJ KF -', ' -', 'RJ KF -', 'TB QC QA QD EA KC KA KD KF -', 'LA KC KA KD KF -', 'KF -', ' -', 'HA HE HF QA QD EA FA RG RI RJ -', 'HF RJ -', 'HA EA RI RJ -', 'RJ -', 'WD WE WA WF IA LA HA HE HF KC KA KD KF -', 'FA QA QD KD KF -', 'HA HE HF KD KF -', ' -', ' -', ' -', 'VA EA MA KC KA KD KF -', 'VA HA HE HF LC LA QC QA QD KC KA KD KF -', 'VA HA HE HF LC LA QC QA QD KC KA KB KD KF -', 'VA HA HE LC LA QC QA QD KC KA KB KD KF -', 'RJ -', 'EA FA KC KD -', 'KD KF RA RJ -', 'KF RJ -', 'KD KF QA RJ -', 'KB KD KF QD RG RI RJ -', 'KF RJ -', 'SA VA DA LC LA PA KC KD KF -', 'KD KF -', 'SA VC VA EA MA LC LA KE KC KA KD KF -', 'VA EA QC QD KC KD KF -', ' -', 'KD KF -', 'KD KF -', 'EA KD -', 'FA KD -', 'RJ -', 'FA QA RJ -', 'RJ -', 'RJ -', 'KF -', 'FA RJ -', 'VA IC IA FA EA RJ -', 'YA RJ -', 'HA QA KD KF -', ' -', 'IA EA KC KD -', ' -', 'VA KC KA KD KF PA MA -', 'MA -', 'MA QA RJ -', 'MA QA RJ -', 'MC -', 'MC QA QD RJ -', 'RJ -', 'MA QA KA KD KF -', ' -', 'NA FA EA KC KD -', 'FA KD KF -', 'FA EA KD KF -', 'WA RJ -', 'VA NA LC LA YB YA IC IA QC QA QD KC KD KF -', 'HA HF KD -', 'QA EA HA HF KD -', 'RJ KF -', 'KD -', 'YA KF -', 'YA KF -', ' -', ' -', 'YA KF -', 'VA PA TA EA RC RG RJ -', 'SA VA QC QA LC LA MA EA RC RI RJ -', 'SA VA QC QA FA PA RH RC RG RJ -', 'VA QC QA FA PA RC RJ -', 'QA HA RG RJ -', 'FA -', 'WA KF -', 'WA KF -', 'LA YA KC KD KF -', 'LA YA EA KC KD KF -', 'QA HA HF KD KF -', 'VA QC QA HA HE HF KC KA KD KF -', 'YA RJ -', 'QD KD KF -', 'TB QD KD KF -', 'VA TA QC QA KC KD -', 'VA TA QC QA QD EA KC KA KD KF -', ' -', 'SA VC VA MA TA KE KC KA KD KF -', ' -', 'QA QD HA HE HF LA RG RI RJ -', 'QA QD HA LA RG RI RJ -', 'RJ -', 'KD KF -', 'KD -', 'WD WA WF HA HE HF DA RG RI RJ -', 'KF -', 'WD RJ -', 'WD WE WA WF YA KD KF RJ -', 'WD WE WA KD KF -', 'WD WE KD -', ' -', 'WD WE WA WF QA QD RJ KA KD KF -', 'SA YC YA DB DA EA HA HE HF KC KA KD KF -', 'RJ -', 'YA KD -', 'YA EA FA RJ -', 'YA EA IC IA FA RC RJ -', 'YB YC YA EA QA QD DA KD KF -', 'YB YA EA QA QD DA KA KD KF -', 'YA EA LC LA FA VA RC RJ -', 'YA FA RJ -', ' -', ' -', 'YA FA RJ -', 'RJ -', 'YA KD KF -', 'YA KD -', 'EA KD KF -', 'YA KD -', 'YA KD -', 'YA MA EA KD -', 'YA KD KF -', ' -', 'YA KD KF -', 'YA HA RJ -', 'YA MA HA HF RG RJ -', 'YB YA MA HA RG RI RJ -', 'RJ -', 'YA HA RJ -', 'YA HA HF RJ -', 'YA MA HA RJ -', 'YB YA MA HA RG RI RJ -', ' -', ' -', 'KF -', 'YB YC YA HA HE HF NA KC KA KD KF -', 'RJ -', 'RJ -', 'YA KD KF -', 'TA LC LA VA HA HE QC QA QD KC KA KD KF -', 'RJ -', 'FA QA QD EA KD KF -', 'KF -', 'EA DA KA KD KF -', 'EA KD KF RG RI RJ -', 'KF RJ -', 'EA KD KF RG RI RJ -', 'KF RJ -', ' -', 'TB EA QA QD FA HA HE KA KD KF -', 'TB EA QA QD FA HA HE HF KA KD KF -', 'KF -', 'EA QA QD FA HA KD -', 'EA QA FA HA KD -', 'EA QA QD FA HA KD KF -', 'KF -', 'KD -', 'HA HE HF KB KD KF -', ' -', 'EA KD -', 'HA KD KF -', 'HA KD KF -', ' -', 'EA YA FA RJ -', 'EA YA DA FA RG RJ -', 'FA KD KF -', 'FA KD -', 'KF -', 'FA KD -', 'FA HA KD KF -', 'FA HA KD KF -', 'WA RJ -', 'WD WE WA YA RJ -', 'WD WE WA WF YA RG RJ -', 'WA WF RJ -', 'WA RJ -', 'WD WE WA WF YA RI RJ -', 'WD WE WA WF RJ -', 'WA RJ -', 'WA RJ -', 'WD WE WA WF YA RI RJ -', 'WC WD WE WA WF RJ -', 'WA WF RJ -', 'WA YA RJ -', 'WD WE WA WF RJ -', 'WA WF RJ -', 'MA RJ -', 'TB WD WE WA WF YA RG RI RA RJ -', 'WE WA YA RJ -', 'TA WD WE WA WF VA RH RC RG RI RJ -', 'RJ -', ' -', ' -', 'RJ -', 'TB EA EN MA RG RI RA RJ -', 'IA EA QC QA QD RG RJ -', ' -', 'TA LC LA EA VA KC KD -', 'TA LC LA FA RC RG RI RJ -', 'RJ -', ' -', ' -', 'KF -', ' -', ' -', 'TA LC LA QC QA RC RG RJ -', 'YA QD KD KF -', ' -', 'RJ -', 'RJ -', 'RJ -', 'NA LA QA QD RJ -', 'NA LA QA RJ -', 'RJ -', 'QD RG RI RA RJ -', 'RJ -', 'RJ -', 'TA PA KC KD -', ' -', 'RJ -', 'TA FA IC IA KC KD -', 'TA FA IC IA KC KD -', 'RJ -', 'RG RJ -', ' -', ' -', ' -', 'KF -', ' -', ' -', ' -', 'TA IC IA LC LA DA KE KC KD KF -', 'TA IC IA LC LA KE KC KA KD KF -', 'DA MA KD KF -', 'HA HE RG RJ FA KC KA KD KF -', 'RJ -', ' -', 'WA WF RJ -', 'RJ -', 'TB DA KC KA KD KF LA -', 'TA TB LA FA KC KD -', 'TB QD KD KF RA RJ -', 'WD WA KD KF -', 'WD WE WA HF KD KF -', 'TB FA RJ -', 'TB FA EA RG RI RA RJ -', 'TB HA HF KD KF -', 'TB HA KD KF -', 'TB EA KD -', 'TB HA KD KF -', 'TB FA KD KF -', 'TB FA KD KF -', 'TA TB IC IA AE EA KE KC KA KD KF -', 'TB DV WD RJ -', 'TA TB IC IA HA HE HF NA RC RG RI RJ -', 'TB LE EA KD KF -', 'TB LA KD -', 'KA KD -', ' -', 'TA TB SA LC LA KE KC KA KB KD KF -', 'KF -', ' -', ' -', 'TB EA KD KF -', 'TB EA KA KD KF -', 'KF -', 'TB KD KF -', 'TB KD KF -', ' -', 'KF -', 'RJ -', 'QD RA RJ -', 'RJ -', 'QD RJ -', 'RJ -', 'KF -', 'YA RJ -', 'YA RJ -', 'YA RJ -', 'YA QD RJ -', 'YA -', 'RJ -', 'EA RG RI RA RJ -', 'FA RJ -', 'TA FA RJ -', 'WA WF RJ -', 'WA RJ -', 'WA WF RJ -', 'FA QA QD KD KF -', 'DA LA KD KF -', 'FA YA KD KF -', 'FA YA KD -', 'DA NA EA FB FA KA KD KF -', 'DA NA EA FB FA KA KD KF -', 'FA KD -', 'FA KD KF -', 'TB DA QA QD RG RI RJ -', 'MA FA QA QD YA EA KD KF -', 'FA QD YA KD KF -', ' -', 'FA QD YA KD KF -', 'MA MC FA QA QD YA EA KD KF -', 'TB DA NA IA EA QC QA QD KC KA KD KF -', 'TA PA HA KC KD KF -', 'MA RI RJ -', 'RJ -', 'TA TB DB DA QC QA QD PA KC KA KB KD KF -', 'QA QD RJ -', 'DA QC QA QD IA NA NL NL LA RF RG RI RA RJ -', 'YA KD KF -', 'KD KF RJ -', 'KF RJ -', 'EA KD KF FA RJ -', 'KD KF RJ -', 'KD KF RA RJ -', 'KF RJ -', 'KF RJ -', 'RJ -', 'DA IA LA RG RI RA RJ -', 'YA QD RJ -', 'TB QA QD KD -', 'TB KD -', 'TB QD FA KD KF -', 'TB QA QD FA KA KD KF -', 'TB QD FA KD KF -', 'YA HE KD KF -', 'YA KD -', 'YA RA RJ -', 'RJ -', ' -', 'EA QA RG RI RA RJ -', 'RJ -', 'TA TB EA DA MB MA RH RC RG RI RJ -', 'TA TB EA FA LC LA KC KA KD KF -', 'TB EA FA KB KD KF -', 'EA DA QC QA LA IA RJ -', 'TA EA VA RC RG RI RJ -', 'TA TB EA PA RC RG RI RJ -', 'TA EA RG RJ KC KD KF -', 'FA KF -', 'EA FA KC KD KF LA DA YA -', ' -', 'EA FA QA YA RJ -', 'EA FA QA YA RI RJ -', 'KF -', 'TA TB EA VA KC KA KB KD KF -', 'TB EA KC KA KD KF DA RF RG RI RJ -', 'KD -', 'TA EA LC LA VA QC QA KC KD KF -', 'TA EA LC LA VA QC QA KC KD KF -', 'KF RJ -', 'KF RJ -', ' -', 'KF RJ -', 'KF RJ -', 'KF RJ -', 'KF RJ -', 'KF -', 'TA TB EA IC IA QC QA QD FB FA KC KA KB KD KF -', 'RJ QD -', 'RJ QD -', 'RJ -', 'TA EA LC LA RC RG RI RJ IC IA -', 'TA EA LC LA RC RG RI RJ IC IA -', ' -', ' -', ' -', 'EA WA QA QD RJ -', 'TB EA WD WE WA WF QA QD RG RJ -', 'EA WD WE WA QA QD RG RJ -', 'WA WF RJ -', 'TB EA KA KB KD KF -', 'KD KF -', 'YA HA HE HF FA KD KF -', 'KF -', 'YA HA FA KB KD KF -', 'KF -', ' -', 'KF -', 'KD KF -', 'TA EA VA LC LA KC KD -', 'TA EA VA LC LA KC KD -', 'TA TB EA VA LC LA KC KD -', 'TA EA VA LC LA KC KD -', 'KF -', 'TB EA LA IA KC KB KD KF -', 'KF -', 'TA EA IC IA KC KD KF -', 'EA KD KF QA -', 'KF -', 'RJ -', 'RJ -', 'RJ -', 'TA EA SA VA IC IA HA RC RJ -', 'RJ -', 'RJ -', 'FA RJ -', 'RJ -', 'TB QD RI RA RJ -', 'QD RJ -', ' -', 'KF -', ' -', 'TB KD KF -', 'KF -', 'YA KD KF -', 'EA HA YA KA KD KF -', 'EA YA KD -', 'HF YA KD KF -', 'KF -', 'YA RJ -', 'EA KD KF -', 'FA EA HA KD KF -', 'FA EA HA KD -', ' -', 'FB FA IA MA KC KA KD -', 'FA IA KC KD -', ' -', 'TB FA QD KD KF RG RI RJ -', 'TA FA EA VA PA KC KA KD -', 'RJ -', 'FA HA KC KD -', 'RJ -', 'RJ -', 'RJ -', 'FA RJ -', 'RJ -', ' -', 'RJ KF -', 'FA -', ' -', 'TA FA PA DA LC LA KE KC KA KD KF -', ' -', ' -', 'HA HE KD KF -', 'FA HA HD HE HF EA KA KD KF -', 'FA HA EA KD KF -', 'FA HE HF KD KF -', 'TA FA HA HE VA RG RI RJ -', 'TA FA HA HE VA NA RG RI RA RJ -', 'TA FA IC IA KE KC KA KD KF -', 'WA RJ -', 'FA WD WE WA WF RJ -', 'RJ -', 'FA EA KD KF -', 'KF -', 'KF -', 'KF -', ' -', ' -', ' -', ' -', 'FA EA RJ -', ' -', ' -', 'RJ -', 'FA HE KD KF -', 'TA FB FA LC LA RH RC RG RI RJ -', 'TA FA VA PA RC RG RJ -', 'YA RJ -', 'YA RJ -', ' -', 'FA KD -', 'FA KD -', 'FA KD -', 'KF -', 'EA -', 'FA KD KF -', 'KF RJ -', ' -', 'FA YA QA EA KD KF -', 'FA YA QA WD WE WA EA KD -', 'FA YA QA WA KD KF -', 'WA KF -', 'WD WE WA FA RJ -', 'TA QC QA QD LC LA KC KD KF -', 'TA VA IC IA RC RJ -', 'RJ -', 'EA -', 'HF RJ -', ' -', 'TA DA EA QC QA KC KD KF -', 'DA EA QC QA QD KC KA KD KF -', ' -', 'EA QC QA QD RG RJ -', 'RJ -', 'TA EA QC QA QD VA FA RC RJ -', 'RJ -', 'TA EA VA IC IA KC KA KD KF -', 'HA HE HF FA QC QA QD RG RI RJ -', 'TA IC IA NA YA RC RG RI RJ -', 'KF WA WF RJ -', 'HF -', ' -', ' -', ' -', 'RJ -', 'KD -', 'KF -', ' -', ' -', ' -', ' -', 'LA YA RG RJ -', 'LA YA RJ -', 'TB QA QD FA YC YA KA KD KF -', 'KF -', ' -', ' -', ' -', 'QC QA QD EA IA NA LA RG RJ -', 'QC QA QD EA IA NA LA RG RI RJ -', ' -', 'QA QD YA KD KF -', 'QD RG RA RJ -', 'RG RI RJ -', 'TA HB HA HE HF EA LC LA RG RI RA RJ -', ' -', 'TB WD WE WA WF FA RG RA RJ -', 'WA KD -', 'RJ -', 'IA RI RJ -', 'RJ -', 'IA QC QA QD DA WA HA HE HF KC KA KD KF -', 'YA -', 'YA EA RJ -', ' -', ' -', 'TA YA QC QA QD EA LA KC KD KF -', 'TA HA HE HF EA QC QA QD LC LA KC KA KB KD KF -', 'HA EA RJ -', 'HA HC HE EA QC QA QD LA RG RI RA RJ -', 'RJ -', 'EA RJ -', 'HA EA QC QA QD LA RG RJ -', 'TB HA HE HF QA QD KA KD KF -', 'HF KF -', 'RJ -', 'RJ -', 'HA FA WD WA KD KF -', 'HA HE HF FA WD WA WF KD KF -', 'HA HE FA WD WE WA WF KD -', 'HA FA WD WE WA WF KD -', 'TA HA HC HE HF LC LA EA KC KA KD KF RC RG RI RJ -', 'HA FA KD -', 'HA FA EA QD KD -', 'HA HC HE EA KA KD KF FA -', ' -', 'HA FA KD -', ' -', ' -', ' -', 'RJ -', ' -', ' -', ' -', 'TA HB HA HC HE VD VA SA LC LA RH RC RG RI RA RJ -', 'TA HB HA HC HD HE HF VD VA DB DA SA LC LA RH RC RG RI RA RJ -', 'HC HE HF RA RJ -', 'HF RJ -', 'HA YA MA KC KD KF -', 'HA HE HF YA MA KC KD KF -', 'RJ -', 'RI RJ -', ' -', 'WA WF RJ -', ' -', ' -', 'KD KF WD WE WA WF -', 'KD WD WA FA -', 'KD KF WD WE WA -', 'WA WF -', 'WA KF -', 'IA FA YA KC KD KF -', 'IA FA YA KC KA KD KF -', 'TA TB IC IA FA VA LC LA KC KA KD KF -', 'KD KF -', ' -', 'FA RJ -', 'RJ -', 'TB IA LA EA MA KC KA KD KF -', ' -', 'RJ -', 'EA FA KD -', 'TA IA LA FA KC KD -', ' -', 'KF -', ' -', 'RG RI RA RJ QA QD -', 'TB RG RI RJ QD -', 'RJ -', 'WA RJ -', 'QA QD KD KF -', 'KF -', 'TA TB IA QC QA QD LA KC KA KD KF -', 'RJ -', ' -', 'YA KD KF -', 'KF -', ' -', ' -', 'TB IA HA HE NA RG RI RJ -', 'TA IA PA KC KD KF -', 'IC IA VA FA LC LA RC RJ -', 'KF -', 'TB KC KA KB KD KF EA NA RG RI RJ -', 'KD -', 'KD WD WE WA -', ' -', ' -', ' -', 'TB KC KA KD KF EA MA YA -', 'TB KC KA KD KF FA LA QC QA QD -', 'KF -', 'KF -', 'TB KC KA KD KF EA LA QC QA QD -', ' -', ' -', 'KF RJ -', 'TB KA KD KF EA -', 'KF -', ' -', 'TA LC LA EA RC RJ -', 'QD KD KF -', 'KD -', 'KF -', 'KF -', 'FA KD -', 'TA LC LA NB NA PA KE KC KA KD KF -', 'RJ -', 'TA LC LA KC KA KB KD KF PA NB NA MA -', 'KF -', 'KD KF -', 'KD KF -', ' -', 'KF -', 'KF -', 'KF -', 'KF RJ -', 'TA LC LA MA KC KD -', ' -', 'KF -', ' -', 'KF -', 'QA QD EA RG RI RJ -', 'RJ -', 'QD RG RI RJ -', 'QD RJ -', 'RJ -', ' -', 'TA LA EA KE KC KA KD -', 'RJ -', 'TA LC LA EA IC IA FA RC RG RJ -', 'RJ -', 'LA EA DA QC QA QD KC KA KD KF -', 'KF -', ' -', 'LA EA QC QA QD KC KD KF -', 'KF -', 'YA FA KD -', 'QD RJ -', 'RJ -', 'RJ -', 'RJ -', 'RJ -', 'RJ -', 'RJ -', 'RJ -', 'LA EA KC KD -', 'LA EA NA DA KC KD KF -', 'TB EA QA QD HA FA RG RI RJ -', 'FA RJ -', 'TA LC LA FA RH RC RG RI RJ -', 'HF KF -', ' -', ' -', 'FA KD -', 'FA KD -', 'KF -', 'FA QA QD EA -', ' -', 'FA KD -', 'FA YA RJ -', 'FA YA RJ -', 'FA KD -', 'LA FB FA KC KD KF -', 'KF -', 'LA FA YA KD -', 'RJ -', 'RJ -', 'HF RJ -', 'EA KD KF -', 'TA LC LA PA EA KC KD KF -', ' -', 'WA KD KF -', 'TA LC LA IC IA VA KE KC KD -', 'RJ -', 'RJ -', ' -', 'TA LA IA RJ -', 'RJ -', 'FA -', 'RJ -', 'RJ -', 'LA IA NA RG RJ -', 'RJ -', 'TA LC LA DA KE KC KA KD KF -', 'KF -', 'TA LC LA IC IA WD WE WA WF KC KA KD KF -', 'TA LC LA EA PA KC KD KF -', 'TA LC LA EA PA KC KD KF -', ' -', ' -', 'RJ -', 'RJ -', ' -', 'RJ -', ' -', 'RJ -', 'TA LA NA HA HE MA KC KA KD KF -', 'LA NA HA HE MA KC KA KD KF -', 'LA NA HA HE HF MA KC KA KD KF -', ' -', 'LA NA HA MA KC KD KF -', 'QD RI RJ -', 'RJ -', 'FA RJ -', 'RJ -', 'LA MA IA RG RI RJ -', 'RJ -', 'MC RJ -', 'LA MA MC IA RG RI RA RJ -', 'RJ -', 'TB LA MA IA RG RI RA RJ -', 'KF -', 'KF -', ' -', ' -', ' -', 'QA KD -', 'QD KD KF -', 'KF -', 'KF -', 'TA LC LA NA VA KC KD KF -', 'LC LA PA KC KD KF -', 'LA QC QA EA DA KC KA KD KF -', 'TB QD HA HE HF RG RI RJ -', 'QD RJ -', 'KF -', 'QA QD FA KD KF -', 'RJ -', 'QD KD -', ' -', ' -', ' -', ' -', 'LA QC QA QD KC KA KD KF -', ' -', 'LA EA KD KF RG RI RJ -', 'TB EA HA HE HF KA KB KD KF -', 'KD -', 'TA LA HA HE RG RI RJ -', 'YA KD -', 'YA KD KF -', 'TA LC LA VA YA FA KC KD -', 'TA LC LA VA YA FA KC KD -', 'LA IA KC KD KF -', 'RJ -', 'RJ -', 'RJ -', 'WA WF KF -', 'KF -', 'KF -', 'KF -', 'KF -', ' -', ' -', ' -', ' -', ' -', ' -', 'MA KD KF -', 'MA EA IA LA KC KD -', 'KF -', 'KF -', 'KF -', ' -', 'KF -', 'KF -', ' -', 'MA QC QA LA KC KD -', 'MA QA QD YA HA KD KF -', ' -', 'KF -', ' -', 'TA MB MA VA HA HE EA KC KB KD KF -', ' -', 'TA NA LA YA EA KC KD -', 'KF -', 'KF -', 'KF -', 'FA KD KF -', 'NA FA WA IA RG RJ -', 'RJ -', ' -', ' -', ' -', 'WA WF RJ -', 'QA QD MA KD KF -', 'TA NA DA LA KC KD -', ' -', 'RJ -', 'RJ -', 'RJ -', 'TB QD KD KF -', 'RJ -', 'HA RG RJ -', 'YB YA IA EA HA KD -', 'YA HA KD KF -', 'KF -', 'TA QC QA QD FA KC KD KF -', 'YA KB KD KF -', 'YA KB KD KF -', 'KF -', 'TA PA DA EA FA KC KD KF -', 'FA KD KF RJ -', 'KF RJ -', 'KD -', 'QD KD KF -', ' -', 'YA KF -', 'EA DA IA QC QA RJ -', 'TA EA NA KC KA KD KF -', 'EA WD WA KD KF -', 'KF -', 'TA PA EA LA IA KC KD -', 'TA PA EA LC LA IC IA KC KD KF -', ' -', 'YA RJ -', 'RJ -', 'YA RJ -', 'FA RG RI RA RJ -', 'YA RJ -', 'FA KD -', 'FA EA HA RG RI RJ -', 'TA QC QA QD RG RI RJ KC KD KF -', 'FA QD KD KF -', 'FA QD KD KF -', 'HA YA RJ -', 'TA PA IC IA VA RC RG RI RJ -', 'RJ -', ' -', ' -', 'KF -', 'KF -', ' -', ' -', ' -', 'MA RJ -', 'MA RJ -', 'MA RG RJ -', 'RJ -', 'TA NA EA LA KC KA KD KF -', 'KD KF -', 'RJ -', 'RJ -', 'RJ -', 'RJ -', 'TA LC LA VA FA RG RJ -', 'TA LC LA VA FA RG RJ -', 'RJ -', 'RJ -', 'QC QA QD IA YA RG RI RA RJ -', 'RJ -', ' -', 'YA WD WA KD KF -', 'WA KF -', 'WA -', 'QD MA KD KF -', 'QD MA KD KF -', 'FA RJ -', 'FA RJ -', 'QA RJ -', 'QD RI RJ -', 'RJ -', ' -', ' -', 'RJ KF -', 'RJ KF -', 'RJ KF -', 'FA YA EA KD -', 'FA YA EA KD KF -', 'TA PA VA EA HA HE HF KC KA KD -', 'TA PA VA EA HA KC KA KD KF -', ' -', 'HA KD -', 'TA PA VA EA HA HE HF KC KA KD -', 'TA PA VA SA EA KE KC KD KF -', 'TA PA VA LC LA KC KD KF -', 'TA PA WA LA KE KC KD -', 'QD YA RJ -', 'HF RJ -', 'TB QD HA HE RG RI RA RJ -', 'TB QA FA KD KF -', 'TB QD YA KD KF RG RJ -', 'TB KD KF RJ -', 'TB QC QA QD EA KC KD -', 'KF -', 'QD KD KF -', 'TB QD FA RI RJ -', ' -', 'TB QA QD EA MA KD KF -', 'TB QA QD EA MA KA KD KF -', 'TA TB QC QA QD EA YA KC KA KD KF -', 'TB FA HA RJ -', 'TB FA HA RI RJ -', 'TB QA QD EA FA KD KF -', 'TB QD RJ -', 'TB QA QD EA RJ -', 'TB QD RI RJ -', 'RJ -', 'TA TB QB QC QA QD FA WD WA RH RC RJ -', ' -', ' -', ' -', ' -', 'TA TB QC QA QD HA HE HF LC LA RC RG RI RJ -', 'TB RJ -', 'TB QA QD HA HE HF MA RG RI RA RJ -', 'RJ -', 'TB QA QD HA RG RJ -', 'HF RJ -', 'TB QA HA RJ -', 'TB QA QD HA HE RG RI RJ -', 'HF RJ -', 'TB QA QD HA -', 'TB QA QD HA HD HE HF EA RF RG RI RA RJ -', 'TB QA QD HA HE RF RG RI RJ -', 'HF RJ -', 'TB QA QD FA YA KD -', 'TB QA QD FA YA KD KF -', 'TB MA EA KD KF -', 'TB EA FA YA -', 'HF KF -', ' -', ' -', 'TB KD KF RJ -', 'TB QD KD KF WD WA RJ -', 'TB QD FA RG RI RA RJ -', 'KF -', 'TB QC QA QD FA LA KC KA KD KF -', 'TB QC QA QD FA LA KC KD KF -', 'KF -', 'RJ -', 'RJ -', 'RJ -', ' -', 'KF -', 'TA SA FA IC IA LC LA RC RI RJ -', ' -', 'TA LA FA MA KC KD KF -', ' -', 'KF -', ' -', 'FA RI RJ KC KD KF -', 'KF -', ' -', 'EA DA KC KA KD KF -', 'EA WD WE WA WF FA KD -', 'TB EA WD WA FA KD KF -', 'WA WF -', 'KF -', 'TA EA IC IA QC QA QD KC KD KF -', 'TA EA IC IA QC QA KC KD -', 'TA SA EA LC LA VC VA KE KC KA KD KF -', 'TA SA EA LC LA VA KE KC KD -', 'KF -', 'KF RJ -', 'FA RJ -', 'LA IA KA KD KF -', 'KF -', 'WD WA YA KD KF -', 'FA KD KF -', 'HE HF YA KF -', 'KD KF -', ' -', 'QC QA QD LA EA RG RI RA RJ -', 'QC QA QD LA RG RI RJ -', 'RJ KF -', 'RJ KF -', 'RJ -', 'RJ -', 'YA MA FA RI RJ -', 'RJ -', 'RI RJ -', 'DA YA FA RI RJ -', 'QA QD KD KF -', 'QA QD KD KF -', 'RI RJ -', 'TA EA VA LC LA KC KD KF -', 'KF RJ -', 'RJ -', 'RJ -', 'TA SA WD WE WA WF LC LA KC KD -', 'WA WF KF -', ' -', 'YA KD KF -', 'KF RJ -', 'YA EA RI -', 'KF RJ -', 'TA YA PA IC IA KC KD -', ' -', 'TA TB NB NA LC LA RH RC RG RI RA RJ -', 'RJ -', 'QD RA RJ -', 'QD RA RJ -', 'QD RA RJ -', 'KD -', 'FA HA KB KD -', 'HF KF -', ' -', 'EA FA HA HE KB KD KF -', 'FA KD KF -', ' -', 'FA KD KF -', 'WA RJ -', 'EA KB KD -', 'EA LA KC KB KD KF -', 'EA LA KC KB KD KF -', ' -', 'EA KC KB KD KF -', ' -', 'FB FA LA EA KC KA KD KF -', 'FA RJ -', 'TB HB HA HE HF YA LA QC QA QD KC KA KB KD KF -', 'HB HA HE HF YC YA LA QC QA QD KC KA KB KD KF -', 'TA IC IA LC LA VA RJ -', ' -', 'FA -', 'IA FA EA LA KC KB KD KF -', ' -', ' -', ' -', ' -', 'RJ -', 'RG RJ -', 'YA HE HF RJ -', 'KB KD KF EA RG RJ -', 'TA TB LC LA IC IA FB FA QC QA QD KC KA KB KD KF -', 'QD FA HA HE HF RG RI RJ -', 'FA HA -', 'FA HA RJ -', 'FA -', 'FA KD -', 'TA PA FA VA IC IA KE KC KB KD KF -', ' -', 'TA IA RG RJ -', 'IA RG RI RJ KC KA KB KD KF -', 'FA -', 'FA EA KB KD -', 'FA EA KB KD KF -', 'KF RJ -', 'TA VA PA RC RG RJ -', 'RJ -', 'WD WE WA WF LA HA HE QC QA QD RF RG RI RJ -', ' -', 'HA HE HF QA KA KD KF -', 'HA HE HF QA QD KA KB KD KF -', 'YA MA KD KF -', 'HA EA KD -', 'IA HA HF LA EA KD KF -', 'HF -', 'HA EA KD -', 'IA HA HE LA EA KD KF -', 'HF KF -', 'KF -', ' -', 'TA VA YA EA KC KA KD KF -', 'TA VA YA EA KC KA KD KF -', 'TA DA EA YA KC KA KD KF -', 'KF -', 'FA YA KD -', 'QD YA RI RJ -', 'RJ -', 'RJ -', 'QD YA RI RJ -', 'RJ -', ' -', 'FA KD KF -', 'YA KD KF -', 'TB EA MA FB FA KA KB KD KF -', 'KF -', 'EA MA FA KA KB KD KF -', 'EA MA FA KD KF -', 'KF -', 'TA VA EA QC QA QD IC IA RC RG RI RJ KC KA KB KD KF -', 'TA VA EA QC QA QD IC IA RC RG RI RJ KC KA KB KD KF -', 'WA RJ -', ' -', 'TA VA LC LA PA KC KA KB KD KF -', 'KF -', 'WA RJ -', ' -', 'FA EA YA RJ -', 'WA WF RJ -', 'WA RJ -', 'HA RJ -', 'HA QA KD KF -', 'FA QD KB KD KF -', 'KF -', 'RJ -', ' -', 'RJ -', 'RJ -', 'RJ -', 'FA HA HF KD -', 'RJ -', 'TA VA LC LA PA DB DA RC RG RI RJ -', 'RJ -', 'LA HA RG RJ -', 'LA HA HE RA RJ -', 'RJ -', 'RJ -', 'LA HA RJ -', 'RJ -', 'LA WD WE WA WF RG RI RA RJ -', 'WA RJ -', 'FA -', ' -', ' -', 'QD KD KF -', 'MC KD -', 'KD KF -', 'KD KF -', 'MA FA QA QD KA KD -', ' -', 'QD KD KF -', 'FA QA QD -', 'QD KD KF -', 'QA QD FB FA EA KA KB KD KF -', 'QA FA EA KD KF -', 'TA VA NA YA IC IA QA LC LA KC KD -', ' -', ' -', ' -', 'WA KD KF -', 'RJ -', 'RJ -', 'RJ -', 'RJ -', ' -', 'RJ -', 'RJ -', 'WA WF KF -', 'TA VA WD WE WA PA KC KA KD -', 'TA VA WD WE WA PA KC KA KD KF -', 'LA EA NA YA KC KD KF -', 'KF -', 'EA YA KD KF RJ -', 'EA YA KD KF RJ -', 'TA VA PA RC RG RJ -', 'TA VA PA DA RC RG RI RA RJ -', 'QD KD KF -', 'KD KF -', 'TA TB VA NA EA QC QA QD KC KA KB KD KF -', 'KD -', 'KD KF -', 'KD KF RJ -', 'KD KF RJ -', 'RJ -', 'EA NA LA KC KA KB KD KF -', 'TB EA LA KC KD -', 'TA VA YC YA WD WE WA DA RH RC RG RI RJ -', 'WD WE WA RJ -', 'WD WE WA MA QA QD RI RJ -', 'WD WE WA RJ -', 'WD WE WA WF RG RI RJ -', 'WA RJ -', 'WD WE WA RJ -', 'WD WE WA RJ -', 'WA RJ -', 'RJ EA KC KA KD KF -', 'YA QD KD KF -', 'YB YC YA FB FA HA HC HE HF DA -', 'YB YA FB FA HA HE -', ' -', 'YA HE KD -', ' -', 'KF -', 'YA HE QD KD KF -', 'KF -', 'RJ -', 'TA YC YA IA RC RJ -', 'TA YC YA IC IA RC RJ -', 'TA YB YC YA HA HC HE HF LC LA RH RC RG RI RJ -', 'TA YB YC YA HB HA HC HE HF DA LC LA RH RC RG RI RJ -', 'TB YA EA HA RG RI RJ -', 'YA EA HA HF RI RJ -', 'KF -', 'YA QA RJ -', 'YA QD RJ -', 'YA QD RA RJ -', 'YA FA -', 'YA IA MA EA KC KD KF -', 'YA EA KD KF -', 'YC YA QD WC WD WE WA FA KD -', 'YC YA QD WD WE WA WF FA KD -', 'TA YB YC YA SA DB DA LC LA RH RC RG RI RJ -', 'YA WD WA KF RJ -', 'YA WD WE WA WF QC QA QD IA EA RG RJ -', 'YC YA EA KD KF LA -', 'KF -', 'YA RJ -', 'VA TA FA LC LA KC KD KF -', ' -', 'KF -', 'KD KF -', ' -', ' -', 'HF -', ' -', ' -', ' -', 'HF -', 'DA IA LA HA HE YB YA NA KC KA KD KF -', 'VA IC IA EA KC KD KF -', 'YA RJ -', ' -', ' -', 'EA KD KF -', ' -', 'KD KF -', 'KD KF -', 'KF -', ' -', 'KF -', 'EA FA KD -', 'FA KD KF -', 'KF -', 'FA KD KF -', 'KF -', ' -', ' -', 'EA QA RJ -', 'FA YA KD KF -', 'EA YA MA RJ -', 'EA YA RJ -', 'RJ -', 'RJ -', ' -', 'EA QA QD RG RI RJ -', 'QD RJ -', 'RJ -', 'VC VA EA QB QC QD LC LA RH RC RG RI RJ -', 'KF -', 'KF -', ' -', 'RJ -', 'RJ -', ' -', 'KF RJ -', 'DA QC QA QD KC KA KB KD KF -', 'RJ -', 'FA RJ -', 'RJ -', 'KF RJ -', 'KF RJ -', 'RJ -', ' -', 'RJ -', 'RJ -', 'RJ -', 'KF -', ' -', 'KF -', 'HA KD KF -', 'VA LC LA HA HF KC KA KD KF -', 'KD -', 'VA LC LA HA HF KC KD KF -', 'YA KD KF -', 'QA FA RJ -', 'IA QA FA RG RI RJ -', 'RJ -', 'RJ -', 'VA IC IA LC LA YA RC RG RJ -', 'IA KC KA KD KF -', 'YA RJ -', 'RJ -', 'LA QC QA QD YA RG RI RJ -', 'KF -', 'KF -', 'HA FA YA RJ -', 'HA FA YA RJ -', 'VC VA NA LC LA RH RC RG RJ -', 'KF -', ' -', 'KF -', 'EA YA KD -', 'NA EA LA YB YA KC KD KF -', 'RJ -', ' -', 'HB HA HE DA TA LA KC KA KD KF -', 'HA KD -', 'HA HE HF DA TA LA KC KA KD KF -', ' -', 'EA QA QD RG RI RJ -', 'EA QA QD RJ -', 'VA QC QA QD EA HA HE FA KC KA KD KF -', 'HF KF -', 'VA QC QA QD EA HA HE HF FA KC KA KD KF -', 'QC QA EA HA HE HF FA KC KA KD KF -', ' -', ' -', 'QC QA IA NA KC KD -', ' -', 'KD KF RJ -', 'QA QD EA KD KF -', 'QA WD WE WA WF EA HA HF KD -', 'FA HA HE HF MA KA KD KF -', 'FA HA KD -', 'FA HA HE HF MA KA KD KF -', 'KF -', 'LA EA KC KD KF RG RI RJ -', 'HF RJ -', 'EA RJ -', 'RJ -', 'KF -', ' -', 'VA YA RC RG RI RJ PA -', 'VC VA TA HA HE HF RH RC RG RI RJ -', ' -', 'VA TA IC IA QC QA KC KA KB KD KF -', 'HE KD -', ' -', 'QD HE HF KD KF -', 'KF -', 'RI RA RJ -', 'VA TA SA LC LA PA RC RG RA RJ -', 'RJ -', 'VA TA LC LA PA RC -', 'KF RJ -', 'FA KD KF RJ -', 'FA KD KF RG RI RA RJ -', 'FB FA KD KF RI RJ -', 'KF -', 'IA QA FA EA KD -', 'NA IA LA RG RJ -', 'KF -', 'KF RJ -', 'RJ -', 'RI RJ -', 'TB RI RJ -', 'RJ -', 'RJ -', 'YA RJ -', 'QA QD YA RG RJ -', 'WA -', 'WA KF -', 'YB YA IA FB FA HA KD KF -', 'YB YA IA FB FA HA HE HF KA KD KF -', 'YB YA FB FA HA KD KF -', 'KF -', 'VA LC LA MA KC KD KF -', 'LA MA MC KC KA KD KF -', 'KD -', 'FA RJ -', 'FA RJ -', 'DS KF -', ' -', 'EA KD -', ' -', 'KF -', 'HE HF KD KF -', 'VA LC LA HA HE EA KC KA KD KF -', 'HA KD -', 'VA LC LA HA HE EA KC KA KD KF -', 'YA KD KF -', 'RJ -', 'KF -', 'NA EA LA MA KC KA KD KF -', 'NA LA MA KC KD -', 'NA EA LA MA MC KC KA KD KF -', 'RG RI RA RJ YA -', 'FA RJ -', 'FA RJ -', 'EA RJ -', 'FA RG RI RA RJ -', 'QC QA QD YB YA KC KA KD KF -', 'QA QD TB EA MA KA KD KF -', 'QA QD KD KF -', 'YA FA RJ -', 'VC VA MA RH RC RG RI RJ -', 'KF RJ -', 'FA KD -', 'VC VA PA SA LC LA KE KC KD KF -', 'KF -', 'EA KD KF -', 'EA QC QA QD LA KC KD -', 'KF -', 'QD RA RJ -', 'RJ -', 'FA RJ -', 'MA FA RG RJ -', 'RJ -', 'DA EA TB HA HE HF MA RG RI RA RJ -', 'DA EA HA RJ -', 'DA EA HA HF MA RF RG RI RA RJ -', 'DA EA TB HA HE HF MA RG RI RA RJ -', 'EA HA RJ -', 'FA RJ -', ' -', 'VA DB DA EA TA YA PA KC KA KD KF -', 'YA KD KF -', 'FA RJ -', 'FA QD TB RG RI RJ -', 'KD -', 'VA DB DA LC LA KC KD -', 'VA DA LC LA KC KD -', 'VA EA KC KD -', 'QA KD -', 'QD YA KD KF -', 'QD YA KD KF -', 'QD HC HE KD KF -', 'KD KF -', 'WA KF -', 'HF WA KF -', 'WA KF -', 'KD KF -', 'KD KF -', 'KD KF -', 'KD KF -', ' -', 'KD KF -', 'KD KF -', ' -', 'KD KF -', 'KD KF -', 'RJ -', 'VA IC IA LC LA RC RG RI RJ -', 'EA QA QD MA RF RG RI RJ -', 'QA MA RI RJ -', 'EA KD -', 'WA KF -', 'WH WA WF KF -', 'VC VA IC IA KC KD -', 'VA LC LA PA KC KD KF -', ' -', ' -', ' -', ' -', 'FA KD -', 'FA HA HF KD -', 'FA -', 'FA HA HF KD KF -', 'VA LC LA FA KC KD -', ' -', 'QD KD KF -', 'QD KD KF -', ' -', 'QA QD KD -', 'YA RJ -', 'QA HA HF YA RG RI RJ -', 'YA RJ -', 'RJ -', ' -', 'RJ -', 'RF RG RI RA RJ MA QA QD -', 'RJ -', 'VA DB DA QC QA QD IC IA HA HE RC RG RI RJ -', 'QA YA EA RJ -', 'QA QD YA EA RG RJ -', 'RJ -', 'RJ -', 'EA HA RJ -', 'FA YA RG RI RJ -', 'VA YA FA LC LA RJ -', 'VA DA YA FA LC LA RG RI RJ -', ' -', 'KF -', 'DA WD WE WA FA QA QD RJ -', 'WD WA FA QD RG RJ -', 'KA KD KF -', 'RJ -', 'RJ -', 'RJ -', 'RJ -', 'QA -', 'RJ -', 'RJ -', 'WA WF -', 'WA -', ' -', 'YC YA EA KA KB KD KF -', 'YC YA EA KD KF -', 'EA KD KF RI RJ -', 'KF -', 'EA -', 'HE KF -', ' -', 'QD KD KF -', 'KF -', ' -', 'EA NA QA QD KD -', 'WA WF -', 'WD WA KD -', 'WA KF -', 'VC VD VA EA SA IC IA TA TB KC KA KD KF -', 'YA QA RJ -', ' -', 'EA YA RJ -', 'EA YA RG RJ -', 'EA YA LA RJ -', ' -', 'KD KF -', 'VA EA IC IA KC KA KD KF -', 'EA QC QA QD DA KC KA KD KF IA -', 'EA QC QA QD DA KC KA KD KF IA -', 'VC VA EA QB QC QA QD DB DA KE KC KA KB KD KF IC IA -', 'QD KD KF -', 'EA FA LA YA KD -', 'KF -', 'EA KD -', 'EA KA KB KD KF -', 'EA KA KD KF -', ' -', 'EA KD KF -', 'EA KD -', 'KF -', 'KF -', 'EA KD KF -', 'EA KD KF -', 'EA KD -', 'EA KD KF -', 'EA KD KF -', 'EA KD -', ' -', ' -', 'EA YA RG RI RJ -', ' -', 'KF -', ' -', ' -', 'EA FA RJ -', 'RJ -', 'VA EA WD WE WA KC KD -', 'YA RJ -', 'RJ -', 'YA RJ -', 'RJ -', 'VA EA IC IA TA YA PA KC KA KD KF -', 'KF RJ -', 'EA RJ -', 'EA LA IA RJ -', ' -', 'HA KD KF -', 'KD KF -', 'KD KF -', 'KD -', 'EA HA FA -', 'HE HF KD KF -', 'KD KF -', 'KD KF -', 'KD KF -', 'KF -', ' -', 'KF -', 'KF -', 'EA MA DA FA KC KD -', 'RJ -', 'KD KF YA -', ' -', 'EA KD YA -', 'KB KD KF YC YA -', 'KF -', 'KF RJ -', ' -', 'KF -', ' -', 'RJ -', 'EA RJ -', 'EA NA FA KD KF -', 'EA NA FA KD KF -', 'EA KC KA KB KD KF -', ' -', ' -', 'YA -', ' -', 'KD KF -', 'KD KF -', 'VA EA SA DA PA KC KA KD KF -', 'EA YA KD KF -', 'EA RJ -', 'KF -', ' -', 'KF -', 'RJ -', ' -', 'RJ -', 'RJ -', 'KF -', 'EA RJ -', 'HF QD RG RI RJ -', 'RI RJ -', 'RJ -', 'EA RJ -', 'RI RJ -', 'RG RJ -', 'RJ -', 'VA EA PA FA KC KD KF -', 'EA QA QD HA HE HF RG RI RA RJ -', ' -', 'KD KF -', 'EA YA FA KD -', 'VA EA YA FA TA KC KD KF -', 'VA EA YA LC LA RC RG RJ -', 'FA YA EA KD KF -', 'RJ -', 'KF -', 'FA IA LA EA KC KD KF RG RI RJ -', 'FA IA LA KC KD KF RJ -', 'FA RJ -', 'FA EA KD KF -', 'VA FA HA HE QC QA QD RC RG RI RA RJ -', 'VA FA HA HE QA RC RG RI RJ -', 'FA RJ -', 'FA IA RJ -', 'FA RJ -', 'FA IA MA RJ -', 'RJ -', 'FA DA IA MA NA RF RG RI RA RJ -', 'RJ -', 'FA QA QD KA KD KF -', 'FA QA KD -', 'FA DA QA QD KA KB KD KF -', 'VA FB FA EA HB HA HC HE HF IC IA KC KA KD KF RC RG RI RJ -', 'FA EA HA HF KA KD KF -', 'FA EA HA KD -', 'FA EA HA HE HF LA KC KA KD KF -', 'HF KF -', 'FA QC QA RJ -', 'RJ -', 'FA IA HA HF KC KD KF -', 'FA IA HA KC KD -', 'FA KC KD KF RG RJ -', 'FA QC LA -', 'VC VA FA HA LC LA KC KD KF -', 'VC VA FA HA HE LC LA KE KC KA KD -', 'FA HE KD -', 'FA HA HE HF KA KB KD KF -', 'VA FA HA HE IC IA LC LA DA KC KA KD KF -', 'FA HA HE IA LA DA KC KA KD KF -', 'FA HB HA HC HE IA LA DA KC KA KD KF -', 'RJ -', 'VA FA IC IA KC KD -', 'FA KD KF -', 'FA KA KD KF -', 'FA HA RJ -', 'RJ -', 'FA HA HE RJ -', 'FA HA HE RJ -', 'RJ -', 'FA HA HE RJ -', 'RJ -', 'WA -', 'FA HA KD -', 'FA HA KD -', 'FA HA HE HF KD KF -', 'FA RJ -', 'FA YA EA RJ -', 'FA YA RJ -', ' -', 'VA FA IC IA LC LA KC KD -', 'FA YA RJ -', 'FA YA RI RJ -', 'RJ -', 'VA FA NA IC IA KC KA KD KF -', ' -', 'RJ -', 'KD -', 'VA FA QC QA QD IC IA KC KA KD KF -', 'VA FB FA QC QA QD EA IC IA KC KA KD KF -', 'FA HA KD -', 'FA QD HA HE HF KD KF -', 'RJ -', 'VA FA QC QA YA KC KD KF -', ' -', 'KF -', 'FA QC QA QD KC KA KD KF -', 'FA KD KF -', 'FA LA KC KD -', 'FA KD -', ' -', ' -', 'RJ -', 'RJ -', 'YA RJ -', 'FA RJ -', 'RJ -', 'RJ -', 'VA FA IC IA LC LA RC RJ -', 'VA FA YA QC QA QD KC KA KD KF -', 'EA LA HA HE HF KC KA KB KD KF -', 'EA LA HA HE HF KC KD KF -', 'EA RJ -', 'VA FA TA KC KD KF -', 'HA HE HF EA FB FA KA KD KF -', 'VA NA IC IA TA TB FA KC KA KD KF -', 'KF -', 'WE WA RJ -', 'RJ -', 'WA RJ -', 'KD -', 'FA KD KF -', 'FA KD KF -', ' -', 'KD KF -', 'EA FA KD -', 'KD KF -', ' -', 'FA YA RJ -', 'FA HE HF RG RI RA RJ -', ' -', 'EA YB YA RG RI RA RJ -', ' -', 'EA KD KF -', 'EA KA KD KF -', 'EA YA QA KD KF -', ' -', 'VA IC IA EA HA LC LA RC RJ -', 'VA IC IA EA HA HE HF LC LA RC RG RI RJ -', 'RJ -', ' -', 'WE WA HA RJ -', 'WD WE WA HA HE RG RJ -', 'FA KD -', 'FA KD KF -', 'FA KD KF -', 'FA KD KF RJ -', 'VC VA IC IA PA KE KC KD KF -', 'FA RJ -', 'LA EA NA FB FA RG RI RJ -', 'KD KF -', 'YA KD -', 'YA KD -', 'KF -', 'YA QD KD KF -', 'HA RG RJ -', 'RJ -', 'HA RG RI RJ -', 'VA LC LA DA KC KD KF -', 'KF -', 'KD KF FA -', ' -', 'KF -', 'KF -', 'KF -', 'QA RJ -', 'RJ -', 'RJ -', 'RJ -', 'HA TB KA KD KF -', 'VA PA LC LA QC QA KC KD -', 'KF -', 'KF -', 'KF -', 'VC VA PA EA SA DA KE KC KA KD KF -', 'EA KC KD KF YA RJ -', 'EA KC KD KF YA RJ -', 'QA QD RG RI RJ -', 'FA RJ -', 'FA RJ -', 'VA QC QA QD LC LA KC KA KD KF DB DA PA -', 'QA RJ -', 'QD RJ -', 'QD RJ -', 'QA RJ -', 'QD RI RJ -', 'QD RJ -', 'QD RI RA RJ -', 'HB HA HE HF DA QC QA QD EA RG RI RA RJ -', 'HF KF -', ' -', 'KF -', 'VA LC LA KD -', 'RJ -', 'LA QC QA EA KC KA KD KF -', ' -', 'RI RA RJ -', 'RI RA RJ -', 'LA RG RJ -', 'VC VA HA HF KC KD -', 'VC VA SA HA HE HF KE KC KA KB KD -', 'RJ -', 'QD YA HE HF RJ -', 'QD YA RJ -', 'EA RJ -', 'YA RJ -', 'YA RJ -', 'RJ -', 'RJ -', 'RJ -', 'VA HA HE HF QC QA QD PA LC LA KC KA KB KD KF -', 'VA HA HE EA NA IC IA TA KC KA KD KF -', 'HE HF FA QD KD KF -', 'FA KD KF -', 'HE HF FA QD KB KD KF -', 'HA HE HF LA EA DA KA KD KF -', 'HE KD -', 'VA HB HA HE HF LC LA TA DB DA EA KC KA KD KF -', 'VA HB HA HE LC LA TA DB DA EA KC KA KB KD KF -', 'RJ -', 'KF -', 'HA HE NA QA DA IA RG RI RJ -', 'HA HE HF EA QC QA QD IA KC KA KD KF -', 'VA HB HA HE HF IC IA TA MA KC KA KD KF -', 'HB HA HE IA TA MA MC KC KA KD KF -', 'VA HA HE HF IC IA TA MA KC KA KD KF -', 'HA KD -', 'HA HE IA TA MC KC KD KF -', 'HE HF QD YA KD KF -', 'YA KD -', 'QA FA -', 'YA KD -', 'YA KD KF -', 'VA HA HC HE HF SA KE KC KA KB KD KF PA RH RC RG RI RJ -', 'HA QA RJ -', 'HA QA RG RJ -', 'HA HE FA YA RG RI RJ -', 'VA IC IA LC LA KC KD KF -', 'YA KD KF -', 'IA LA YA FA RJ -', 'IA FA EA KC KA KD KF -', 'VA IC IA FA KE KC KD KF -', ' -', 'IA EA FA YA KC KD KF -', 'KF -', 'VC VA IC IA FB FA RH RC RG RI RA RJ -', 'IA FA LA WA KC -', ' -', 'KF WA -', ' -', 'VC VA IC IA TA NA KE KC KA KD KF -', 'VA IC IA LC LA RC RJ -', ' -', 'RJ -', ' -', 'HE HF RJ -', 'HF RJ -', 'KF -', 'HA HE YA KD -', ' -', ' -', 'QA KD -', ' -', ' -', ' -', 'KF -', ' -', ' -', ' -', ' -', ' -', 'HF KF -', ' -', ' -', ' -', 'KF -', 'VA IC IA RC RG RJ -', ' -', ' -', 'KD KF FA RJ -', 'KD KF FA QD RJ -', 'VC VA IC IA LC LA EA MA RC RG RJ -', ' -', 'KF -', 'RJ -', 'HA YA RG RI RJ -', 'RJ -', 'HA EA RJ -', 'HA HE HF EA YB YA RG RI RJ -', 'RJ -', 'WD WA KD KF -', 'YA RG RJ -', 'YA EA RJ -', 'YA -', 'VA IC IA MA EA RC RG RJ -', 'FA KD KF -', 'VA IC IA NA FA EA KC KD -', 'KF -', 'VA IC IA NB NA LC LA KC KA KD KF PA -', 'RJ -', 'RJ -', 'RJ -', 'YA RJ -', 'WA KD -', 'HF QD WD WA KD KF -', 'EA QD HA HF KB KD KF -', 'VC VA IC IA PA NA RH RC RG RI RA RJ -', 'FA KF -', 'IA LA FA KC KD -', 'IA QC QD HA RG RJ -', 'RG RJ MA -', 'VA IC IA PA TA KC KA KD KF -', 'VC VA IC IA PA TA KE KC KA KD KF -', 'VA IC IA PA TA KC KD KF -', 'KF -', ' -', 'KF -', 'VA IC IA QC QA NB NA PA KC KA KD KF -', 'RJ -', 'VC VA IC IA QC QA LC LA NA RC RG RJ -', 'VC VA IC IA QB QC QA QD LC LA NA RH RC RG RI RA RJ -', ' -', 'VA IC IA QC QA PA KC KA KD KF -', 'FA KD -', 'QA QD FA KA KD KF -', ' -', 'QD FA KD KF -', 'KD -', 'FA KD -', 'EA RJ -', 'HA RJ -', 'HA RG RJ -', 'HA RJ -', 'EA HA RG RI RJ -', 'HF RJ -', 'FA HA -', ' -', 'FA -', ' -', 'HE KD -', 'KD -', ' -', 'FA KD -', ' -', 'TB EA YA RG RI RA RJ -', 'RJ -', 'KD -', ' -', 'DA KA KD KF -', 'FA HA KD -', 'FA HA KD KF -', 'YA -', 'IA YA QC QA RJ -', 'KB KD KF FA YA -', 'KD KF FA YA -', 'KD KF YA RJ -', ' -', 'KD KF MA EA FA YA QA QD -', 'VA KC KA KD KF EA IC IA -', 'KC KA KD KF MA -', 'KD -', 'KC KA KD -', 'KC KA KD KF EA LA QC QA -', 'KC KA KD KF NA EA LA QC QA QD -', 'VA KC KA KD KF LC LA NA IC IA RG RI RJ -', 'KA KD KF RG RI RA RA RJ -', 'KC KA KD KF LA NA IA RG RI RJ -', 'VA KC KA KD KF PA QC QA QD IC IA -', 'KA KD KF QA EA RJ -', 'KA KD KF RG RJ -', 'FA QD KD KF -', 'VC VA LC LA HA HE SA RH RC RG RI RJ -', 'VC VA LC LA HA HC HD HE HF SA RH RC RG RI RJ -', 'VC VA LC LA IC IA HB HA HE HF KE KC KA KD KF -', 'LA FA KC KD KF -', 'KF -', 'HF RJ -', 'RJ -', 'RJ -', 'QA KD KF -', 'YA RJ -', 'VC VA LC LA DB DA KE KC KA KB KD KF -', 'VA LC LA NA KC KD KF -', 'KF -', 'VA LC LA TA YA RC RG RJ -', 'VC VA LC LA DB DA IC IA KE KC KA KD KF -', 'KD KF -', 'VA LC LA IC IA NA KC KD KF -', 'RJ -', ' -', ' -', 'RJ KF -', 'RJ KF -', 'LA DA NA TB YB YA KC KA KD KF -', 'TB FA KA KD KF -', 'VA LC LA EA HA IC IA KC KD -', 'VA LC LA EA HA HF IC IA KC KA KD KF -', 'HF KF -', 'EA HA KD -', 'VA LC LA EA HA IC IA KC KD -', 'EA KD -', 'VA LC LA EA PA KC KD -', ' -', 'VA LC LA EA TA TB RG RI RA RJ -', 'RJ -', 'LA EA KD KF -', 'QD YA KD KF -', 'YA KD KF -', ' -', 'VA LC LA EA MA RG RI RJ -', 'LA EA YA RG RI RJ -', 'EA YA RJ -', 'VC VA LC LA EA YA RC RG RJ -', 'EA YC YA RG RI RJ -', 'YA RA RJ -', 'FA RJ -', 'LA FA RG RJ -', 'FA HA HE RG RI RJ -', 'FB FA HA HE HF RG RI RJ -', 'RJ -', 'WA RJ -', 'FA HA QA KD KF -', ' -', 'LA FA YA KC KD KF -', 'EA QA QD KB KD KF -', 'QA QD KD KF -', 'VA LC LA HA KC KA KD KF -', 'VA LC LA HB HA HE KC KA KD KF -', 'KD KF -', 'VA LC LA TA QC QA KC KD KF -', 'EA MA KD -', 'EA MA KD -', ' -', 'KD KF -', ' -', ' -', 'YA -', ' -', ' -', ' -', ' -', 'VA LC LA IC IA DA TA TB QC QA QD MA KC KA KB KD KF -', 'QA EA RA RJ -', 'VA LC LA IC IA QA RJ -', 'VA LC LA IC IA FA YA KC KA KD KF -', 'EA QA QD KA KD KF -', 'LA IA RG RJ -', ' -', 'LA IA EA KC KD KF -', 'KF -', ' -', 'VA LC LA FA QC QA EA KC KD KF -', 'LA QA QD RG RJ -', 'LA IA KC KD KF -', 'WA RJ -', 'FA KD -', 'KF -', 'KF -', 'HF -', 'QA QD EA KD -', 'KF -', 'VA LC LA PA QA KC KD -', 'VA LC LA PA QA KC KD KF -', 'KF -', 'RJ -', 'VA LC LA IC IA RC RI RJ -', 'LA EA KC KD KF -', 'VA LC LA MB MA EA RH RC RG RI RA RJ -', 'RJ KD KF -', 'RJ KF -', 'EA RG KA KD -', 'MA EA RJ KD KF -', 'RJ KF -', 'MC EA -', 'RJ KD KF -', 'RJ KF -', 'QD YA KD KF -', 'KD -', ' -', ' -', 'KF -', ' -', 'MA EA YA KD -', ' -', 'FA KD -', 'KF -', 'KF -', 'LA NA QC QA QD EA KC KD KF -', 'RJ -', ' -', 'RG RJ -', 'VA LC LA PA EA MA IC IA KC KD -', ' -', 'KF -', 'KD KF -', 'YA KD KF -', 'RJ -', 'RJ -', 'QA KD KF -', 'QA QD KA KD KF -', 'KF -', 'QA FA RG RJ -', 'QA QD EA RJ -', 'RJ -', 'QA -', 'YA -', 'QA YA -', 'KF -', ' -', 'QA QD KD -', ' -', ' -', 'EA FA KD KF -', 'KD -', 'VC VA LC LA EA KC KA KD -', 'KF -', 'LA EA DA KC KA KD KF NA IA -', 'LA EA DA KC KA KD KF IA -', 'LA IA QC QA QD HA RG RJ -', 'LA IA QC QA QD HA HE HF RG RI RJ -', 'LA RG RJ -', 'VA LC LA SA PA RC RJ -', 'LA YA FA RJ -', 'RJ -', 'RJ -', 'VA LC LA TA KC KD KF -', 'VC VA LC LA TA MA NA KE KC KA KD KF -', 'KF -', 'LA TA YA KC KD -', 'RJ KF -', 'WA -', 'LA TA TB QC QA KC KA KD KF -', 'YA KD -', 'YA KD KF -', ' -', 'LA QC QA QD HA HF DA YA KC KA KD KF -', 'KD KF -', 'KD KF -', ' -', 'KD KF -', ' -', 'FA KD KF -', 'KF -', 'KD -', 'KD KF -', 'KF -', 'FA RJ -', 'LA NA QC QA KC KD KF -', 'VA LC LA RC RG RJ -', 'VC VA LC LA TA EA RH RC RG RI RJ -', 'QA QD KD KF -', 'QD KD KF -', ' -', 'LA QC QA QD NA KC KD KF -', 'LA TB QC QA NA KC KD KF -', ' -', 'RJ -', 'KF -', 'RJ -', 'QC QA QD LA EA KC KA KB KD KF -', 'RJ -', 'HF KF -', 'MA EA FA RJ -', 'MA LA EA KC KD KF -', 'MA YA RI RJ -', 'VA MB MA LC LA SA QC QA QD KC KA KD KF -', 'VA MA IC IA FA LC LA KC KD -', 'VA MA IC IA FA LC LA KC KD -', ' -', 'KF RJ -', 'KD KF YA RJ -', 'RJ -', ' -', 'MA QA FA RJ -', 'MA QA FA RJ -', 'VA MA NA LC LA RG RJ -', 'YA KD -', 'YA KD KF -', ' -', ' -', ' -', 'EA RG RI RA RJ -', 'EA RG RI RJ -', 'EA RJ -', 'RJ -', ' -', 'KF -', 'KD KF -', 'WD WA KD -', 'WD WA KD KF -', 'WA KF -', 'WD WE WA WF KD KF -', 'WA WF KF -', 'KF -', ' -', 'NA EA IA LA RJ -', 'WD WA WF KF -', 'EA KA KD KF -', 'VA PA KF RC RJ -', 'VA NB NA SA LC LA EA TA KC KA KD KF -', 'FA RJ -', 'KD -', 'KF -', 'KF RJ -', 'HE HF RJ -', 'VA NA IC IA PA LC LA KD -', 'KD FA -', ' -', 'KD FA -', 'KF RJ -', 'KF RJ -', ' -', ' -', 'KD KF -', 'VA NB NA LC LA MA DB DA KC KA KD KF -', 'MA KA KD KF -', 'KF -', 'VA NA LC LA IC IA KC KD -', 'RG RI RA RJ -', 'RG RI RJ -', 'RJ -', 'YA KD KF -', 'EA RF RG RI RA RJ -', 'RJ -', 'VA NB NA PA RH RC RG RI RJ -', 'RJ -', 'RJ -', 'RJ -', 'RJ -', 'RJ -', 'RJ -', 'NA QC QA QD KC KD KF -', 'WA KF -', 'HA RJ -', 'FA MA LA KC KD -', 'KF -', 'QA -', 'VA NB NA SA IC IA RC RG RJ PA KC KD KF -', 'NA LA EA QC QA QD RG RJ -', 'VA NA LC LA FA KC KD -', 'KD -', 'KD KF -', 'KB KD KF -', ' -', 'EA -', 'RJ KF -', ' -', ' -', 'KF -', 'KD KF -', 'KD KF -', 'NA DA QA QD HA KD KF -', 'NA DA QA QD HA HE KA KB KD KF -', 'VA NB NA EA QC QA QD KC KA KD KF -', 'EA QA KD KF -', 'QD KD KF -', ' -', ' -', 'VA PA LC LA QC HA KC KD KF -', 'KD -', 'VA PA LC LA KC KD KF -', 'KF -', 'VA PA HB HA HE HF RC RG RI RJ -', 'RJ -', 'QA RJ -', 'RJ -', 'RJ -', 'RJ -', 'RJ -', 'RJ -', 'VA PA EA TA LC LA KC KD KF -', ' -', ' -', 'EA KD KF -', 'IA WA KC KD -', 'WA WF -', 'EA KD -', 'DA NA EA KA KD KF -', 'KD KF -', 'VC VA PA EA TA NA RC RG RI RA RJ -', 'VA PA EA TA TB NB NA RC RG RI RA RJ -', 'VA PA DA IC IA KC KD KF -', 'KF -', 'EA DA IA KC KA KD KF -', 'VC VA PA TA RH RC RG RJ -', 'FA KD KF -', 'FA DA LA KC KA KD KF -', 'KF -', 'FA EA KA KD KF -', 'QC QA IA RI RJ -', 'RJ -', 'HE HF KF -', 'FA KD KF -', 'RG RI RJ -', 'VC VA PA HA HE HF LC LA QB QC QA KE KC KA KD KF -', 'DA RG RI RJ -', 'LA EA KC KD KF -', 'VA PA LC LA IC IA FA KC KD -', 'VA PA LC LA KC KD -', 'VC VA PA MA RC RG RI RJ -', 'VA PA MA KC KD -', 'VA PA MA KC KA KD KF -', 'KD -', 'KF -', ' -', 'KF -', ' -', 'KF -', 'KF -', ' -', 'RJ -', 'NA YA QC QA LA RG RI RJ -', 'RJ -', ' -', 'LA IA FA RJ -', 'RJ -', 'RJ -', 'VA PA LC LA RC RJ -', 'VA PA LC LA RC RJ -', 'QD HE YA KD KF -', 'QC QA QD NA HA KC KA KD KF -', 'VA PA QC QA RC RG RJ -', 'RJ KF -', 'FA KD -', 'YA RG RJ -', 'VA PA HB HA HE HF RC RG RI RJ -', 'HA HE HF RG RI RA RJ -', 'VA PA HA HE RC RG RJ -', ' -', 'RJ -', 'RJ -', ' -', 'RJ -', 'RJ -', 'RG RI RJ -', 'RJ -', 'TB RI RJ -', 'WA RG RI RJ -', 'VA PA YA KC KD KF -', 'FA KD KF -', 'KD -', 'WA -', 'WA -', 'WA -', 'RJ -', ' -', 'QA KD -', 'VA QC QA QD MA IC IA EA KC KA KD KF -', ' -', 'KF -', 'QD RJ -', 'QD HA KD KF -', 'RJ -', 'QA QD EA TB NA KA KD KF -', 'KF -', 'FA KD -', 'VA QC QA QD EA TA FA KC KA KD KF -', 'RJ -', 'FA HA YA RJ -', 'QC QA YA LA RG RJ -', 'QC QA QD DA YB YA LA RG RI RJ -', 'HA RJ -', 'RJ -', 'VA LC LA DA EA RC RJ -', 'VC VA LC LA KC KD -', 'QD HA RJ -', 'QD HE HF YA FA RG RI RJ -', 'RJ -', 'YA EA FA KD KF -', 'QA QD YA EA FA KD KF -', 'QA QD YA EA FA KA KD -', 'QA YA KD -', ' -', 'QA QD YA EA FA KA KD KF -', 'KF -', 'KD -', 'QD KD KF -', 'KD KF -', 'VA FA KC KD -', 'QA YA FA KD -', 'VA RC RG RI RA RJ EA DB DA LC LA -', 'RG RJ QD KD KF -', 'RG RI RJ QD KD KF -', 'RG RJ QD KD KF -', 'RG RI RA RJ QD KB KD KF -', 'RJ QD KD KF -', 'VA RG RJ DA KC KA KD KF -', 'VA RJ EA DA KC KA KD KF -', 'KD FA YA -', 'RJ YA -', 'RJ QA WA -', 'RJ QA YA EA KD KF -', 'RG RI RJ DA EA YB YA KA KD KF -', 'RJ KF -', 'KF RJ -', ' -', 'QD YA KD KF -', ' -', 'RJ -', ' -', 'VA TA LC LA KC KD KF -', 'VA DA TA LC LA KC KA KD KF -', ' -', 'KD KF -', 'NA QA QD RG RI RJ -', 'YA IA EA RJ -', 'RJ HF KF -', 'RJ KF -', 'EA HA IA LA KC KA KD KF -', 'EA YA KD -', 'VA SA EA HA HE HF TA KE KC KA KD KF -', ' -', 'EA YA WA KD -', 'VA FA IC IA PA KC KD KF -', ' -', 'FA KD KF -', 'FB FA IA KC KA KD KF -', 'RJ -', 'RJ -', 'KF -', 'WA WF KF -', 'DA LA MA NA KC KD KF -', 'GE GE KD KF -', 'GE GE KD -', 'KD -', 'VA HA HE QC QA QD KC KA KB KD KF -', 'KD -', 'IA RG RI RJ EA TB KC KA KD KF -', 'RG KA KD -', 'KD -', 'IA RG EA KC KA KD -', 'RJ KF -', 'VA IC IA YA RC RJ -', 'VA SA IC IA YA RH RC RG RJ -', 'YA RJ -', 'YA RJ -', ' -', 'LA NA YA IA KC KD -', 'VA LC LA DA EA QC QA QD RJ -', 'KD -', 'KF -', 'KD -', 'VA MA LC LA RC RJ -', 'RJ -', 'RJ -', 'RJ -', 'RJ -', 'RJ -', 'KD KF -', 'EA QA KD KF -', 'RJ -', 'QC QA QD LA EA RG RI RJ -', 'QC QA QD EA DA KC KA KD KF -', 'HF KF -', 'QD KD KF -', 'KD -', 'LA YA KC KD -', 'KF -', 'YB YA EA KC KA KD KF -', 'RJ -', 'HE RJ -', 'RJ -', 'EA -', 'HE HF RJ -', 'HF RJ -', 'HF RJ KF -', 'VA HA HE LC LA RG RI RJ -', 'KD KF -', 'KD KF -', 'VC VA SA LC LA KC KD -', 'VC VA FA RC RI RJ -', 'VC VA SA IC IA MA KE KC KA KD KF -', 'RJ -', ' -', ' -', ' -', 'RJ -', 'RJ -', ' -', 'WD WE WA FA RJ -', 'YA HF RJ -', 'YA -', 'YA RJ -', 'RJ -', 'RJ -', 'RJ -', 'RJ -', 'HA HE HF EA YA KA KD KF -', 'HA HE EA YC YA KA KD KF -', ' -', 'YA HA HE HF RG RI RJ -', 'YA RJ KD KF -', 'RJ -', 'YA RJ -', 'RJ -', 'RJ -', 'RJ -', 'RJ -', 'RJ -', 'MA RJ -', 'RJ -', 'RJ -', 'RJ -', 'RJ -', 'RJ -', 'RJ -', ' -', 'VA VA -', 'MA FA KD -', 'EA QA QD HA RG RI RJ -', 'EA KD KF -', 'RJ -', ' -', 'RJ KD KF -', ' -', 'EA FA YA DA LA KC KD -', ' -', 'VC VA TA EA KE KC KD KF -', 'KF -', ' -', 'RJ -', 'VA TA FA LC LA QC QA PA KC KA KD KF -', 'FA RJ -', ' -', ' -', 'QD YA FA RG RI RA RJ -', 'QD YA FA RG RI RJ -', 'VA TA WD WE WA WF LC LA RC RG RI RJ -', 'WA WF RJ -', 'VA HB HA HE FA RC RG RJ -', ' -', 'RJ -', 'QA QD RG RI RJ -', 'RJ -', 'VC VA TA IC IA LC LA RH RC RG RI RJ -', 'WA RJ -', 'WD WA RJ -', 'WA RJ -', 'RJ -', 'WD WE WA WF YA RA RJ -', 'WA RJ -', 'KF -', 'VA TA LC LA EA KC KA KD KF -', 'EA KD KF -', 'LA NA QC QA QD YA IA KC KD KF -', ' -', 'KF -', 'KF -', 'LA EA RJ -', 'LA EA RJ -', 'RJ -', 'YA KD KF -', 'VA TA MA EA RC RG RI RA RJ -', 'FA RI RJ -', 'TB FA RG RI RJ -', 'FA RG RI RJ -', 'FA RG RI RA RJ -', 'MA RG RJ -', 'YA FA -', 'RJ -', 'QA FA KD -', 'TB QA QD FA EA MA KA KD KF -', 'TB QA QD FA EA MA KD KF -', 'TB QA QD FA KD KF -', 'VA TA LC LA DA KC KD -', 'KF -', 'VC VA TA SA KE KC KA KD -', 'RJ -', 'QD RG RI RA RJ -', 'RI RJ -', 'LA IA RJ -', 'HA HF RG RI RJ -', 'HA HD HE HF RG RI RA RJ -', 'KF -', 'KF -', 'YA KD KF -', 'KF -', ' -', 'YA KF -', 'DA NA EA RG RI RJ -', 'WD WA RJ -', 'WE WH WA RJ -', 'WE WH WA WF RJ -', 'WA RJ -', 'WA EA RJ -', 'WE WA WF RJ -', 'WA RJ -', 'WC WD WE WA WF EA KD KF -', 'WA RJ -', 'WA HF KD KF -', 'WA WF HF KF -', 'VA TA YA RC RJ -', 'RJ -', 'YA RJ -', 'YB YA IA RJ -', 'RJ -', 'YA FA QA HA RG RJ -', 'FB FA EA KA KD KF -', ' -', 'HA HF -', 'VA LC LA HA HF -', 'HF -', ' -', 'KD -', 'LA HA HF KC KD KF -', 'HF KF -', 'KD -', 'HA HE HF KD -', 'VC VA LC LA HA HE HF KE KC KD -', 'HF KF -', 'HA KD KF YA -', 'HA KD KF YA -', 'HA HF KD YA -', 'HA HE HF KD -', 'HA HF KD KF YA -', 'HA HE HF KD -', 'HF KF -', 'YA QD RI RJ -', 'RJ -', 'WD WE WA KD -', 'WD WA KD KF -', 'RG RI RJ -', 'RJ -', 'KD -', 'LA MA YA KD KF -', ' -', 'DA LA YA KA KD KF -', 'LA MA YA KD KF -', 'DA YA KD KF -', ' -', 'MA YA KD EA -', 'MA YA KD KF EA -', 'MA MC YA KD KF -', 'MC YA KD KF -', 'MA YC YA KA KB KD KF EA -', 'VA DB DA PA TA HA HE HF KE KC KA KD KF -', 'VA DB DA PA TA HA HE HF KE KC KA KD -', 'RF RG RI RJ KC KA KD KF -', 'KF WA WF -', 'WA WF -', 'KF WA WF -', 'VA DA LC LA YA KC KA KD KF -', 'QD YA KD KF -', 'EA RJ -', 'EA LA RJ -', 'RJ -', 'VA FA LC LA KD -', 'VA FA LC LA KC KD -', ' -', ' -', 'VA FA IC IA KC KA KD KF -', 'FB FA IA KC KD KF -', 'FA KD -', 'FA IA KC KD KF -', 'FA KD -', 'FB FA TA IA KC KA KD KF -', 'WD WE WA WF KD KF RJ -', 'RJ -', 'RJ -', ' -', 'HF WA RJ -', 'WA RJ -', ' -', 'VA NB NA PA FA DB RC RG RI RJ -', 'VA TA TB DB DA EA KC KA KD KF -', 'HA FA MA EA KD -', 'RJ -', ' -', 'RJ -', 'VA HA HE HF NA FB FA KC KA KB KD KF -', 'VA HA HE YA LC LA KC KA KB KD KF -', 'RJ -', 'FA RJ -', 'RJ -', 'RJ -', 'EA RI RJ -', 'RJ -', 'TB RG RA RJ KB KD KF -', 'RJ KF -', 'EA KD -', 'RJ KD KF -', 'RJ KF -', 'QD FA KD KF -', 'HE RJ -', 'HE RJ -', 'RJ -', 'RJ -', 'KD KF QD -', ' -', 'FA RJ -', 'LA IA YA RJ -', 'MA RJ -', 'LA IA RJ -', 'RJ -', 'EA RJ -', 'RJ -', 'RJ -', 'VA LC LA RC RG RI RJ PA -', ' -', 'MA YA LA KD -', 'MA YA EA LA KD -', 'HF RJ -', 'RJ -', 'LA RJ -', 'LA RJ -', 'VC VA PA TA KE KC KA KD KF -', 'RJ -', ' -', 'RJ -', ' -', 'QC QA QD EA HA HE HF KC KA KD KF -', 'QC QA QD EA HA KC KA KD KF -', ' -', 'QC QA QD EA HA HE HF KC KA KD KF -', 'QA HA YA KD KF -', 'VA QC QA LC LA EA KC KA KD -', 'VA QC QA QD LC LA EA KC KA KD KF -', 'QD HA TB RG RI RJ -', 'RJ -', 'RJ -', 'VC VA SA MB MA DB DA KE KC KA KD KF -', 'EA KD KF -', 'VA YA QC QA NA RG RI RA RJ -', ' -', 'KF -', 'RJ -', 'WA RJ -', 'KD -', 'KD KF -', 'KD KF -', 'YA RJ -', 'YA FA KA KD KF -', 'VC VA DB DA KE KC KA KD KF -', 'VC VA SA QB QC QA TA KE KC KA KD KF -', 'YA KA KD KF -', 'VC VA TA YA KC KD -', 'WD WE WA WF HA HE HF RG RJ -', 'WD WE WH WA WF HA HE HF RG RI RA RJ -', 'WD WE WA WF EA DA KD KF RG RJ -', 'YA KD -', 'YA RG RI RA RJ QA -', 'YA RG RI RA RJ QC QA -', 'RJ -', ' -', 'YA WC WD WE WA WF RG RI RJ -', 'WD WE WA WF FA HA KD KF -', 'FA KD -', 'WC WD WE WA WF FA HA HE KD -', 'WC WD WE WH WA WF FA HA KD KF -', 'WA WF KF -', 'WA WF RJ -', 'WD WE WA WF YA HA HF NA RG RI RJ -', 'QA -', 'VA YA MB MA KC KA KD KF -', 'VA YB YA DA MC KC KA KD KF -', ' -', 'YB YA RI RJ -', 'YA RJ -', 'YA KD KF -', 'KF -', ' -', 'YA FA RJ -', 'YA FA MA RJ -', 'YB YA TB RG RI RJ -', 'YB YC YA NA RG RI RJ -', ' -', 'YB YC YA EA KD KF -', 'YB YA RJ -', 'YB YA FB FA LA RG RJ -', 'RJ -', 'YA HA RJ -', 'YA HA RG RI RJ -', 'VA YA LC LA FA QC QA PA KC KD KF -', 'YA QD KD KF -', ' -', ' -', 'YA FA RJ -', 'YA QD KD KF -', 'YA KD -', 'YA KD KF -', 'YA TB KD -', 'KF -', 'YA RJ -', 'YA KD KF -', 'YB YA IA LA KC KD KF -', 'YA KD KF -', 'YA KD KF -', 'KF -', 'VA YA LC LA KC KD KF -', 'YA RJ -', 'YA RI RJ -', 'YA KD KF -', 'VA YA QA QD LC LA KC KD -', 'VA YA QC QA QD LC LA KC KD KF -', 'WD WE WA WF VA LC LA KC KD KF -', 'WD WE WA WF YA HA KD -', 'WC WD WE WH WA WF YA HA KD KF -', 'WD WE WH WA WF QC QA QD IC IA LC LA VA KC KA KD KF -', 'WD WE WA WF QA YA LC LA KC KD -', 'WD WE WA WF LA KC KD KF -', 'WA WF -', 'WC WD WE WH WA WF LA HA HF EA RG RI RJ -', 'WC WD WE WH WA WF LA HA HE HF EA RG RI RJ -', 'WD WE WH WA WF QC QA QD RG RI RJ -', 'WC WD WE WH WA WF HA HF KD -', 'WC WD WE WH WA WF EA HA HE KA KD KF -', 'WC WD WE WH WA WF EA HA KD KF -', 'WD WE WA WF EA KD -', 'WD WE WA WF HA KA KD KF -', ' -', ' -', ' -', 'YA RJ -', ' -', 'RJ -', 'WD WE WA WF YA RJ -', 'WA WF RJ -', 'WD WE WA WF PA HA LC LA RC RJ -', 'WD WE WA WF DA PA YA KC KA KD -', 'WD WE WA WF YA KD KF EA -', 'WC WD WE WH WA WF EA IA LA KC KD -', 'WD WE WA WF KD -', 'WD WE WA WF EA VA LC LA RC RG RI RJ -', 'WD WE WH WA WF EA MA KD KF -', 'WD WE WH WA WF EA YA IA RG RJ -', 'WC WD WE WA WF EA YC YA NA LA KC KA KD KF RG RI RJ -', 'WC WD WE WH WA WF EA YB YC YA NA LA KC KA KD KF RG RI RA RJ -', 'WD WE WA WF FA MA RG RI RJ -', 'WD WE WA WF FA RJ -', 'WA WF FA RJ -', 'WD WE WA WF FA RJ -', 'WD WE WA WF FB FA RJ -', 'WC WD WE WH WA WF FA RG RI RJ -', 'WH WA WF RJ -', 'WA WF KF -', 'WA -', 'WA WF KF -', 'WD WE WA WF QA IC IA LC LA KC KD KF -', 'WD WA WF KD KF RJ -', 'WF RJ -', 'WB WD WE WA WF HA HE EA LC LA QC QA QD KC KA KD KF -', 'WA WF KF -', 'WD WE WA WF HA HE YA QA RG RI RJ -', 'WD WE WA WF HA KD KF RJ -', 'WC WD WE WH WA WF HA HE HF KD KF RG RI RJ -', 'WD WE WA WF IC IA QC QA PA VA KC KA KD KF -', 'WD WE WA WF IA HA HE EA DA RG RI RA RJ -', 'WD WE WA HA HE RJ KD KF -', 'WA WF KF RJ -', 'WA WF KF RJ -', 'WD WE WH WA WF KA KB KD KF EA DA LA YB YA RG RI RJ -', 'WD WE WA WF KD KF YA RJ -', 'WA WF KF RJ -', 'WC WD WE WH WA WF KA KD KF EA DA LA YB YA RG RI RJ -', 'WA WF KF RJ -', 'WF -', 'WD WE WA WF KD KF FA RG RJ -', 'WD WE WH WA WF KD KF FA RJ -', 'WA WF KF RJ -', 'WE WA WF KD KF FA RJ -', 'WD WE WA WF KD KF FA RI RA RJ -', 'WA WF KF RJ -', 'WA WF -', 'WA WF KF RJ -', 'WC WD WE WH WA WF KD KF FA -', 'WA WF RJ -', 'WD WE WH WA WF LC LA FB FA RC RG RI RJ -', 'WD WE WA WF LC LA FA RC RG RJ KC KD KF -', 'WD WE WA WF LC LA FA RC RG RJ -', 'WA KD KF -', 'WD WE WH WA WF LA NA IA QC QA RG RJ -', 'RJ -', 'WD WE WA WF LC LA PA KE KC KD KF -', 'WC WD WE WA WF TB YA RG RI RJ -', 'WC WD WE WA WF YA RG RI RJ -', 'WA WF RJ -', 'WC WD WE WA WF QD KD KF -', 'WD WE WA WF YA RG RI RJ -', 'WD WE WA WF LC LA VA NA RH RC RG RI RJ -', 'WD WA WF MA FB FA YB YC YA IA DA RF RG RI RA RJ -', 'WA WF RJ -', 'WA WF KF -', 'PA IC IA YA FA KC KD -', 'WD WE WA WF PA LC LA YA TA KC KD KF -', 'WC WD WE WH WA WF HA HE HF MA RG RI RJ -', 'WH WA WF -', 'WD WE WA WF QB QC IC IA PA KE KC KD KF -', 'WD WE WA WF QC LC LA YA RC RA RJ -', 'WA RJ -', 'WD WE WH WA WF QC QA EA MA RC RG RI RJ -', 'WD WE WH WA WF QC QA NA HA IC IA KC KA KD KF -', 'WD WE WH WA WF QA EA KD -', 'WA WF RJ -', 'WD WE WA WF EA TB FA RG RI RJ -', 'WD WE WA WF EA QC QA TA HA HF RG RI RJ -', 'WD WE WH WA WF EA QC QA QD TA HA RG RI RJ -', 'WA WF RJ -', 'WD WE WA WF IA RJ -', 'WD WE WA FA RC RG RJ -', 'WC WD WE WH WA WF VA LC LA HA HF RG RI RJ -', 'WD WE WH WA WF VA LC LA HA HF RJ -', 'WD WE WA WF KD -', 'WD WE WA WF YA RJ -', 'WD WE WA YA RJ -', 'WA WF RJ -', 'WD WE WA WF TA QC QA LC LA PA KC KD KF -', ' -', 'WH WA WF RJ -', 'WD WE WA WF FA KC KD -', 'WD WE WA WF YA RJ -', 'WD WE WA WF FA KD KF -', 'WA LY LY LY YA -', 'WA WF RJ -', ' -', 'WD WE WA WF FA KD -', 'WD WE WA WF MA FA KD KF -', 'WD WE WA WF VA TA FA MA LC LA KC KA KD -', 'WD WE WA WF VA FA MC LC LA KC KD KF -', 'WD WE WA WF VA TA HA HE NA KC KA KD KF -', 'WD WE WA WF KC KD KF RC RG RJ -', 'WC WD WE WH WA WF NB NA KC KD KF RH RC RG RJ -', 'WD WE WA WF YA SD SD KF -', 'WD WE WA WF YA LC LA QC QA KC KD -', 'WD WE WA WF YA KD KF RJ -', 'WA YA RJ -', 'WH WA WF YA RJ KF -', 'WD WE WA WF YA KD -', 'YA HA HE RG RJ -', 'RJ -', 'RJ -', 'YB YA EA VA RC RG RI RJ -', ' -', 'YB YC YA FB FA HA WA RG RI RJ -', 'YA KD KF -', 'YA KD KF -', 'YB YA FB FA HA KC KD KF -', 'YB YA LC LA QC QA RC RJ -', 'EA KD -', 'YA KD KF -', 'YA EA -', 'YA KD KF -', 'YA PA LC LA DA VA KC KD -', 'YA FA KD -', 'YA FA KD KF -', ' -', 'YA KC KA KD KF -', 'YB YA KC KA KD KF -', 'RJ -', 'RJ -', 'YA RJ -', 'YA KD -', ' -', ' -', 'YA WA KD -', 'YB YC YA DB DA KC KA KD KF PA RH RC RG RI RJ -', 'YA EA RJ -', 'YA RJ -', ' -', 'YA HE HF KD KF -', 'YA HF KD KF -', ' -', 'YA KD KF WD WE WA WF -', 'YA QD FA KD KF -', 'YB YC YA DA IA NA LA KC KA KD -', 'YB YA IC IA LC LA VA KC KD KF -', 'YA KD KF -', 'YA RJ -', 'YB YC YA DA QA QD EA RG RI RJ -', 'YB YA DA QA QD EA RJ -', 'YA RG RI RJ -', 'YA RG RJ -', 'YA KD KF RJ -', ' -', ' -', ' -', ' -', ' -', ' -', 'YA HA RI RJ -', 'RJ -', 'YA EA HA RJ -', 'YC YA HA RI RJ -', 'YA KD -', 'YA -', 'YB YC YA EA TA LC LA KC KA KD KF -', 'RJ -', 'YA KF -', 'YA KD -', 'YB YC YA EA DB DA RH RC RG RI RJ MB MA KC KA KB KD KF -', 'YA RJ -', 'YA EA HF RJ -', 'YA RJ -', 'YA KD -', 'YA HA QD KD KF -', 'YA HA QD KD KF -', 'YA EA FA HA HF -', 'YA FA RJ -', 'RJ -', 'YA EA RJ -', 'YA FA RJ -', 'RJ -', 'YA EA LC LA VA DA KC KD KF -', 'KF -', 'YA QD RJ KD KF -', 'YA EA KD KF -', 'YA LA -', 'YA -', 'YC YA EA TB HA HE HF FA RG RI RJ -', 'YA EA HA FA RJ -', 'YA EA HA FA RJ -', 'YA EA HA FA RJ -', 'YA FA MA -', 'YA -', 'YA -', ' -', 'YA FA KD -', 'YA KF -', 'YA -', 'KF -', 'YA FA KD -', 'KF -', ' -', ' -', 'YA FA MA KD -', 'KF -', ' -', ' -', 'YA FA KD -', ' -', ' -', ' -', ' -', 'YA RJ -', 'RJ -', 'RJ -', 'YA FA RJ -', 'YA FA LC LA KC KD -', 'YA FA KD -', 'YA FA HE QD KD KF -', 'YA FA QC QA LC LA RC RJ -', 'YA FA KD KF -', 'YC YA FA QA KD KF -', ' -', 'YB YA FB FA MA KC KD KF -', 'YB YC YA FB FA KC KD KF -', 'YB YC YA FB FA VA TA RC RG RI RA RJ -', 'RJ -', 'YA FA RJ -', 'RJ -', 'YA FA WD WE WH WA WF QA KD -', 'YA FA WD WE WA WF QA KD KF -', ' -', 'YB YA VA FB FA RC RJ -', 'RJ -', 'YB YA EA LA KC KD KF -', ' -', ' -', ' -', 'YA FA RG RI RJ -', 'YA FA RG RJ -', 'YA FA LA PA RC RG RJ -', 'YA FA LC LA PA RC RJ -', 'YA FA WD WA KD KF -', 'YB YA QC QA QD LA KC KA KD KF -', 'YA KD -', 'YA KD -', ' -', 'YB YA LC LA VA FB FA TA KC KD -', 'YA FA KD -', 'YA KD -', 'YB YA LA IA KC KD -', 'YA KD KF -', 'YB YA LA KA KD KF -', 'YA KD -', ' -', ' -', 'YA KD -', 'YB YA EA KA KD KF -', 'YA KD KF -', 'YA QA QD EA KA KD KF -', 'KF -', 'RJ -', 'YA QD KD KF -', 'RJ -', 'KF RJ -', 'YB YA HA HE LC LA VA IC IA KC KA KD KF -', 'YA HB HA HE LC LA VA TA TB QC QA QD RC RG RI RA RJ -', 'YA HA FA KC KD KF -', 'HF RJ -', 'HF RJ -', 'RJ -', 'YC YA HA HE FA QA QD KA KD KF -', 'YA RJ -', 'YA FA KD -', 'YB YC YA IC IA TA FB FA KC KA KD KF -', 'YB YC YA IC IA DA EA KC KA KD KF -', 'YB YA IC IA EA RC RG RI RJ -', 'YB YA IA EA RC RG RJ -', 'RJ -', 'YA IA FA TA LA RC RI RJ -', 'YA IC IA VA RC RJ -', 'YA FA RJ -', 'YA IC IA FA RC RJ -', 'YA IA FA RJ -', 'YB YA IA WD WE WA RG RJ -', 'YB YA IC IA MA VA RG RJ -', 'YA RJ -', 'KF -', 'KF -', 'KF -', 'YA QA EA KD KF -', 'YA FA -', 'YA QD FA KD KF -', ' -', 'KF -', ' -', ' -', 'YB YC YA IA DA NA KC KA KD KF -', 'KF -', 'YA KD -', 'YA QA KD KF -', ' -', 'YA KD -', 'YA KD -', 'KF -', 'YA MA KD -', 'YB YA IA MA KD -', 'YB YA IA MA KD -', ' -', 'YA KD -', 'YB YA MA TV TV DA KD KF -', 'YB YC YA IC IA DB DA NB NA VA KC KA KD KF -', 'YA KD KF QD RG RI RJ -', 'YA KD KF RJ -', 'YA KD KF RG RI RJ -', 'YA KD KF RG RI RJ -', 'RJ -', 'KF RJ -', 'KF RJ -', 'YA KD -', 'YA KA KD KF EA -', 'YA KD EA -', 'YC YA KA KD KF EA -', 'YC YA KA KD KF EA -', 'KF -', ' -', 'YA KA KD KF FA RJ -', 'YA KF RJ -', 'YA KF RJ -', 'YA LC LA FA KC KD -', 'YA KD -', 'WA KF -', 'YA -', 'YB YA LC LA EA VA RC RG RI RJ -', 'YA KD KF -', 'YA QA QD RJ -', 'YA QD RG RJ -', 'YA QD RG RI RJ -', 'RJ -', 'YA EA QD RJ -', 'YA QD RJ -', 'YA QD RJ -', 'RJ -', 'YA EA QA QD RJ -', 'YA QD RJ -', 'RJ -', 'YA QD RJ -', 'YA QD RJ -', 'RJ -', 'YA EA MA QA QD RJ -', 'YA QD RJ -', 'YB YC YA LC LA EA TA TB QC QA QD PA KC KA KB KD KF -', 'YA HA RJ -', 'YA HA RJ -', 'YA HA RJ -', 'YB YC YA HA RG RJ -', 'YB YA LA MA RJ -', 'YB YA QA QD EA RJ -', 'RJ -', 'HF RJ -', 'RJ -', 'RJ -', 'YA QA EA KD KF -', 'KF -', 'YA LA IA RG RJ -', 'RJ -', 'YA WD WE WA KD -', ' -', 'YB YA QA EA RJ -', 'RJ KF -', 'YA WD WA KD -', 'YA WD WA EA KD KF -', 'YB YA LC LA PA QC QA RH RC RG RI RJ -', 'YA -', 'YA RJ -', 'YA HF RJ -', 'YA RJ -', 'YA LC LA IC IA RC RJ -', 'YB YC YA LA EA NA KC KA KD KF -', 'YA EA KD KF -', 'YB YC YA LC LA HA KC KD KF -', 'YB YC YA LC LA HB HA HC HE TA KC KA KB KD KF -', 'YA RJ -', 'YA RJ -', 'YA FA RJ -', 'YB YA LC LA TA SA VA KC KA KD KF -', 'YA RJ -', 'YC YA KD -', 'YA KD KF -', 'KF -', 'YA KD -', 'YA KD -', ' -', ' -', ' -', 'YA MA EA QA KD KF -', ' -', 'YA KD -', 'YC YA EA QA QD KA KD KF -', 'YA MA EA QA QD KA KD KF -', 'YC YA EA QA QD KA KD KF -', 'RJ -', 'KD KF -', 'YA -', 'YA -', 'YA -', 'KF -', 'YA -', 'YA KF -', 'YA KF -', 'YA QA KD -', 'YB YC YA MA HA HE HF KC KD -', 'YB YC YA MB MA EA HA HE HF KC KA KB KD KF -', ' -', 'YA EA HA KD KF -', 'YB YA QA HA FB FA KD -', 'YB YC YA NA DA QA HA FB FA KD -', 'HF KF -', 'YA EA HA KD -', 'YA QD HF FA KD -', 'YB YC YA NA DA EA QA QD HA HF FB FA KA KD KF -', 'HF KF -', 'KF -', 'YA RJ -', 'YA QA QD HA HE HF FA RG RI RJ -', 'YA FA RJ -', 'YA FA RI RJ -', 'YA QD KD KF -', 'YA KD -', 'YB YA NA IA LA KC KD -', ' -', 'YA -', 'HF KF -', 'KF -', 'WA RJ -', 'YA QD FA HA HE HF WA RG RI RJ -', 'YA QA RJ -', 'YB YC YA NB NA QC QA IC IA LC LA RH RC RG RI RJ -', 'RJ -', 'YA RJ -', 'YA FA KD -', 'YC YA RG RJ FA KD KF -', 'YB YA NA QA QD RG RJ -', 'KF -', 'YB YA NA TA FB FA EA LA KC KD KF -', 'KF -', ' -', ' -', 'YB YC YA NB NA VC VA KE KC KA KD KF -', 'YA RJ -', 'RJ -', 'YB YA PA LC LA RH RC RG RI RJ -', 'RJ -', 'YA FA HA HE RG RI RJ -', 'YA FA HA RJ -', 'YC YA QA QD FA HA HE HF KA KD KF -', 'YC YA QA QD FA HA KA KD KF -', 'YA QD RJ -', 'YA QD HE HF RJ -', 'YA QD HE HF RJ -', 'YB YA QC QA FB FA KC KD -', 'YB YA QC QA FB FA EA KC KA KD KF -', 'YB YA QA LA IA KC KD -', ' -', 'WA WF KF -', 'YA WD WA KD -', 'YB YA QA WD WE WA EA HA HF KD KF -', 'YA RJ IA -', 'YA RG FA DA KC KA KD -', 'RJ KF -', 'YC YA RG RI RJ EA KC KA KD KF -', 'YB YC YA RG RJ EA KC KA KD KF -', 'YA EA RJ -', 'RJ -', 'YA EA KD -', 'YC YA QD KD KF -', 'YB YC YA EA KA KD KF QA QD -', 'YA FA HE HF QD RA RJ -', 'YA FA -', 'YA FA RJ -', 'YA EA KD KF -', 'YA WD WA KD -', 'WA WF KF -', 'YA KA KD KF HA -', 'YC YA KA KB KD KF EA HA HE HF -', 'YA EA KD KF -', 'YB YA LA EA KD KF -', 'KF -', 'YA LC LA VA TA HA HE QC QA QD RC RG RI RJ -', 'YB YA MA QC QA PA KC KD KF -', 'YB YC YA SA MB MA WD WE WA WF FB FA KC KA KD KF -', 'YA KF RJ -', 'YC YA HA KD KF -', 'YC YA HA HF KD KF -', 'HF KF -', 'YC YA HA TB KD KF -', 'YC YA HA HE HF KD KF -', 'YB YC YA SA PA HA HE HF KE KC KA KD KF -', 'YA -', 'RJ -', 'YA RG RI RJ -', 'YA RJ -', 'RJ -', 'YA RJ -', 'YA RJ -', 'YA RG RI RJ -', 'RJ -', 'YB YC YA QC QA QD HA HE HF DA MA NA KC KA KD KF -', 'YB YC YA QC QA HA HE HF MA NA KC KA KD KF -', 'YB YC YA QC QA HA HE HF DA MA NA KC KA KD KF -', 'YB YC YA EA IA KC KA KD KF -', 'YC YA MA KD KF -', 'YA EA KD KF -', 'YA KB KD KF -', 'YA -', 'YA VA LC LA RC RJ -', 'YA QD RA RJ -', 'YA RJ -', 'RJ -', 'YA KD KF -', 'YA QD KD KF -', 'YA TA IC IA FA KC KD -', 'YB YA FB FA LA NA KC KD KF -', 'YA FA RJ -', 'YB YC YA TA NB NA KC KA KD KF -', 'YA KD KF -', 'YA KD KF -', 'YA -', 'KF -', 'YA KD -', ' -', 'YB YA TA LC LA PA VA EA KC KA KD KF -', 'YA FA RJ -', 'YB YA MA FB RJ -', 'YB YC YA TA NB NA LC LA RC RG RI RJ -', ' -', ' -', ' -', ' -', ' -', ' -', 'YA TB QA QD MA EA KD KF -', 'YA TB QA QD MA EA KD KF RJ -', 'YA TB QA QD MA EA KD KF RG RJ -', 'KF RJ -', 'KF RJ -', 'KF -', 'YB YC YA TA FB FA EA KC KA KD -', 'YA KF -', 'YB YA TA VA RC RJ -', 'YB YC YA TA VA DA RC RG RI RJ -', 'HF KF -', 'YB YC YA TA NA QC QA QD RG RI RJ -', 'YB YA TA VA RC RJ -', 'YA KA KD KF HA HE -', 'YC YA KA KD KF HA HE -', 'KF -', ' -', 'YA -', 'RJ -', 'RJ -', 'YA RJ -', ' -', 'YA KD KF -', ' -', 'YA KD KF -', 'RJ -', 'YB YC YA VA TA NB NA DB DA KC KA KD KF -', 'YB YA VC VA KE KC KA KD -', 'YA VA IC IA FA RC RG RI RJ -', 'YB YA VA IC IA FB FA RC RJ -', 'RJ -', 'YA FA KD KF RJ -', 'YA FA KD KF RJ -', 'YA MA QA KD -', 'YB YC YA MA QA KD -', 'YB YA MA QA KD -', 'KF -', 'YB YA MA MC QA KD KF -', 'YA KF -', 'RJ -', 'YA RJ -', 'RJ -', 'YA RJ KF -', 'YA FA EA KD -', 'YA -', 'YA RJ KF -', 'YA RG FA EA KD -', ' -', 'YA KD KF -', 'KF -', ' -', 'YA WD WE WA WF FA RJ -', 'YA WD WE WA WF EA FA RJ -', 'YB YA WD WE WA WF EA QA FB FA RG RA RJ -', 'YA WD WE WA FA KA KD KF QA RG RJ -', 'YB YC YA WD WE WA WF FB FA LA RG RI RJ -', 'YB YC YA WD WE WA WF HA DA FB FA RJ -', ' -', 'YA QA -', 'YA FA QA KD -', 'YB YC YA FB FA QC QA NA KC KD KF -', 'YA RJ -', 'RJ -', 'YC YA FA RJ -', 'YB YA FB FA IC IA RH RC RI RJ -', 'YB YC YA NA EA RG RI RA RJ -', 'HF -', 'YC YA RJ -', 'YB YA IC IA LC LA RC RJ -', 'YA FA KD KF -', 'YA KD KF -', 'YB YA LA MA KC KD -', 'KF -', 'YB YC YA LA KC KA KD KF -', 'KF -', 'YA WD WE WA WF KD -', 'YA WD WE WA WF KD -', 'WH WA WF KF -', 'YA WC WD WE WA WF KD KF -', 'WA WF -']\n"
     ]
    }
   ],
   "source": [
    "print(lan1[1])\n",
    "print(lan2)\n",
    "#print(dataset['seq'][4].index('K'))\n",
    "#dataset['ions'].iloc[4]\n",
    "#preProcess(dataset['seq'][1], dataset['ions'][1])"
   ]
  },
  {
   "cell_type": "code",
   "execution_count": 12,
   "metadata": {},
   "outputs": [],
   "source": [
    "# Insert the languages back to the dataframe\n",
    "dataset['seq'] = lan1\n",
    "dataset['ions'] = lan2"
   ]
  },
  {
   "cell_type": "code",
   "execution_count": 13,
   "metadata": {},
   "outputs": [],
   "source": [
    "# Let's encode the charge and energy inside \n",
    "# the input peptide sequence sentence\n",
    "\n",
    "# Convert z and E to strings\n",
    "dataset['z'] = dataset['z'].astype(str)\n",
    "dataset['E'] = dataset['E'].astype(str)\n",
    "\n",
    "# TODO: Create a new column named enc with everything included in sentences\n",
    "dataset['enc'] = dataset['z'] + ' ' + dataset['seq'] + ' ' + dataset['E'] + ' -' #+  dataset['E'] + ' -'  + ' ' +"
   ]
  },
  {
   "cell_type": "markdown",
   "metadata": {},
   "source": [
    "# Language Encoding\n",
    "\n",
    "Tokenize the sentences, construct tensors, embed the charge and eV information and do positional encoding (BERT)."
   ]
  },
  {
   "cell_type": "code",
   "execution_count": 14,
   "metadata": {},
   "outputs": [
    {
     "name": "stdout",
     "output_type": "stream",
     "text": [
      "<TensorSliceDataset shapes: ((), ()), types: (tf.string, tf.string)>\n"
     ]
    }
   ],
   "source": [
    "from sklearn.model_selection import train_test_split\n",
    "\n",
    "\n",
    "train, test = train_test_split(dataset, test_size=0.2, shuffle=False)\n",
    "\n",
    "\n",
    "# Create a tf dataset object\n",
    "train_examples = tf.data.Dataset.from_tensor_slices((train['enc'],train['ions']))\n",
    "test_examples = tf.data.Dataset.from_tensor_slices((test['enc'],test['ions']))\n",
    "\n",
    "print(train_examples)\n"
   ]
  },
  {
   "cell_type": "markdown",
   "metadata": {},
   "source": [
    "### Sanity Checks"
   ]
  },
  {
   "cell_type": "code",
   "execution_count": 15,
   "metadata": {},
   "outputs": [
    {
     "name": "stdout",
     "output_type": "stream",
     "text": [
      "tf.Tensor(b'3 A A A A A A A A A A E E A A M Q R D L L P P A G R 34.9 -', shape=(), dtype=string)\n",
      "tf.Tensor(b'RJ -', shape=(), dtype=string)\n",
      "tf.Tensor(b'2 A A A D D G E E P K 24.4 -', shape=(), dtype=string)\n",
      "tf.Tensor(b'DA EA PA KC KD KF -', shape=(), dtype=string)\n",
      "tf.Tensor(b'3 A A A E E G C G V G V E D D R E L E E L L E S A L D D F D K 50.2 -', shape=(), dtype=string)\n",
      "tf.Tensor(b' -', shape=(), dtype=string)\n",
      "tf.Tensor(b'2 A A A E V N Q E Y G L D P K 31.0 -', shape=(), dtype=string)\n",
      "tf.Tensor(b' -', shape=(), dtype=string)\n",
      "tf.Tensor(b'2 A A A F E D Q E N E T V V V K 38.7 -', shape=(), dtype=string)\n",
      "tf.Tensor(b'FA KD KF -', shape=(), dtype=string)\n",
      "<class 'tensorflow.python.data.ops.dataset_ops.TensorSliceDataset'>\n"
     ]
    }
   ],
   "source": [
    "cnt = 0\n",
    "for pep, ions in train_examples:\n",
    "    print (pep)\n",
    "    print (ions)\n",
    "    cnt+=1\n",
    "    if (cnt>=5):\n",
    "        break\n",
    "        \n",
    "print(type(train_examples))"
   ]
  },
  {
   "cell_type": "markdown",
   "metadata": {},
   "source": [
    "## Tokenization"
   ]
  },
  {
   "cell_type": "code",
   "execution_count": 16,
   "metadata": {},
   "outputs": [],
   "source": [
    "tokenizer_pep = tfds.features.text.SubwordTextEncoder.build_from_corpus(\n",
    "    (pep.numpy() for pep, ions in train_examples), target_vocab_size=2**10)\n",
    "\n",
    "tokenizer_ion = tfds.features.text.SubwordTextEncoder.build_from_corpus(\n",
    "    (ions.numpy() for pep, ions in train_examples), target_vocab_size=2**10)"
   ]
  },
  {
   "cell_type": "markdown",
   "metadata": {},
   "source": [
    "### Sanity Check"
   ]
  },
  {
   "cell_type": "code",
   "execution_count": 17,
   "metadata": {},
   "outputs": [
    {
     "name": "stdout",
     "output_type": "stream",
     "text": [
      "Tokenized string is [19, 8, 2, 8, 10, 13, 7, 2, 77, 148, 153, 5]\n",
      "The original string: 3 P E P T I D E 64.3 -\n",
      "FA KD RJ -\n",
      "19 ----> 3 \n",
      "8 ----> P \n",
      "2 ----> E \n",
      "8 ----> P \n",
      "10 ----> T \n",
      "13 ----> I \n",
      "7 ----> D \n",
      "2 ----> E \n",
      "77 ----> 64\n",
      "148 ----> .\n",
      "153 ----> 3\n",
      "5 ---->  -\n"
     ]
    }
   ],
   "source": [
    "sample_string = '3 P E P T I D E 64.3 -'\n",
    "\n",
    "tokenized_string = tokenizer_pep.encode(sample_string)\n",
    "print ('Tokenized string is {}'.format(tokenized_string))\n",
    "\n",
    "original_string = tokenizer_pep.decode(tokenized_string)\n",
    "print ('The original string: {}'.format(original_string))\n",
    "\n",
    "\n",
    "tok = np.array([5,   4,   2,   1])\n",
    "print(tokenizer_ion.decode(tok))\n",
    "\n",
    "assert original_string == sample_string\n",
    "\n",
    "for ts in tokenized_string:\n",
    "  print ('{} ----> {}'.format(ts, tokenizer_pep.decode([ts])))"
   ]
  },
  {
   "cell_type": "code",
   "execution_count": 18,
   "metadata": {},
   "outputs": [],
   "source": [
    "# Hyperparameters\n",
    "BUFFER_SIZE = 20000\n",
    "BATCH_SIZE = 64"
   ]
  },
  {
   "cell_type": "markdown",
   "metadata": {},
   "source": [
    "Add a start and end token to the input and target."
   ]
  },
  {
   "cell_type": "code",
   "execution_count": 19,
   "metadata": {},
   "outputs": [],
   "source": [
    "def encode(lang1, lang2):\n",
    "  lang1 = [tokenizer_pep.vocab_size] + tokenizer_pep.encode(\n",
    "      lang1.numpy()) + [tokenizer_pep.vocab_size+1]\n",
    "\n",
    "  lang2 = [tokenizer_ion.vocab_size] + tokenizer_ion.encode(\n",
    "      lang2.numpy()) + [tokenizer_ion.vocab_size+1]\n",
    "  \n",
    "  return lang1, lang2"
   ]
  },
  {
   "cell_type": "markdown",
   "metadata": {},
   "source": [
    "Operations inside `.map()` run in graph mode and receive a graph tensor that do not have a numpy attribute. The `tokenizer` expects a string or Unicode symbol to encode it into integers. Hence, you need to run the encoding inside a `tf.py_function`, which receives an eager tensor having a numpy attribute that contains the string value."
   ]
  },
  {
   "cell_type": "code",
   "execution_count": 20,
   "metadata": {},
   "outputs": [],
   "source": [
    "def tf_encode(pep, ions):\n",
    "  return tf.py_function(encode, [pep, ions], [tf.int64, tf.int64])"
   ]
  },
  {
   "cell_type": "code",
   "execution_count": 21,
   "metadata": {},
   "outputs": [],
   "source": [
    "train_dataset = train_examples.map(tf_encode)\n",
    "\n",
    "# TODO: Do we need this filter?\n",
    "#train_dataset = train_dataset.filter(filter_max_length)\n",
    "\n",
    "# cache the dataset to memory to get a speedup while reading from it.\n",
    "train_dataset = train_dataset.cache()\n",
    "train_dataset = train_dataset.shuffle(BUFFER_SIZE).padded_batch(\n",
    "    BATCH_SIZE, padded_shapes=([-1], [-1]))\n",
    "train_dataset = train_dataset.prefetch(tf.data.experimental.AUTOTUNE)\n",
    "\n",
    "\n",
    "# TODO: We need an evaluation dataset\n",
    "#val_dataset = val_examples.map(tf_encode)\n",
    "#val_dataset = val_dataset.filter(filter_max_length).padded_batch(\n",
    "#    BATCH_SIZE, padded_shapes=([-1], [-1]))"
   ]
  },
  {
   "cell_type": "code",
   "execution_count": 22,
   "metadata": {},
   "outputs": [],
   "source": [
    "#pep_batch, ions_batch  = next(iter(val_dataset))\n",
    "#pep_batch, ions_batch"
   ]
  },
  {
   "cell_type": "markdown",
   "metadata": {},
   "source": [
    "## Positional encoding\n",
    "\n",
    "Since this model doesn't contain any recurrence or convolution, positional encoding is added to give the model some information about the relative position of the words in the sentence. \n",
    "\n",
    "The positional encoding vector is added to the embedding vector. Embeddings represent a token in a d-dimensional space where tokens with similar meaning will be closer to each other. But the embeddings do not encode the relative position of words in a sentence. So after adding the positional encoding, words will be closer to each other based on the *similarity of their meaning and their position in the sentence*, in the d-dimensional space. The formula for calculating the positional encoding is as follows:\n",
    "\n",
    "$$\\Large{PE_{(pos, 2i)} = sin(pos / 10000^{2i / d_{model}})} $$\n",
    "$$\\Large{PE_{(pos, 2i+1)} = cos(pos / 10000^{2i / d_{model}})} $$"
   ]
  },
  {
   "cell_type": "code",
   "execution_count": 23,
   "metadata": {},
   "outputs": [],
   "source": [
    "def get_angles(pos, i, d_model):\n",
    "  angle_rates = 1 / np.power(10000, (2 * (i//2)) / np.float32(d_model))\n",
    "  return pos * angle_rates"
   ]
  },
  {
   "cell_type": "code",
   "execution_count": 24,
   "metadata": {},
   "outputs": [],
   "source": [
    "def positional_encoding(position, d_model):\n",
    "  angle_rads = get_angles(np.arange(position)[:, np.newaxis],\n",
    "                          np.arange(d_model)[np.newaxis, :],\n",
    "                          d_model)\n",
    "  \n",
    "  # apply sin to even indices in the array; 2i\n",
    "  angle_rads[:, 0::2] = np.sin(angle_rads[:, 0::2])\n",
    "  \n",
    "  # apply cos to odd indices in the array; 2i+1\n",
    "  angle_rads[:, 1::2] = np.cos(angle_rads[:, 1::2])\n",
    "    \n",
    "  pos_encoding = angle_rads[np.newaxis, ...]\n",
    "    \n",
    "  return tf.cast(pos_encoding, dtype=tf.float32)"
   ]
  },
  {
   "cell_type": "markdown",
   "metadata": {},
   "source": [
    "## Masking"
   ]
  },
  {
   "cell_type": "markdown",
   "metadata": {},
   "source": [
    "Mask all the pad tokens in the batch of sequence. It ensures that the model does not treat padding as the input. The mask indicates where pad value `0` is present: it outputs a `1` at those locations, and a `0` otherwise."
   ]
  },
  {
   "cell_type": "code",
   "execution_count": 25,
   "metadata": {},
   "outputs": [],
   "source": [
    "def create_padding_mask(seq):\n",
    "  seq = tf.cast(tf.math.equal(seq, 0), tf.float32)\n",
    "  \n",
    "  # add extra dimensions to add the padding\n",
    "  # to the attention logits.\n",
    "  return seq[:, tf.newaxis, tf.newaxis, :]  # (batch_size, 1, 1, seq_len)"
   ]
  },
  {
   "cell_type": "code",
   "execution_count": 26,
   "metadata": {},
   "outputs": [],
   "source": [
    "def create_look_ahead_mask(size):\n",
    "  mask = 1 - tf.linalg.band_part(tf.ones((size, size)), -1, 0)\n",
    "  return mask  # (seq_len, seq_len)"
   ]
  },
  {
   "cell_type": "markdown",
   "metadata": {},
   "source": [
    "# Scaled dot product attention"
   ]
  },
  {
   "cell_type": "markdown",
   "metadata": {},
   "source": [
    "The attention function used by the transformer takes three inputs: Q (query), K (key), V (value). The equation used to calculate the attention weights is:\n",
    "\n",
    "$$\\Large{Attention(Q, K, V) = softmax_k(\\frac{QK^T}{\\sqrt{d_k}}) V} $$\n",
    "\n",
    "The dot-product attention is scaled by a factor of square root of the depth. This is done because for large values of depth, the dot product grows large in magnitude pushing the softmax function where it has small gradients resulting in a very hard softmax. \n",
    "\n",
    "For example, consider that `Q` and `K` have a mean of 0 and variance of 1. Their matrix multiplication will have a mean of 0 and variance of `dk`. Hence, *square root of `dk`* is used for scaling (and not any other number) because the matmul of `Q` and `K` should have a mean of 0 and variance of 1, and you get a gentler softmax.\n",
    "\n",
    "The mask is multiplied with -1e9 (close to negative infinity). This is done because the mask is summed with the scaled matrix multiplication of Q and K and is applied immediately before a softmax. The goal is to zero out these cells, and large negative inputs to softmax are near zero in the output."
   ]
  },
  {
   "cell_type": "code",
   "execution_count": 27,
   "metadata": {},
   "outputs": [],
   "source": [
    "def scaled_dot_product_attention(q, k, v, mask):\n",
    "  \"\"\"Calculate the attention weights.\n",
    "  q, k, v must have matching leading dimensions.\n",
    "  k, v must have matching penultimate dimension, i.e.: seq_len_k = seq_len_v.\n",
    "  The mask has different shapes depending on its type(padding or look ahead) \n",
    "  but it must be broadcastable for addition.\n",
    "  \n",
    "  Args:\n",
    "    q: query shape == (..., seq_len_q, depth)\n",
    "    k: key shape == (..., seq_len_k, depth)\n",
    "    v: value shape == (..., seq_len_v, depth_v)\n",
    "    mask: Float tensor with shape broadcastable \n",
    "          to (..., seq_len_q, seq_len_k). Defaults to None.\n",
    "    \n",
    "  Returns:\n",
    "    output, attention_weights\n",
    "  \"\"\"\n",
    "\n",
    "  matmul_qk = tf.matmul(q, k, transpose_b=True)  # (..., seq_len_q, seq_len_k)\n",
    "  \n",
    "  # scale matmul_qk\n",
    "  dk = tf.cast(tf.shape(k)[-1], tf.float32)\n",
    "  scaled_attention_logits = matmul_qk / tf.math.sqrt(dk)\n",
    "\n",
    "  # add the mask to the scaled tensor.\n",
    "  if mask is not None:\n",
    "    scaled_attention_logits += (mask * -1e9)  \n",
    "\n",
    "  # softmax is normalized on the last axis (seq_len_k) so that the scores\n",
    "  # add up to 1.\n",
    "  attention_weights = tf.nn.softmax(scaled_attention_logits, axis=-1)  # (..., seq_len_q, seq_len_k)\n",
    "\n",
    "  output = tf.matmul(attention_weights, v)  # (..., seq_len_q, depth_v)\n",
    "\n",
    "  return output, attention_weights"
   ]
  },
  {
   "cell_type": "markdown",
   "metadata": {},
   "source": [
    "# Multi-head attention"
   ]
  },
  {
   "cell_type": "markdown",
   "metadata": {},
   "source": [
    "Multi-head attention consists of four parts:\n",
    "*    Linear layers and split into heads.\n",
    "*    Scaled dot-product attention.\n",
    "*    Concatenation of heads.\n",
    "*    Final linear layer."
   ]
  },
  {
   "cell_type": "markdown",
   "metadata": {},
   "source": [
    "Each multi-head attention block gets three inputs; Q (query), K (key), V (value). These are put through linear (Dense) layers and split up into multiple heads. \n",
    "\n",
    "The `scaled_dot_product_attention` defined above is applied to each head (broadcasted for efficiency). An appropriate mask must be used in the attention step.  The attention output for each head is then concatenated (using `tf.transpose`, and `tf.reshape`) and put through a final `Dense` layer.\n",
    "\n",
    "Instead of one single attention head, Q, K, and V are split into multiple heads because it allows the model to jointly attend to information at different positions from different representational spaces. After the split each head has a reduced dimensionality, so the total computation cost is the same as a single head attention with full dimensionality."
   ]
  },
  {
   "cell_type": "markdown",
   "metadata": {},
   "source": [
    "Create a `MultiHeadAttention` layer to try out. At each location in the sequence, `y`, the `MultiHeadAttention` runs all 8 attention heads across all other locations in the sequence, returning a new vector of the same length at each location."
   ]
  },
  {
   "cell_type": "code",
   "execution_count": 28,
   "metadata": {},
   "outputs": [],
   "source": [
    "class MultiHeadAttention(tf.keras.layers.Layer):\n",
    "  def __init__(self, d_model, num_heads):\n",
    "    super(MultiHeadAttention, self).__init__()\n",
    "    self.num_heads = num_heads\n",
    "    self.d_model = d_model\n",
    "    \n",
    "    assert d_model % self.num_heads == 0\n",
    "    \n",
    "    self.depth = d_model // self.num_heads\n",
    "    \n",
    "    self.wq = tf.keras.layers.Dense(d_model)\n",
    "    self.wk = tf.keras.layers.Dense(d_model)\n",
    "    self.wv = tf.keras.layers.Dense(d_model)\n",
    "    \n",
    "    self.dense = tf.keras.layers.Dense(d_model)\n",
    "        \n",
    "  def split_heads(self, x, batch_size):\n",
    "    \"\"\"Split the last dimension into (num_heads, depth).\n",
    "    Transpose the result such that the shape is (batch_size, num_heads, seq_len, depth)\n",
    "    \"\"\"\n",
    "    x = tf.reshape(x, (batch_size, -1, self.num_heads, self.depth))\n",
    "    return tf.transpose(x, perm=[0, 2, 1, 3])\n",
    "    \n",
    "  def call(self, v, k, q, mask):\n",
    "    batch_size = tf.shape(q)[0]\n",
    "    \n",
    "    q = self.wq(q)  # (batch_size, seq_len, d_model)\n",
    "    k = self.wk(k)  # (batch_size, seq_len, d_model)\n",
    "    v = self.wv(v)  # (batch_size, seq_len, d_model)\n",
    "    \n",
    "    q = self.split_heads(q, batch_size)  # (batch_size, num_heads, seq_len_q, depth)\n",
    "    k = self.split_heads(k, batch_size)  # (batch_size, num_heads, seq_len_k, depth)\n",
    "    v = self.split_heads(v, batch_size)  # (batch_size, num_heads, seq_len_v, depth)\n",
    "    \n",
    "    # scaled_attention.shape == (batch_size, num_heads, seq_len_q, depth)\n",
    "    # attention_weights.shape == (batch_size, num_heads, seq_len_q, seq_len_k)\n",
    "    scaled_attention, attention_weights = scaled_dot_product_attention(\n",
    "        q, k, v, mask)\n",
    "    \n",
    "    scaled_attention = tf.transpose(scaled_attention, perm=[0, 2, 1, 3])  # (batch_size, seq_len_q, num_heads, depth)\n",
    "\n",
    "    concat_attention = tf.reshape(scaled_attention, \n",
    "                                  (batch_size, -1, self.d_model))  # (batch_size, seq_len_q, d_model)\n",
    "\n",
    "    output = self.dense(concat_attention)  # (batch_size, seq_len_q, d_model)\n",
    "        \n",
    "    return output, attention_weights"
   ]
  },
  {
   "cell_type": "markdown",
   "metadata": {},
   "source": [
    "Create a `MultiHeadAttention` layer to try out. At each location in the sequence, `y`, the `MultiHeadAttention` runs all 8 attention heads across all other locations in the sequence, returning a new vector of the same length at each location."
   ]
  },
  {
   "cell_type": "markdown",
   "metadata": {},
   "source": [
    "# Point wise feed forward network\n",
    "\n",
    "Point wise feed forward network consists of two fully-connected layers with a ReLU activation in between."
   ]
  },
  {
   "cell_type": "code",
   "execution_count": 29,
   "metadata": {},
   "outputs": [],
   "source": [
    "def point_wise_feed_forward_network(d_model, dff):\n",
    "  return tf.keras.Sequential([\n",
    "      tf.keras.layers.Dense(dff, activation='relu'),  # (batch_size, seq_len, dff)\n",
    "      tf.keras.layers.Dense(d_model)  # (batch_size, seq_len, d_model)\n",
    "  ])"
   ]
  },
  {
   "cell_type": "markdown",
   "metadata": {},
   "source": [
    "# Encoder and decoder\n",
    "\n",
    "The transformer model follows the same general pattern as a standard sequence to sequence with attention model\n",
    "\n",
    "* The input sentence is passed through `N` encoder layers that generates an output for each word/token in the sequence.\n",
    "* The decoder attends on the encoder's output and its own input (self-attention) to predict the next word. "
   ]
  },
  {
   "cell_type": "markdown",
   "metadata": {},
   "source": [
    "## Encoder layer\n",
    "\n",
    "Each encoder layer consists of sublayers:\n",
    "\n",
    "1.   Multi-head attention (with padding mask) \n",
    "2.    Point wise feed forward networks. \n",
    "\n",
    "Each of these sublayers has a residual connection around it followed by a layer normalization. Residual connections help in avoiding the vanishing gradient problem in deep networks.\n",
    "\n",
    "The output of each sublayer is `LayerNorm(x + Sublayer(x))`. The normalization is done on the `d_model` (last) axis. There are N encoder layers in the transformer."
   ]
  },
  {
   "cell_type": "code",
   "execution_count": 30,
   "metadata": {},
   "outputs": [],
   "source": [
    "class EncoderLayer(tf.keras.layers.Layer):\n",
    "  def __init__(self, d_model, num_heads, dff, rate=0.1):\n",
    "    super(EncoderLayer, self).__init__()\n",
    "\n",
    "    self.mha = MultiHeadAttention(d_model, num_heads)\n",
    "    self.ffn = point_wise_feed_forward_network(d_model, dff)\n",
    "\n",
    "    self.layernorm1 = tf.keras.layers.LayerNormalization(epsilon=1e-6)\n",
    "    self.layernorm2 = tf.keras.layers.LayerNormalization(epsilon=1e-6)\n",
    "    \n",
    "    self.dropout1 = tf.keras.layers.Dropout(rate)\n",
    "    self.dropout2 = tf.keras.layers.Dropout(rate)\n",
    "    \n",
    "  def call(self, x, training, mask):\n",
    "\n",
    "    attn_output, _ = self.mha(x, x, x, mask)  # (batch_size, input_seq_len, d_model)\n",
    "    attn_output = self.dropout1(attn_output, training=training)\n",
    "    out1 = self.layernorm1(x + attn_output)  # (batch_size, input_seq_len, d_model)\n",
    "    \n",
    "    ffn_output = self.ffn(out1)  # (batch_size, input_seq_len, d_model)\n",
    "    ffn_output = self.dropout2(ffn_output, training=training)\n",
    "    out2 = self.layernorm2(out1 + ffn_output)  # (batch_size, input_seq_len, d_model)\n",
    "    \n",
    "    return out2"
   ]
  },
  {
   "cell_type": "markdown",
   "metadata": {},
   "source": [
    "## Decoder layer\n",
    "\n",
    "Each decoder layer consists of sublayers:\n",
    "\n",
    "1.   Masked multi-head attention (with look ahead mask and padding mask)\n",
    "2.   Multi-head attention (with padding mask). V (value) and K (key) receive the *encoder output* as inputs. Q (query) receives the *output from the masked multi-head attention sublayer.*\n",
    "3.   Point wise feed forward networks\n",
    "\n",
    "Each of these sublayers has a residual connection around it followed by a layer normalization. The output of each sublayer is `LayerNorm(x + Sublayer(x))`. The normalization is done on the `d_model` (last) axis.\n",
    "\n",
    "There are N decoder layers in the transformer.\n",
    "\n",
    "As Q receives the output from decoder's first attention block, and K receives the encoder output, the attention weights represent the importance given to the decoder's input based on the encoder's output. In other words, the decoder predicts the next word by looking at the encoder output and self-attending to its own output. See the demonstration above in the scaled dot product attention section."
   ]
  },
  {
   "cell_type": "code",
   "execution_count": 31,
   "metadata": {},
   "outputs": [],
   "source": [
    "class DecoderLayer(tf.keras.layers.Layer):\n",
    "  def __init__(self, d_model, num_heads, dff, rate=0.1):\n",
    "    super(DecoderLayer, self).__init__()\n",
    "\n",
    "    self.mha1 = MultiHeadAttention(d_model, num_heads)\n",
    "    self.mha2 = MultiHeadAttention(d_model, num_heads)\n",
    "\n",
    "    self.ffn = point_wise_feed_forward_network(d_model, dff)\n",
    " \n",
    "    self.layernorm1 = tf.keras.layers.LayerNormalization(epsilon=1e-6)\n",
    "    self.layernorm2 = tf.keras.layers.LayerNormalization(epsilon=1e-6)\n",
    "    self.layernorm3 = tf.keras.layers.LayerNormalization(epsilon=1e-6)\n",
    "    \n",
    "    self.dropout1 = tf.keras.layers.Dropout(rate)\n",
    "    self.dropout2 = tf.keras.layers.Dropout(rate)\n",
    "    self.dropout3 = tf.keras.layers.Dropout(rate)\n",
    "    \n",
    "    \n",
    "  def call(self, x, enc_output, training, \n",
    "           look_ahead_mask, padding_mask):\n",
    "    # enc_output.shape == (batch_size, input_seq_len, d_model)\n",
    "\n",
    "    attn1, attn_weights_block1 = self.mha1(x, x, x, look_ahead_mask)  # (batch_size, target_seq_len, d_model)\n",
    "    attn1 = self.dropout1(attn1, training=training)\n",
    "    out1 = self.layernorm1(attn1 + x)\n",
    "    \n",
    "    attn2, attn_weights_block2 = self.mha2(\n",
    "        enc_output, enc_output, out1, padding_mask)  # (batch_size, target_seq_len, d_model)\n",
    "    attn2 = self.dropout2(attn2, training=training)\n",
    "    out2 = self.layernorm2(attn2 + out1)  # (batch_size, target_seq_len, d_model)\n",
    "    \n",
    "    ffn_output = self.ffn(out2)  # (batch_size, target_seq_len, d_model)\n",
    "    ffn_output = self.dropout3(ffn_output, training=training)\n",
    "    out3 = self.layernorm3(ffn_output + out2)  # (batch_size, target_seq_len, d_model)\n",
    "    \n",
    "    return out3, attn_weights_block1, attn_weights_block2"
   ]
  },
  {
   "cell_type": "markdown",
   "metadata": {},
   "source": [
    "# Encoder\n",
    "\n",
    "The `Encoder` consists of:\n",
    "1.   Input Embedding\n",
    "2.   Positional Encoding\n",
    "3.   N encoder layers\n",
    "\n",
    "The input is put through an embedding which is summed with the positional encoding. The output of this summation is the input to the encoder layers. The output of the encoder is the input to the decoder."
   ]
  },
  {
   "cell_type": "code",
   "execution_count": 32,
   "metadata": {},
   "outputs": [],
   "source": [
    "class Encoder(tf.keras.layers.Layer):\n",
    "  def __init__(self, num_layers, d_model, num_heads, dff, input_vocab_size,\n",
    "               maximum_position_encoding, rate=0.1):\n",
    "    super(Encoder, self).__init__()\n",
    "\n",
    "    self.d_model = d_model\n",
    "    self.num_layers = num_layers\n",
    "    \n",
    "    self.embedding = tf.keras.layers.Embedding(input_vocab_size, d_model)\n",
    "    self.pos_encoding = positional_encoding(maximum_position_encoding, \n",
    "                                            self.d_model)\n",
    "    \n",
    "    \n",
    "    self.enc_layers = [EncoderLayer(d_model, num_heads, dff, rate) \n",
    "                       for _ in range(num_layers)]\n",
    "  \n",
    "    self.dropout = tf.keras.layers.Dropout(rate)\n",
    "    \n",
    "  def call(self, x, training, mask):\n",
    "\n",
    "    seq_len = tf.shape(x)[1]\n",
    "    \n",
    "    # adding embedding and position encoding.\n",
    "    x = self.embedding(x)  # (batch_size, input_seq_len, d_model)\n",
    "    x *= tf.math.sqrt(tf.cast(self.d_model, tf.float32))\n",
    "    x += self.pos_encoding[:, :seq_len, :]\n",
    "\n",
    "    x = self.dropout(x, training=training)\n",
    "    \n",
    "    for i in range(self.num_layers):\n",
    "      x = self.enc_layers[i](x, training, mask)\n",
    "    \n",
    "    return x  # (batch_size, input_seq_len, d_model)"
   ]
  },
  {
   "cell_type": "markdown",
   "metadata": {},
   "source": [
    "# Decoder\n",
    "\n",
    "The `Decoder` consists of:\n",
    "1.   Output Embedding\n",
    "2.   Positional Encoding\n",
    "3.   N decoder layers\n",
    "\n",
    "The target is put through an embedding which is summed with the positional encoding. The output of this summation is the input to the decoder layers. The output of the decoder is the input to the final linear layer."
   ]
  },
  {
   "cell_type": "code",
   "execution_count": 33,
   "metadata": {},
   "outputs": [],
   "source": [
    "class Decoder(tf.keras.layers.Layer):\n",
    "  def __init__(self, num_layers, d_model, num_heads, dff, target_vocab_size,\n",
    "               maximum_position_encoding, rate=0.1):\n",
    "    super(Decoder, self).__init__()\n",
    "\n",
    "    self.d_model = d_model\n",
    "    self.num_layers = num_layers\n",
    "    \n",
    "    self.embedding = tf.keras.layers.Embedding(target_vocab_size, d_model)\n",
    "    self.pos_encoding = positional_encoding(maximum_position_encoding, d_model)\n",
    "    \n",
    "    self.dec_layers = [DecoderLayer(d_model, num_heads, dff, rate) \n",
    "                       for _ in range(num_layers)]\n",
    "    self.dropout = tf.keras.layers.Dropout(rate)\n",
    "    \n",
    "  def call(self, x, enc_output, training, \n",
    "           look_ahead_mask, padding_mask):\n",
    "\n",
    "    seq_len = tf.shape(x)[1]\n",
    "    attention_weights = {}\n",
    "    \n",
    "    x = self.embedding(x)  # (batch_size, target_seq_len, d_model)\n",
    "    x *= tf.math.sqrt(tf.cast(self.d_model, tf.float32))\n",
    "    x += self.pos_encoding[:, :seq_len, :]\n",
    "    \n",
    "    x = self.dropout(x, training=training)\n",
    "\n",
    "    for i in range(self.num_layers):\n",
    "      x, block1, block2 = self.dec_layers[i](x, enc_output, training,\n",
    "                                             look_ahead_mask, padding_mask)\n",
    "      \n",
    "      attention_weights['decoder_layer{}_block1'.format(i+1)] = block1\n",
    "      attention_weights['decoder_layer{}_block2'.format(i+1)] = block2\n",
    "    \n",
    "    # x.shape == (batch_size, target_seq_len, d_model)\n",
    "    return x, attention_weights"
   ]
  },
  {
   "cell_type": "markdown",
   "metadata": {},
   "source": [
    "# Transformer Construction\n",
    "\n",
    "Transformer consists of the encoder, decoder and a final linear layer. The output of the decoder is the input to the linear layer and its output is returned."
   ]
  },
  {
   "cell_type": "code",
   "execution_count": 34,
   "metadata": {},
   "outputs": [],
   "source": [
    "class Transformer(tf.keras.Model):\n",
    "  def __init__(self, num_layers, d_model, num_heads, dff, input_vocab_size, \n",
    "               target_vocab_size, pe_input, pe_target, rate=0.1):\n",
    "    super(Transformer, self).__init__()\n",
    "\n",
    "    self.encoder = Encoder(num_layers, d_model, num_heads, dff, \n",
    "                           input_vocab_size, pe_input, rate)\n",
    "\n",
    "    self.decoder = Decoder(num_layers, d_model, num_heads, dff, \n",
    "                           target_vocab_size, pe_target, rate)\n",
    "\n",
    "    self.final_layer = tf.keras.layers.Dense(target_vocab_size)\n",
    "    \n",
    "  def call(self, inp, tar, training, enc_padding_mask, \n",
    "           look_ahead_mask, dec_padding_mask):\n",
    "\n",
    "    enc_output = self.encoder(inp, training, enc_padding_mask)  # (batch_size, inp_seq_len, d_model)\n",
    "    \n",
    "    # dec_output.shape == (batch_size, tar_seq_len, d_model)\n",
    "    dec_output, attention_weights = self.decoder(\n",
    "        tar, enc_output, training, look_ahead_mask, dec_padding_mask)\n",
    "    \n",
    "    final_output = self.final_layer(dec_output)  # (batch_size, tar_seq_len, target_vocab_size)\n",
    "    \n",
    "    return final_output, attention_weights"
   ]
  },
  {
   "cell_type": "markdown",
   "metadata": {},
   "source": [
    "# Hyperparameter Setting"
   ]
  },
  {
   "cell_type": "code",
   "execution_count": 35,
   "metadata": {},
   "outputs": [],
   "source": [
    "num_layers = 6\n",
    "d_model = 128\n",
    "dff = 512\n",
    "num_heads = 8\n",
    "\n",
    "input_vocab_size = tokenizer_pep.vocab_size + 2\n",
    "target_vocab_size = tokenizer_ion.vocab_size + 2\n",
    "dropout_rate = 0.1\n",
    "MAX_LENGTH = 80\n",
    "\n",
    "# Optimizer Settings\n",
    "beta1 = 0.85\n",
    "beta2 = 0.95\n",
    "alpha = 1e-7"
   ]
  },
  {
   "cell_type": "markdown",
   "metadata": {},
   "source": [
    "# Optimizer\n",
    "\n",
    "Use the Adam optimizer with a custom learning rate scheduler according to the formula in the [paper](https://arxiv.org/abs/1706.03762).\n",
    "\n",
    "$$\\Large{lrate = d_{model}^{-0.5} * min(step{\\_}num^{-0.5}, step{\\_}num * warmup{\\_}steps^{-1.5})}$$\n"
   ]
  },
  {
   "cell_type": "code",
   "execution_count": 36,
   "metadata": {},
   "outputs": [],
   "source": [
    "class CustomSchedule(tf.keras.optimizers.schedules.LearningRateSchedule):\n",
    "  def __init__(self, d_model, warmup_steps=4000):\n",
    "    super(CustomSchedule, self).__init__()\n",
    "    \n",
    "    self.d_model = d_model\n",
    "    self.d_model = tf.cast(self.d_model, tf.float32)\n",
    "\n",
    "    self.warmup_steps = warmup_steps\n",
    "    \n",
    "  def __call__(self, step):\n",
    "    arg1 = tf.math.rsqrt(step)\n",
    "    arg2 = step * (self.warmup_steps ** -1.5)\n",
    "    \n",
    "    return tf.math.rsqrt(self.d_model) * tf.math.minimum(arg1, arg2)"
   ]
  },
  {
   "cell_type": "code",
   "execution_count": 37,
   "metadata": {},
   "outputs": [],
   "source": [
    "learning_rate = CustomSchedule(d_model)\n",
    "\n",
    "optimizer = tf.keras.optimizers.Adam(learning_rate, beta_1=beta1, beta_2=beta2, \n",
    "                                     epsilon=alpha)"
   ]
  },
  {
   "cell_type": "markdown",
   "metadata": {},
   "source": [
    "# Loss Function\n",
    "\n",
    "Since the target sequences are padded, it is important to apply a padding mask when calculating the loss."
   ]
  },
  {
   "cell_type": "code",
   "execution_count": 38,
   "metadata": {},
   "outputs": [],
   "source": [
    "loss_object = tf.keras.losses.SparseCategoricalCrossentropy(\n",
    "    from_logits=True, reduction='none')"
   ]
  },
  {
   "cell_type": "code",
   "execution_count": 39,
   "metadata": {},
   "outputs": [],
   "source": [
    "def loss_function(real, pred):\n",
    "  mask = tf.math.logical_not(tf.math.equal(real, 0))\n",
    "  loss_ = loss_object(real, pred)\n",
    "\n",
    "  mask = tf.cast(mask, dtype=loss_.dtype)\n",
    "  loss_ *= mask\n",
    "  \n",
    "  return tf.reduce_mean(loss_)"
   ]
  },
  {
   "cell_type": "code",
   "execution_count": 40,
   "metadata": {},
   "outputs": [],
   "source": [
    "train_loss = tf.keras.metrics.Mean(name='train_loss')\n",
    "train_accuracy = tf.keras.metrics.SparseCategoricalAccuracy(\n",
    "    name='train_accuracy')\n",
    "\n",
    "train_loss = tf.keras.metrics.Mean(name='test_loss')\n",
    "train_accuracy = tf.keras.metrics.SparseCategoricalAccuracy(\n",
    "    name='test_accuracy')"
   ]
  },
  {
   "cell_type": "markdown",
   "metadata": {},
   "source": [
    "# Training"
   ]
  },
  {
   "cell_type": "code",
   "execution_count": 41,
   "metadata": {},
   "outputs": [],
   "source": [
    "transformer = Transformer(num_layers, d_model, num_heads, dff,\n",
    "                          input_vocab_size, target_vocab_size, \n",
    "                          pe_input=input_vocab_size, \n",
    "                          pe_target=target_vocab_size,\n",
    "                          rate=dropout_rate)"
   ]
  },
  {
   "cell_type": "code",
   "execution_count": 42,
   "metadata": {},
   "outputs": [],
   "source": [
    "def create_masks(inp, tar):\n",
    "  # Encoder padding mask\n",
    "  enc_padding_mask = create_padding_mask(inp)\n",
    "  \n",
    "  # Used in the 2nd attention block in the decoder.\n",
    "  # This padding mask is used to mask the encoder outputs.\n",
    "  dec_padding_mask = create_padding_mask(inp)\n",
    "  \n",
    "  # Used in the 1st attention block in the decoder.\n",
    "  # It is used to pad and mask future tokens in the input received by \n",
    "  # the decoder.\n",
    "  look_ahead_mask = create_look_ahead_mask(tf.shape(tar)[1])\n",
    "  dec_target_padding_mask = create_padding_mask(tar)\n",
    "  combined_mask = tf.maximum(dec_target_padding_mask, look_ahead_mask)\n",
    "  \n",
    "  return enc_padding_mask, combined_mask, dec_padding_mask"
   ]
  },
  {
   "cell_type": "markdown",
   "metadata": {},
   "source": [
    "Create the checkpoint path and the checkpoint manager. This will be used to save checkpoints every `5` epochs."
   ]
  },
  {
   "cell_type": "code",
   "execution_count": 43,
   "metadata": {},
   "outputs": [
    {
     "name": "stdout",
     "output_type": "stream",
     "text": [
      "Latest checkpoint restored!!\n"
     ]
    }
   ],
   "source": [
    "checkpoint_path = \"./checkpoints/train\"\n",
    "\n",
    "ckpt = tf.train.Checkpoint(transformer=transformer,\n",
    "                           optimizer=optimizer)\n",
    "\n",
    "ckpt_manager = tf.train.CheckpointManager(ckpt, checkpoint_path, max_to_keep=5)\n",
    "\n",
    "# if a checkpoint exists, restore the latest checkpoint.\n",
    "if ckpt_manager.latest_checkpoint:\n",
    "  ckpt.restore(ckpt_manager.latest_checkpoint)\n",
    "  print ('Latest checkpoint restored!!')"
   ]
  },
  {
   "cell_type": "markdown",
   "metadata": {},
   "source": [
    "The target is divided into tar_inp and tar_real. tar_inp is passed as an input to the decoder. `tar_real` is that same input shifted by 1: At each location in `tar_input`, `tar_real` contains the next token that should be predicted.\n",
    "\n",
    "For example, `peptide sequence` = \"SOS  P E P T I D E 24.4 EOS\"\n",
    "\n",
    "`tar_inp` =  \"SOS 2 P E P T I D E 24.4\"\n",
    "\n",
    "`tar_real` = \"2 P E P T I D E 24.4 EOS\"\n",
    "\n",
    "The transformer is an auto-regressive model: it makes predictions one part at a time, and uses its output so far to decide what to do next. \n",
    "As the transformer predicts each word, *self-attention* allows it to look at the previous words in the input sequence to better predict the next word.\n",
    "\n",
    "To prevent the model from peaking at the expected output the model uses a look-ahead mask."
   ]
  },
  {
   "cell_type": "code",
   "execution_count": 44,
   "metadata": {},
   "outputs": [],
   "source": [
    "EPOCHS = 10"
   ]
  },
  {
   "cell_type": "code",
   "execution_count": 45,
   "metadata": {},
   "outputs": [],
   "source": [
    "# The @tf.function trace-compiles train_step into a TF graph for faster\n",
    "# execution. The function specializes to the precise shape of the argument\n",
    "# tensors. To avoid re-tracing due to the variable sequence lengths or variable\n",
    "# batch sizes (the last batch is smaller), use input_signature to specify\n",
    "# more generic shapes.\n",
    "\n",
    "train_step_signature = [\n",
    "    tf.TensorSpec(shape=(None, None), dtype=tf.int64),\n",
    "    tf.TensorSpec(shape=(None, None), dtype=tf.int64),\n",
    "]\n",
    "\n",
    "@tf.function(input_signature=train_step_signature)\n",
    "def train_step(inp, tar):\n",
    "  tar_inp = tar[:, :-1]\n",
    "  tar_real = tar[:, 1:]\n",
    "  \n",
    "  enc_padding_mask, combined_mask, dec_padding_mask = create_masks(inp, tar_inp)\n",
    "  \n",
    "  with tf.GradientTape() as tape:\n",
    "    predictions, _ = transformer(inp, tar_inp, \n",
    "                                 True,\n",
    "                                 enc_padding_mask, \n",
    "                                 combined_mask, \n",
    "                                 dec_padding_mask)\n",
    "    loss = loss_function(tar_real, predictions)\n",
    "\n",
    "  gradients = tape.gradient(loss, transformer.trainable_variables)    \n",
    "  optimizer.apply_gradients(zip(gradients, transformer.trainable_variables))\n",
    "  \n",
    "  train_loss(loss)\n",
    "  train_accuracy(tar_real, predictions)"
   ]
  },
  {
   "cell_type": "markdown",
   "metadata": {},
   "source": [
    "### Test step"
   ]
  },
  {
   "cell_type": "code",
   "execution_count": 50,
   "metadata": {},
   "outputs": [],
   "source": [
    "def test_step(inp, tar):\n",
    "  tar_inp = tar[:, :-1]\n",
    "  tar_real = tar[:, 1:]\n",
    "  \n",
    "  enc_padding_mask, combined_mask, dec_padding_mask = create_masks(inp, tar_inp)\n",
    "  \n",
    "  with tf.GradientTape() as tape:\n",
    "    predictions, _ = transformer(inp, tar_inp, \n",
    "                                 True,\n",
    "                                 enc_padding_mask, \n",
    "                                 combined_mask, \n",
    "                                 dec_padding_mask)\n",
    "    loss = loss_function(tar_real, predictions)\n",
    "\n",
    "  gradients = tape.gradient(loss, transformer.trainable_variables)    \n",
    "  optimizer.apply_gradients(zip(gradients, transformer.trainable_variables))\n",
    "  \n",
    "  test_loss(loss)\n",
    "  test_accuracy(tar_real, predictions)"
   ]
  },
  {
   "cell_type": "markdown",
   "metadata": {},
   "source": [
    "Peptide Sequence is used as the input language and Ion Sequence is the target language."
   ]
  },
  {
   "cell_type": "code",
   "execution_count": 51,
   "metadata": {},
   "outputs": [
    {
     "name": "stdout",
     "output_type": "stream",
     "text": [
      "0\n"
     ]
    },
    {
     "ename": "ValueError",
     "evalue": "in converted code:\n\n    <ipython-input-45-df82f9358806>:20 train_step  *\n        predictions, _ = transformer(inp, tar_inp,\n    /usr/local/lib/python3.6/dist-packages/tensorflow_core/python/keras/engine/base_layer.py:847 __call__\n        outputs = call_fn(cast_inputs, *args, **kwargs)\n    <ipython-input-34-86245da83a7c>:17 call  *\n        enc_output = self.encoder(inp, training, enc_padding_mask)  # (batch_size, inp_seq_len, d_model)\n    /usr/local/lib/python3.6/dist-packages/tensorflow_core/python/keras/engine/base_layer.py:847 __call__\n        outputs = call_fn(cast_inputs, *args, **kwargs)\n    <ipython-input-32-749528ce0422>:24 call  *\n        x = self.embedding(x)  # (batch_size, input_seq_len, d_model)\n    /usr/local/lib/python3.6/dist-packages/tensorflow_core/python/keras/engine/base_layer.py:817 __call__\n        self._maybe_build(inputs)\n    /usr/local/lib/python3.6/dist-packages/tensorflow_core/python/keras/engine/base_layer.py:2141 _maybe_build\n        self.build(input_shapes)\n    /usr/local/lib/python3.6/dist-packages/tensorflow_core/python/keras/utils/tf_utils.py:306 wrapper\n        output_shape = fn(instance, input_shape)\n    /usr/local/lib/python3.6/dist-packages/tensorflow_core/python/keras/layers/embeddings.py:146 build\n        constraint=self.embeddings_constraint)\n    /usr/local/lib/python3.6/dist-packages/tensorflow_core/python/keras/engine/base_layer.py:522 add_weight\n        aggregation=aggregation)\n    /usr/local/lib/python3.6/dist-packages/tensorflow_core/python/training/tracking/base.py:725 _add_variable_with_custom_getter\n        name=name, shape=shape)\n    /usr/local/lib/python3.6/dist-packages/tensorflow_core/python/training/tracking/base.py:792 _preload_simple_restoration\n        checkpoint_position=checkpoint_position, shape=shape)\n    /usr/local/lib/python3.6/dist-packages/tensorflow_core/python/training/tracking/base.py:75 __init__\n        self.wrapped_value.set_shape(shape)\n    /usr/local/lib/python3.6/dist-packages/tensorflow_core/python/framework/ops.py:1074 set_shape\n        (self.shape, shape))\n\n    ValueError: Tensor's shape (361, 128) is not compatible with supplied shape (360, 128)\n",
     "output_type": "error",
     "traceback": [
      "\u001b[0;31m---------------------------------------------------------------------------\u001b[0m",
      "\u001b[0;31mValueError\u001b[0m                                Traceback (most recent call last)",
      "\u001b[0;32m<ipython-input-51-c482f860612d>\u001b[0m in \u001b[0;36m<module>\u001b[0;34m\u001b[0m\n\u001b[1;32m      8\u001b[0m   \u001b[0;32mfor\u001b[0m \u001b[0;34m(\u001b[0m\u001b[0mbatch\u001b[0m\u001b[0;34m,\u001b[0m \u001b[0;34m(\u001b[0m\u001b[0minp\u001b[0m\u001b[0;34m,\u001b[0m \u001b[0mtar\u001b[0m\u001b[0;34m)\u001b[0m\u001b[0;34m)\u001b[0m \u001b[0;32min\u001b[0m \u001b[0menumerate\u001b[0m\u001b[0;34m(\u001b[0m\u001b[0mtrain_dataset\u001b[0m\u001b[0;34m)\u001b[0m\u001b[0;34m:\u001b[0m\u001b[0;34m\u001b[0m\u001b[0;34m\u001b[0m\u001b[0m\n\u001b[1;32m      9\u001b[0m     \u001b[0mprint\u001b[0m\u001b[0;34m(\u001b[0m\u001b[0mcount\u001b[0m\u001b[0;34m)\u001b[0m\u001b[0;34m\u001b[0m\u001b[0;34m\u001b[0m\u001b[0m\n\u001b[0;32m---> 10\u001b[0;31m     \u001b[0mtrain_step\u001b[0m\u001b[0;34m(\u001b[0m\u001b[0minp\u001b[0m\u001b[0;34m,\u001b[0m \u001b[0mtar\u001b[0m\u001b[0;34m)\u001b[0m\u001b[0;34m\u001b[0m\u001b[0;34m\u001b[0m\u001b[0m\n\u001b[0m\u001b[1;32m     11\u001b[0m     \u001b[0mcount\u001b[0m\u001b[0;34m=\u001b[0m\u001b[0mcount\u001b[0m\u001b[0;34m+\u001b[0m\u001b[0;36m1\u001b[0m\u001b[0;34m\u001b[0m\u001b[0;34m\u001b[0m\u001b[0m\n\u001b[1;32m     12\u001b[0m \u001b[0;34m\u001b[0m\u001b[0m\n",
      "\u001b[0;32m/usr/local/lib/python3.6/dist-packages/tensorflow_core/python/eager/def_function.py\u001b[0m in \u001b[0;36m__call__\u001b[0;34m(self, *args, **kwds)\u001b[0m\n\u001b[1;32m    455\u001b[0m \u001b[0;34m\u001b[0m\u001b[0m\n\u001b[1;32m    456\u001b[0m     \u001b[0mtracing_count\u001b[0m \u001b[0;34m=\u001b[0m \u001b[0mself\u001b[0m\u001b[0;34m.\u001b[0m\u001b[0m_get_tracing_count\u001b[0m\u001b[0;34m(\u001b[0m\u001b[0;34m)\u001b[0m\u001b[0;34m\u001b[0m\u001b[0;34m\u001b[0m\u001b[0m\n\u001b[0;32m--> 457\u001b[0;31m     \u001b[0mresult\u001b[0m \u001b[0;34m=\u001b[0m \u001b[0mself\u001b[0m\u001b[0;34m.\u001b[0m\u001b[0m_call\u001b[0m\u001b[0;34m(\u001b[0m\u001b[0;34m*\u001b[0m\u001b[0margs\u001b[0m\u001b[0;34m,\u001b[0m \u001b[0;34m**\u001b[0m\u001b[0mkwds\u001b[0m\u001b[0;34m)\u001b[0m\u001b[0;34m\u001b[0m\u001b[0;34m\u001b[0m\u001b[0m\n\u001b[0m\u001b[1;32m    458\u001b[0m     \u001b[0;32mif\u001b[0m \u001b[0mtracing_count\u001b[0m \u001b[0;34m==\u001b[0m \u001b[0mself\u001b[0m\u001b[0;34m.\u001b[0m\u001b[0m_get_tracing_count\u001b[0m\u001b[0;34m(\u001b[0m\u001b[0;34m)\u001b[0m\u001b[0;34m:\u001b[0m\u001b[0;34m\u001b[0m\u001b[0;34m\u001b[0m\u001b[0m\n\u001b[1;32m    459\u001b[0m       \u001b[0mself\u001b[0m\u001b[0;34m.\u001b[0m\u001b[0m_call_counter\u001b[0m\u001b[0;34m.\u001b[0m\u001b[0mcalled_without_tracing\u001b[0m\u001b[0;34m(\u001b[0m\u001b[0;34m)\u001b[0m\u001b[0;34m\u001b[0m\u001b[0;34m\u001b[0m\u001b[0m\n",
      "\u001b[0;32m/usr/local/lib/python3.6/dist-packages/tensorflow_core/python/eager/def_function.py\u001b[0m in \u001b[0;36m_call\u001b[0;34m(self, *args, **kwds)\u001b[0m\n\u001b[1;32m    492\u001b[0m       \u001b[0;31m# In this case we have not created variables on the first call. So we can\u001b[0m\u001b[0;34m\u001b[0m\u001b[0;34m\u001b[0m\u001b[0;34m\u001b[0m\u001b[0m\n\u001b[1;32m    493\u001b[0m       \u001b[0;31m# run the first trace but we should fail if variables are created.\u001b[0m\u001b[0;34m\u001b[0m\u001b[0;34m\u001b[0m\u001b[0;34m\u001b[0m\u001b[0m\n\u001b[0;32m--> 494\u001b[0;31m       \u001b[0mresults\u001b[0m \u001b[0;34m=\u001b[0m \u001b[0mself\u001b[0m\u001b[0;34m.\u001b[0m\u001b[0m_stateful_fn\u001b[0m\u001b[0;34m(\u001b[0m\u001b[0;34m*\u001b[0m\u001b[0margs\u001b[0m\u001b[0;34m,\u001b[0m \u001b[0;34m**\u001b[0m\u001b[0mkwds\u001b[0m\u001b[0;34m)\u001b[0m\u001b[0;34m\u001b[0m\u001b[0;34m\u001b[0m\u001b[0m\n\u001b[0m\u001b[1;32m    495\u001b[0m       \u001b[0;32mif\u001b[0m \u001b[0mself\u001b[0m\u001b[0;34m.\u001b[0m\u001b[0m_created_variables\u001b[0m\u001b[0;34m:\u001b[0m\u001b[0;34m\u001b[0m\u001b[0;34m\u001b[0m\u001b[0m\n\u001b[1;32m    496\u001b[0m         raise ValueError(\"Creating variables on a non-first call to a function\"\n",
      "\u001b[0;32m/usr/local/lib/python3.6/dist-packages/tensorflow_core/python/eager/function.py\u001b[0m in \u001b[0;36m__call__\u001b[0;34m(self, *args, **kwargs)\u001b[0m\n\u001b[1;32m   1820\u001b[0m   \u001b[0;32mdef\u001b[0m \u001b[0m__call__\u001b[0m\u001b[0;34m(\u001b[0m\u001b[0mself\u001b[0m\u001b[0;34m,\u001b[0m \u001b[0;34m*\u001b[0m\u001b[0margs\u001b[0m\u001b[0;34m,\u001b[0m \u001b[0;34m**\u001b[0m\u001b[0mkwargs\u001b[0m\u001b[0;34m)\u001b[0m\u001b[0;34m:\u001b[0m\u001b[0;34m\u001b[0m\u001b[0;34m\u001b[0m\u001b[0m\n\u001b[1;32m   1821\u001b[0m     \u001b[0;34m\"\"\"Calls a graph function specialized to the inputs.\"\"\"\u001b[0m\u001b[0;34m\u001b[0m\u001b[0;34m\u001b[0m\u001b[0m\n\u001b[0;32m-> 1822\u001b[0;31m     \u001b[0mgraph_function\u001b[0m\u001b[0;34m,\u001b[0m \u001b[0margs\u001b[0m\u001b[0;34m,\u001b[0m \u001b[0mkwargs\u001b[0m \u001b[0;34m=\u001b[0m \u001b[0mself\u001b[0m\u001b[0;34m.\u001b[0m\u001b[0m_maybe_define_function\u001b[0m\u001b[0;34m(\u001b[0m\u001b[0margs\u001b[0m\u001b[0;34m,\u001b[0m \u001b[0mkwargs\u001b[0m\u001b[0;34m)\u001b[0m\u001b[0;34m\u001b[0m\u001b[0;34m\u001b[0m\u001b[0m\n\u001b[0m\u001b[1;32m   1823\u001b[0m     \u001b[0;32mreturn\u001b[0m \u001b[0mgraph_function\u001b[0m\u001b[0;34m.\u001b[0m\u001b[0m_filtered_call\u001b[0m\u001b[0;34m(\u001b[0m\u001b[0margs\u001b[0m\u001b[0;34m,\u001b[0m \u001b[0mkwargs\u001b[0m\u001b[0;34m)\u001b[0m  \u001b[0;31m# pylint: disable=protected-access\u001b[0m\u001b[0;34m\u001b[0m\u001b[0;34m\u001b[0m\u001b[0m\n\u001b[1;32m   1824\u001b[0m \u001b[0;34m\u001b[0m\u001b[0m\n",
      "\u001b[0;32m/usr/local/lib/python3.6/dist-packages/tensorflow_core/python/eager/function.py\u001b[0m in \u001b[0;36m_maybe_define_function\u001b[0;34m(self, args, kwargs)\u001b[0m\n\u001b[1;32m   2148\u001b[0m         \u001b[0mgraph_function\u001b[0m \u001b[0;34m=\u001b[0m \u001b[0mself\u001b[0m\u001b[0;34m.\u001b[0m\u001b[0m_function_cache\u001b[0m\u001b[0;34m.\u001b[0m\u001b[0mprimary\u001b[0m\u001b[0;34m.\u001b[0m\u001b[0mget\u001b[0m\u001b[0;34m(\u001b[0m\u001b[0mcache_key\u001b[0m\u001b[0;34m,\u001b[0m \u001b[0;32mNone\u001b[0m\u001b[0;34m)\u001b[0m\u001b[0;34m\u001b[0m\u001b[0;34m\u001b[0m\u001b[0m\n\u001b[1;32m   2149\u001b[0m         \u001b[0;32mif\u001b[0m \u001b[0mgraph_function\u001b[0m \u001b[0;32mis\u001b[0m \u001b[0;32mNone\u001b[0m\u001b[0;34m:\u001b[0m\u001b[0;34m\u001b[0m\u001b[0;34m\u001b[0m\u001b[0m\n\u001b[0;32m-> 2150\u001b[0;31m           \u001b[0mgraph_function\u001b[0m \u001b[0;34m=\u001b[0m \u001b[0mself\u001b[0m\u001b[0;34m.\u001b[0m\u001b[0m_create_graph_function\u001b[0m\u001b[0;34m(\u001b[0m\u001b[0margs\u001b[0m\u001b[0;34m,\u001b[0m \u001b[0mkwargs\u001b[0m\u001b[0;34m)\u001b[0m\u001b[0;34m\u001b[0m\u001b[0;34m\u001b[0m\u001b[0m\n\u001b[0m\u001b[1;32m   2151\u001b[0m           \u001b[0mself\u001b[0m\u001b[0;34m.\u001b[0m\u001b[0m_function_cache\u001b[0m\u001b[0;34m.\u001b[0m\u001b[0mprimary\u001b[0m\u001b[0;34m[\u001b[0m\u001b[0mcache_key\u001b[0m\u001b[0;34m]\u001b[0m \u001b[0;34m=\u001b[0m \u001b[0mgraph_function\u001b[0m\u001b[0;34m\u001b[0m\u001b[0;34m\u001b[0m\u001b[0m\n\u001b[1;32m   2152\u001b[0m         \u001b[0;32mreturn\u001b[0m \u001b[0mgraph_function\u001b[0m\u001b[0;34m,\u001b[0m \u001b[0margs\u001b[0m\u001b[0;34m,\u001b[0m \u001b[0mkwargs\u001b[0m\u001b[0;34m\u001b[0m\u001b[0;34m\u001b[0m\u001b[0m\n",
      "\u001b[0;32m/usr/local/lib/python3.6/dist-packages/tensorflow_core/python/eager/function.py\u001b[0m in \u001b[0;36m_create_graph_function\u001b[0;34m(self, args, kwargs, override_flat_arg_shapes)\u001b[0m\n\u001b[1;32m   2039\u001b[0m             \u001b[0marg_names\u001b[0m\u001b[0;34m=\u001b[0m\u001b[0marg_names\u001b[0m\u001b[0;34m,\u001b[0m\u001b[0;34m\u001b[0m\u001b[0;34m\u001b[0m\u001b[0m\n\u001b[1;32m   2040\u001b[0m             \u001b[0moverride_flat_arg_shapes\u001b[0m\u001b[0;34m=\u001b[0m\u001b[0moverride_flat_arg_shapes\u001b[0m\u001b[0;34m,\u001b[0m\u001b[0;34m\u001b[0m\u001b[0;34m\u001b[0m\u001b[0m\n\u001b[0;32m-> 2041\u001b[0;31m             capture_by_value=self._capture_by_value),\n\u001b[0m\u001b[1;32m   2042\u001b[0m         \u001b[0mself\u001b[0m\u001b[0;34m.\u001b[0m\u001b[0m_function_attributes\u001b[0m\u001b[0;34m,\u001b[0m\u001b[0;34m\u001b[0m\u001b[0;34m\u001b[0m\u001b[0m\n\u001b[1;32m   2043\u001b[0m         \u001b[0;31m# Tell the ConcreteFunction to clean up its graph once it goes out of\u001b[0m\u001b[0;34m\u001b[0m\u001b[0;34m\u001b[0m\u001b[0;34m\u001b[0m\u001b[0m\n",
      "\u001b[0;32m/usr/local/lib/python3.6/dist-packages/tensorflow_core/python/framework/func_graph.py\u001b[0m in \u001b[0;36mfunc_graph_from_py_func\u001b[0;34m(name, python_func, args, kwargs, signature, func_graph, autograph, autograph_options, add_control_dependencies, arg_names, op_return_value, collections, capture_by_value, override_flat_arg_shapes)\u001b[0m\n\u001b[1;32m    913\u001b[0m                                           converted_func)\n\u001b[1;32m    914\u001b[0m \u001b[0;34m\u001b[0m\u001b[0m\n\u001b[0;32m--> 915\u001b[0;31m       \u001b[0mfunc_outputs\u001b[0m \u001b[0;34m=\u001b[0m \u001b[0mpython_func\u001b[0m\u001b[0;34m(\u001b[0m\u001b[0;34m*\u001b[0m\u001b[0mfunc_args\u001b[0m\u001b[0;34m,\u001b[0m \u001b[0;34m**\u001b[0m\u001b[0mfunc_kwargs\u001b[0m\u001b[0;34m)\u001b[0m\u001b[0;34m\u001b[0m\u001b[0;34m\u001b[0m\u001b[0m\n\u001b[0m\u001b[1;32m    916\u001b[0m \u001b[0;34m\u001b[0m\u001b[0m\n\u001b[1;32m    917\u001b[0m       \u001b[0;31m# invariant: `func_outputs` contains only Tensors, CompositeTensors,\u001b[0m\u001b[0;34m\u001b[0m\u001b[0;34m\u001b[0m\u001b[0;34m\u001b[0m\u001b[0m\n",
      "\u001b[0;32m/usr/local/lib/python3.6/dist-packages/tensorflow_core/python/eager/def_function.py\u001b[0m in \u001b[0;36mwrapped_fn\u001b[0;34m(*args, **kwds)\u001b[0m\n\u001b[1;32m    356\u001b[0m         \u001b[0;31m# __wrapped__ allows AutoGraph to swap in a converted function. We give\u001b[0m\u001b[0;34m\u001b[0m\u001b[0;34m\u001b[0m\u001b[0;34m\u001b[0m\u001b[0m\n\u001b[1;32m    357\u001b[0m         \u001b[0;31m# the function a weak reference to itself to avoid a reference cycle.\u001b[0m\u001b[0;34m\u001b[0m\u001b[0;34m\u001b[0m\u001b[0;34m\u001b[0m\u001b[0m\n\u001b[0;32m--> 358\u001b[0;31m         \u001b[0;32mreturn\u001b[0m \u001b[0mweak_wrapped_fn\u001b[0m\u001b[0;34m(\u001b[0m\u001b[0;34m)\u001b[0m\u001b[0;34m.\u001b[0m\u001b[0m__wrapped__\u001b[0m\u001b[0;34m(\u001b[0m\u001b[0;34m*\u001b[0m\u001b[0margs\u001b[0m\u001b[0;34m,\u001b[0m \u001b[0;34m**\u001b[0m\u001b[0mkwds\u001b[0m\u001b[0;34m)\u001b[0m\u001b[0;34m\u001b[0m\u001b[0;34m\u001b[0m\u001b[0m\n\u001b[0m\u001b[1;32m    359\u001b[0m     \u001b[0mweak_wrapped_fn\u001b[0m \u001b[0;34m=\u001b[0m \u001b[0mweakref\u001b[0m\u001b[0;34m.\u001b[0m\u001b[0mref\u001b[0m\u001b[0;34m(\u001b[0m\u001b[0mwrapped_fn\u001b[0m\u001b[0;34m)\u001b[0m\u001b[0;34m\u001b[0m\u001b[0;34m\u001b[0m\u001b[0m\n\u001b[1;32m    360\u001b[0m \u001b[0;34m\u001b[0m\u001b[0m\n",
      "\u001b[0;32m/usr/local/lib/python3.6/dist-packages/tensorflow_core/python/framework/func_graph.py\u001b[0m in \u001b[0;36mwrapper\u001b[0;34m(*args, **kwargs)\u001b[0m\n\u001b[1;32m    903\u001b[0m           \u001b[0;32mexcept\u001b[0m \u001b[0mException\u001b[0m \u001b[0;32mas\u001b[0m \u001b[0me\u001b[0m\u001b[0;34m:\u001b[0m  \u001b[0;31m# pylint:disable=broad-except\u001b[0m\u001b[0;34m\u001b[0m\u001b[0;34m\u001b[0m\u001b[0m\n\u001b[1;32m    904\u001b[0m             \u001b[0;32mif\u001b[0m \u001b[0mhasattr\u001b[0m\u001b[0;34m(\u001b[0m\u001b[0me\u001b[0m\u001b[0;34m,\u001b[0m \u001b[0;34m\"ag_error_metadata\"\u001b[0m\u001b[0;34m)\u001b[0m\u001b[0;34m:\u001b[0m\u001b[0;34m\u001b[0m\u001b[0;34m\u001b[0m\u001b[0m\n\u001b[0;32m--> 905\u001b[0;31m               \u001b[0;32mraise\u001b[0m \u001b[0me\u001b[0m\u001b[0;34m.\u001b[0m\u001b[0mag_error_metadata\u001b[0m\u001b[0;34m.\u001b[0m\u001b[0mto_exception\u001b[0m\u001b[0;34m(\u001b[0m\u001b[0me\u001b[0m\u001b[0;34m)\u001b[0m\u001b[0;34m\u001b[0m\u001b[0;34m\u001b[0m\u001b[0m\n\u001b[0m\u001b[1;32m    906\u001b[0m             \u001b[0;32melse\u001b[0m\u001b[0;34m:\u001b[0m\u001b[0;34m\u001b[0m\u001b[0;34m\u001b[0m\u001b[0m\n\u001b[1;32m    907\u001b[0m               \u001b[0;32mraise\u001b[0m\u001b[0;34m\u001b[0m\u001b[0;34m\u001b[0m\u001b[0m\n",
      "\u001b[0;31mValueError\u001b[0m: in converted code:\n\n    <ipython-input-45-df82f9358806>:20 train_step  *\n        predictions, _ = transformer(inp, tar_inp,\n    /usr/local/lib/python3.6/dist-packages/tensorflow_core/python/keras/engine/base_layer.py:847 __call__\n        outputs = call_fn(cast_inputs, *args, **kwargs)\n    <ipython-input-34-86245da83a7c>:17 call  *\n        enc_output = self.encoder(inp, training, enc_padding_mask)  # (batch_size, inp_seq_len, d_model)\n    /usr/local/lib/python3.6/dist-packages/tensorflow_core/python/keras/engine/base_layer.py:847 __call__\n        outputs = call_fn(cast_inputs, *args, **kwargs)\n    <ipython-input-32-749528ce0422>:24 call  *\n        x = self.embedding(x)  # (batch_size, input_seq_len, d_model)\n    /usr/local/lib/python3.6/dist-packages/tensorflow_core/python/keras/engine/base_layer.py:817 __call__\n        self._maybe_build(inputs)\n    /usr/local/lib/python3.6/dist-packages/tensorflow_core/python/keras/engine/base_layer.py:2141 _maybe_build\n        self.build(input_shapes)\n    /usr/local/lib/python3.6/dist-packages/tensorflow_core/python/keras/utils/tf_utils.py:306 wrapper\n        output_shape = fn(instance, input_shape)\n    /usr/local/lib/python3.6/dist-packages/tensorflow_core/python/keras/layers/embeddings.py:146 build\n        constraint=self.embeddings_constraint)\n    /usr/local/lib/python3.6/dist-packages/tensorflow_core/python/keras/engine/base_layer.py:522 add_weight\n        aggregation=aggregation)\n    /usr/local/lib/python3.6/dist-packages/tensorflow_core/python/training/tracking/base.py:725 _add_variable_with_custom_getter\n        name=name, shape=shape)\n    /usr/local/lib/python3.6/dist-packages/tensorflow_core/python/training/tracking/base.py:792 _preload_simple_restoration\n        checkpoint_position=checkpoint_position, shape=shape)\n    /usr/local/lib/python3.6/dist-packages/tensorflow_core/python/training/tracking/base.py:75 __init__\n        self.wrapped_value.set_shape(shape)\n    /usr/local/lib/python3.6/dist-packages/tensorflow_core/python/framework/ops.py:1074 set_shape\n        (self.shape, shape))\n\n    ValueError: Tensor's shape (361, 128) is not compatible with supplied shape (360, 128)\n"
     ]
    }
   ],
   "source": [
    "for epoch in range(EPOCHS):\n",
    "  start = time.time()\n",
    "  \n",
    "  train_loss.reset_states()\n",
    "  train_accuracy.reset_states()\n",
    "  count=0\n",
    "  # inp -> peps, tar -> ions\n",
    "  for (batch, (inp, tar)) in enumerate(train_dataset):\n",
    "    print(count)\n",
    "    train_step(inp, tar)\n",
    "    count=count+1\n",
    "    \n",
    "    if batch % 50 == 0:\n",
    "      print ('Epoch {} Batch {} Loss {:.4f} Accuracy {:.4f}'.format(\n",
    "          epoch + 1, batch, train_loss.result(), train_accuracy.result()))\n",
    "      \n",
    "  if (epoch + 1) % 5 == 0:\n",
    "    ckpt_save_path = ckpt_manager.save()\n",
    "    print ('Saving checkpoint for epoch {} at {}'.format(epoch+1,\n",
    "                                                         ckpt_save_path))\n",
    "    \n",
    "  print ('Epoch {} Loss {:.4f} Accuracy {:.4f}'.format(epoch + 1, \n",
    "                                                train_loss.result(), \n",
    "                                                train_accuracy.result()))\n",
    "\n",
    "  print ('Time taken for 1 epoch: {} secs\\n'.format(time.time() - start))"
   ]
  },
  {
   "cell_type": "markdown",
   "metadata": {},
   "source": [
    "# Evaluate\n",
    "\n",
    "The following steps are used for evaluation:\n",
    "\n",
    "* Encode the input sentence using the peptide sequence tokenizer (`tokenizer_pep`). Moreover, add the start and end token so the input is equivalent to what the model is trained with. This is the encoder input.\n",
    "* The decoder input is the `start token == tokenizer_ion.vocab_size`.\n",
    "* Calculate the padding masks and the look ahead masks.\n",
    "* The `decoder` then outputs the predictions by looking at the `encoder output` and its own output (self-attention).\n",
    "* Select the last word and calculate the `argmax` of that.\n",
    "* Concatentate the predicted word to the decoder input as pass it to the decoder.\n",
    "* In this approach, the decoder predicts the next word based on the previous words it predicted."
   ]
  },
  {
   "cell_type": "code",
   "execution_count": null,
   "metadata": {},
   "outputs": [],
   "source": [
    "def evaluate(inp_sentence):\n",
    "  start_token = [tokenizer_pep.vocab_size]\n",
    "  end_token = [tokenizer_pep.vocab_size + 1]\n",
    "  \n",
    "  # inp sentence is portuguese, hence adding the start and end token\n",
    "  inp_sentence = start_token + tokenizer_pep.encode(inp_sentence) + end_token\n",
    "  encoder_input = tf.expand_dims(inp_sentence, 0)\n",
    "  \n",
    "  # as the target is Ions, the first word to the transformer should be the\n",
    "  # ions start token.\n",
    "  decoder_input = [tokenizer_ion.vocab_size]\n",
    "  output = tf.expand_dims(decoder_input, 0)\n",
    "    \n",
    "  for i in range(MAX_LENGTH):\n",
    "    enc_padding_mask, combined_mask, dec_padding_mask = create_masks(\n",
    "        encoder_input, output)\n",
    "  \n",
    "    # predictions.shape == (batch_size, seq_len, vocab_size)\n",
    "    predictions, attention_weights = transformer(encoder_input, \n",
    "                                                 output,\n",
    "                                                 False,\n",
    "                                                 enc_padding_mask,\n",
    "                                                 combined_mask,\n",
    "                                                 dec_padding_mask)\n",
    "    \n",
    "    # select the last word from the seq_len dimension\n",
    "    predictions = predictions[: ,-1:, :]  # (batch_size, 1, vocab_size)\n",
    "\n",
    "    predicted_id = tf.cast(tf.argmax(predictions, axis=-1), tf.int32)\n",
    "    \n",
    "    # return the result if the predicted_id is equal to the end token\n",
    "    if predicted_id == tokenizer_ion.vocab_size+1:\n",
    "      return tf.squeeze(output, axis=0), attention_weights\n",
    "    \n",
    "    # concatentate the predicted_id to the output which is given to the decoder\n",
    "    # as its input.\n",
    "    output = tf.concat([output, predicted_id], axis=-1)\n",
    "\n",
    "  return tf.squeeze(output, axis=0), attention_weights"
   ]
  },
  {
   "cell_type": "code",
   "execution_count": null,
   "metadata": {},
   "outputs": [],
   "source": [
    "def plot_attention_weights(attention, sentence, result, layer):\n",
    "  fig = plt.figure(figsize=(16, 8))\n",
    "  \n",
    "  sentence = tokenizer_pep.encode(sentence)\n",
    "\n",
    "  attention = tf.squeeze(attention[layer], axis=0)\n",
    "  \n",
    "  for head in range(attention.shape[0]):\n",
    "    ax = fig.add_subplot(2, 4, head+1)\n",
    "    \n",
    "    # plot the attention weights\n",
    "    ax.matshow(attention[head][:-1, :], cmap='viridis')\n",
    "\n",
    "    fontdict = {'fontsize': 10}\n",
    "    \n",
    "    ax.set_xticks(range(len(sentence)+2))\n",
    "    ax.set_yticks(range(len(result)))\n",
    "    \n",
    "    ax.set_ylim(len(result)-1.5, -0.5)\n",
    "        \n",
    "    ax.set_xticklabels(\n",
    "        ['<start>']+[tokenizer_pep.decode([i]) for i in sentence]+['<end>'], \n",
    "        fontdict=fontdict, rotation=90)\n",
    "    \n",
    "    ax.set_yticklabels([tokenizer_ion.decode([i]) for i in result \n",
    "                        if i < tokenizer_ion.vocab_size], \n",
    "                       fontdict=fontdict)\n",
    "    \n",
    "    ax.set_xlabel('Head {}'.format(head+1))\n",
    "  \n",
    "  plt.tight_layout()\n",
    "  plt.show()"
   ]
  },
  {
   "cell_type": "code",
   "execution_count": null,
   "metadata": {},
   "outputs": [],
   "source": [
    "def translate(sentence, plot=''):\n",
    "  result, attention_weights = evaluate(sentence)\n",
    "  \n",
    "  predicted_sentence = tokenizer_ion.decode([i for i in result \n",
    "                                            if i < tokenizer_ion.vocab_size])  \n",
    "\n",
    "  print('Input: {}'.format(sentence))\n",
    "  print('Predicted translation: {}'.format(predicted_sentence))\n",
    "  \n",
    "  if plot:\n",
    "    plot_attention_weights(attention_weights, sentence, result, plot)"
   ]
  },
  {
   "cell_type": "markdown",
   "metadata": {},
   "source": [
    "### Testing stage\n",
    "\n",
    "Here we test are trained transformer model on unseen data."
   ]
  },
  {
   "cell_type": "code",
   "execution_count": null,
   "metadata": {},
   "outputs": [],
   "source": []
  },
  {
   "cell_type": "markdown",
   "metadata": {},
   "source": [
    "# Translate Peptide Sequences"
   ]
  },
  {
   "cell_type": "code",
   "execution_count": null,
   "metadata": {},
   "outputs": [],
   "source": [
    "translate(\"2 A A A D D G E E P K 22.4 -\", plot='')\n",
    "print('Real Translation: EA KD KF -')"
   ]
  },
  {
   "cell_type": "code",
   "execution_count": null,
   "metadata": {},
   "outputs": [],
   "source": [
    "translate('2 T A G W N I P M G M L Y N R 47.4 -', plot='')\n",
    "print ('Real Translation: ')"
   ]
  },
  {
   "cell_type": "code",
   "execution_count": null,
   "metadata": {},
   "outputs": [],
   "source": [
    "translate('3 P E P T I D E K 52.8 -', plot='')\n",
    "print ('Real Translation: ')"
   ]
  },
  {
   "cell_type": "markdown",
   "metadata": {},
   "source": [
    "# Summary\n",
    "\n",
    "In this notebook, we convert the peptide sequence to ion sequence generation problem to portuguese to english translation problem. The obtained accuracy is about 30%."
   ]
  },
  {
   "cell_type": "markdown",
   "metadata": {},
   "source": [
    "# Future Work\n",
    "\n",
    "* Insert the charge and energy information in the last dense layer instead of inside sequences\n",
    "* Prediction of internal ions + immonium ions (and their isotopes)\n",
    "* Sentence alignment before training"
   ]
  }
 ],
 "metadata": {
  "kernelspec": {
   "display_name": "Python 3",
   "language": "python",
   "name": "python3"
  },
  "language_info": {
   "codemirror_mode": {
    "name": "ipython",
    "version": 3
   },
   "file_extension": ".py",
   "mimetype": "text/x-python",
   "name": "python",
   "nbconvert_exporter": "python",
   "pygments_lexer": "ipython3",
   "version": "3.6.9"
  }
 },
 "nbformat": 4,
 "nbformat_minor": 4
}
