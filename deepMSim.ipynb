{
 "cells": [
  {
   "cell_type": "markdown",
   "metadata": {},
   "source": [
    "# DeepMSim: A Deep Learning based MS/MS spectra Simulator\n",
    "### *Muhammad Haseeb and Sumesh Kumar*\n",
    "##### *CAP5610: Machine Learning - Fall 2019*\n",
    "##### *School of Computing and Information Sciences*\n",
    "##### *Florida International University (FIU)*"
   ]
  },
  {
   "cell_type": "markdown",
   "metadata": {},
   "source": [
    "# Licence Information"
   ]
  },
  {
   "cell_type": "code",
   "execution_count": 5,
   "metadata": {},
   "outputs": [],
   "source": [
    "#@title Licensed under the Apache License, Version 2.0 (the \"License\");\n",
    "# you may not use this file except in compliance with the License.\n",
    "# You may obtain a copy of the License at\n",
    "#\n",
    "# https://www.apache.org/licenses/LICENSE-2.0\n",
    "#\n",
    "# Unless required by applicable law or agreed to in writing, software\n",
    "# distributed under the License is distributed on an \"AS IS\" BASIS,\n",
    "# WITHOUT WARRANTIES OR CONDITIONS OF ANY KIND, either express or implied.\n",
    "# See the License for the specific language governing permissions and\n",
    "# limitations under the License."
   ]
  },
  {
   "cell_type": "code",
   "execution_count": 7,
   "metadata": {},
   "outputs": [],
   "source": [
    "# The MIT License\n",
    "\n",
    "# Copyright 2019 Muhammad Haseeb and Sumesh Kumar\n",
    "\n",
    "# Permission is hereby granted, free of charge, to any person obtaining a copy of this software \n",
    "# and associated documentation files (the \"Software\"), to deal in the Software without restriction, \n",
    "# including without limitation the rights to use, copy, modify, merge, publish, distribute, sublicense, \n",
    "# and/or sell copies of the Software, and to permit persons to whom the Software is furnished to do so, \n",
    "# subject to the following conditions:\n",
    "\n",
    "#The above copyright notice and this permission notice shall be included in all copies or substantial \n",
    "# portions of the Software.\n",
    "\n",
    "# THE SOFTWARE IS PROVIDED \"AS IS\", WITHOUT WARRANTY OF ANY KIND, EXPRESS OR IMPLIED, INCLUDING BUT NOT \n",
    "# LIMITED TO THE WARRANTIES OF MERCHANTABILITY, FITNESS FOR A PARTICULAR PURPOSE AND NONINFRINGEMENT. \n",
    "# IN NO EVENT SHALL THE AUTHORS OR COPYRIGHT HOLDERS BE LIABLE FOR ANY CLAIM, DAMAGES OR OTHER LIABILITY, \n",
    "# WHETHER IN AN ACTION OF CONTRACT, TORT OR OTHERWISE, ARISING FROM, OUT OF OR IN CONNECTION WITH THE \n",
    "# SOFTWARE OR THE USE OR OTHER DEALINGS IN THE SOFTWARE."
   ]
  },
  {
   "cell_type": "markdown",
   "metadata": {},
   "source": [
    "# Transformer model for MS/MS simulation\n",
    "We will implement a <a href=\"https://arxiv.org/abs/1706.03762\" class=\"external\">Transformer model</a> to translate the peptide sequences into spectral peak sequences using TensorFlow.\n",
    "\n",
    "Transformer model employs the concept of *self-attention* — the ability to attend to different positions of the input sequence to compute a representation of that sequence for modelling. It is composed of several layer multiconnected encoders and decoders that construct the output sequences. \n",
    "\n",
    "However, the drawback is that if the input sequences have a *temporal/spatial* (positional) relationships such as in peptide sequence data, a positional encoding such as <a href=\"https://arxiv.org/abs/1810.04805BERT\" class=\"external\">BERT encoding</a> must be added or the transformers will only see the input sequences as bag {set} of unordered and unrelated words. "
   ]
  },
  {
   "cell_type": "markdown",
   "metadata": {},
   "source": [
    "# Import the required libraries"
   ]
  },
  {
   "cell_type": "code",
   "execution_count": 47,
   "metadata": {},
   "outputs": [],
   "source": [
    "# Required Imports\n",
    "from __future__ import absolute_import, division, print_function, unicode_literals\n",
    "\n",
    "try:\n",
    "  %tensorflow_version 2.x\n",
    "except Exception:\n",
    "  pass\n",
    "import tensorflow_datasets as tfds\n",
    "import tensorflow as tf\n",
    "import pandas as pd\n",
    "import os\n",
    "import re\n",
    "import sys\n",
    "import math\n",
    "import time\n",
    "import urllib\n",
    "import numpy as np\n",
    "import matplotlib.pyplot as plt"
   ]
  },
  {
   "cell_type": "markdown",
   "metadata": {},
   "source": [
    "# Data Acquisition\n",
    "Let's get the annotated MS/MS spectral data libraries from <a href=\"https://chemdata.nist.gov/dokuwiki/doku.php?id=peptidew:cdownload\" class=\"external\">NIST.</a>\n",
    "\n",
    "**CAUTION:** Make sure the downloaded spectral library datasets have been sourced from the same Mass-spectrometer instrument using the same fragmentation method.\n"
   ]
  },
  {
   "cell_type": "code",
   "execution_count": 28,
   "metadata": {},
   "outputs": [
    {
     "name": "stdout",
     "output_type": "stream",
     "text": [
      "--2019-11-24 22:26:09--  ftp://chemdata.nist.gov/download/peptide_library/libraries/cptaclib/2015/cptac2_mouse_hcd_selected.msp.tar.gz\n",
      "           => ‘cptac2_mouse_hcd_selected.msp.tar.gz’\n",
      "Resolving chemdata.nist.gov (chemdata.nist.gov)... 129.6.24.33, 2610:20:6005:24::33\n",
      "Connecting to chemdata.nist.gov (chemdata.nist.gov)|129.6.24.33|:21... connected.\n",
      "Logging in as anonymous ... Logged in!\n",
      "==> SYST ... done.    ==> PWD ... done.\n",
      "==> TYPE I ... done.  ==> CWD (1) /download/peptide_library/libraries/cptaclib/2015 ... done.\n",
      "==> SIZE cptac2_mouse_hcd_selected.msp.tar.gz ... 61660818\n",
      "==> PASV ... done.    ==> RETR cptac2_mouse_hcd_selected.msp.tar.gz ... done.\n",
      "Length: 61660818 (59M) (unauthoritative)\n",
      "\n",
      "cptac2_mouse_hcd_se 100%[===================>]  58.80M  21.0MB/s    in 2.8s    \n",
      "\n",
      "2019-11-24 22:26:12 (21.0 MB/s) - ‘cptac2_mouse_hcd_selected.msp.tar.gz’ saved [61660818]\n",
      "\n"
     ]
    }
   ],
   "source": [
    "# Getting the Mouse Orbitrap spectral library (.MSP format) from NIST and placing it in the speclib folder\n",
    "nist_url = 'ftp://chemdata.nist.gov/download/peptide_library/libraries/cptaclib/2015/cptac2_mouse_hcd_selected.msp.tar.gz'\n",
    "\n",
    "data_dir = os.path.expanduser(\"./speclib\")\n",
    "if not os.path.isdir(data_dir):\n",
    "    os.mkdir(data_dir)\n",
    "\n",
    "!wget 'ftp://chemdata.nist.gov/download/peptide_library/libraries/cptaclib/2015/cptac2_mouse_hcd_selected.msp.tar.gz'"
   ]
  },
  {
   "cell_type": "code",
   "execution_count": 36,
   "metadata": {},
   "outputs": [
    {
     "name": "stdout",
     "output_type": "stream",
     "text": [
      "cptac2_mouse_hcd_selected.msp\n"
     ]
    }
   ],
   "source": [
    "# Extract the tar ball into MSP file and move into the speclib folder\n",
    "msp_file = './speclib/cptac2_mouse_hcd_selected.msp'\n",
    "\n",
    "!tar xvf 'cptac2_mouse_hcd_selected.msp.tar.gz'\n",
    "os.rename('./cptac2_mouse_hcd_selected.msp', msp_file)"
   ]
  },
  {
   "cell_type": "markdown",
   "metadata": {},
   "source": [
    "# Data Extraction and Preprocessing"
   ]
  },
  {
   "cell_type": "markdown",
   "metadata": {},
   "source": [
    "Mine the spectral libraries and extract corpuses for both languages. i.e. peptide sequences and their MS/MS spectra.\n",
    "Construct a dataframe with sentences and their translations, with words separated by a '*space* and ending with ' .' for both languages. Then, Convert the dataframe to a tensor dataset."
   ]
  },
  {
   "cell_type": "markdown",
   "metadata": {},
   "source": [
    "## Process known Immonium Ions\n",
    "The commonly observed immonium ions along with their isotopes are added to a dictionary un order to represent the ion sentences (from the corpus) in terms of the dictionary (bag of words)"
   ]
  },
  {
   "cell_type": "code",
   "execution_count": 34,
   "metadata": {},
   "outputs": [],
   "source": [
    "# Known immonium ions\n",
    "imm = np.array(['AA', 'RA', 'RB', 'RC', 'RD', 'RE', 'RF', 'RG', 'RJ', 'NA', 'NB', 'DA', 'DB', 'CA', 'EA', 'QA', 'QB',\n",
    "                'QC', 'QD', 'GA', 'HA', 'HB', 'HC', 'HD', 'HE', 'HF', 'IA', 'IB', 'IC', 'LA', 'LB', 'LC', 'KA', 'KB',\n",
    "                'KC', 'KD', 'KE', 'KF', 'MA', 'MB', 'FA', 'FB', 'PA', 'SA', 'TA', 'WA', 'WB', 'WC', 'WD', 'WE', 'WF',\n",
    "                'WG', 'YA', 'YB', 'YC', 'VA', 'VB', 'VC', 'VD'])\n",
    "\n",
    "# Make isotopes of an array of ions\n",
    "iso = []\n",
    "\n",
    "# For each immonium ion, append the +i and +2i isotopes\n",
    "for im in imm:\n",
    "    iso.append(im + '+i')\n",
    "    iso.append(im + '+2i')\n",
    "\n",
    "# Append the isotopes to the main dictionary\n",
    "imm = np.append(imm, np.array(iso))\n",
    "\n",
    "# Make a set representation\n",
    "simm= set(imm)"
   ]
  },
  {
   "cell_type": "markdown",
   "metadata": {},
   "source": [
    "### Corpus Extraction\n",
    "Extract the peptide sequence and ion sentence sequences from the dataset"
   ]
  },
  {
   "cell_type": "code",
   "execution_count": 45,
   "metadata": {},
   "outputs": [],
   "source": [
    "# Create empty lists to store temporary data\n",
    "seq = []\n",
    "X = []\n",
    "\n",
    "# Parse the MSP file and get the immonium ion dataset\n",
    "def parseMSPfile(fname=None, dimm=None):\n",
    "    header = False\n",
    "    stnc = []\n",
    "    with open(fname, 'r') as slib:\n",
    "        for line in slib:\n",
    "            # Check for empty line for spectrum end and header start\n",
    "            if (line[0] == '\\r' or line[0] == '#' or line[0] == '\\n'):\n",
    "                header = False\n",
    "                if not stnc:\n",
    "                    # If no immonium ion produced, set the translation to empty sentence\n",
    "                    dat = [' .']\n",
    "\n",
    "                X.append(stnc[:])\n",
    "                stnc.clear()\n",
    "                continue\n",
    "\n",
    "            # Check if spectrum header\n",
    "            if (header == False):\n",
    "                if (line[:7] != 'Comment'):\n",
    "                    key, val = line.split(':')\n",
    "\n",
    "                    if key == 'Name':\n",
    "                        # Take out the sequence\n",
    "                        nm, chg = val.split('/')\n",
    "                        seq.append(nm[1:])\n",
    "\n",
    "                    if key == 'Num peaks':\n",
    "                        header = True\n",
    "\n",
    "            # If not the header, then it is the peak list\n",
    "            else:\n",
    "                _, _, label = line.split('\\t')\n",
    "\n",
    "                label = label[1:-1]\n",
    "\n",
    "                lbls = re.findall(r\"(I[A-Z]+[+]*\\d*i*)\", label)\n",
    "                lbls = list(map(lambda x: x[1:], lbls))\n",
    "\n",
    "                # If anything to append then append\n",
    "                if lbls:\n",
    "                    for lab in lbls:\n",
    "                        if lab not in dimm:\n",
    "                            dimm.add(lab)\n",
    "                            #print ('Label Added:' + lab)\n",
    "                    #print(lbls)\n",
    "                    stnc.extend(lbls)\n",
    "\n",
    "    # For the last one\n",
    "    if not stnc:\n",
    "        # If no immonium ion produced, set the translation to empty sentence\n",
    "        stnc = [' .']\n",
    "\n",
    "    X.append(stnc[:])\n",
    "    stnc.clear()"
   ]
  },
  {
   "cell_type": "code",
   "execution_count": 51,
   "metadata": {},
   "outputs": [],
   "source": [
    "# Parse the MSP file and create a dataframe\n",
    "_ = parseMSPfile(fname = msp_file, dimm = simm)\n",
    "dataset = pd.DataFrame(list(zip(seq, X)), columns=['seq', 'ions'])"
   ]
  },
  {
   "cell_type": "code",
   "execution_count": 52,
   "metadata": {},
   "outputs": [
    {
     "name": "stdout",
     "output_type": "stream",
     "text": [
      "                 seq                                  ions\n",
      "53550  YYWGGLYSWDMSK  [KD, WD, WE, YA, YA+i, WA, WA+i, WF]\n",
      "53551  YYWGGLYSWDMSK        [KD, WD, WE, YA, YA+i, WA, WF]\n",
      "53552  YYWGGLYSWDMSK    [WH, WH+i, WA, WA+i, WF, WF+i, KF]\n"
     ]
    }
   ],
   "source": [
    "# Print a few entries to visualize\n",
    "print(dataset[-3:])"
   ]
  },
  {
   "cell_type": "code",
   "execution_count": null,
   "metadata": {},
   "outputs": [],
   "source": []
  },
  {
   "cell_type": "code",
   "execution_count": null,
   "metadata": {},
   "outputs": [],
   "source": []
  }
 ],
 "metadata": {
  "kernelspec": {
   "display_name": "Python 3",
   "language": "python",
   "name": "python3"
  },
  "language_info": {
   "codemirror_mode": {
    "name": "ipython",
    "version": 3
   },
   "file_extension": ".py",
   "mimetype": "text/x-python",
   "name": "python",
   "nbconvert_exporter": "python",
   "pygments_lexer": "ipython3",
   "version": "3.7.5"
  }
 },
 "nbformat": 4,
 "nbformat_minor": 4
}
